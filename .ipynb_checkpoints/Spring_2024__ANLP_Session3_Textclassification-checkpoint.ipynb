{
  "cells": [
    {
      "cell_type": "markdown",
      "source": [
        "## https://tinyurl.com/ANLPColab3Part2\n",
        "Go to \"File\" -> \"Save a Copy in Drive...\" This lets you create your own copy of the notebook in your Google drive, and any changes you make doesn't impact the shared notebook"
      ],
      "metadata": {
        "id": "1Mi5wDV8vaVm"
      },
      "id": "1Mi5wDV8vaVm"
    },
    {
      "cell_type": "markdown",
      "id": "cc7d0eae-493d-4bd6-8f1c-4a2fb9a51a54",
      "metadata": {
        "id": "cc7d0eae-493d-4bd6-8f1c-4a2fb9a51a54"
      },
      "source": [
        "# **TEXT CLASSIFICATION**"
      ]
    },
    {
      "cell_type": "markdown",
      "source": [
        "We are going to perform text classification to predict the output label from the IBM trust dataset. This notebook will showcase different ML algorithms and methods that can be employed to improve model performance."
      ],
      "metadata": {
        "id": "OeXOlojKu10w"
      },
      "id": "OeXOlojKu10w"
    },
    {
      "cell_type": "markdown",
      "source": [
        "## **Download the Data**"
      ],
      "metadata": {
        "id": "rsXUgT6a09av"
      },
      "id": "rsXUgT6a09av"
    },
    {
      "cell_type": "markdown",
      "source": [
        "For ease of use, let's download the data set directly from the webpage and store it in a pandas dataframe.\n"
      ],
      "metadata": {
        "id": "rAT1HwdwvEso"
      },
      "id": "rAT1HwdwvEso"
    },
    {
      "cell_type": "code",
      "source": [
        "#Read about the dataset here: https://research.ibm.com/haifa/dept/vst/debating_data.shtml\n",
        "#The following dataset contains annotations of High trust, Low institutional trust and Low agent trust in user inputs to VIRA, a chatbot that aimes to address COVID-19 vaccine hesitancy (vaxchat.org)\n",
        "!rm -r data/ # Remove pre-existing directories that might cause errors\n",
        "!wget \"https://www.research.ibm.com/haifa/dept/vst/files/IBM_Debater_(R)_trust_data.zip\" # Download the data\n",
        "!unzip *.zip # Unzip the zip files\n",
        "!rm *.zip # Remove the zip files\n",
        "!rm -r __MACOSX/ # Remove temp files"
      ],
      "metadata": {
        "id": "iD31ojSQ1AdF",
        "colab": {
          "base_uri": "https://localhost:8080/"
        },
        "outputId": "8cb37f0f-c6bf-4ae3-eefe-0b6cb06bb7a4"
      },
      "id": "iD31ojSQ1AdF",
      "execution_count": 1,
      "outputs": [
        {
          "output_type": "stream",
          "name": "stdout",
          "text": [
            "rm: cannot remove 'data/': No such file or directory\n",
            "--2024-10-30 07:28:02--  https://www.research.ibm.com/haifa/dept/vst/files/IBM_Debater_(R)_trust_data.zip\n",
            "Resolving www.research.ibm.com (www.research.ibm.com)... 108.138.106.72, 108.138.106.92, 108.138.106.127, ...\n",
            "Connecting to www.research.ibm.com (www.research.ibm.com)|108.138.106.72|:443... connected.\n",
            "HTTP request sent, awaiting response... 301 Moved Permanently\n",
            "Location: https://research.ibm.com/haifa/dept/vst/files/IBM_Debater_(R)_trust_data.zip [following]\n",
            "--2024-10-30 07:28:03--  https://research.ibm.com/haifa/dept/vst/files/IBM_Debater_(R)_trust_data.zip\n",
            "Resolving research.ibm.com (research.ibm.com)... 108.138.106.72, 108.138.106.127, 108.138.106.92, ...\n",
            "Connecting to research.ibm.com (research.ibm.com)|108.138.106.72|:443... connected.\n",
            "HTTP request sent, awaiting response... 200 OK\n",
            "Length: 47231 (46K) [application/zip]\n",
            "Saving to: ‘IBM_Debater_(R)_trust_data.zip’\n",
            "\n",
            "IBM_Debater_(R)_tru 100%[===================>]  46.12K  --.-KB/s    in 0.07s   \n",
            "\n",
            "2024-10-30 07:28:03 (667 KB/s) - ‘IBM_Debater_(R)_trust_data.zip’ saved [47231/47231]\n",
            "\n",
            "Archive:  IBM_Debater_(R)_trust_data.zip\n",
            "   creating: data/\n",
            "  inflating: data/test.csv           \n",
            "  inflating: __MACOSX/data/._test.csv  \n",
            "  inflating: data/dev.csv            \n",
            "  inflating: __MACOSX/data/._dev.csv  \n",
            "  inflating: data/README.txt         \n",
            "  inflating: __MACOSX/data/._README.txt  \n",
            "  inflating: data/train.csv          \n",
            "  inflating: __MACOSX/data/._train.csv  \n"
          ]
        }
      ]
    },
    {
      "cell_type": "markdown",
      "id": "5bb282f2-f7db-4228-97ef-4450e3e68358",
      "metadata": {
        "id": "5bb282f2-f7db-4228-97ef-4450e3e68358"
      },
      "source": [
        "## **Load the Data**"
      ]
    },
    {
      "cell_type": "code",
      "execution_count": 2,
      "id": "4a6390b1-23b0-48b9-af48-0fbda32bd6a4",
      "metadata": {
        "tags": [],
        "id": "4a6390b1-23b0-48b9-af48-0fbda32bd6a4"
      },
      "outputs": [],
      "source": [
        "# Import the necessary libraries\n",
        "import pandas as pd # Used to read and manipulate DataFrames"
      ]
    },
    {
      "cell_type": "markdown",
      "id": "41d7e768-ab84-4733-bcac-9497d1b26cef",
      "metadata": {
        "id": "41d7e768-ab84-4733-bcac-9497d1b26cef"
      },
      "source": [
        "The dataset comes as three seperate files:\n",
        "1. Train split - used to train and help the model learn the hidden features/patterns in the data\n",
        "2. Validation split (dev) - used to validate our model's performance during the training process and helps tune the model's hyperparameters\n",
        "3. Testing split - used to test the model *after* completing the training and provide unbiased final model performance metrics"
      ]
    },
    {
      "cell_type": "code",
      "execution_count": 3,
      "id": "c765aa07-5617-491d-b8d4-a45c7d9067d5",
      "metadata": {
        "tags": [],
        "id": "c765aa07-5617-491d-b8d4-a45c7d9067d5"
      },
      "outputs": [],
      "source": [
        "# Use panda's read_csv function to read the CSV files\n",
        "\n",
        "df_train = pd.read_csv(\"data/train.csv\")\n",
        "df_val = pd.read_csv(\"data/dev.csv\")\n",
        "df_test = pd.read_csv(\"data/test.csv\")"
      ]
    },
    {
      "cell_type": "code",
      "source": [
        "#Generate descriptive statistics for the data set\n",
        "df_train.describe()"
      ],
      "metadata": {
        "colab": {
          "base_uri": "https://localhost:8080/",
          "height": 300
        },
        "id": "uXdrypipv7Di",
        "outputId": "03574dd6-5c03-4981-e78b-a31e1483c733"
      },
      "id": "uXdrypipv7Di",
      "execution_count": 4,
      "outputs": [
        {
          "output_type": "execute_result",
          "data": {
            "text/plain": [
              "             label\n",
              "count  1815.000000\n",
              "mean      1.622590\n",
              "std       0.986254\n",
              "min       0.000000\n",
              "25%       1.000000\n",
              "50%       2.000000\n",
              "75%       2.000000\n",
              "max       3.000000"
            ],
            "text/html": [
              "\n",
              "  <div id=\"df-26afaa45-5187-4391-bb52-b0ea1bc9eb50\" class=\"colab-df-container\">\n",
              "    <div>\n",
              "<style scoped>\n",
              "    .dataframe tbody tr th:only-of-type {\n",
              "        vertical-align: middle;\n",
              "    }\n",
              "\n",
              "    .dataframe tbody tr th {\n",
              "        vertical-align: top;\n",
              "    }\n",
              "\n",
              "    .dataframe thead th {\n",
              "        text-align: right;\n",
              "    }\n",
              "</style>\n",
              "<table border=\"1\" class=\"dataframe\">\n",
              "  <thead>\n",
              "    <tr style=\"text-align: right;\">\n",
              "      <th></th>\n",
              "      <th>label</th>\n",
              "    </tr>\n",
              "  </thead>\n",
              "  <tbody>\n",
              "    <tr>\n",
              "      <th>count</th>\n",
              "      <td>1815.000000</td>\n",
              "    </tr>\n",
              "    <tr>\n",
              "      <th>mean</th>\n",
              "      <td>1.622590</td>\n",
              "    </tr>\n",
              "    <tr>\n",
              "      <th>std</th>\n",
              "      <td>0.986254</td>\n",
              "    </tr>\n",
              "    <tr>\n",
              "      <th>min</th>\n",
              "      <td>0.000000</td>\n",
              "    </tr>\n",
              "    <tr>\n",
              "      <th>25%</th>\n",
              "      <td>1.000000</td>\n",
              "    </tr>\n",
              "    <tr>\n",
              "      <th>50%</th>\n",
              "      <td>2.000000</td>\n",
              "    </tr>\n",
              "    <tr>\n",
              "      <th>75%</th>\n",
              "      <td>2.000000</td>\n",
              "    </tr>\n",
              "    <tr>\n",
              "      <th>max</th>\n",
              "      <td>3.000000</td>\n",
              "    </tr>\n",
              "  </tbody>\n",
              "</table>\n",
              "</div>\n",
              "    <div class=\"colab-df-buttons\">\n",
              "\n",
              "  <div class=\"colab-df-container\">\n",
              "    <button class=\"colab-df-convert\" onclick=\"convertToInteractive('df-26afaa45-5187-4391-bb52-b0ea1bc9eb50')\"\n",
              "            title=\"Convert this dataframe to an interactive table.\"\n",
              "            style=\"display:none;\">\n",
              "\n",
              "  <svg xmlns=\"http://www.w3.org/2000/svg\" height=\"24px\" viewBox=\"0 -960 960 960\">\n",
              "    <path d=\"M120-120v-720h720v720H120Zm60-500h600v-160H180v160Zm220 220h160v-160H400v160Zm0 220h160v-160H400v160ZM180-400h160v-160H180v160Zm440 0h160v-160H620v160ZM180-180h160v-160H180v160Zm440 0h160v-160H620v160Z\"/>\n",
              "  </svg>\n",
              "    </button>\n",
              "\n",
              "  <style>\n",
              "    .colab-df-container {\n",
              "      display:flex;\n",
              "      gap: 12px;\n",
              "    }\n",
              "\n",
              "    .colab-df-convert {\n",
              "      background-color: #E8F0FE;\n",
              "      border: none;\n",
              "      border-radius: 50%;\n",
              "      cursor: pointer;\n",
              "      display: none;\n",
              "      fill: #1967D2;\n",
              "      height: 32px;\n",
              "      padding: 0 0 0 0;\n",
              "      width: 32px;\n",
              "    }\n",
              "\n",
              "    .colab-df-convert:hover {\n",
              "      background-color: #E2EBFA;\n",
              "      box-shadow: 0px 1px 2px rgba(60, 64, 67, 0.3), 0px 1px 3px 1px rgba(60, 64, 67, 0.15);\n",
              "      fill: #174EA6;\n",
              "    }\n",
              "\n",
              "    .colab-df-buttons div {\n",
              "      margin-bottom: 4px;\n",
              "    }\n",
              "\n",
              "    [theme=dark] .colab-df-convert {\n",
              "      background-color: #3B4455;\n",
              "      fill: #D2E3FC;\n",
              "    }\n",
              "\n",
              "    [theme=dark] .colab-df-convert:hover {\n",
              "      background-color: #434B5C;\n",
              "      box-shadow: 0px 1px 3px 1px rgba(0, 0, 0, 0.15);\n",
              "      filter: drop-shadow(0px 1px 2px rgba(0, 0, 0, 0.3));\n",
              "      fill: #FFFFFF;\n",
              "    }\n",
              "  </style>\n",
              "\n",
              "    <script>\n",
              "      const buttonEl =\n",
              "        document.querySelector('#df-26afaa45-5187-4391-bb52-b0ea1bc9eb50 button.colab-df-convert');\n",
              "      buttonEl.style.display =\n",
              "        google.colab.kernel.accessAllowed ? 'block' : 'none';\n",
              "\n",
              "      async function convertToInteractive(key) {\n",
              "        const element = document.querySelector('#df-26afaa45-5187-4391-bb52-b0ea1bc9eb50');\n",
              "        const dataTable =\n",
              "          await google.colab.kernel.invokeFunction('convertToInteractive',\n",
              "                                                    [key], {});\n",
              "        if (!dataTable) return;\n",
              "\n",
              "        const docLinkHtml = 'Like what you see? Visit the ' +\n",
              "          '<a target=\"_blank\" href=https://colab.research.google.com/notebooks/data_table.ipynb>data table notebook</a>'\n",
              "          + ' to learn more about interactive tables.';\n",
              "        element.innerHTML = '';\n",
              "        dataTable['output_type'] = 'display_data';\n",
              "        await google.colab.output.renderOutput(dataTable, element);\n",
              "        const docLink = document.createElement('div');\n",
              "        docLink.innerHTML = docLinkHtml;\n",
              "        element.appendChild(docLink);\n",
              "      }\n",
              "    </script>\n",
              "  </div>\n",
              "\n",
              "\n",
              "<div id=\"df-eb59f76d-9e3d-4cc6-a0ed-56c9c9a8b3d6\">\n",
              "  <button class=\"colab-df-quickchart\" onclick=\"quickchart('df-eb59f76d-9e3d-4cc6-a0ed-56c9c9a8b3d6')\"\n",
              "            title=\"Suggest charts\"\n",
              "            style=\"display:none;\">\n",
              "\n",
              "<svg xmlns=\"http://www.w3.org/2000/svg\" height=\"24px\"viewBox=\"0 0 24 24\"\n",
              "     width=\"24px\">\n",
              "    <g>\n",
              "        <path d=\"M19 3H5c-1.1 0-2 .9-2 2v14c0 1.1.9 2 2 2h14c1.1 0 2-.9 2-2V5c0-1.1-.9-2-2-2zM9 17H7v-7h2v7zm4 0h-2V7h2v10zm4 0h-2v-4h2v4z\"/>\n",
              "    </g>\n",
              "</svg>\n",
              "  </button>\n",
              "\n",
              "<style>\n",
              "  .colab-df-quickchart {\n",
              "      --bg-color: #E8F0FE;\n",
              "      --fill-color: #1967D2;\n",
              "      --hover-bg-color: #E2EBFA;\n",
              "      --hover-fill-color: #174EA6;\n",
              "      --disabled-fill-color: #AAA;\n",
              "      --disabled-bg-color: #DDD;\n",
              "  }\n",
              "\n",
              "  [theme=dark] .colab-df-quickchart {\n",
              "      --bg-color: #3B4455;\n",
              "      --fill-color: #D2E3FC;\n",
              "      --hover-bg-color: #434B5C;\n",
              "      --hover-fill-color: #FFFFFF;\n",
              "      --disabled-bg-color: #3B4455;\n",
              "      --disabled-fill-color: #666;\n",
              "  }\n",
              "\n",
              "  .colab-df-quickchart {\n",
              "    background-color: var(--bg-color);\n",
              "    border: none;\n",
              "    border-radius: 50%;\n",
              "    cursor: pointer;\n",
              "    display: none;\n",
              "    fill: var(--fill-color);\n",
              "    height: 32px;\n",
              "    padding: 0;\n",
              "    width: 32px;\n",
              "  }\n",
              "\n",
              "  .colab-df-quickchart:hover {\n",
              "    background-color: var(--hover-bg-color);\n",
              "    box-shadow: 0 1px 2px rgba(60, 64, 67, 0.3), 0 1px 3px 1px rgba(60, 64, 67, 0.15);\n",
              "    fill: var(--button-hover-fill-color);\n",
              "  }\n",
              "\n",
              "  .colab-df-quickchart-complete:disabled,\n",
              "  .colab-df-quickchart-complete:disabled:hover {\n",
              "    background-color: var(--disabled-bg-color);\n",
              "    fill: var(--disabled-fill-color);\n",
              "    box-shadow: none;\n",
              "  }\n",
              "\n",
              "  .colab-df-spinner {\n",
              "    border: 2px solid var(--fill-color);\n",
              "    border-color: transparent;\n",
              "    border-bottom-color: var(--fill-color);\n",
              "    animation:\n",
              "      spin 1s steps(1) infinite;\n",
              "  }\n",
              "\n",
              "  @keyframes spin {\n",
              "    0% {\n",
              "      border-color: transparent;\n",
              "      border-bottom-color: var(--fill-color);\n",
              "      border-left-color: var(--fill-color);\n",
              "    }\n",
              "    20% {\n",
              "      border-color: transparent;\n",
              "      border-left-color: var(--fill-color);\n",
              "      border-top-color: var(--fill-color);\n",
              "    }\n",
              "    30% {\n",
              "      border-color: transparent;\n",
              "      border-left-color: var(--fill-color);\n",
              "      border-top-color: var(--fill-color);\n",
              "      border-right-color: var(--fill-color);\n",
              "    }\n",
              "    40% {\n",
              "      border-color: transparent;\n",
              "      border-right-color: var(--fill-color);\n",
              "      border-top-color: var(--fill-color);\n",
              "    }\n",
              "    60% {\n",
              "      border-color: transparent;\n",
              "      border-right-color: var(--fill-color);\n",
              "    }\n",
              "    80% {\n",
              "      border-color: transparent;\n",
              "      border-right-color: var(--fill-color);\n",
              "      border-bottom-color: var(--fill-color);\n",
              "    }\n",
              "    90% {\n",
              "      border-color: transparent;\n",
              "      border-bottom-color: var(--fill-color);\n",
              "    }\n",
              "  }\n",
              "</style>\n",
              "\n",
              "  <script>\n",
              "    async function quickchart(key) {\n",
              "      const quickchartButtonEl =\n",
              "        document.querySelector('#' + key + ' button');\n",
              "      quickchartButtonEl.disabled = true;  // To prevent multiple clicks.\n",
              "      quickchartButtonEl.classList.add('colab-df-spinner');\n",
              "      try {\n",
              "        const charts = await google.colab.kernel.invokeFunction(\n",
              "            'suggestCharts', [key], {});\n",
              "      } catch (error) {\n",
              "        console.error('Error during call to suggestCharts:', error);\n",
              "      }\n",
              "      quickchartButtonEl.classList.remove('colab-df-spinner');\n",
              "      quickchartButtonEl.classList.add('colab-df-quickchart-complete');\n",
              "    }\n",
              "    (() => {\n",
              "      let quickchartButtonEl =\n",
              "        document.querySelector('#df-eb59f76d-9e3d-4cc6-a0ed-56c9c9a8b3d6 button');\n",
              "      quickchartButtonEl.style.display =\n",
              "        google.colab.kernel.accessAllowed ? 'block' : 'none';\n",
              "    })();\n",
              "  </script>\n",
              "</div>\n",
              "\n",
              "    </div>\n",
              "  </div>\n"
            ],
            "application/vnd.google.colaboratory.intrinsic+json": {
              "type": "dataframe",
              "summary": "{\n  \"name\": \"df_train\",\n  \"rows\": 8,\n  \"fields\": [\n    {\n      \"column\": \"label\",\n      \"properties\": {\n        \"dtype\": \"number\",\n        \"std\": 641.1641921534297,\n        \"min\": 0.0,\n        \"max\": 1815.0,\n        \"num_unique_values\": 7,\n        \"samples\": [\n          1815.0,\n          1.6225895316804408,\n          2.0\n        ],\n        \"semantic_type\": \"\",\n        \"description\": \"\"\n      }\n    }\n  ]\n}"
            }
          },
          "metadata": {},
          "execution_count": 4
        }
      ]
    },
    {
      "cell_type": "code",
      "execution_count": 5,
      "id": "b59cd3cf-fe8e-4f1f-b267-83819ad2ea52",
      "metadata": {
        "tags": [],
        "id": "b59cd3cf-fe8e-4f1f-b267-83819ad2ea52",
        "colab": {
          "base_uri": "https://localhost:8080/",
          "height": 206
        },
        "outputId": "76a9831d-a211-455c-ee7d-104b6fc61c93"
      },
      "outputs": [
        {
          "output_type": "execute_result",
          "data": {
            "text/plain": [
              "                                                text  label\n",
              "0  If symptomatic patient got the vaccine will he...      0\n",
              "1  Has anyone died from getting the Pfizer, Moder...      0\n",
              "2  Why should I trust a pharmaceutical company wh...      0\n",
              "3  What are antisense RNA's?  Could they or dsRNA...      0\n",
              "4                  The vaccines aren't FDA approved.      0"
            ],
            "text/html": [
              "\n",
              "  <div id=\"df-09b072aa-5874-4637-b232-1153a8ca6e0c\" class=\"colab-df-container\">\n",
              "    <div>\n",
              "<style scoped>\n",
              "    .dataframe tbody tr th:only-of-type {\n",
              "        vertical-align: middle;\n",
              "    }\n",
              "\n",
              "    .dataframe tbody tr th {\n",
              "        vertical-align: top;\n",
              "    }\n",
              "\n",
              "    .dataframe thead th {\n",
              "        text-align: right;\n",
              "    }\n",
              "</style>\n",
              "<table border=\"1\" class=\"dataframe\">\n",
              "  <thead>\n",
              "    <tr style=\"text-align: right;\">\n",
              "      <th></th>\n",
              "      <th>text</th>\n",
              "      <th>label</th>\n",
              "    </tr>\n",
              "  </thead>\n",
              "  <tbody>\n",
              "    <tr>\n",
              "      <th>0</th>\n",
              "      <td>If symptomatic patient got the vaccine will he...</td>\n",
              "      <td>0</td>\n",
              "    </tr>\n",
              "    <tr>\n",
              "      <th>1</th>\n",
              "      <td>Has anyone died from getting the Pfizer, Moder...</td>\n",
              "      <td>0</td>\n",
              "    </tr>\n",
              "    <tr>\n",
              "      <th>2</th>\n",
              "      <td>Why should I trust a pharmaceutical company wh...</td>\n",
              "      <td>0</td>\n",
              "    </tr>\n",
              "    <tr>\n",
              "      <th>3</th>\n",
              "      <td>What are antisense RNA's?  Could they or dsRNA...</td>\n",
              "      <td>0</td>\n",
              "    </tr>\n",
              "    <tr>\n",
              "      <th>4</th>\n",
              "      <td>The vaccines aren't FDA approved.</td>\n",
              "      <td>0</td>\n",
              "    </tr>\n",
              "  </tbody>\n",
              "</table>\n",
              "</div>\n",
              "    <div class=\"colab-df-buttons\">\n",
              "\n",
              "  <div class=\"colab-df-container\">\n",
              "    <button class=\"colab-df-convert\" onclick=\"convertToInteractive('df-09b072aa-5874-4637-b232-1153a8ca6e0c')\"\n",
              "            title=\"Convert this dataframe to an interactive table.\"\n",
              "            style=\"display:none;\">\n",
              "\n",
              "  <svg xmlns=\"http://www.w3.org/2000/svg\" height=\"24px\" viewBox=\"0 -960 960 960\">\n",
              "    <path d=\"M120-120v-720h720v720H120Zm60-500h600v-160H180v160Zm220 220h160v-160H400v160Zm0 220h160v-160H400v160ZM180-400h160v-160H180v160Zm440 0h160v-160H620v160ZM180-180h160v-160H180v160Zm440 0h160v-160H620v160Z\"/>\n",
              "  </svg>\n",
              "    </button>\n",
              "\n",
              "  <style>\n",
              "    .colab-df-container {\n",
              "      display:flex;\n",
              "      gap: 12px;\n",
              "    }\n",
              "\n",
              "    .colab-df-convert {\n",
              "      background-color: #E8F0FE;\n",
              "      border: none;\n",
              "      border-radius: 50%;\n",
              "      cursor: pointer;\n",
              "      display: none;\n",
              "      fill: #1967D2;\n",
              "      height: 32px;\n",
              "      padding: 0 0 0 0;\n",
              "      width: 32px;\n",
              "    }\n",
              "\n",
              "    .colab-df-convert:hover {\n",
              "      background-color: #E2EBFA;\n",
              "      box-shadow: 0px 1px 2px rgba(60, 64, 67, 0.3), 0px 1px 3px 1px rgba(60, 64, 67, 0.15);\n",
              "      fill: #174EA6;\n",
              "    }\n",
              "\n",
              "    .colab-df-buttons div {\n",
              "      margin-bottom: 4px;\n",
              "    }\n",
              "\n",
              "    [theme=dark] .colab-df-convert {\n",
              "      background-color: #3B4455;\n",
              "      fill: #D2E3FC;\n",
              "    }\n",
              "\n",
              "    [theme=dark] .colab-df-convert:hover {\n",
              "      background-color: #434B5C;\n",
              "      box-shadow: 0px 1px 3px 1px rgba(0, 0, 0, 0.15);\n",
              "      filter: drop-shadow(0px 1px 2px rgba(0, 0, 0, 0.3));\n",
              "      fill: #FFFFFF;\n",
              "    }\n",
              "  </style>\n",
              "\n",
              "    <script>\n",
              "      const buttonEl =\n",
              "        document.querySelector('#df-09b072aa-5874-4637-b232-1153a8ca6e0c button.colab-df-convert');\n",
              "      buttonEl.style.display =\n",
              "        google.colab.kernel.accessAllowed ? 'block' : 'none';\n",
              "\n",
              "      async function convertToInteractive(key) {\n",
              "        const element = document.querySelector('#df-09b072aa-5874-4637-b232-1153a8ca6e0c');\n",
              "        const dataTable =\n",
              "          await google.colab.kernel.invokeFunction('convertToInteractive',\n",
              "                                                    [key], {});\n",
              "        if (!dataTable) return;\n",
              "\n",
              "        const docLinkHtml = 'Like what you see? Visit the ' +\n",
              "          '<a target=\"_blank\" href=https://colab.research.google.com/notebooks/data_table.ipynb>data table notebook</a>'\n",
              "          + ' to learn more about interactive tables.';\n",
              "        element.innerHTML = '';\n",
              "        dataTable['output_type'] = 'display_data';\n",
              "        await google.colab.output.renderOutput(dataTable, element);\n",
              "        const docLink = document.createElement('div');\n",
              "        docLink.innerHTML = docLinkHtml;\n",
              "        element.appendChild(docLink);\n",
              "      }\n",
              "    </script>\n",
              "  </div>\n",
              "\n",
              "\n",
              "<div id=\"df-7714b58c-debd-4bbf-90af-8c1c85de7f45\">\n",
              "  <button class=\"colab-df-quickchart\" onclick=\"quickchart('df-7714b58c-debd-4bbf-90af-8c1c85de7f45')\"\n",
              "            title=\"Suggest charts\"\n",
              "            style=\"display:none;\">\n",
              "\n",
              "<svg xmlns=\"http://www.w3.org/2000/svg\" height=\"24px\"viewBox=\"0 0 24 24\"\n",
              "     width=\"24px\">\n",
              "    <g>\n",
              "        <path d=\"M19 3H5c-1.1 0-2 .9-2 2v14c0 1.1.9 2 2 2h14c1.1 0 2-.9 2-2V5c0-1.1-.9-2-2-2zM9 17H7v-7h2v7zm4 0h-2V7h2v10zm4 0h-2v-4h2v4z\"/>\n",
              "    </g>\n",
              "</svg>\n",
              "  </button>\n",
              "\n",
              "<style>\n",
              "  .colab-df-quickchart {\n",
              "      --bg-color: #E8F0FE;\n",
              "      --fill-color: #1967D2;\n",
              "      --hover-bg-color: #E2EBFA;\n",
              "      --hover-fill-color: #174EA6;\n",
              "      --disabled-fill-color: #AAA;\n",
              "      --disabled-bg-color: #DDD;\n",
              "  }\n",
              "\n",
              "  [theme=dark] .colab-df-quickchart {\n",
              "      --bg-color: #3B4455;\n",
              "      --fill-color: #D2E3FC;\n",
              "      --hover-bg-color: #434B5C;\n",
              "      --hover-fill-color: #FFFFFF;\n",
              "      --disabled-bg-color: #3B4455;\n",
              "      --disabled-fill-color: #666;\n",
              "  }\n",
              "\n",
              "  .colab-df-quickchart {\n",
              "    background-color: var(--bg-color);\n",
              "    border: none;\n",
              "    border-radius: 50%;\n",
              "    cursor: pointer;\n",
              "    display: none;\n",
              "    fill: var(--fill-color);\n",
              "    height: 32px;\n",
              "    padding: 0;\n",
              "    width: 32px;\n",
              "  }\n",
              "\n",
              "  .colab-df-quickchart:hover {\n",
              "    background-color: var(--hover-bg-color);\n",
              "    box-shadow: 0 1px 2px rgba(60, 64, 67, 0.3), 0 1px 3px 1px rgba(60, 64, 67, 0.15);\n",
              "    fill: var(--button-hover-fill-color);\n",
              "  }\n",
              "\n",
              "  .colab-df-quickchart-complete:disabled,\n",
              "  .colab-df-quickchart-complete:disabled:hover {\n",
              "    background-color: var(--disabled-bg-color);\n",
              "    fill: var(--disabled-fill-color);\n",
              "    box-shadow: none;\n",
              "  }\n",
              "\n",
              "  .colab-df-spinner {\n",
              "    border: 2px solid var(--fill-color);\n",
              "    border-color: transparent;\n",
              "    border-bottom-color: var(--fill-color);\n",
              "    animation:\n",
              "      spin 1s steps(1) infinite;\n",
              "  }\n",
              "\n",
              "  @keyframes spin {\n",
              "    0% {\n",
              "      border-color: transparent;\n",
              "      border-bottom-color: var(--fill-color);\n",
              "      border-left-color: var(--fill-color);\n",
              "    }\n",
              "    20% {\n",
              "      border-color: transparent;\n",
              "      border-left-color: var(--fill-color);\n",
              "      border-top-color: var(--fill-color);\n",
              "    }\n",
              "    30% {\n",
              "      border-color: transparent;\n",
              "      border-left-color: var(--fill-color);\n",
              "      border-top-color: var(--fill-color);\n",
              "      border-right-color: var(--fill-color);\n",
              "    }\n",
              "    40% {\n",
              "      border-color: transparent;\n",
              "      border-right-color: var(--fill-color);\n",
              "      border-top-color: var(--fill-color);\n",
              "    }\n",
              "    60% {\n",
              "      border-color: transparent;\n",
              "      border-right-color: var(--fill-color);\n",
              "    }\n",
              "    80% {\n",
              "      border-color: transparent;\n",
              "      border-right-color: var(--fill-color);\n",
              "      border-bottom-color: var(--fill-color);\n",
              "    }\n",
              "    90% {\n",
              "      border-color: transparent;\n",
              "      border-bottom-color: var(--fill-color);\n",
              "    }\n",
              "  }\n",
              "</style>\n",
              "\n",
              "  <script>\n",
              "    async function quickchart(key) {\n",
              "      const quickchartButtonEl =\n",
              "        document.querySelector('#' + key + ' button');\n",
              "      quickchartButtonEl.disabled = true;  // To prevent multiple clicks.\n",
              "      quickchartButtonEl.classList.add('colab-df-spinner');\n",
              "      try {\n",
              "        const charts = await google.colab.kernel.invokeFunction(\n",
              "            'suggestCharts', [key], {});\n",
              "      } catch (error) {\n",
              "        console.error('Error during call to suggestCharts:', error);\n",
              "      }\n",
              "      quickchartButtonEl.classList.remove('colab-df-spinner');\n",
              "      quickchartButtonEl.classList.add('colab-df-quickchart-complete');\n",
              "    }\n",
              "    (() => {\n",
              "      let quickchartButtonEl =\n",
              "        document.querySelector('#df-7714b58c-debd-4bbf-90af-8c1c85de7f45 button');\n",
              "      quickchartButtonEl.style.display =\n",
              "        google.colab.kernel.accessAllowed ? 'block' : 'none';\n",
              "    })();\n",
              "  </script>\n",
              "</div>\n",
              "\n",
              "    </div>\n",
              "  </div>\n"
            ],
            "application/vnd.google.colaboratory.intrinsic+json": {
              "type": "dataframe",
              "variable_name": "df_train",
              "summary": "{\n  \"name\": \"df_train\",\n  \"rows\": 1815,\n  \"fields\": [\n    {\n      \"column\": \"text\",\n      \"properties\": {\n        \"dtype\": \"string\",\n        \"num_unique_values\": 1815,\n        \"samples\": [\n          \"Do you speak Spanish?\",\n          \"how many deaths are attributed to the vaccine?\",\n          \"Should I mix and match booster\"\n        ],\n        \"semantic_type\": \"\",\n        \"description\": \"\"\n      }\n    },\n    {\n      \"column\": \"label\",\n      \"properties\": {\n        \"dtype\": \"number\",\n        \"std\": 0,\n        \"min\": 0,\n        \"max\": 3,\n        \"num_unique_values\": 4,\n        \"samples\": [\n          1,\n          3,\n          0\n        ],\n        \"semantic_type\": \"\",\n        \"description\": \"\"\n      }\n    }\n  ]\n}"
            }
          },
          "metadata": {},
          "execution_count": 5
        }
      ],
      "source": [
        "# Use the DataFrame class's head() function to sneak a peek at the datasets\n",
        "df_train.head()"
      ]
    },
    {
      "cell_type": "code",
      "source": [
        "df_train.sample(5)"
      ],
      "metadata": {
        "colab": {
          "base_uri": "https://localhost:8080/",
          "height": 206
        },
        "id": "XyKkATRmwP_7",
        "outputId": "b1af4f19-63ee-4ec4-eda9-91a654ef9500"
      },
      "id": "XyKkATRmwP_7",
      "execution_count": 6,
      "outputs": [
        {
          "output_type": "execute_result",
          "data": {
            "text/plain": [
              "                                                   text  label\n",
              "1208  Does a young person need to worry about myocar...      2\n",
              "1619                        how many vaccines do i need      3\n",
              "1331                           Is Project Salus correc?      2\n",
              "510   How does transmission become less likely as mo...      2\n",
              "1075  what is happening with children's clinical tri...      2"
            ],
            "text/html": [
              "\n",
              "  <div id=\"df-df2a6b26-cc73-4de9-91b5-875475a6b0e5\" class=\"colab-df-container\">\n",
              "    <div>\n",
              "<style scoped>\n",
              "    .dataframe tbody tr th:only-of-type {\n",
              "        vertical-align: middle;\n",
              "    }\n",
              "\n",
              "    .dataframe tbody tr th {\n",
              "        vertical-align: top;\n",
              "    }\n",
              "\n",
              "    .dataframe thead th {\n",
              "        text-align: right;\n",
              "    }\n",
              "</style>\n",
              "<table border=\"1\" class=\"dataframe\">\n",
              "  <thead>\n",
              "    <tr style=\"text-align: right;\">\n",
              "      <th></th>\n",
              "      <th>text</th>\n",
              "      <th>label</th>\n",
              "    </tr>\n",
              "  </thead>\n",
              "  <tbody>\n",
              "    <tr>\n",
              "      <th>1208</th>\n",
              "      <td>Does a young person need to worry about myocar...</td>\n",
              "      <td>2</td>\n",
              "    </tr>\n",
              "    <tr>\n",
              "      <th>1619</th>\n",
              "      <td>how many vaccines do i need</td>\n",
              "      <td>3</td>\n",
              "    </tr>\n",
              "    <tr>\n",
              "      <th>1331</th>\n",
              "      <td>Is Project Salus correc?</td>\n",
              "      <td>2</td>\n",
              "    </tr>\n",
              "    <tr>\n",
              "      <th>510</th>\n",
              "      <td>How does transmission become less likely as mo...</td>\n",
              "      <td>2</td>\n",
              "    </tr>\n",
              "    <tr>\n",
              "      <th>1075</th>\n",
              "      <td>what is happening with children's clinical tri...</td>\n",
              "      <td>2</td>\n",
              "    </tr>\n",
              "  </tbody>\n",
              "</table>\n",
              "</div>\n",
              "    <div class=\"colab-df-buttons\">\n",
              "\n",
              "  <div class=\"colab-df-container\">\n",
              "    <button class=\"colab-df-convert\" onclick=\"convertToInteractive('df-df2a6b26-cc73-4de9-91b5-875475a6b0e5')\"\n",
              "            title=\"Convert this dataframe to an interactive table.\"\n",
              "            style=\"display:none;\">\n",
              "\n",
              "  <svg xmlns=\"http://www.w3.org/2000/svg\" height=\"24px\" viewBox=\"0 -960 960 960\">\n",
              "    <path d=\"M120-120v-720h720v720H120Zm60-500h600v-160H180v160Zm220 220h160v-160H400v160Zm0 220h160v-160H400v160ZM180-400h160v-160H180v160Zm440 0h160v-160H620v160ZM180-180h160v-160H180v160Zm440 0h160v-160H620v160Z\"/>\n",
              "  </svg>\n",
              "    </button>\n",
              "\n",
              "  <style>\n",
              "    .colab-df-container {\n",
              "      display:flex;\n",
              "      gap: 12px;\n",
              "    }\n",
              "\n",
              "    .colab-df-convert {\n",
              "      background-color: #E8F0FE;\n",
              "      border: none;\n",
              "      border-radius: 50%;\n",
              "      cursor: pointer;\n",
              "      display: none;\n",
              "      fill: #1967D2;\n",
              "      height: 32px;\n",
              "      padding: 0 0 0 0;\n",
              "      width: 32px;\n",
              "    }\n",
              "\n",
              "    .colab-df-convert:hover {\n",
              "      background-color: #E2EBFA;\n",
              "      box-shadow: 0px 1px 2px rgba(60, 64, 67, 0.3), 0px 1px 3px 1px rgba(60, 64, 67, 0.15);\n",
              "      fill: #174EA6;\n",
              "    }\n",
              "\n",
              "    .colab-df-buttons div {\n",
              "      margin-bottom: 4px;\n",
              "    }\n",
              "\n",
              "    [theme=dark] .colab-df-convert {\n",
              "      background-color: #3B4455;\n",
              "      fill: #D2E3FC;\n",
              "    }\n",
              "\n",
              "    [theme=dark] .colab-df-convert:hover {\n",
              "      background-color: #434B5C;\n",
              "      box-shadow: 0px 1px 3px 1px rgba(0, 0, 0, 0.15);\n",
              "      filter: drop-shadow(0px 1px 2px rgba(0, 0, 0, 0.3));\n",
              "      fill: #FFFFFF;\n",
              "    }\n",
              "  </style>\n",
              "\n",
              "    <script>\n",
              "      const buttonEl =\n",
              "        document.querySelector('#df-df2a6b26-cc73-4de9-91b5-875475a6b0e5 button.colab-df-convert');\n",
              "      buttonEl.style.display =\n",
              "        google.colab.kernel.accessAllowed ? 'block' : 'none';\n",
              "\n",
              "      async function convertToInteractive(key) {\n",
              "        const element = document.querySelector('#df-df2a6b26-cc73-4de9-91b5-875475a6b0e5');\n",
              "        const dataTable =\n",
              "          await google.colab.kernel.invokeFunction('convertToInteractive',\n",
              "                                                    [key], {});\n",
              "        if (!dataTable) return;\n",
              "\n",
              "        const docLinkHtml = 'Like what you see? Visit the ' +\n",
              "          '<a target=\"_blank\" href=https://colab.research.google.com/notebooks/data_table.ipynb>data table notebook</a>'\n",
              "          + ' to learn more about interactive tables.';\n",
              "        element.innerHTML = '';\n",
              "        dataTable['output_type'] = 'display_data';\n",
              "        await google.colab.output.renderOutput(dataTable, element);\n",
              "        const docLink = document.createElement('div');\n",
              "        docLink.innerHTML = docLinkHtml;\n",
              "        element.appendChild(docLink);\n",
              "      }\n",
              "    </script>\n",
              "  </div>\n",
              "\n",
              "\n",
              "<div id=\"df-1e02bd9c-a45f-45ea-9706-ffecf0880f7d\">\n",
              "  <button class=\"colab-df-quickchart\" onclick=\"quickchart('df-1e02bd9c-a45f-45ea-9706-ffecf0880f7d')\"\n",
              "            title=\"Suggest charts\"\n",
              "            style=\"display:none;\">\n",
              "\n",
              "<svg xmlns=\"http://www.w3.org/2000/svg\" height=\"24px\"viewBox=\"0 0 24 24\"\n",
              "     width=\"24px\">\n",
              "    <g>\n",
              "        <path d=\"M19 3H5c-1.1 0-2 .9-2 2v14c0 1.1.9 2 2 2h14c1.1 0 2-.9 2-2V5c0-1.1-.9-2-2-2zM9 17H7v-7h2v7zm4 0h-2V7h2v10zm4 0h-2v-4h2v4z\"/>\n",
              "    </g>\n",
              "</svg>\n",
              "  </button>\n",
              "\n",
              "<style>\n",
              "  .colab-df-quickchart {\n",
              "      --bg-color: #E8F0FE;\n",
              "      --fill-color: #1967D2;\n",
              "      --hover-bg-color: #E2EBFA;\n",
              "      --hover-fill-color: #174EA6;\n",
              "      --disabled-fill-color: #AAA;\n",
              "      --disabled-bg-color: #DDD;\n",
              "  }\n",
              "\n",
              "  [theme=dark] .colab-df-quickchart {\n",
              "      --bg-color: #3B4455;\n",
              "      --fill-color: #D2E3FC;\n",
              "      --hover-bg-color: #434B5C;\n",
              "      --hover-fill-color: #FFFFFF;\n",
              "      --disabled-bg-color: #3B4455;\n",
              "      --disabled-fill-color: #666;\n",
              "  }\n",
              "\n",
              "  .colab-df-quickchart {\n",
              "    background-color: var(--bg-color);\n",
              "    border: none;\n",
              "    border-radius: 50%;\n",
              "    cursor: pointer;\n",
              "    display: none;\n",
              "    fill: var(--fill-color);\n",
              "    height: 32px;\n",
              "    padding: 0;\n",
              "    width: 32px;\n",
              "  }\n",
              "\n",
              "  .colab-df-quickchart:hover {\n",
              "    background-color: var(--hover-bg-color);\n",
              "    box-shadow: 0 1px 2px rgba(60, 64, 67, 0.3), 0 1px 3px 1px rgba(60, 64, 67, 0.15);\n",
              "    fill: var(--button-hover-fill-color);\n",
              "  }\n",
              "\n",
              "  .colab-df-quickchart-complete:disabled,\n",
              "  .colab-df-quickchart-complete:disabled:hover {\n",
              "    background-color: var(--disabled-bg-color);\n",
              "    fill: var(--disabled-fill-color);\n",
              "    box-shadow: none;\n",
              "  }\n",
              "\n",
              "  .colab-df-spinner {\n",
              "    border: 2px solid var(--fill-color);\n",
              "    border-color: transparent;\n",
              "    border-bottom-color: var(--fill-color);\n",
              "    animation:\n",
              "      spin 1s steps(1) infinite;\n",
              "  }\n",
              "\n",
              "  @keyframes spin {\n",
              "    0% {\n",
              "      border-color: transparent;\n",
              "      border-bottom-color: var(--fill-color);\n",
              "      border-left-color: var(--fill-color);\n",
              "    }\n",
              "    20% {\n",
              "      border-color: transparent;\n",
              "      border-left-color: var(--fill-color);\n",
              "      border-top-color: var(--fill-color);\n",
              "    }\n",
              "    30% {\n",
              "      border-color: transparent;\n",
              "      border-left-color: var(--fill-color);\n",
              "      border-top-color: var(--fill-color);\n",
              "      border-right-color: var(--fill-color);\n",
              "    }\n",
              "    40% {\n",
              "      border-color: transparent;\n",
              "      border-right-color: var(--fill-color);\n",
              "      border-top-color: var(--fill-color);\n",
              "    }\n",
              "    60% {\n",
              "      border-color: transparent;\n",
              "      border-right-color: var(--fill-color);\n",
              "    }\n",
              "    80% {\n",
              "      border-color: transparent;\n",
              "      border-right-color: var(--fill-color);\n",
              "      border-bottom-color: var(--fill-color);\n",
              "    }\n",
              "    90% {\n",
              "      border-color: transparent;\n",
              "      border-bottom-color: var(--fill-color);\n",
              "    }\n",
              "  }\n",
              "</style>\n",
              "\n",
              "  <script>\n",
              "    async function quickchart(key) {\n",
              "      const quickchartButtonEl =\n",
              "        document.querySelector('#' + key + ' button');\n",
              "      quickchartButtonEl.disabled = true;  // To prevent multiple clicks.\n",
              "      quickchartButtonEl.classList.add('colab-df-spinner');\n",
              "      try {\n",
              "        const charts = await google.colab.kernel.invokeFunction(\n",
              "            'suggestCharts', [key], {});\n",
              "      } catch (error) {\n",
              "        console.error('Error during call to suggestCharts:', error);\n",
              "      }\n",
              "      quickchartButtonEl.classList.remove('colab-df-spinner');\n",
              "      quickchartButtonEl.classList.add('colab-df-quickchart-complete');\n",
              "    }\n",
              "    (() => {\n",
              "      let quickchartButtonEl =\n",
              "        document.querySelector('#df-1e02bd9c-a45f-45ea-9706-ffecf0880f7d button');\n",
              "      quickchartButtonEl.style.display =\n",
              "        google.colab.kernel.accessAllowed ? 'block' : 'none';\n",
              "    })();\n",
              "  </script>\n",
              "</div>\n",
              "\n",
              "    </div>\n",
              "  </div>\n"
            ],
            "application/vnd.google.colaboratory.intrinsic+json": {
              "type": "dataframe",
              "summary": "{\n  \"name\": \"df_train\",\n  \"rows\": 5,\n  \"fields\": [\n    {\n      \"column\": \"text\",\n      \"properties\": {\n        \"dtype\": \"string\",\n        \"num_unique_values\": 5,\n        \"samples\": [\n          \"how many vaccines do i need\",\n          \"what is happening with children's clinical trials?\",\n          \"Is Project Salus correc?\"\n        ],\n        \"semantic_type\": \"\",\n        \"description\": \"\"\n      }\n    },\n    {\n      \"column\": \"label\",\n      \"properties\": {\n        \"dtype\": \"number\",\n        \"std\": 0,\n        \"min\": 2,\n        \"max\": 3,\n        \"num_unique_values\": 2,\n        \"samples\": [\n          3,\n          2\n        ],\n        \"semantic_type\": \"\",\n        \"description\": \"\"\n      }\n    }\n  ]\n}"
            }
          },
          "metadata": {},
          "execution_count": 6
        }
      ]
    },
    {
      "cell_type": "markdown",
      "id": "32ddceea-f2da-42ec-adaa-98fcf006ab28",
      "metadata": {
        "id": "32ddceea-f2da-42ec-adaa-98fcf006ab28"
      },
      "source": [
        "## **Text Preprocessing**"
      ]
    },
    {
      "cell_type": "markdown",
      "id": "a792dcbf-3d10-4f64-bae0-f2e1aad0ac10",
      "metadata": {
        "tags": [],
        "id": "a792dcbf-3d10-4f64-bae0-f2e1aad0ac10"
      },
      "source": [
        "Before applying Machine Learning algorithms we should clean and pre-process the text data. We'll use popular pre-processing techniques we've used earlier:\n",
        "1. Text cleaning - removal of unnecessary characters like symbols, urls, emojis etc.\n",
        "2. Stopword removal - removal of words that don't convey any meaning to the machine\n",
        "3. Stemming - transforming derived words into the root words, thus reducing the feature space\n"
      ]
    },
    {
      "cell_type": "markdown",
      "id": "16df686c-1c00-46f8-b1bd-d5d109ec2f71",
      "metadata": {
        "id": "16df686c-1c00-46f8-b1bd-d5d109ec2f71"
      },
      "source": [
        "### Text Cleaning"
      ]
    },
    {
      "cell_type": "code",
      "execution_count": 7,
      "id": "8b28b13b-7515-4efb-bddd-422e10834944",
      "metadata": {
        "tags": [],
        "id": "8b28b13b-7515-4efb-bddd-422e10834944"
      },
      "outputs": [],
      "source": [
        "# Import the necessary libraries\n",
        "import re # Regular expressions module\n",
        "# Define pipeline function to perform multiple cleaning steps on a given text\n",
        "def clean_text(text):\n",
        "    text = text.lower() # Convert the text to lower case\n",
        "    text = re.sub(r'[^\\w]', ' ', text) # Remove symbols\n",
        "    text = re.sub(r'[ ]{2,}', ' ', text) # Remove extra spaces\n",
        "    text = re.sub(r'[ \\t]+$', '', text) # Remove trailing white spaces\n",
        "    return text"
      ]
    },
    {
      "cell_type": "code",
      "execution_count": 8,
      "id": "2f5813a1-d3a1-4551-9d8a-776872e92824",
      "metadata": {
        "tags": [],
        "id": "2f5813a1-d3a1-4551-9d8a-776872e92824"
      },
      "outputs": [],
      "source": [
        "# Apply the pipeline to the text column\n",
        "df_train[\"text\"] = df_train[\"text\"].apply(clean_text)\n",
        "df_val[\"text\"] = df_val[\"text\"].apply(clean_text)\n",
        "df_test[\"text\"] = df_test[\"text\"].apply(clean_text)"
      ]
    },
    {
      "cell_type": "code",
      "execution_count": 9,
      "id": "6bd4cdfa-bc1c-4fc2-9bd9-1875d12184cc",
      "metadata": {
        "tags": [],
        "id": "6bd4cdfa-bc1c-4fc2-9bd9-1875d12184cc",
        "colab": {
          "base_uri": "https://localhost:8080/",
          "height": 206
        },
        "outputId": "0aa79e10-d57a-44eb-fba5-dcb1d11179e8"
      },
      "outputs": [
        {
          "output_type": "execute_result",
          "data": {
            "text/plain": [
              "                                                text  label\n",
              "0  if symptomatic patient got the vaccine will he...      0\n",
              "1  has anyone died from getting the pfizer modern...      0\n",
              "2  why should i trust a pharmaceutical company wh...      0\n",
              "3  what are antisense rna s could they or dsrna b...      0\n",
              "4                   the vaccines aren t fda approved      0"
            ],
            "text/html": [
              "\n",
              "  <div id=\"df-5756c9b2-09e8-4454-b0d4-14e25f5bef4b\" class=\"colab-df-container\">\n",
              "    <div>\n",
              "<style scoped>\n",
              "    .dataframe tbody tr th:only-of-type {\n",
              "        vertical-align: middle;\n",
              "    }\n",
              "\n",
              "    .dataframe tbody tr th {\n",
              "        vertical-align: top;\n",
              "    }\n",
              "\n",
              "    .dataframe thead th {\n",
              "        text-align: right;\n",
              "    }\n",
              "</style>\n",
              "<table border=\"1\" class=\"dataframe\">\n",
              "  <thead>\n",
              "    <tr style=\"text-align: right;\">\n",
              "      <th></th>\n",
              "      <th>text</th>\n",
              "      <th>label</th>\n",
              "    </tr>\n",
              "  </thead>\n",
              "  <tbody>\n",
              "    <tr>\n",
              "      <th>0</th>\n",
              "      <td>if symptomatic patient got the vaccine will he...</td>\n",
              "      <td>0</td>\n",
              "    </tr>\n",
              "    <tr>\n",
              "      <th>1</th>\n",
              "      <td>has anyone died from getting the pfizer modern...</td>\n",
              "      <td>0</td>\n",
              "    </tr>\n",
              "    <tr>\n",
              "      <th>2</th>\n",
              "      <td>why should i trust a pharmaceutical company wh...</td>\n",
              "      <td>0</td>\n",
              "    </tr>\n",
              "    <tr>\n",
              "      <th>3</th>\n",
              "      <td>what are antisense rna s could they or dsrna b...</td>\n",
              "      <td>0</td>\n",
              "    </tr>\n",
              "    <tr>\n",
              "      <th>4</th>\n",
              "      <td>the vaccines aren t fda approved</td>\n",
              "      <td>0</td>\n",
              "    </tr>\n",
              "  </tbody>\n",
              "</table>\n",
              "</div>\n",
              "    <div class=\"colab-df-buttons\">\n",
              "\n",
              "  <div class=\"colab-df-container\">\n",
              "    <button class=\"colab-df-convert\" onclick=\"convertToInteractive('df-5756c9b2-09e8-4454-b0d4-14e25f5bef4b')\"\n",
              "            title=\"Convert this dataframe to an interactive table.\"\n",
              "            style=\"display:none;\">\n",
              "\n",
              "  <svg xmlns=\"http://www.w3.org/2000/svg\" height=\"24px\" viewBox=\"0 -960 960 960\">\n",
              "    <path d=\"M120-120v-720h720v720H120Zm60-500h600v-160H180v160Zm220 220h160v-160H400v160Zm0 220h160v-160H400v160ZM180-400h160v-160H180v160Zm440 0h160v-160H620v160ZM180-180h160v-160H180v160Zm440 0h160v-160H620v160Z\"/>\n",
              "  </svg>\n",
              "    </button>\n",
              "\n",
              "  <style>\n",
              "    .colab-df-container {\n",
              "      display:flex;\n",
              "      gap: 12px;\n",
              "    }\n",
              "\n",
              "    .colab-df-convert {\n",
              "      background-color: #E8F0FE;\n",
              "      border: none;\n",
              "      border-radius: 50%;\n",
              "      cursor: pointer;\n",
              "      display: none;\n",
              "      fill: #1967D2;\n",
              "      height: 32px;\n",
              "      padding: 0 0 0 0;\n",
              "      width: 32px;\n",
              "    }\n",
              "\n",
              "    .colab-df-convert:hover {\n",
              "      background-color: #E2EBFA;\n",
              "      box-shadow: 0px 1px 2px rgba(60, 64, 67, 0.3), 0px 1px 3px 1px rgba(60, 64, 67, 0.15);\n",
              "      fill: #174EA6;\n",
              "    }\n",
              "\n",
              "    .colab-df-buttons div {\n",
              "      margin-bottom: 4px;\n",
              "    }\n",
              "\n",
              "    [theme=dark] .colab-df-convert {\n",
              "      background-color: #3B4455;\n",
              "      fill: #D2E3FC;\n",
              "    }\n",
              "\n",
              "    [theme=dark] .colab-df-convert:hover {\n",
              "      background-color: #434B5C;\n",
              "      box-shadow: 0px 1px 3px 1px rgba(0, 0, 0, 0.15);\n",
              "      filter: drop-shadow(0px 1px 2px rgba(0, 0, 0, 0.3));\n",
              "      fill: #FFFFFF;\n",
              "    }\n",
              "  </style>\n",
              "\n",
              "    <script>\n",
              "      const buttonEl =\n",
              "        document.querySelector('#df-5756c9b2-09e8-4454-b0d4-14e25f5bef4b button.colab-df-convert');\n",
              "      buttonEl.style.display =\n",
              "        google.colab.kernel.accessAllowed ? 'block' : 'none';\n",
              "\n",
              "      async function convertToInteractive(key) {\n",
              "        const element = document.querySelector('#df-5756c9b2-09e8-4454-b0d4-14e25f5bef4b');\n",
              "        const dataTable =\n",
              "          await google.colab.kernel.invokeFunction('convertToInteractive',\n",
              "                                                    [key], {});\n",
              "        if (!dataTable) return;\n",
              "\n",
              "        const docLinkHtml = 'Like what you see? Visit the ' +\n",
              "          '<a target=\"_blank\" href=https://colab.research.google.com/notebooks/data_table.ipynb>data table notebook</a>'\n",
              "          + ' to learn more about interactive tables.';\n",
              "        element.innerHTML = '';\n",
              "        dataTable['output_type'] = 'display_data';\n",
              "        await google.colab.output.renderOutput(dataTable, element);\n",
              "        const docLink = document.createElement('div');\n",
              "        docLink.innerHTML = docLinkHtml;\n",
              "        element.appendChild(docLink);\n",
              "      }\n",
              "    </script>\n",
              "  </div>\n",
              "\n",
              "\n",
              "<div id=\"df-430e08a7-cc01-4b50-9599-2adc7869dda5\">\n",
              "  <button class=\"colab-df-quickchart\" onclick=\"quickchart('df-430e08a7-cc01-4b50-9599-2adc7869dda5')\"\n",
              "            title=\"Suggest charts\"\n",
              "            style=\"display:none;\">\n",
              "\n",
              "<svg xmlns=\"http://www.w3.org/2000/svg\" height=\"24px\"viewBox=\"0 0 24 24\"\n",
              "     width=\"24px\">\n",
              "    <g>\n",
              "        <path d=\"M19 3H5c-1.1 0-2 .9-2 2v14c0 1.1.9 2 2 2h14c1.1 0 2-.9 2-2V5c0-1.1-.9-2-2-2zM9 17H7v-7h2v7zm4 0h-2V7h2v10zm4 0h-2v-4h2v4z\"/>\n",
              "    </g>\n",
              "</svg>\n",
              "  </button>\n",
              "\n",
              "<style>\n",
              "  .colab-df-quickchart {\n",
              "      --bg-color: #E8F0FE;\n",
              "      --fill-color: #1967D2;\n",
              "      --hover-bg-color: #E2EBFA;\n",
              "      --hover-fill-color: #174EA6;\n",
              "      --disabled-fill-color: #AAA;\n",
              "      --disabled-bg-color: #DDD;\n",
              "  }\n",
              "\n",
              "  [theme=dark] .colab-df-quickchart {\n",
              "      --bg-color: #3B4455;\n",
              "      --fill-color: #D2E3FC;\n",
              "      --hover-bg-color: #434B5C;\n",
              "      --hover-fill-color: #FFFFFF;\n",
              "      --disabled-bg-color: #3B4455;\n",
              "      --disabled-fill-color: #666;\n",
              "  }\n",
              "\n",
              "  .colab-df-quickchart {\n",
              "    background-color: var(--bg-color);\n",
              "    border: none;\n",
              "    border-radius: 50%;\n",
              "    cursor: pointer;\n",
              "    display: none;\n",
              "    fill: var(--fill-color);\n",
              "    height: 32px;\n",
              "    padding: 0;\n",
              "    width: 32px;\n",
              "  }\n",
              "\n",
              "  .colab-df-quickchart:hover {\n",
              "    background-color: var(--hover-bg-color);\n",
              "    box-shadow: 0 1px 2px rgba(60, 64, 67, 0.3), 0 1px 3px 1px rgba(60, 64, 67, 0.15);\n",
              "    fill: var(--button-hover-fill-color);\n",
              "  }\n",
              "\n",
              "  .colab-df-quickchart-complete:disabled,\n",
              "  .colab-df-quickchart-complete:disabled:hover {\n",
              "    background-color: var(--disabled-bg-color);\n",
              "    fill: var(--disabled-fill-color);\n",
              "    box-shadow: none;\n",
              "  }\n",
              "\n",
              "  .colab-df-spinner {\n",
              "    border: 2px solid var(--fill-color);\n",
              "    border-color: transparent;\n",
              "    border-bottom-color: var(--fill-color);\n",
              "    animation:\n",
              "      spin 1s steps(1) infinite;\n",
              "  }\n",
              "\n",
              "  @keyframes spin {\n",
              "    0% {\n",
              "      border-color: transparent;\n",
              "      border-bottom-color: var(--fill-color);\n",
              "      border-left-color: var(--fill-color);\n",
              "    }\n",
              "    20% {\n",
              "      border-color: transparent;\n",
              "      border-left-color: var(--fill-color);\n",
              "      border-top-color: var(--fill-color);\n",
              "    }\n",
              "    30% {\n",
              "      border-color: transparent;\n",
              "      border-left-color: var(--fill-color);\n",
              "      border-top-color: var(--fill-color);\n",
              "      border-right-color: var(--fill-color);\n",
              "    }\n",
              "    40% {\n",
              "      border-color: transparent;\n",
              "      border-right-color: var(--fill-color);\n",
              "      border-top-color: var(--fill-color);\n",
              "    }\n",
              "    60% {\n",
              "      border-color: transparent;\n",
              "      border-right-color: var(--fill-color);\n",
              "    }\n",
              "    80% {\n",
              "      border-color: transparent;\n",
              "      border-right-color: var(--fill-color);\n",
              "      border-bottom-color: var(--fill-color);\n",
              "    }\n",
              "    90% {\n",
              "      border-color: transparent;\n",
              "      border-bottom-color: var(--fill-color);\n",
              "    }\n",
              "  }\n",
              "</style>\n",
              "\n",
              "  <script>\n",
              "    async function quickchart(key) {\n",
              "      const quickchartButtonEl =\n",
              "        document.querySelector('#' + key + ' button');\n",
              "      quickchartButtonEl.disabled = true;  // To prevent multiple clicks.\n",
              "      quickchartButtonEl.classList.add('colab-df-spinner');\n",
              "      try {\n",
              "        const charts = await google.colab.kernel.invokeFunction(\n",
              "            'suggestCharts', [key], {});\n",
              "      } catch (error) {\n",
              "        console.error('Error during call to suggestCharts:', error);\n",
              "      }\n",
              "      quickchartButtonEl.classList.remove('colab-df-spinner');\n",
              "      quickchartButtonEl.classList.add('colab-df-quickchart-complete');\n",
              "    }\n",
              "    (() => {\n",
              "      let quickchartButtonEl =\n",
              "        document.querySelector('#df-430e08a7-cc01-4b50-9599-2adc7869dda5 button');\n",
              "      quickchartButtonEl.style.display =\n",
              "        google.colab.kernel.accessAllowed ? 'block' : 'none';\n",
              "    })();\n",
              "  </script>\n",
              "</div>\n",
              "\n",
              "    </div>\n",
              "  </div>\n"
            ],
            "application/vnd.google.colaboratory.intrinsic+json": {
              "type": "dataframe",
              "variable_name": "df_train",
              "summary": "{\n  \"name\": \"df_train\",\n  \"rows\": 1815,\n  \"fields\": [\n    {\n      \"column\": \"text\",\n      \"properties\": {\n        \"dtype\": \"string\",\n        \"num_unique_values\": 1793,\n        \"samples\": [\n          \"can ivermectin cure covid 19\",\n          \"can the vaccine make me infertile\",\n          \"how can you convince someone to get vaccinated\"\n        ],\n        \"semantic_type\": \"\",\n        \"description\": \"\"\n      }\n    },\n    {\n      \"column\": \"label\",\n      \"properties\": {\n        \"dtype\": \"number\",\n        \"std\": 0,\n        \"min\": 0,\n        \"max\": 3,\n        \"num_unique_values\": 4,\n        \"samples\": [\n          1,\n          3,\n          0\n        ],\n        \"semantic_type\": \"\",\n        \"description\": \"\"\n      }\n    }\n  ]\n}"
            }
          },
          "metadata": {},
          "execution_count": 9
        }
      ],
      "source": [
        "df_train.head()"
      ]
    },
    {
      "cell_type": "markdown",
      "id": "ec5db668-da16-4a12-a2ab-874266c1814a",
      "metadata": {
        "id": "ec5db668-da16-4a12-a2ab-874266c1814a"
      },
      "source": [
        "### Stopword Removal"
      ]
    },
    {
      "cell_type": "code",
      "execution_count": 10,
      "id": "34390f04-63c1-418a-8cc7-3504d68f0683",
      "metadata": {
        "tags": [],
        "id": "34390f04-63c1-418a-8cc7-3504d68f0683",
        "colab": {
          "base_uri": "https://localhost:8080/"
        },
        "outputId": "e164d993-521f-4435-873a-82f1cee14f9e"
      },
      "outputs": [
        {
          "output_type": "stream",
          "name": "stderr",
          "text": [
            "[nltk_data] Downloading package stopwords to /root/nltk_data...\n",
            "[nltk_data]   Unzipping corpora/stopwords.zip.\n"
          ]
        }
      ],
      "source": [
        "# Import the necessary libraries\n",
        "\n",
        "import nltk # Text processing library that provides provides utility functions\n",
        "nltk.download('stopwords') # Download the nltk's stopword module\n",
        "from nltk.corpus import stopwords # Import the stopword module"
      ]
    },
    {
      "cell_type": "code",
      "execution_count": 11,
      "id": "ee37994d-4c8b-4921-99a4-a89256a81b52",
      "metadata": {
        "tags": [],
        "id": "ee37994d-4c8b-4921-99a4-a89256a81b52"
      },
      "outputs": [],
      "source": [
        "# Function to remove stopwords\n",
        "def remove_stopword(text):\n",
        "    tokens = []\n",
        "    stop_words = stopwords.words(\"english\") # Obtain a set of english stopwords\n",
        "\n",
        "    for token in text.split(): # Iterate over each word in the text\n",
        "        if token not in stop_words: # Check is the word is not a stopword\n",
        "            tokens.append(token) # Append to the token list\n",
        "\n",
        "    return \" \".join(tokens) # Join the tokens (with a \" \" as the seperator)"
      ]
    },
    {
      "cell_type": "code",
      "execution_count": 12,
      "id": "c46923ae-77ff-4894-9b3b-31bd8f03749e",
      "metadata": {
        "tags": [],
        "id": "c46923ae-77ff-4894-9b3b-31bd8f03749e"
      },
      "outputs": [],
      "source": [
        "# Apply the function to the text column\n",
        "df_train[\"text\"] = df_train[\"text\"].apply(remove_stopword)\n",
        "df_val[\"text\"] = df_val[\"text\"].apply(remove_stopword)\n",
        "df_test[\"text\"] = df_test[\"text\"].apply(remove_stopword)"
      ]
    },
    {
      "cell_type": "code",
      "execution_count": 13,
      "id": "af551579-92ff-4c55-914a-dc4285c2c58c",
      "metadata": {
        "tags": [],
        "id": "af551579-92ff-4c55-914a-dc4285c2c58c",
        "colab": {
          "base_uri": "https://localhost:8080/",
          "height": 206
        },
        "outputId": "aff3601e-6462-4b81-b8fa-f18b7ac67bfd"
      },
      "outputs": [
        {
          "output_type": "execute_result",
          "data": {
            "text/plain": [
              "                                                text  label\n",
              "0               symptomatic patient got vaccine dies      0\n",
              "1  anyone died getting pfizer moderna johnson joh...      0\n",
              "2       trust pharmaceutical company manipulate data      0\n",
              "3  antisense rna could dsrna contaminating covid ...      0\n",
              "4                              vaccines fda approved      0"
            ],
            "text/html": [
              "\n",
              "  <div id=\"df-4c073472-4b8f-40fe-b789-b96f9fffac0c\" class=\"colab-df-container\">\n",
              "    <div>\n",
              "<style scoped>\n",
              "    .dataframe tbody tr th:only-of-type {\n",
              "        vertical-align: middle;\n",
              "    }\n",
              "\n",
              "    .dataframe tbody tr th {\n",
              "        vertical-align: top;\n",
              "    }\n",
              "\n",
              "    .dataframe thead th {\n",
              "        text-align: right;\n",
              "    }\n",
              "</style>\n",
              "<table border=\"1\" class=\"dataframe\">\n",
              "  <thead>\n",
              "    <tr style=\"text-align: right;\">\n",
              "      <th></th>\n",
              "      <th>text</th>\n",
              "      <th>label</th>\n",
              "    </tr>\n",
              "  </thead>\n",
              "  <tbody>\n",
              "    <tr>\n",
              "      <th>0</th>\n",
              "      <td>symptomatic patient got vaccine dies</td>\n",
              "      <td>0</td>\n",
              "    </tr>\n",
              "    <tr>\n",
              "      <th>1</th>\n",
              "      <td>anyone died getting pfizer moderna johnson joh...</td>\n",
              "      <td>0</td>\n",
              "    </tr>\n",
              "    <tr>\n",
              "      <th>2</th>\n",
              "      <td>trust pharmaceutical company manipulate data</td>\n",
              "      <td>0</td>\n",
              "    </tr>\n",
              "    <tr>\n",
              "      <th>3</th>\n",
              "      <td>antisense rna could dsrna contaminating covid ...</td>\n",
              "      <td>0</td>\n",
              "    </tr>\n",
              "    <tr>\n",
              "      <th>4</th>\n",
              "      <td>vaccines fda approved</td>\n",
              "      <td>0</td>\n",
              "    </tr>\n",
              "  </tbody>\n",
              "</table>\n",
              "</div>\n",
              "    <div class=\"colab-df-buttons\">\n",
              "\n",
              "  <div class=\"colab-df-container\">\n",
              "    <button class=\"colab-df-convert\" onclick=\"convertToInteractive('df-4c073472-4b8f-40fe-b789-b96f9fffac0c')\"\n",
              "            title=\"Convert this dataframe to an interactive table.\"\n",
              "            style=\"display:none;\">\n",
              "\n",
              "  <svg xmlns=\"http://www.w3.org/2000/svg\" height=\"24px\" viewBox=\"0 -960 960 960\">\n",
              "    <path d=\"M120-120v-720h720v720H120Zm60-500h600v-160H180v160Zm220 220h160v-160H400v160Zm0 220h160v-160H400v160ZM180-400h160v-160H180v160Zm440 0h160v-160H620v160ZM180-180h160v-160H180v160Zm440 0h160v-160H620v160Z\"/>\n",
              "  </svg>\n",
              "    </button>\n",
              "\n",
              "  <style>\n",
              "    .colab-df-container {\n",
              "      display:flex;\n",
              "      gap: 12px;\n",
              "    }\n",
              "\n",
              "    .colab-df-convert {\n",
              "      background-color: #E8F0FE;\n",
              "      border: none;\n",
              "      border-radius: 50%;\n",
              "      cursor: pointer;\n",
              "      display: none;\n",
              "      fill: #1967D2;\n",
              "      height: 32px;\n",
              "      padding: 0 0 0 0;\n",
              "      width: 32px;\n",
              "    }\n",
              "\n",
              "    .colab-df-convert:hover {\n",
              "      background-color: #E2EBFA;\n",
              "      box-shadow: 0px 1px 2px rgba(60, 64, 67, 0.3), 0px 1px 3px 1px rgba(60, 64, 67, 0.15);\n",
              "      fill: #174EA6;\n",
              "    }\n",
              "\n",
              "    .colab-df-buttons div {\n",
              "      margin-bottom: 4px;\n",
              "    }\n",
              "\n",
              "    [theme=dark] .colab-df-convert {\n",
              "      background-color: #3B4455;\n",
              "      fill: #D2E3FC;\n",
              "    }\n",
              "\n",
              "    [theme=dark] .colab-df-convert:hover {\n",
              "      background-color: #434B5C;\n",
              "      box-shadow: 0px 1px 3px 1px rgba(0, 0, 0, 0.15);\n",
              "      filter: drop-shadow(0px 1px 2px rgba(0, 0, 0, 0.3));\n",
              "      fill: #FFFFFF;\n",
              "    }\n",
              "  </style>\n",
              "\n",
              "    <script>\n",
              "      const buttonEl =\n",
              "        document.querySelector('#df-4c073472-4b8f-40fe-b789-b96f9fffac0c button.colab-df-convert');\n",
              "      buttonEl.style.display =\n",
              "        google.colab.kernel.accessAllowed ? 'block' : 'none';\n",
              "\n",
              "      async function convertToInteractive(key) {\n",
              "        const element = document.querySelector('#df-4c073472-4b8f-40fe-b789-b96f9fffac0c');\n",
              "        const dataTable =\n",
              "          await google.colab.kernel.invokeFunction('convertToInteractive',\n",
              "                                                    [key], {});\n",
              "        if (!dataTable) return;\n",
              "\n",
              "        const docLinkHtml = 'Like what you see? Visit the ' +\n",
              "          '<a target=\"_blank\" href=https://colab.research.google.com/notebooks/data_table.ipynb>data table notebook</a>'\n",
              "          + ' to learn more about interactive tables.';\n",
              "        element.innerHTML = '';\n",
              "        dataTable['output_type'] = 'display_data';\n",
              "        await google.colab.output.renderOutput(dataTable, element);\n",
              "        const docLink = document.createElement('div');\n",
              "        docLink.innerHTML = docLinkHtml;\n",
              "        element.appendChild(docLink);\n",
              "      }\n",
              "    </script>\n",
              "  </div>\n",
              "\n",
              "\n",
              "<div id=\"df-08ae3344-0f82-40d8-a9c2-fbd534d26efe\">\n",
              "  <button class=\"colab-df-quickchart\" onclick=\"quickchart('df-08ae3344-0f82-40d8-a9c2-fbd534d26efe')\"\n",
              "            title=\"Suggest charts\"\n",
              "            style=\"display:none;\">\n",
              "\n",
              "<svg xmlns=\"http://www.w3.org/2000/svg\" height=\"24px\"viewBox=\"0 0 24 24\"\n",
              "     width=\"24px\">\n",
              "    <g>\n",
              "        <path d=\"M19 3H5c-1.1 0-2 .9-2 2v14c0 1.1.9 2 2 2h14c1.1 0 2-.9 2-2V5c0-1.1-.9-2-2-2zM9 17H7v-7h2v7zm4 0h-2V7h2v10zm4 0h-2v-4h2v4z\"/>\n",
              "    </g>\n",
              "</svg>\n",
              "  </button>\n",
              "\n",
              "<style>\n",
              "  .colab-df-quickchart {\n",
              "      --bg-color: #E8F0FE;\n",
              "      --fill-color: #1967D2;\n",
              "      --hover-bg-color: #E2EBFA;\n",
              "      --hover-fill-color: #174EA6;\n",
              "      --disabled-fill-color: #AAA;\n",
              "      --disabled-bg-color: #DDD;\n",
              "  }\n",
              "\n",
              "  [theme=dark] .colab-df-quickchart {\n",
              "      --bg-color: #3B4455;\n",
              "      --fill-color: #D2E3FC;\n",
              "      --hover-bg-color: #434B5C;\n",
              "      --hover-fill-color: #FFFFFF;\n",
              "      --disabled-bg-color: #3B4455;\n",
              "      --disabled-fill-color: #666;\n",
              "  }\n",
              "\n",
              "  .colab-df-quickchart {\n",
              "    background-color: var(--bg-color);\n",
              "    border: none;\n",
              "    border-radius: 50%;\n",
              "    cursor: pointer;\n",
              "    display: none;\n",
              "    fill: var(--fill-color);\n",
              "    height: 32px;\n",
              "    padding: 0;\n",
              "    width: 32px;\n",
              "  }\n",
              "\n",
              "  .colab-df-quickchart:hover {\n",
              "    background-color: var(--hover-bg-color);\n",
              "    box-shadow: 0 1px 2px rgba(60, 64, 67, 0.3), 0 1px 3px 1px rgba(60, 64, 67, 0.15);\n",
              "    fill: var(--button-hover-fill-color);\n",
              "  }\n",
              "\n",
              "  .colab-df-quickchart-complete:disabled,\n",
              "  .colab-df-quickchart-complete:disabled:hover {\n",
              "    background-color: var(--disabled-bg-color);\n",
              "    fill: var(--disabled-fill-color);\n",
              "    box-shadow: none;\n",
              "  }\n",
              "\n",
              "  .colab-df-spinner {\n",
              "    border: 2px solid var(--fill-color);\n",
              "    border-color: transparent;\n",
              "    border-bottom-color: var(--fill-color);\n",
              "    animation:\n",
              "      spin 1s steps(1) infinite;\n",
              "  }\n",
              "\n",
              "  @keyframes spin {\n",
              "    0% {\n",
              "      border-color: transparent;\n",
              "      border-bottom-color: var(--fill-color);\n",
              "      border-left-color: var(--fill-color);\n",
              "    }\n",
              "    20% {\n",
              "      border-color: transparent;\n",
              "      border-left-color: var(--fill-color);\n",
              "      border-top-color: var(--fill-color);\n",
              "    }\n",
              "    30% {\n",
              "      border-color: transparent;\n",
              "      border-left-color: var(--fill-color);\n",
              "      border-top-color: var(--fill-color);\n",
              "      border-right-color: var(--fill-color);\n",
              "    }\n",
              "    40% {\n",
              "      border-color: transparent;\n",
              "      border-right-color: var(--fill-color);\n",
              "      border-top-color: var(--fill-color);\n",
              "    }\n",
              "    60% {\n",
              "      border-color: transparent;\n",
              "      border-right-color: var(--fill-color);\n",
              "    }\n",
              "    80% {\n",
              "      border-color: transparent;\n",
              "      border-right-color: var(--fill-color);\n",
              "      border-bottom-color: var(--fill-color);\n",
              "    }\n",
              "    90% {\n",
              "      border-color: transparent;\n",
              "      border-bottom-color: var(--fill-color);\n",
              "    }\n",
              "  }\n",
              "</style>\n",
              "\n",
              "  <script>\n",
              "    async function quickchart(key) {\n",
              "      const quickchartButtonEl =\n",
              "        document.querySelector('#' + key + ' button');\n",
              "      quickchartButtonEl.disabled = true;  // To prevent multiple clicks.\n",
              "      quickchartButtonEl.classList.add('colab-df-spinner');\n",
              "      try {\n",
              "        const charts = await google.colab.kernel.invokeFunction(\n",
              "            'suggestCharts', [key], {});\n",
              "      } catch (error) {\n",
              "        console.error('Error during call to suggestCharts:', error);\n",
              "      }\n",
              "      quickchartButtonEl.classList.remove('colab-df-spinner');\n",
              "      quickchartButtonEl.classList.add('colab-df-quickchart-complete');\n",
              "    }\n",
              "    (() => {\n",
              "      let quickchartButtonEl =\n",
              "        document.querySelector('#df-08ae3344-0f82-40d8-a9c2-fbd534d26efe button');\n",
              "      quickchartButtonEl.style.display =\n",
              "        google.colab.kernel.accessAllowed ? 'block' : 'none';\n",
              "    })();\n",
              "  </script>\n",
              "</div>\n",
              "\n",
              "    </div>\n",
              "  </div>\n"
            ],
            "application/vnd.google.colaboratory.intrinsic+json": {
              "type": "dataframe",
              "variable_name": "df_train",
              "summary": "{\n  \"name\": \"df_train\",\n  \"rows\": 1815,\n  \"fields\": [\n    {\n      \"column\": \"text\",\n      \"properties\": {\n        \"dtype\": \"string\",\n        \"num_unique_values\": 1710,\n        \"samples\": [\n          \"vaccine pregnant women\",\n          \"available j j booster\",\n          \"parents want get vaccinated want get vaccinated\"\n        ],\n        \"semantic_type\": \"\",\n        \"description\": \"\"\n      }\n    },\n    {\n      \"column\": \"label\",\n      \"properties\": {\n        \"dtype\": \"number\",\n        \"std\": 0,\n        \"min\": 0,\n        \"max\": 3,\n        \"num_unique_values\": 4,\n        \"samples\": [\n          1,\n          3,\n          0\n        ],\n        \"semantic_type\": \"\",\n        \"description\": \"\"\n      }\n    }\n  ]\n}"
            }
          },
          "metadata": {},
          "execution_count": 13
        }
      ],
      "source": [
        "df_train.head()"
      ]
    },
    {
      "cell_type": "markdown",
      "id": "a7081e5e-4604-4316-a115-e8b10a5a98e1",
      "metadata": {
        "id": "a7081e5e-4604-4316-a115-e8b10a5a98e1"
      },
      "source": [
        "### Stemming"
      ]
    },
    {
      "cell_type": "code",
      "execution_count": 14,
      "id": "3943fc48-7e9f-41bf-ad5c-6c16cb1aac5d",
      "metadata": {
        "tags": [],
        "id": "3943fc48-7e9f-41bf-ad5c-6c16cb1aac5d"
      },
      "outputs": [],
      "source": [
        "# Import the necessary libraries\n",
        "from nltk.stem import SnowballStemmer # Import the stemmer module from nltk"
      ]
    },
    {
      "cell_type": "code",
      "execution_count": 15,
      "id": "514087f6-b54d-4ebd-a8e2-e7f75418e21e",
      "metadata": {
        "tags": [],
        "id": "514087f6-b54d-4ebd-a8e2-e7f75418e21e"
      },
      "outputs": [],
      "source": [
        "# Function to perform stemming\n",
        "def stem_words(text):\n",
        "    tokens = []\n",
        "    english_stemmer = SnowballStemmer(\"english\") # Load the stemmer object\n",
        "\n",
        "    for token in text.split(): # Iterate over each word in the text\n",
        "        token = english_stemmer.stem(token) # Stem the word\n",
        "        tokens.append(token) # Append to the token list\n",
        "\n",
        "    return \" \".join(tokens) # Join the tokens (with a \" \" as the seperator)"
      ]
    },
    {
      "cell_type": "code",
      "execution_count": 16,
      "id": "da94a57d-c147-46f2-a0bb-149db0419c4e",
      "metadata": {
        "id": "da94a57d-c147-46f2-a0bb-149db0419c4e"
      },
      "outputs": [],
      "source": [
        "# Apply the function to the text column\n",
        "df_train[\"text\"] = df_train[\"text\"].apply(stem_words)\n",
        "df_val[\"text\"] = df_val[\"text\"].apply(stem_words)\n",
        "df_test[\"text\"] = df_test[\"text\"].apply(stem_words)"
      ]
    },
    {
      "cell_type": "code",
      "execution_count": 17,
      "id": "fbbf3734",
      "metadata": {
        "id": "fbbf3734",
        "colab": {
          "base_uri": "https://localhost:8080/",
          "height": 206
        },
        "outputId": "f1703faa-b9b7-4943-9d59-b799ee5661a5"
      },
      "outputs": [
        {
          "output_type": "execute_result",
          "data": {
            "text/plain": [
              "                                                text  label\n",
              "0                   symptomat patient got vaccin die      0\n",
              "1  anyon die get pfizer moderna johnson johnson v...      0\n",
              "2              trust pharmaceut compani manipul data      0\n",
              "3  antisens rna could dsrna contamin covid mrna v...      0\n",
              "4                                  vaccin fda approv      0"
            ],
            "text/html": [
              "\n",
              "  <div id=\"df-9995e950-ba82-48db-a826-7ab423d6c166\" class=\"colab-df-container\">\n",
              "    <div>\n",
              "<style scoped>\n",
              "    .dataframe tbody tr th:only-of-type {\n",
              "        vertical-align: middle;\n",
              "    }\n",
              "\n",
              "    .dataframe tbody tr th {\n",
              "        vertical-align: top;\n",
              "    }\n",
              "\n",
              "    .dataframe thead th {\n",
              "        text-align: right;\n",
              "    }\n",
              "</style>\n",
              "<table border=\"1\" class=\"dataframe\">\n",
              "  <thead>\n",
              "    <tr style=\"text-align: right;\">\n",
              "      <th></th>\n",
              "      <th>text</th>\n",
              "      <th>label</th>\n",
              "    </tr>\n",
              "  </thead>\n",
              "  <tbody>\n",
              "    <tr>\n",
              "      <th>0</th>\n",
              "      <td>symptomat patient got vaccin die</td>\n",
              "      <td>0</td>\n",
              "    </tr>\n",
              "    <tr>\n",
              "      <th>1</th>\n",
              "      <td>anyon die get pfizer moderna johnson johnson v...</td>\n",
              "      <td>0</td>\n",
              "    </tr>\n",
              "    <tr>\n",
              "      <th>2</th>\n",
              "      <td>trust pharmaceut compani manipul data</td>\n",
              "      <td>0</td>\n",
              "    </tr>\n",
              "    <tr>\n",
              "      <th>3</th>\n",
              "      <td>antisens rna could dsrna contamin covid mrna v...</td>\n",
              "      <td>0</td>\n",
              "    </tr>\n",
              "    <tr>\n",
              "      <th>4</th>\n",
              "      <td>vaccin fda approv</td>\n",
              "      <td>0</td>\n",
              "    </tr>\n",
              "  </tbody>\n",
              "</table>\n",
              "</div>\n",
              "    <div class=\"colab-df-buttons\">\n",
              "\n",
              "  <div class=\"colab-df-container\">\n",
              "    <button class=\"colab-df-convert\" onclick=\"convertToInteractive('df-9995e950-ba82-48db-a826-7ab423d6c166')\"\n",
              "            title=\"Convert this dataframe to an interactive table.\"\n",
              "            style=\"display:none;\">\n",
              "\n",
              "  <svg xmlns=\"http://www.w3.org/2000/svg\" height=\"24px\" viewBox=\"0 -960 960 960\">\n",
              "    <path d=\"M120-120v-720h720v720H120Zm60-500h600v-160H180v160Zm220 220h160v-160H400v160Zm0 220h160v-160H400v160ZM180-400h160v-160H180v160Zm440 0h160v-160H620v160ZM180-180h160v-160H180v160Zm440 0h160v-160H620v160Z\"/>\n",
              "  </svg>\n",
              "    </button>\n",
              "\n",
              "  <style>\n",
              "    .colab-df-container {\n",
              "      display:flex;\n",
              "      gap: 12px;\n",
              "    }\n",
              "\n",
              "    .colab-df-convert {\n",
              "      background-color: #E8F0FE;\n",
              "      border: none;\n",
              "      border-radius: 50%;\n",
              "      cursor: pointer;\n",
              "      display: none;\n",
              "      fill: #1967D2;\n",
              "      height: 32px;\n",
              "      padding: 0 0 0 0;\n",
              "      width: 32px;\n",
              "    }\n",
              "\n",
              "    .colab-df-convert:hover {\n",
              "      background-color: #E2EBFA;\n",
              "      box-shadow: 0px 1px 2px rgba(60, 64, 67, 0.3), 0px 1px 3px 1px rgba(60, 64, 67, 0.15);\n",
              "      fill: #174EA6;\n",
              "    }\n",
              "\n",
              "    .colab-df-buttons div {\n",
              "      margin-bottom: 4px;\n",
              "    }\n",
              "\n",
              "    [theme=dark] .colab-df-convert {\n",
              "      background-color: #3B4455;\n",
              "      fill: #D2E3FC;\n",
              "    }\n",
              "\n",
              "    [theme=dark] .colab-df-convert:hover {\n",
              "      background-color: #434B5C;\n",
              "      box-shadow: 0px 1px 3px 1px rgba(0, 0, 0, 0.15);\n",
              "      filter: drop-shadow(0px 1px 2px rgba(0, 0, 0, 0.3));\n",
              "      fill: #FFFFFF;\n",
              "    }\n",
              "  </style>\n",
              "\n",
              "    <script>\n",
              "      const buttonEl =\n",
              "        document.querySelector('#df-9995e950-ba82-48db-a826-7ab423d6c166 button.colab-df-convert');\n",
              "      buttonEl.style.display =\n",
              "        google.colab.kernel.accessAllowed ? 'block' : 'none';\n",
              "\n",
              "      async function convertToInteractive(key) {\n",
              "        const element = document.querySelector('#df-9995e950-ba82-48db-a826-7ab423d6c166');\n",
              "        const dataTable =\n",
              "          await google.colab.kernel.invokeFunction('convertToInteractive',\n",
              "                                                    [key], {});\n",
              "        if (!dataTable) return;\n",
              "\n",
              "        const docLinkHtml = 'Like what you see? Visit the ' +\n",
              "          '<a target=\"_blank\" href=https://colab.research.google.com/notebooks/data_table.ipynb>data table notebook</a>'\n",
              "          + ' to learn more about interactive tables.';\n",
              "        element.innerHTML = '';\n",
              "        dataTable['output_type'] = 'display_data';\n",
              "        await google.colab.output.renderOutput(dataTable, element);\n",
              "        const docLink = document.createElement('div');\n",
              "        docLink.innerHTML = docLinkHtml;\n",
              "        element.appendChild(docLink);\n",
              "      }\n",
              "    </script>\n",
              "  </div>\n",
              "\n",
              "\n",
              "<div id=\"df-c9b4c2e3-d86e-4d29-809f-5d6ffa4ab107\">\n",
              "  <button class=\"colab-df-quickchart\" onclick=\"quickchart('df-c9b4c2e3-d86e-4d29-809f-5d6ffa4ab107')\"\n",
              "            title=\"Suggest charts\"\n",
              "            style=\"display:none;\">\n",
              "\n",
              "<svg xmlns=\"http://www.w3.org/2000/svg\" height=\"24px\"viewBox=\"0 0 24 24\"\n",
              "     width=\"24px\">\n",
              "    <g>\n",
              "        <path d=\"M19 3H5c-1.1 0-2 .9-2 2v14c0 1.1.9 2 2 2h14c1.1 0 2-.9 2-2V5c0-1.1-.9-2-2-2zM9 17H7v-7h2v7zm4 0h-2V7h2v10zm4 0h-2v-4h2v4z\"/>\n",
              "    </g>\n",
              "</svg>\n",
              "  </button>\n",
              "\n",
              "<style>\n",
              "  .colab-df-quickchart {\n",
              "      --bg-color: #E8F0FE;\n",
              "      --fill-color: #1967D2;\n",
              "      --hover-bg-color: #E2EBFA;\n",
              "      --hover-fill-color: #174EA6;\n",
              "      --disabled-fill-color: #AAA;\n",
              "      --disabled-bg-color: #DDD;\n",
              "  }\n",
              "\n",
              "  [theme=dark] .colab-df-quickchart {\n",
              "      --bg-color: #3B4455;\n",
              "      --fill-color: #D2E3FC;\n",
              "      --hover-bg-color: #434B5C;\n",
              "      --hover-fill-color: #FFFFFF;\n",
              "      --disabled-bg-color: #3B4455;\n",
              "      --disabled-fill-color: #666;\n",
              "  }\n",
              "\n",
              "  .colab-df-quickchart {\n",
              "    background-color: var(--bg-color);\n",
              "    border: none;\n",
              "    border-radius: 50%;\n",
              "    cursor: pointer;\n",
              "    display: none;\n",
              "    fill: var(--fill-color);\n",
              "    height: 32px;\n",
              "    padding: 0;\n",
              "    width: 32px;\n",
              "  }\n",
              "\n",
              "  .colab-df-quickchart:hover {\n",
              "    background-color: var(--hover-bg-color);\n",
              "    box-shadow: 0 1px 2px rgba(60, 64, 67, 0.3), 0 1px 3px 1px rgba(60, 64, 67, 0.15);\n",
              "    fill: var(--button-hover-fill-color);\n",
              "  }\n",
              "\n",
              "  .colab-df-quickchart-complete:disabled,\n",
              "  .colab-df-quickchart-complete:disabled:hover {\n",
              "    background-color: var(--disabled-bg-color);\n",
              "    fill: var(--disabled-fill-color);\n",
              "    box-shadow: none;\n",
              "  }\n",
              "\n",
              "  .colab-df-spinner {\n",
              "    border: 2px solid var(--fill-color);\n",
              "    border-color: transparent;\n",
              "    border-bottom-color: var(--fill-color);\n",
              "    animation:\n",
              "      spin 1s steps(1) infinite;\n",
              "  }\n",
              "\n",
              "  @keyframes spin {\n",
              "    0% {\n",
              "      border-color: transparent;\n",
              "      border-bottom-color: var(--fill-color);\n",
              "      border-left-color: var(--fill-color);\n",
              "    }\n",
              "    20% {\n",
              "      border-color: transparent;\n",
              "      border-left-color: var(--fill-color);\n",
              "      border-top-color: var(--fill-color);\n",
              "    }\n",
              "    30% {\n",
              "      border-color: transparent;\n",
              "      border-left-color: var(--fill-color);\n",
              "      border-top-color: var(--fill-color);\n",
              "      border-right-color: var(--fill-color);\n",
              "    }\n",
              "    40% {\n",
              "      border-color: transparent;\n",
              "      border-right-color: var(--fill-color);\n",
              "      border-top-color: var(--fill-color);\n",
              "    }\n",
              "    60% {\n",
              "      border-color: transparent;\n",
              "      border-right-color: var(--fill-color);\n",
              "    }\n",
              "    80% {\n",
              "      border-color: transparent;\n",
              "      border-right-color: var(--fill-color);\n",
              "      border-bottom-color: var(--fill-color);\n",
              "    }\n",
              "    90% {\n",
              "      border-color: transparent;\n",
              "      border-bottom-color: var(--fill-color);\n",
              "    }\n",
              "  }\n",
              "</style>\n",
              "\n",
              "  <script>\n",
              "    async function quickchart(key) {\n",
              "      const quickchartButtonEl =\n",
              "        document.querySelector('#' + key + ' button');\n",
              "      quickchartButtonEl.disabled = true;  // To prevent multiple clicks.\n",
              "      quickchartButtonEl.classList.add('colab-df-spinner');\n",
              "      try {\n",
              "        const charts = await google.colab.kernel.invokeFunction(\n",
              "            'suggestCharts', [key], {});\n",
              "      } catch (error) {\n",
              "        console.error('Error during call to suggestCharts:', error);\n",
              "      }\n",
              "      quickchartButtonEl.classList.remove('colab-df-spinner');\n",
              "      quickchartButtonEl.classList.add('colab-df-quickchart-complete');\n",
              "    }\n",
              "    (() => {\n",
              "      let quickchartButtonEl =\n",
              "        document.querySelector('#df-c9b4c2e3-d86e-4d29-809f-5d6ffa4ab107 button');\n",
              "      quickchartButtonEl.style.display =\n",
              "        google.colab.kernel.accessAllowed ? 'block' : 'none';\n",
              "    })();\n",
              "  </script>\n",
              "</div>\n",
              "\n",
              "    </div>\n",
              "  </div>\n"
            ],
            "application/vnd.google.colaboratory.intrinsic+json": {
              "type": "dataframe",
              "variable_name": "df_train",
              "summary": "{\n  \"name\": \"df_train\",\n  \"rows\": 1815,\n  \"fields\": [\n    {\n      \"column\": \"text\",\n      \"properties\": {\n        \"dtype\": \"string\",\n        \"num_unique_values\": 1667,\n        \"samples\": [\n          \"best mask kid\",\n          \"bill gate creat covid\",\n          \"vaccin rush\"\n        ],\n        \"semantic_type\": \"\",\n        \"description\": \"\"\n      }\n    },\n    {\n      \"column\": \"label\",\n      \"properties\": {\n        \"dtype\": \"number\",\n        \"std\": 0,\n        \"min\": 0,\n        \"max\": 3,\n        \"num_unique_values\": 4,\n        \"samples\": [\n          1,\n          3,\n          0\n        ],\n        \"semantic_type\": \"\",\n        \"description\": \"\"\n      }\n    }\n  ]\n}"
            }
          },
          "metadata": {},
          "execution_count": 17
        }
      ],
      "source": [
        "df_train.head()"
      ]
    },
    {
      "cell_type": "markdown",
      "source": [
        "### Remove Empty Texts"
      ],
      "metadata": {
        "id": "M1wIRftOhMaV"
      },
      "id": "M1wIRftOhMaV"
    },
    {
      "cell_type": "code",
      "source": [
        "# Import the necessary libraries\n",
        "import numpy as np # Used to manipulate and perform calculations on arrays/matrices"
      ],
      "metadata": {
        "id": "C-k8bkk3jf6S"
      },
      "id": "C-k8bkk3jf6S",
      "execution_count": 18,
      "outputs": []
    },
    {
      "cell_type": "code",
      "source": [
        "# Train dataset\n",
        "df_train[\"text\"].replace(\"\", np.nan, inplace=True) # Replace empty strings with NaN\n",
        "df_train.dropna(subset=[\"text\"], inplace=True) # Drop the NaNs from the text column\n",
        "df_train.reset_index(inplace=True) # Reset the indexes\n",
        "df_train.drop(\"index\", axis=\"columns\", inplace=True) # Drop the old index column\n",
        "\n",
        "# Validation dataset\n",
        "df_val[\"text\"].replace(\"\", np.nan, inplace=True) # Replace empty strings with NaN\n",
        "df_val.dropna(subset=[\"text\"], inplace=True) # Drop the NaNs from the text column\n",
        "df_val.reset_index(inplace=True) # Reset the indexes\n",
        "df_val.drop(\"index\", axis=\"columns\", inplace=True) # Drop the old index column\n",
        "\n",
        "# Test dataset\n",
        "df_test[\"text\"].replace(\"\", np.nan, inplace=True) # Replace empty strings with NaN\n",
        "df_test.dropna(subset=[\"text\"], inplace=True) # Drop the NaNs from the text column\n",
        "df_test.reset_index(inplace=True) # Reset the indexes\n",
        "df_test.drop(\"index\", axis=\"columns\", inplace=True) # Drop the old index column"
      ],
      "metadata": {
        "id": "2EfxrMjXhPC2",
        "colab": {
          "base_uri": "https://localhost:8080/"
        },
        "outputId": "c5bb2dcc-2849-4214-9931-8251736be0a7"
      },
      "id": "2EfxrMjXhPC2",
      "execution_count": 19,
      "outputs": [
        {
          "output_type": "stream",
          "name": "stderr",
          "text": [
            "<ipython-input-19-a261320bca5c>:2: FutureWarning: A value is trying to be set on a copy of a DataFrame or Series through chained assignment using an inplace method.\n",
            "The behavior will change in pandas 3.0. This inplace method will never work because the intermediate object on which we are setting values always behaves as a copy.\n",
            "\n",
            "For example, when doing 'df[col].method(value, inplace=True)', try using 'df.method({col: value}, inplace=True)' or df[col] = df[col].method(value) instead, to perform the operation inplace on the original object.\n",
            "\n",
            "\n",
            "  df_train[\"text\"].replace(\"\", np.nan, inplace=True) # Replace empty strings with NaN\n",
            "<ipython-input-19-a261320bca5c>:8: FutureWarning: A value is trying to be set on a copy of a DataFrame or Series through chained assignment using an inplace method.\n",
            "The behavior will change in pandas 3.0. This inplace method will never work because the intermediate object on which we are setting values always behaves as a copy.\n",
            "\n",
            "For example, when doing 'df[col].method(value, inplace=True)', try using 'df.method({col: value}, inplace=True)' or df[col] = df[col].method(value) instead, to perform the operation inplace on the original object.\n",
            "\n",
            "\n",
            "  df_val[\"text\"].replace(\"\", np.nan, inplace=True) # Replace empty strings with NaN\n",
            "<ipython-input-19-a261320bca5c>:14: FutureWarning: A value is trying to be set on a copy of a DataFrame or Series through chained assignment using an inplace method.\n",
            "The behavior will change in pandas 3.0. This inplace method will never work because the intermediate object on which we are setting values always behaves as a copy.\n",
            "\n",
            "For example, when doing 'df[col].method(value, inplace=True)', try using 'df.method({col: value}, inplace=True)' or df[col] = df[col].method(value) instead, to perform the operation inplace on the original object.\n",
            "\n",
            "\n",
            "  df_test[\"text\"].replace(\"\", np.nan, inplace=True) # Replace empty strings with NaN\n"
          ]
        }
      ]
    },
    {
      "cell_type": "markdown",
      "id": "ec0b9879-ca5a-4759-9612-f0c5c09fc654",
      "metadata": {
        "id": "ec0b9879-ca5a-4759-9612-f0c5c09fc654"
      },
      "source": [
        "## **Display Dataset Metrics**"
      ]
    },
    {
      "cell_type": "code",
      "execution_count": 20,
      "id": "97587aea-bef9-4b14-80d9-51b42a3896cb",
      "metadata": {
        "tags": [],
        "id": "97587aea-bef9-4b14-80d9-51b42a3896cb",
        "colab": {
          "base_uri": "https://localhost:8080/"
        },
        "outputId": "f965afd2-3f60-4174-d445-7f3a25196fcd"
      },
      "outputs": [
        {
          "output_type": "stream",
          "name": "stdout",
          "text": [
            "Number of training data points = 1805\n",
            "Number of validation data points = 298\n",
            "Number of testing data points = 903\n"
          ]
        }
      ],
      "source": [
        "# The inbuilt function len() gives the total number of elements in a given object\n",
        "print(f\"Number of training data points = {len(df_train)}\")\n",
        "print(f\"Number of validation data points = {len(df_val)}\")\n",
        "print(f\"Number of testing data points = {len(df_test)}\")\n"
      ]
    },
    {
      "cell_type": "code",
      "execution_count": 21,
      "id": "c9043f03-4901-46e9-81ae-315e38bbac8f",
      "metadata": {
        "tags": [],
        "id": "c9043f03-4901-46e9-81ae-315e38bbac8f",
        "colab": {
          "base_uri": "https://localhost:8080/"
        },
        "outputId": "fe35c479-5b7f-4873-ce67-0589ee5f2abf"
      },
      "outputs": [
        {
          "output_type": "stream",
          "name": "stdout",
          "text": [
            "Number of classes = 4\n",
            "The class labels are = [0 1 2 3]\n"
          ]
        }
      ],
      "source": [
        "# NumPy's unique() function gives the unique elements of a given object\n",
        "print(f\"Number of classes = {len(np.unique(df_train['label']))}\")\n",
        "print(f\"The class labels are = {np.unique(df_train['label'])}\")"
      ]
    },
    {
      "cell_type": "code",
      "execution_count": 22,
      "id": "c309f1c8-d402-4e5e-b02d-af655ca43004",
      "metadata": {
        "tags": [],
        "id": "c309f1c8-d402-4e5e-b02d-af655ca43004",
        "colab": {
          "base_uri": "https://localhost:8080/"
        },
        "outputId": "edfde7c7-3526-4cff-85ae-623ad022c816"
      },
      "outputs": [
        {
          "output_type": "stream",
          "name": "stdout",
          "text": [
            "Training data\n",
            "Number of Class 0 = 445\n",
            "Number of Class 1 = 19\n",
            "Number of Class 2 = 1117\n",
            "Number of Class 3 = 224\n"
          ]
        }
      ],
      "source": [
        "# Class metrics for training data\n",
        "\n",
        "print(\"Training data\")\n",
        "\n",
        "# Restrictions/Selection can also be applied to the DataFrame objects\n",
        "class_0 = df_train[df_train[\"label\"] == 0] # Rows with the label as 0 are selected\n",
        "class_1 = df_train[df_train[\"label\"] == 1]\n",
        "class_2 = df_train[df_train[\"label\"] == 2]\n",
        "class_3 = df_train[df_train[\"label\"] == 3]\n",
        "\n",
        "print(f\"Number of Class 0 = {len(class_0)}\")\n",
        "print(f\"Number of Class 1 = {len(class_1)}\")\n",
        "print(f\"Number of Class 2 = {len(class_2)}\")\n",
        "print(f\"Number of Class 3 = {len(class_3)}\")"
      ]
    },
    {
      "cell_type": "code",
      "execution_count": 23,
      "id": "1a5566a6-c94b-44e2-823d-8dfe31903f73",
      "metadata": {
        "tags": [],
        "id": "1a5566a6-c94b-44e2-823d-8dfe31903f73",
        "colab": {
          "base_uri": "https://localhost:8080/"
        },
        "outputId": "60658f50-aa50-4579-9a7b-9f0a66611f57"
      },
      "outputs": [
        {
          "output_type": "stream",
          "name": "stdout",
          "text": [
            "Validation data\n",
            "Number of Class 0 = 73\n",
            "Number of Class 1 = 3\n",
            "Number of Class 2 = 186\n",
            "Number of Class 3 = 36\n"
          ]
        }
      ],
      "source": [
        "# Class metrics for validation data\n",
        "\n",
        "print(\"Validation data\")\n",
        "\n",
        "class_0 = df_val[df_val[\"label\"] == 0]\n",
        "class_1 = df_val[df_val[\"label\"] == 1]\n",
        "class_2 = df_val[df_val[\"label\"] == 2]\n",
        "class_3 = df_val[df_val[\"label\"] == 3]\n",
        "\n",
        "print(f\"Number of Class 0 = {len(class_0)}\")\n",
        "print(f\"Number of Class 1 = {len(class_1)}\")\n",
        "print(f\"Number of Class 2 = {len(class_2)}\")\n",
        "print(f\"Number of Class 3 = {len(class_3)}\")"
      ]
    },
    {
      "cell_type": "code",
      "execution_count": 24,
      "id": "80c29c18-fb22-437b-92a6-949121c3b5c2",
      "metadata": {
        "tags": [],
        "id": "80c29c18-fb22-437b-92a6-949121c3b5c2",
        "colab": {
          "base_uri": "https://localhost:8080/"
        },
        "outputId": "4981b7e2-0a01-4fa8-bd78-7f8dc6df1083"
      },
      "outputs": [
        {
          "output_type": "stream",
          "name": "stdout",
          "text": [
            "Testing data\n",
            "Number of Class 0 = 223\n",
            "Number of Class 1 = 9\n",
            "Number of Class 2 = 559\n",
            "Number of Class 3 = 112\n"
          ]
        }
      ],
      "source": [
        "# Class metrics for testing data\n",
        "\n",
        "print(\"Testing data\")\n",
        "\n",
        "class_0 = df_test[df_test[\"label\"] == 0]\n",
        "class_1 = df_test[df_test[\"label\"] == 1]\n",
        "class_2 = df_test[df_test[\"label\"] == 2]\n",
        "class_3 = df_test[df_test[\"label\"] == 3]\n",
        "\n",
        "print(f\"Number of Class 0 = {len(class_0)}\")\n",
        "print(f\"Number of Class 1 = {len(class_1)}\")\n",
        "print(f\"Number of Class 2 = {len(class_2)}\")\n",
        "print(f\"Number of Class 3 = {len(class_3)}\")"
      ]
    },
    {
      "cell_type": "markdown",
      "id": "09981294",
      "metadata": {
        "id": "09981294"
      },
      "source": [
        "## **Text Representation**"
      ]
    },
    {
      "cell_type": "markdown",
      "id": "f4c151d1",
      "metadata": {
        "id": "f4c151d1"
      },
      "source": [
        "Input text should be represented in a numerical format for the machine to understand it, so our first step in feature engineering is to represent the text in another format.\n",
        "\n",
        "There are many ways we can represent text data to apply machine learning:\n",
        "1. Bag of Words (BoW): Represents text as a collection of individual words, ignoring grammar and word order\n",
        "2. Term Frequency-Inverse Document Frequency (TF-IDF): Represents the importance of each word in the document and the corpus as a whole, based on its frequency in the document and its rarity in the corpus\n",
        "3. Word Embeddings: Represents words as dense vectors in a high-dimensional space, where words with similar meanings are clustered together\n",
        "4. Character-level Embeddings: Represents text at the character level, rather than the word level, using vectors to represent each character\n",
        "5. Convolutional Neural Networks (CNNs): Learns features from text by applying convolutional filters to the text representation\n",
        "6. Recurrent Neural Networks (RNNs): Models sequences of text, such as sentences or paragraphs, and can capture dependencies between words in a sentence\n",
        "7. Transformer-based Models: Capture context and dependencies between words in a sentence using the attention mechanism"
      ]
    },
    {
      "cell_type": "markdown",
      "id": "d281968e",
      "metadata": {
        "id": "d281968e"
      },
      "source": [
        "Here we shall make us of one of the more simpler and popular techniques: **TF-IDF**"
      ]
    },
    {
      "cell_type": "code",
      "execution_count": 25,
      "id": "64df6905",
      "metadata": {
        "id": "64df6905"
      },
      "outputs": [],
      "source": [
        "# Import the necessary libraries\n",
        "\n",
        "import sklearn # Popular machine learning library\n",
        "from sklearn.feature_extraction.text import TfidfVectorizer # tf-idf vectorizer module"
      ]
    },
    {
      "cell_type": "code",
      "execution_count": 26,
      "id": "db855eb7",
      "metadata": {
        "id": "db855eb7"
      },
      "outputs": [],
      "source": [
        "# First we need to append data from all the sets to create an entire corpus\n",
        "\n",
        "# Create an empty array\n",
        "X = np.array([], dtype=str)\n",
        "\n",
        "# Append text from all the splits to the empty array\n",
        "X = np.append(X, df_train[\"text\"])\n",
        "X = np.append(X, df_val[\"text\"])\n",
        "X = np.append(X, df_test[\"text\"])"
      ]
    },
    {
      "cell_type": "code",
      "execution_count": 27,
      "id": "c19c9da3",
      "metadata": {
        "id": "c19c9da3"
      },
      "outputs": [],
      "source": [
        "vectorizer = TfidfVectorizer() # Load the tf-idf vectorizer from sklearn\n",
        "vectorizer = vectorizer.fit(X) # Fit the vectorizer on the entire data"
      ]
    },
    {
      "cell_type": "code",
      "execution_count": 28,
      "id": "48e90676",
      "metadata": {
        "id": "48e90676",
        "colab": {
          "base_uri": "https://localhost:8080/"
        },
        "outputId": "0da77443-e88f-4991-eecc-d527ebc5a618"
      },
      "outputs": [
        {
          "output_type": "stream",
          "name": "stdout",
          "text": [
            "Number of terms in the vocabulary = 1928\n"
          ]
        }
      ],
      "source": [
        "# Extract the vocabulary from the vectorizer\n",
        "vocab = vectorizer.vocabulary_\n",
        "print(f\"Number of terms in the vocabulary = {len(vocab)}\")"
      ]
    },
    {
      "cell_type": "markdown",
      "id": "57f2b841",
      "metadata": {
        "id": "57f2b841"
      },
      "source": [
        "This means that there are 1928 unique tokens in our data set"
      ]
    },
    {
      "cell_type": "code",
      "execution_count": 29,
      "id": "1bbcc1ca",
      "metadata": {
        "id": "1bbcc1ca",
        "colab": {
          "base_uri": "https://localhost:8080/"
        },
        "outputId": "fa01f664-7e1e-41c5-a7b8-a7bd6d662187"
      },
      "outputs": [
        {
          "output_type": "stream",
          "name": "stdout",
          "text": [
            "Sample Mapping\n",
            "symptomat => 1654\n",
            "patient => 1263\n",
            "got => 743\n",
            "vaccin => 1797\n",
            "die => 511\n"
          ]
        }
      ],
      "source": [
        "# Display a sample of the word => value mapping\n",
        "print(\"Sample Mapping\")\n",
        "for idx, ele in enumerate(zip(vocab.keys(), vocab.values())):\n",
        "    word, val = ele\n",
        "    print(f\"{word} => {val}\")\n",
        "    if idx == 4: break"
      ]
    },
    {
      "cell_type": "markdown",
      "id": "1b059423",
      "metadata": {
        "id": "1b059423"
      },
      "source": [
        "Now let's use the fitted vectorizer to transform the text in each data split into a sparsely populated matrix (Sparsely populated matrix because not every text contains the entire vocabulary but a small subset of it)."
      ]
    },
    {
      "cell_type": "code",
      "execution_count": 30,
      "id": "c3cc0162",
      "metadata": {
        "id": "c3cc0162"
      },
      "outputs": [],
      "source": [
        "# Transform the text for each data split and store it in a variable\n",
        "X_train = vectorizer.transform(df_train[\"text\"]).toarray()\n",
        "X_val= vectorizer.transform(df_val[\"text\"]).toarray()\n",
        "X_test = vectorizer.transform(df_test[\"text\"]).toarray()"
      ]
    },
    {
      "cell_type": "code",
      "execution_count": 31,
      "id": "79db6b21",
      "metadata": {
        "id": "79db6b21",
        "colab": {
          "base_uri": "https://localhost:8080/"
        },
        "outputId": "bf47e95a-f9e1-4376-d5db-fc578b204927"
      },
      "outputs": [
        {
          "output_type": "stream",
          "name": "stdout",
          "text": [
            "[[0. 0. 0. ... 0. 0. 0.]\n",
            " [0. 0. 0. ... 0. 0. 0.]\n",
            " [0. 0. 0. ... 0. 0. 0.]\n",
            " ...\n",
            " [0. 0. 0. ... 0. 0. 0.]\n",
            " [0. 0. 0. ... 0. 0. 0.]\n",
            " [0. 0. 0. ... 0. 0. 0.]]\n"
          ]
        }
      ],
      "source": [
        "print(X_train) # The vector representation also known as a tf-idf matrix"
      ]
    },
    {
      "cell_type": "markdown",
      "id": "190ae7a3",
      "metadata": {
        "id": "190ae7a3"
      },
      "source": [
        "## **Label Encoding**"
      ]
    },
    {
      "cell_type": "markdown",
      "id": "15fd969c",
      "metadata": {
        "id": "15fd969c"
      },
      "source": [
        "Similar to the text representation technique for input data, we also need a way to represent the target labels (for prediction).\n",
        "\n",
        "Some popular label encoding techniques are:\n",
        "1. Ordinal Encoding: Assigns a unique integer value to each category based on its order or rank\n",
        "2. One-Hot Encoding: Creates a binary variable for each category, with a value of 1 for its corresponding category and 0 for all others\n",
        "3. Binary Encoding: Similar to one-hot encoding, but uses binary values instead of 1s and 0s to reduce the number of variables required\n",
        "4. Frequency Encoding: Assigns a numerical value to each category based on its frequency in the dataset\n",
        "5. Target Encoding: Assigns a numerical value to each category based on the average of the target variable for that category"
      ]
    },
    {
      "cell_type": "markdown",
      "id": "e39e883f",
      "metadata": {
        "id": "e39e883f"
      },
      "source": [
        "The labels in the dataset are already encoded using the Ordinal Encoding technique i.e. they exist as unique integers (0, 1, 2, 3). Let's proceed with this representation."
      ]
    },
    {
      "cell_type": "code",
      "execution_count": 32,
      "id": "40a05e58",
      "metadata": {
        "id": "40a05e58"
      },
      "outputs": [],
      "source": [
        "# Extract the labels for each data split and store it in a variable\n",
        "y_train = df_train[\"label\"].to_numpy()\n",
        "y_val = df_val[\"label\"].to_numpy()\n",
        "y_test = df_test[\"label\"].to_numpy()"
      ]
    },
    {
      "cell_type": "markdown",
      "id": "480b61fe",
      "metadata": {
        "id": "480b61fe"
      },
      "source": [
        "\n",
        "## **Predictive Models**\n",
        "Now let's try different machine learning algorithms to predict our output labels from the text data. We'll be using the SKLearn implementations of the algorithms from Sci-kit learn package: https://scikit-learn.org/stable/."
      ]
    },
    {
      "cell_type": "markdown",
      "id": "83f9bfb7",
      "metadata": {
        "id": "83f9bfb7"
      },
      "source": [
        "### Logistic Regression"
      ]
    },
    {
      "cell_type": "markdown",
      "id": "1a459c30",
      "metadata": {
        "id": "1a459c30"
      },
      "source": [
        "Logistic Regression is a statistical technique used to model the relationship between a binary dependent variable and one or more independent variables. It estimates the probability of occurrence of a binary event based on the given set of independent variables. It uses a sigmoid function to map any real-valued input to a probability value between 0 and 1."
      ]
    },
    {
      "cell_type": "code",
      "execution_count": 33,
      "id": "7aff4dad",
      "metadata": {
        "id": "7aff4dad"
      },
      "outputs": [],
      "source": [
        "# Import the necessary libraries\n",
        "\n",
        "from sklearn.linear_model import LogisticRegression # Logistic Regression Model\n",
        "from sklearn.metrics import classification_report # Module to calculate performance metrics\n",
        "from sklearn.metrics import confusion_matrix # Module to calculate the confusion matrix\n",
        "from sklearn.metrics import ConfusionMatrixDisplay # Module to display the confusion matrix\n",
        "\n",
        "import matplotlib.pyplot as plt # Module to help draw the confusion matrix"
      ]
    },
    {
      "cell_type": "code",
      "execution_count": 34,
      "id": "d695178a",
      "metadata": {
        "id": "d695178a",
        "colab": {
          "base_uri": "https://localhost:8080/"
        },
        "outputId": "1e850cfd-f3b0-40a5-9613-88ad9337123a"
      },
      "outputs": [
        {
          "output_type": "stream",
          "name": "stdout",
          "text": [
            "Accuracy = 77.52 %\n",
            "Weighted Avg F1-score = 0.7622\n"
          ]
        }
      ],
      "source": [
        "# Load the model\n",
        "lr_model = LogisticRegression()\n",
        "\n",
        "# Fit the model\n",
        "lr_model.fit(X=X_train, y=y_train)\n",
        "\n",
        "# Obtain the predictions for the validation data\n",
        "pred_val = lr_model.predict(X_val)\n",
        "\n",
        "# Get the classification report for the prediction\n",
        "# It is a dictionary that contains various metrics and their values\n",
        "# We choose accuracy and weighted average f1-score as our metrics of choice\n",
        "results = classification_report(y_true=y_val, y_pred=pred_val, output_dict=True, zero_division=0) # Use zero_devision to control warnings\n",
        "\n",
        "print(f\"Accuracy = {results['accuracy']*100:>.2f} %\")\n",
        "print(f\"Weighted Avg F1-score = {results['weighted avg']['f1-score']:>.4f}\")"
      ]
    },
    {
      "cell_type": "code",
      "execution_count": 35,
      "id": "5a3f4882",
      "metadata": {
        "id": "5a3f4882",
        "colab": {
          "base_uri": "https://localhost:8080/",
          "height": 449
        },
        "outputId": "f564dfdf-76f8-4568-9e36-a8a13cfcfa30"
      },
      "outputs": [
        {
          "output_type": "display_data",
          "data": {
            "text/plain": [
              "<Figure size 640x480 with 2 Axes>"
            ],
            "image/png": "[encoded data removed]"
          },
          "metadata": {}
        }
      ],
      "source": [
        "# Obtain the confusion matrix\n",
        "cm = confusion_matrix(y_val, pred_val)\n",
        "\n",
        "# Uncomment the following line to just print the matrix to the standard output\n",
        "# print(cm)\n",
        "\n",
        "cm_display = ConfusionMatrixDisplay(cm) # Initiate a ConfusionMatrixDisplay object\n",
        "cm_display.plot() # Plot the object\n",
        "plt.show() # Display the plot"
      ]
    },
    {
      "cell_type": "markdown",
      "id": "f0e0a1d0",
      "metadata": {
        "id": "f0e0a1d0"
      },
      "source": [
        "### Decision Tree"
      ]
    },
    {
      "cell_type": "markdown",
      "id": "bf453c68",
      "metadata": {
        "id": "bf453c68"
      },
      "source": [
        "A decision tree model is a type of supervised learning algorithm used to solve both classification and regression problems. It splits the dataset into smaller subsets based on the most significant features of the data, recursively creating a tree structure until a leaf node (a final decision) is reached."
      ]
    },
    {
      "cell_type": "code",
      "execution_count": 36,
      "id": "87e290fa",
      "metadata": {
        "id": "87e290fa"
      },
      "outputs": [],
      "source": [
        "# Import the necessary libraries\n",
        "\n",
        "from sklearn.tree import DecisionTreeClassifier # Decision Tree Model for Classification"
      ]
    },
    {
      "cell_type": "code",
      "execution_count": 37,
      "id": "04a46b50",
      "metadata": {
        "id": "04a46b50",
        "colab": {
          "base_uri": "https://localhost:8080/"
        },
        "outputId": "8a62b99b-7155-4c43-cdbe-5253c03774b4"
      },
      "outputs": [
        {
          "output_type": "stream",
          "name": "stdout",
          "text": [
            "Accuracy = 79.19 %\n",
            "Weighted Avg F1-score = 0.7904\n"
          ]
        }
      ],
      "source": [
        "# Load the model\n",
        "dt_model = DecisionTreeClassifier()\n",
        "\n",
        "# Fit the model\n",
        "dt_model.fit(X=X_train, y=y_train)\n",
        "\n",
        "# Obtain the predictions for the validation data\n",
        "pred_val = dt_model.predict(X_val)\n",
        "\n",
        "# Get the classification report for the prediction\n",
        "# It is a dictionary that contains various metrics and their values\n",
        "# We choose accuracy and weighted average f1-score as our metrics of choice\n",
        "results = classification_report(y_true=y_val, y_pred=pred_val, output_dict=True, zero_division=0) # Use zero_devision to control warnings\n",
        "\n",
        "print(f\"Accuracy = {results['accuracy']*100:>.2f} %\")\n",
        "print(f\"Weighted Avg F1-score = {results['weighted avg']['f1-score']:>.4f}\")"
      ]
    },
    {
      "cell_type": "code",
      "execution_count": 38,
      "id": "e5249f4a",
      "metadata": {
        "id": "e5249f4a",
        "colab": {
          "base_uri": "https://localhost:8080/",
          "height": 453
        },
        "outputId": "1c5f5ae3-0671-40fe-c74d-0215d8e0a4ea"
      },
      "outputs": [
        {
          "output_type": "display_data",
          "data": {
            "text/plain": [
              "<Figure size 640x480 with 2 Axes>"
            ],
            "image/png": "[encoded data removed]"
          },
          "metadata": {}
        }
      ],
      "source": [
        "# Obtain the confusion matrix\n",
        "cm = confusion_matrix(y_val, pred_val)\n",
        "\n",
        "# Uncomment the following line to just print the matrix to the standard output\n",
        "# print(cm)\n",
        "\n",
        "cm_display = ConfusionMatrixDisplay(cm) # Initiate a ConfusionMatrixDisplay object\n",
        "cm_display.plot() # Plot the object\n",
        "plt.show() # Display the plot"
      ]
    },
    {
      "cell_type": "markdown",
      "source": [
        "### Support Vector Machine"
      ],
      "metadata": {
        "id": "1zFml8TM2F6H"
      },
      "id": "1zFml8TM2F6H"
    },
    {
      "cell_type": "markdown",
      "source": [
        "Support Vector Machine (SVM) are a type of supervised learning algorithm used for classification, regression, and outlier detection. They find a hyperplane that separates classes in a high-dimensional space by maximizing the margin between the two classes."
      ],
      "metadata": {
        "id": "AV-5DMaT2LDm"
      },
      "id": "AV-5DMaT2LDm"
    },
    {
      "cell_type": "code",
      "execution_count": 39,
      "id": "11798177",
      "metadata": {
        "id": "11798177"
      },
      "outputs": [],
      "source": [
        "# Import the necessary libraries\n",
        "\n",
        "from sklearn.svm import SVC # Support Vector Machine for Classification"
      ]
    },
    {
      "cell_type": "code",
      "source": [
        "# Load the model\n",
        "svc_model = SVC()\n",
        "\n",
        "# Fit the model\n",
        "svc_model.fit(X=X_train, y=y_train)\n",
        "\n",
        "# Obtain the predictions for the validation data\n",
        "pred_val = svc_model.predict(X_val)\n",
        "\n",
        "# Get the classification report for the prediction\n",
        "# It is a dictionary that contains various metrics and their values\n",
        "# We choose accuracy and weighted average f1-score as our metrics of choice\n",
        "results = classification_report(y_true=y_val, y_pred=pred_val, output_dict=True, zero_division=0) # Use zero_devision to control warnings\n",
        "\n",
        "print(f\"Accuracy = {results['accuracy']*100:>.2f} %\")\n",
        "print(f\"Weighted Avg F1-score = {results['weighted avg']['f1-score']:>.4f}\")"
      ],
      "metadata": {
        "id": "zIIBIf6u3vTP",
        "colab": {
          "base_uri": "https://localhost:8080/"
        },
        "outputId": "eb317d0c-a488-4063-e33e-2c738f1c4604"
      },
      "id": "zIIBIf6u3vTP",
      "execution_count": 40,
      "outputs": [
        {
          "output_type": "stream",
          "name": "stdout",
          "text": [
            "Accuracy = 78.52 %\n",
            "Weighted Avg F1-score = 0.7714\n"
          ]
        }
      ]
    },
    {
      "cell_type": "code",
      "source": [
        "# Obtain the confusion matrix\n",
        "cm = confusion_matrix(y_val, pred_val)\n",
        "\n",
        "# Uncomment the following line to just print the matrix to the standard output\n",
        "# print(cm)\n",
        "\n",
        "cm_display = ConfusionMatrixDisplay(cm) # Initiate a ConfusionMatrixDisplay object\n",
        "cm_display.plot() # Plot the object\n",
        "plt.show() # Display the plot"
      ],
      "metadata": {
        "id": "wjug_zwn30yG",
        "colab": {
          "base_uri": "https://localhost:8080/",
          "height": 449
        },
        "outputId": "9477007d-7d42-4910-9574-b39a5c39f3ee"
      },
      "id": "wjug_zwn30yG",
      "execution_count": 41,
      "outputs": [
        {
          "output_type": "display_data",
          "data": {
            "text/plain": [
              "<Figure size 640x480 with 2 Axes>"
            ],
            "image/png": "[encoded data removed]"
          },
          "metadata": {}
        }
      ]
    },
    {
      "cell_type": "markdown",
      "source": [
        "## **Model Comparison**"
      ],
      "metadata": {
        "id": "Nr1YEskO4YiT"
      },
      "id": "Nr1YEskO4YiT"
    },
    {
      "cell_type": "markdown",
      "source": [
        "### Testing Data"
      ],
      "metadata": {
        "id": "r2tTIgJT4tGM"
      },
      "id": "r2tTIgJT4tGM"
    },
    {
      "cell_type": "markdown",
      "source": [
        "After training the models using the training set and validating them during training using validation set, now we compare the models using the testing set."
      ],
      "metadata": {
        "id": "zif3LPBt4dtP"
      },
      "id": "zif3LPBt4dtP"
    },
    {
      "cell_type": "code",
      "source": [
        "print(\"Model \\t Accuracy \\t Weighted Avg F1-score\")\n",
        "print(\"-----------------------------------------------\")\n",
        "\n",
        "# Logistic Regression\n",
        "pred_test = lr_model.predict(X_test)\n",
        "results = classification_report(y_true=y_test, y_pred=pred_test, output_dict=True, zero_division=0)\n",
        "print(f\"LR \\t {results['accuracy']*100:>.2f} % \\t {results['weighted avg']['f1-score']:>.4f}\")\n",
        "\n",
        "# Decision Tree\n",
        "pred_test = dt_model.predict(X_test)\n",
        "results = classification_report(y_true=y_test, y_pred=pred_test, output_dict=True, zero_division=0)\n",
        "print(f\"DT \\t {results['accuracy']*100:>.2f} % \\t {results['weighted avg']['f1-score']:>.4f}\")\n",
        "\n",
        "# Support Vector Machine\n",
        "pred_test = svc_model.predict(X_test)\n",
        "results = classification_report(y_true=y_test, y_pred=pred_test, output_dict=True, zero_division=0)\n",
        "print(f\"SVM \\t {results['accuracy']*100:>.2f} % \\t {results['weighted avg']['f1-score']:>.4f}\")"
      ],
      "metadata": {
        "id": "I4-ZDFKA36rr",
        "colab": {
          "base_uri": "https://localhost:8080/"
        },
        "outputId": "36a9c93a-5c32-46ce-d3c8-dec63ffa17d4"
      },
      "id": "I4-ZDFKA36rr",
      "execution_count": 42,
      "outputs": [
        {
          "output_type": "stream",
          "name": "stdout",
          "text": [
            "Model \t Accuracy \t Weighted Avg F1-score\n",
            "-----------------------------------------------\n",
            "LR \t 75.42 % \t 0.7290\n",
            "DT \t 77.52 % \t 0.7728\n",
            "SVM \t 76.63 % \t 0.7450\n"
          ]
        }
      ]
    },
    {
      "cell_type": "markdown",
      "source": [
        "We can observe that the Decision tree model performs the best for our data set (F1-score = 0.77). One caveat with DT is that they might overfit the input data."
      ],
      "metadata": {
        "id": "4hd8IlfRzexk"
      },
      "id": "4hd8IlfRzexk"
    },
    {
      "cell_type": "markdown",
      "source": [
        "### Cross Validation"
      ],
      "metadata": {
        "id": "Oz8Y7aeA8jPL"
      },
      "id": "Oz8Y7aeA8jPL"
    },
    {
      "cell_type": "markdown",
      "source": [
        "Cross-validation is a statistical method used to assess and evaluate how well a machine learning model generalizes to new data. It involves dividing the dataset into several subsets or folds, training the model on a subset, and evaluating its performance on the remaining subset. This process is repeated multiple times, with different subsets used for training and evaluation, and the results are averaged to provide an estimate of the model's performance. This makes sure that our model does not perform well on our test set by accident!"
      ],
      "metadata": {
        "id": "NYlXOCjF9R33"
      },
      "id": "NYlXOCjF9R33"
    },
    {
      "cell_type": "markdown",
      "source": [
        "Here we are going to perform K Fold cross validation with K set to 5 so that the data is split into 5 different sets."
      ],
      "metadata": {
        "id": "9rOP1Oq0_egF"
      },
      "id": "9rOP1Oq0_egF"
    },
    {
      "cell_type": "code",
      "source": [
        "# Import the necessary libraries\n",
        "\n",
        "from sklearn.model_selection import KFold # Module for k-fold cross validation"
      ],
      "metadata": {
        "id": "LpCeN8ONBmtL"
      },
      "id": "LpCeN8ONBmtL",
      "execution_count": 43,
      "outputs": []
    },
    {
      "cell_type": "code",
      "source": [
        "# Before performing cross validation we need to combine the data splits into a single entity\n",
        "\n",
        "X = np.array([], dtype=str) # Create an empty array\n",
        "\n",
        "# Append text from all the splits to the empty array\n",
        "X = np.append(X, df_train[\"text\"])\n",
        "X = np.append(X, df_val[\"text\"])\n",
        "X = np.append(X, df_test[\"text\"])\n",
        "\n",
        "print(f\"Shape of X = {X.shape}\")"
      ],
      "metadata": {
        "id": "rd-lBmBe5kVC",
        "colab": {
          "base_uri": "https://localhost:8080/"
        },
        "outputId": "d10d6b4d-ef3a-46a3-bd3c-2bc08e5b2468"
      },
      "id": "rd-lBmBe5kVC",
      "execution_count": 44,
      "outputs": [
        {
          "output_type": "stream",
          "name": "stdout",
          "text": [
            "Shape of X = (3006,)\n"
          ]
        }
      ]
    },
    {
      "cell_type": "code",
      "source": [
        "# Now we need to vectorize the texts\n",
        "X = vectorizer.transform(X)\n",
        "print(f\"Shape of X = {X.shape}\")"
      ],
      "metadata": {
        "id": "Lv5rhR0J_tfs",
        "colab": {
          "base_uri": "https://localhost:8080/"
        },
        "outputId": "102c3c50-2763-4bbf-a775-a56897b22329"
      },
      "id": "Lv5rhR0J_tfs",
      "execution_count": 45,
      "outputs": [
        {
          "output_type": "stream",
          "name": "stdout",
          "text": [
            "Shape of X = (3006, 1928)\n"
          ]
        }
      ]
    },
    {
      "cell_type": "code",
      "source": [
        "# Combine all the labels\n",
        "\n",
        "y = np.array([]) # Create an empty array\n",
        "\n",
        "# Append labels from all the splits to the empty array\n",
        "y = np.append(y, df_train[\"label\"])\n",
        "y = np.append(y, df_val[\"label\"])\n",
        "y = np.append(y, df_test[\"label\"])\n",
        "\n",
        "print(f\"Shape of y = {y.shape}\")"
      ],
      "metadata": {
        "id": "cgtPEkHoCRN4",
        "colab": {
          "base_uri": "https://localhost:8080/"
        },
        "outputId": "8f51a1f8-8dc3-45a2-cca1-cc8bc5443f5b"
      },
      "id": "cgtPEkHoCRN4",
      "execution_count": 46,
      "outputs": [
        {
          "output_type": "stream",
          "name": "stdout",
          "text": [
            "Shape of y = (3006,)\n"
          ]
        }
      ]
    },
    {
      "cell_type": "code",
      "source": [
        "# Initialize a KFold object, let's use 5 splits\n",
        "cross_val = KFold(n_splits=5, shuffle=True, random_state=42)"
      ],
      "metadata": {
        "id": "k6GNpvOp_x8N"
      },
      "id": "k6GNpvOp_x8N",
      "execution_count": 47,
      "outputs": []
    },
    {
      "cell_type": "code",
      "source": [
        "print(\"Model \\t Accuracy \\t Weighted Avg F1-score\")\n",
        "print(\"-----------------------------------------------\")\n",
        "\n",
        "\n",
        "\n",
        "# Logistic Regression\n",
        "pred = np.array([]) # Create an empty array to store the predictions\n",
        "targets = np.array([]) # Create an empty array to store the targets\n",
        "\n",
        "for train_idx, test_idx in cross_val.split(X): # Iterate over each split\n",
        "    # Extract the train and test data for the current split\n",
        "    X_train, X_test = X[train_idx], X[test_idx]\n",
        "    y_train, y_test = y[train_idx], y[test_idx]\n",
        "\n",
        "    model = LogisticRegression() # Load the model\n",
        "    model.fit(X=X_train, y=y_train) # Fit the model\n",
        "    pred_test = model.predict(X_test) # Obtain the predictions for the validation data\n",
        "\n",
        "    # Append the predictions and targets\n",
        "    pred = np.append(pred, pred_test)\n",
        "    targets = np.append(targets, y_test)\n",
        "\n",
        "# Calculate and print the results\n",
        "results = classification_report(y_true=targets, y_pred=pred, output_dict=True, zero_division=0)\n",
        "print(f\"LR \\t {results['accuracy']*100:>.2f} % \\t {results['weighted avg']['f1-score']:>.4f}\")\n",
        "\n",
        "\n",
        "\n",
        "# Decision Tree\n",
        "pred = np.array([]) # Create an empty array to store the predictions\n",
        "targets = np.array([]) # Create an empty array to store the targets\n",
        "\n",
        "for train_idx, test_idx in cross_val.split(X): # Iterate over each split\n",
        "    # Extract the train and test data for the current split\n",
        "    X_train, X_test = X[train_idx], X[test_idx]\n",
        "    y_train, y_test = y[train_idx], y[test_idx]\n",
        "\n",
        "    model = DecisionTreeClassifier() # Load the model\n",
        "    model.fit(X=X_train, y=y_train) # Fit the model\n",
        "    pred_test = model.predict(X_test) # Obtain the predictions for the validation data\n",
        "\n",
        "    # Append the predictions and targets\n",
        "    pred = np.append(pred, pred_test)\n",
        "    targets = np.append(targets, y_test)\n",
        "\n",
        "# Calculate and print the results\n",
        "results = classification_report(y_true=targets, y_pred=pred, output_dict=True, zero_division=0)\n",
        "print(f\"DT \\t {results['accuracy']*100:>.2f} % \\t {results['weighted avg']['f1-score']:>.4f}\")\n",
        "\n",
        "\n",
        "\n",
        "# Support Vector Machine\n",
        "pred = np.array([]) # Create an empty array to store the predictions\n",
        "targets = np.array([]) # Create an empty array to store the targets\n",
        "\n",
        "for train_idx, test_idx in cross_val.split(X): # Iterate over each split\n",
        "    # Extract the train and test data for the current split\n",
        "    X_train, X_test = X[train_idx], X[test_idx]\n",
        "    y_train, y_test = y[train_idx], y[test_idx]\n",
        "\n",
        "    model = SVC() # Load the model\n",
        "    model.fit(X=X_train, y=y_train) # Fit the model\n",
        "    pred_test = model.predict(X_test) # Obtain the predictions for the validation data\n",
        "\n",
        "    # Append the predictions and targets\n",
        "    pred = np.append(pred, pred_test)\n",
        "    targets = np.append(targets, y_test)\n",
        "\n",
        "# Calculate and print the results\n",
        "results = classification_report(y_true=targets, y_pred=pred, output_dict=True, zero_division=0)\n",
        "print(f\"SVM \\t {results['accuracy']*100:>.2f} % \\t {results['weighted avg']['f1-score']:>.4f}\")"
      ],
      "metadata": {
        "id": "9S9e_FwxB93a",
        "colab": {
          "base_uri": "https://localhost:8080/"
        },
        "outputId": "81be9723-ff6d-4f58-c1a9-f7f95a6e5d3a"
      },
      "id": "9S9e_FwxB93a",
      "execution_count": 48,
      "outputs": [
        {
          "output_type": "stream",
          "name": "stdout",
          "text": [
            "Model \t Accuracy \t Weighted Avg F1-score\n",
            "-----------------------------------------------\n",
            "LR \t 77.05 % \t 0.7538\n",
            "DT \t 76.28 % \t 0.7583\n",
            "SVM \t 77.61 % \t 0.7606\n"
          ]
        }
      ]
    },
    {
      "cell_type": "markdown",
      "source": [
        "Both DT and SVM seem to exhibit comparable results (SVM probably generalises better to new unseen data!)"
      ],
      "metadata": {
        "id": "PLn5jqZ70NNc"
      },
      "id": "PLn5jqZ70NNc"
    },
    {
      "cell_type": "markdown",
      "source": [
        "## **Appendix**"
      ],
      "metadata": {
        "id": "3cHe1NzuLhND"
      },
      "id": "3cHe1NzuLhND"
    },
    {
      "cell_type": "markdown",
      "source": [
        "This section contains techniques and code that might be useful while training models for text classification. Try these on your own (and explore more)."
      ],
      "metadata": {
        "id": "7Y69Q00lLmof"
      },
      "id": "7Y69Q00lLmof"
    },
    {
      "cell_type": "markdown",
      "source": [
        "### Hyper Parameter Tuning"
      ],
      "metadata": {
        "id": "23gajU4ULv86"
      },
      "id": "23gajU4ULv86"
    },
    {
      "cell_type": "markdown",
      "source": [
        "The models we used all have various paramaters that can be tuned to various degrees and might result in varying levels of performance. Ideally we want to find the best parameters for our use case. One technique for hyper parameter tuning is called **GridSearch**. This technique runs an exhaustive search over all the parameters to find the best set."
      ],
      "metadata": {
        "id": "iA1OMn1PL6i5"
      },
      "id": "iA1OMn1PL6i5"
    },
    {
      "cell_type": "markdown",
      "source": [
        "Let's try out the GridSearch technique on the Decision Tree Model"
      ],
      "metadata": {
        "id": "MUa86mOiNEHV"
      },
      "id": "MUa86mOiNEHV"
    },
    {
      "cell_type": "code",
      "source": [
        "# Import the necessary libraries\n",
        "\n",
        "from sklearn.model_selection import GridSearchCV # Module for GridSearch"
      ],
      "metadata": {
        "id": "5zg8UtRQNq-H"
      },
      "id": "5zg8UtRQNq-H",
      "execution_count": 49,
      "outputs": []
    },
    {
      "cell_type": "code",
      "source": [
        "# Code to silence the warnings generated by GridSearch\n",
        "import warnings\n",
        "warnings.filterwarnings(\"ignore\")"
      ],
      "metadata": {
        "id": "bZmthIv-PIRz"
      },
      "id": "bZmthIv-PIRz",
      "execution_count": 50,
      "outputs": []
    },
    {
      "cell_type": "code",
      "source": [
        "# Grid Search\n",
        "\n",
        "# Define the different parameters over which the algorithm should search\n",
        "parameters = {\n",
        "    \"criterion\": [\"gini\", \"entropy\", \"log_loss\"],\n",
        "    \"splitter\": [\"best\", \"random\"],\n",
        "    \"max_features\": [\"auto\", \"sqrt\", \"log2\", None],\n",
        "}\n",
        "\n",
        "# Load the model\n",
        "model = DecisionTreeClassifier()\n",
        "\n",
        "# Initialize the GridSearch object\n",
        "grid_search = GridSearchCV(model, parameters, n_jobs=-1, scoring='f1_weighted')\n",
        "# Perform the search\n",
        "gs = grid_search.fit(X, y)\n",
        "\n",
        "# Display the best parameters\n",
        "grid_search.best_params_"
      ],
      "metadata": {
        "id": "Hf-vR2LIDlb5",
        "colab": {
          "base_uri": "https://localhost:8080/"
        },
        "outputId": "2e4fedf0-ae89-4d63-dba8-cf06e7e0bb56"
      },
      "id": "Hf-vR2LIDlb5",
      "execution_count": 51,
      "outputs": [
        {
          "output_type": "execute_result",
          "data": {
            "text/plain": [
              "{'criterion': 'entropy', 'max_features': None, 'splitter': 'random'}"
            ]
          },
          "metadata": {},
          "execution_count": 51
        }
      ]
    },
    {
      "cell_type": "markdown",
      "source": [
        "Now we shall see how this model with the fine-tuned parameters compares with the default model using cross validation"
      ],
      "metadata": {
        "id": "g6WOFsPfQFN6"
      },
      "id": "g6WOFsPfQFN6"
    },
    {
      "cell_type": "code",
      "source": [
        "# Initialize a KFold object\n",
        "cross_val = KFold(n_splits=5, shuffle=True, random_state=42)"
      ],
      "metadata": {
        "id": "gX26Bw_kNzI2"
      },
      "id": "gX26Bw_kNzI2",
      "execution_count": 52,
      "outputs": []
    },
    {
      "cell_type": "code",
      "source": [
        "print(\"Model \\t Accuracy \\t Weighted Avg F1-score\")\n",
        "print(\"-----------------------------------------------\")\n",
        "\n",
        "\n",
        "\n",
        "# Decision Tree\n",
        "pred = np.array([]) # Create an empty array to store the predictions\n",
        "targets = np.array([]) # Create an empty array to store the targets\n",
        "\n",
        "for train_idx, test_idx in cross_val.split(X): # Iterate over each split\n",
        "    # Extract the train and test data for the current split\n",
        "    X_train, X_test = X[train_idx], X[test_idx]\n",
        "    y_train, y_test = y[train_idx], y[test_idx]\n",
        "\n",
        "    model = DecisionTreeClassifier() # Load the model\n",
        "    model.fit(X=X_train, y=y_train) # Fit the model\n",
        "    pred_test = model.predict(X_test) # Obtain the predictions for the validation data\n",
        "\n",
        "    # Append the predictions and targets\n",
        "    pred = np.append(pred, pred_test)\n",
        "    targets = np.append(targets, y_test)\n",
        "\n",
        "# Calculate and print the results\n",
        "results = classification_report(y_true=targets, y_pred=pred, output_dict=True, zero_division=0)\n",
        "print(f\"DT \\t {results['accuracy']*100:>.2f} % \\t {results['weighted avg']['f1-score']:>.4f}\")\n",
        "\n",
        "\n",
        "\n",
        "# Decision Tree (tuned)\n",
        "pred = np.array([]) # Create an empty array to store the predictions\n",
        "targets = np.array([]) # Create an empty array to store the targets\n",
        "\n",
        "for train_idx, test_idx in cross_val.split(X): # Iterate over each split\n",
        "    # Extract the train and test data for the current split\n",
        "    X_train, X_test = X[train_idx], X[test_idx]\n",
        "    y_train, y_test = y[train_idx], y[test_idx]\n",
        "\n",
        "    # Load the model with the best hyper parameters\n",
        "    model = DecisionTreeClassifier(criterion=\"gini\", max_features=None, splitter=\"random\")\n",
        "    model.fit(X=X_train, y=y_train) # Fit the model\n",
        "    pred_test = model.predict(X_test) # Obtain the predictions for the validation data\n",
        "\n",
        "    # Append the predictions and targets\n",
        "    pred = np.append(pred, pred_test)\n",
        "    targets = np.append(targets, y_test)\n",
        "\n",
        "# Calculate and print the results\n",
        "results = classification_report(y_true=targets, y_pred=pred, output_dict=True, zero_division=0)\n",
        "print(f\"DTt \\t {results['accuracy']*100:>.2f} % \\t {results['weighted avg']['f1-score']:>.4f}\")"
      ],
      "metadata": {
        "id": "pQ7Y5_XzQUKr",
        "colab": {
          "base_uri": "https://localhost:8080/"
        },
        "outputId": "a1991a21-e79d-4872-caba-eb030dcc52e0"
      },
      "id": "pQ7Y5_XzQUKr",
      "execution_count": 53,
      "outputs": [
        {
          "output_type": "stream",
          "name": "stdout",
          "text": [
            "Model \t Accuracy \t Weighted Avg F1-score\n",
            "-----------------------------------------------\n",
            "DT \t 76.15 % \t 0.7570\n",
            "DTt \t 76.25 % \t 0.7586\n"
          ]
        }
      ]
    },
    {
      "cell_type": "markdown",
      "source": [
        "We have improved the decision tree model's performance by tuning its hyper parameters. Try others on your own!"
      ],
      "metadata": {
        "id": "iwHtHSXpSlJ4"
      },
      "id": "iwHtHSXpSlJ4"
    },
    {
      "cell_type": "code",
      "source": [],
      "metadata": {
        "id": "eewpidzLxuQ6"
      },
      "id": "eewpidzLxuQ6",
      "execution_count": 53,
      "outputs": []
    }
  ],
  "metadata": {
    "kernelspec": {
      "display_name": "Python 3 (ipykernel)",
      "language": "python",
      "name": "python3"
    },
    "language_info": {
      "codemirror_mode": {
        "name": "ipython",
        "version": 3
      },
      "file_extension": ".py",
      "mimetype": "text/x-python",
      "name": "python",
      "nbconvert_exporter": "python",
      "pygments_lexer": "ipython3",
      "version": "3.11.2"
    },
    "colab": {
      "provenance": []
    }
  },
  "nbformat": 4,
  "nbformat_minor": 5
}