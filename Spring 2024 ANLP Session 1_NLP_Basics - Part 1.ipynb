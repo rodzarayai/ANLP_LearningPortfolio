{
 "cells": [
  {
   "cell_type": "markdown",
   "metadata": {
    "id": "bFZV-SOzr6vq"
   },
   "source": [
    "# tinyurl.com/ANLPcolab1\n",
    "\n"
   ]
  },
  {
   "cell_type": "markdown",
   "metadata": {
    "id": "8AhFOUj6iCWG"
   },
   "source": [
    "# Basics of Natural Language Processing (NLP) #\n",
    "\n",
    "*CoLab Tutorial*\n",
    "\n",
    "This notebook demonstrates some basic NLP tasks to get you started on text analysis.\n",
    "\n",
    "Run each block one by one in order of occurence to get the results. Have a play with the cells by editing the code and examining the new output(s)."
   ]
  },
  {
   "cell_type": "markdown",
   "metadata": {
    "id": "fxBFGZ8DadFp"
   },
   "source": [
    "# Run this code in the beginning to limit the output size of the cells\n",
    "\n",
    "This is just an initial set up to make sure our cells are displayed properly"
   ]
  },
  {
   "cell_type": "code",
   "execution_count": 1,
   "metadata": {
    "executionInfo": {
     "elapsed": 3,
     "status": "ok",
     "timestamp": 1723522407118,
     "user": {
      "displayName": "Rodrigo Araya",
      "userId": "15064802547271996259"
     },
     "user_tz": -600
    },
    "id": "8HBE7ck1XPX_"
   },
   "outputs": [],
   "source": [
    "from IPython.display import display, Javascript\n",
    "\n",
    "def resize_colab_cell():\n",
    "  # Change the maxHeight variable to change the max height of the output\n",
    "   display(Javascript('google.colab.output.setIframeHeight(0, true, {maxHeight: 400})'))\n",
    "  #Change output size for the entire notebook (set to call function on cell run)\n",
    "   get_ipython().events.register('pre_run_cell', resize_colab_cell)"
   ]
  },
  {
   "cell_type": "markdown",
   "metadata": {
    "id": "jT3X0RuyndZi"
   },
   "source": [
    "## 1. Input Text\n",
    "\n",
    "There are many ways we can provide an input text for analysis. We will go through three ways in this notebook\n",
    "\n",
    "\n",
    "1.   Define input text in a variable\n",
    "2.   Scrape text from a web source\n",
    "3.   Read from a file\n",
    "\n",
    "Defining input text in a variable and scraping text from a web source will be demonstrated in class.\n",
    "\n",
    "To get started, we provide a sample text for analysis. We analyse the **components of the text** to teach the machine to make sense of it.\n"
   ]
  },
  {
   "cell_type": "code",
   "execution_count": 2,
   "metadata": {
    "colab": {
     "base_uri": "https://localhost:8080/"
    },
    "executionInfo": {
     "elapsed": 2,
     "status": "ok",
     "timestamp": 1723522407118,
     "user": {
      "displayName": "Rodrigo Araya",
      "userId": "15064802547271996259"
     },
     "user_tz": -600
    },
    "id": "z_GujJQgg8Qn",
    "outputId": "ee92fdf2-230f-4512-b79d-7ce85ded942a"
   },
   "outputs": [
    {
     "name": "stdout",
     "output_type": "stream",
     "text": [
      "Have we reached (hu)man-machine symbiosis where we do not simply use technology but are enmeshed with technology in “socio-cyborgian activity systems,” as Bazerman notes?\n",
      "\n",
      "While we are certainly in an age where technology plays an increasingly important role in our daily lives, we have not yet fully reached a state of human-machine symbiosis. However, there are certainly elements of symbiosis that can be seen in certain domains.\n",
      "\n",
      "For example, in some professions such as medicine or aviation, technology plays an integral role in supporting human decision-making and action. In these domains, technology and humans work together to achieve a common goal, and the relationship between the two can be seen as a kind of symbiosis.\n",
      "\n",
      "However, in other domains such as social media or gaming, the relationship between humans and technology is more complex and often less symbiotic. In these domains, technology can sometimes be seen as a distraction or even a hindrance to human activity, rather than a support.\n",
      "\n",
      "Overall, while the relationship between humans and technology is undoubtedly becoming more intertwined, it is still evolving and we have not yet reached a full state of symbiosis in all areas of our lives\n"
     ]
    }
   ],
   "source": [
    "# Assign text (in the form of a multiline string) to a variable 'mytext'\n",
    "\n",
    "mytext = \"\"\"\n",
    "Have we reached (hu)man-machine symbiosis where we do not simply use technology but are enmeshed with technology in “socio-cyborgian activity systems,” as Bazerman notes?\n",
    "\n",
    "While we are certainly in an age where technology plays an increasingly important role in our daily lives, we have not yet fully reached a state of human-machine symbiosis. However, there are certainly elements of symbiosis that can be seen in certain domains.\n",
    "\n",
    "For example, in some professions such as medicine or aviation, technology plays an integral role in supporting human decision-making and action. In these domains, technology and humans work together to achieve a common goal, and the relationship between the two can be seen as a kind of symbiosis.\n",
    "\n",
    "However, in other domains such as social media or gaming, the relationship between humans and technology is more complex and often less symbiotic. In these domains, technology can sometimes be seen as a distraction or even a hindrance to human activity, rather than a support.\n",
    "\n",
    "Overall, while the relationship between humans and technology is undoubtedly becoming more intertwined, it is still evolving and we have not yet reached a full state of symbiosis in all areas of our lives\n",
    "\"\"\".strip()\n",
    "\n",
    "# Check if the variable contains the intended text\n",
    "print(mytext)"
   ]
  },
  {
   "cell_type": "markdown",
   "metadata": {
    "id": "TMeVOWZ2udAM"
   },
   "source": [
    "Check out what happens when you don't use \" \" \"  for multi-line texts. Learn more about Python strings here and try different inputs: https://www.w3schools.com/python/python_strings.asp"
   ]
  },
  {
   "cell_type": "markdown",
   "metadata": {
    "id": "PnRqbRfLzq-k"
   },
   "source": [
    "### Using web scraping"
   ]
  },
  {
   "cell_type": "markdown",
   "metadata": {
    "id": "5rWTYRGO6x30"
   },
   "source": [
    "The following code demonstrates the use of a web scraping library called BeautifulSoup . You may try different Web scraping methods from [here](https://realpython.com/python-web-scraping-practical-introduction/) if you are interested, but the code shows a simple example to extract data from a web page using the page's HTML tags and attributes."
   ]
  },
  {
   "cell_type": "code",
   "execution_count": 3,
   "metadata": {
    "colab": {
     "base_uri": "https://localhost:8080/",
     "height": 634
    },
    "executionInfo": {
     "elapsed": 11119,
     "status": "error",
     "timestamp": 1723522418236,
     "user": {
      "displayName": "Rodrigo Araya",
      "userId": "15064802547271996259"
     },
     "user_tz": -600
    },
    "id": "oBu9Dk8tIJwA",
    "outputId": "1f7679ae-ab83-4790-8715-43e8d2f1f3d0",
    "tags": []
   },
   "outputs": [
    {
     "name": "stdout",
     "output_type": "stream",
     "text": [
      "Page Title: 36118 Applied Natural Language Processing\n",
      "Subject Code: 36118\n",
      "Subject Name: Applied Natural Language Processing\n",
      "Subject Description: This subject introduces students to the complexities of human language data and the use of Natural Language Processing (NLP) and text mining techniques to analyse them. Students develop both technical and communicative skills to process and interpret unstructured textual data with a range of practical applications. Covering core NLP concepts and the latest developments in large language models, the course equips students with skills for insightful pattern discovery in natural language text, while emphasising ethical considerations.\n"
     ]
    }
   ],
   "source": [
    "import requests\n",
    "from bs4 import BeautifulSoup\n",
    "\n",
    "# Send a GET request to the website\n",
    "response = requests.get('https://handbook.uts.edu.au/subjects/details/36118.html')\n",
    "\n",
    "# Parse the HTML content of the page\n",
    "soup = BeautifulSoup(response.text, 'html.parser')\n",
    "#The above line creates a BeautifulSoup object from the HTML content of the response. It uses the 'html.parser' to parse the HTML\n",
    "\n",
    "# Find the required information using HTML tags and attributes\n",
    "title = soup.find_all('h1')[0].text  # finds all <h1> tags in the HTML and takes the text of the first one (index 0) - assumed to be the title of the page\n",
    "subject_code = title.split(' ')[0]  # splits the title by spaces and takes the first part, assuming it is the subject code\n",
    "subject_name = ' '.join(title.split(' ')[1:])  #takes all parts of the title after the first space and joins them back together, assuming this is the subject name\n",
    "subject_description = soup.h3.next_sibling.next_sibling.next_element.text #This line is more complex - It starts from the first <h3> tag in the document. It then moves to the next sibling twice (.next_sibling.next_sibling). Finally, it gets the next element and its text. This assumes that the subject description is located two siblings after an <h3> tag.\n",
    "\n",
    "# Print the scraped information\n",
    "print(f\"Page Title: {title}\")\n",
    "print(f\"Subject Code: {subject_code}\")\n",
    "print(f\"Subject Name: {subject_name}\")\n",
    "print(f\"Subject Description: {subject_description}\")"
   ]
  },
  {
   "cell_type": "markdown",
   "metadata": {
    "id": "vSrrTGBryVIU"
   },
   "source": [
    "Note: This code assumes a very specific HTML structure. If the structure changes, the code might break. For more robust parsing, you might want to use more specific selectors (like IDs or classes) if they're available in the HTML, or add error handling to deal with cases where the expected structure isn't found."
   ]
  },
  {
   "cell_type": "markdown",
   "metadata": {
    "id": "b80-n7nUzKoL"
   },
   "source": [
    "### Text representation"
   ]
  },
  {
   "cell_type": "markdown",
   "metadata": {
    "id": "Lt8UK74sjgqn"
   },
   "source": [
    "Low level computer representations of text do not equate to simple human understandings of text. A simple illustration can be seen by how much difference it makes to distinguish between words, sentences and paragraphs.\n",
    "\n",
    "*This is a sample sentence I wrote*\n",
    "\n",
    "Notice that as this is just a **string** of characters, it doesn't include any of the normal formatting that we associate with text.\n",
    "To make it more readable, we can display the text as HTML in the output of the cell - the browser will parse it in a way that makes it easier to see the whole text. This is basic text visualisation in the browser."
   ]
  },
  {
   "cell_type": "code",
   "execution_count": 4,
   "metadata": {
    "executionInfo": {
     "elapsed": 3,
     "status": "aborted",
     "timestamp": 1723522418237,
     "user": {
      "displayName": "Rodrigo Araya",
      "userId": "15064802547271996259"
     },
     "user_tz": -600
    },
    "id": "9s5E5xBWh28_"
   },
   "outputs": [
    {
     "data": {
      "text/html": [
       "Have we reached (hu)man-machine symbiosis where we do not simply use technology but are enmeshed with technology in “socio-cyborgian activity systems,” as Bazerman notes?\n",
       "\n",
       "While we are certainly in an age where technology plays an increasingly important role in our daily lives, we have not yet fully reached a state of human-machine symbiosis. However, there are certainly elements of symbiosis that can be seen in certain domains.\n",
       "\n",
       "For example, in some professions such as medicine or aviation, technology plays an integral role in supporting human decision-making and action. In these domains, technology and humans work together to achieve a common goal, and the relationship between the two can be seen as a kind of symbiosis.\n",
       "\n",
       "However, in other domains such as social media or gaming, the relationship between humans and technology is more complex and often less symbiotic. In these domains, technology can sometimes be seen as a distraction or even a hindrance to human activity, rather than a support.\n",
       "\n",
       "Overall, while the relationship between humans and technology is undoubtedly becoming more intertwined, it is still evolving and we have not yet reached a full state of symbiosis in all areas of our lives"
      ],
      "text/plain": [
       "<IPython.core.display.HTML object>"
      ]
     },
     "execution_count": 4,
     "metadata": {},
     "output_type": "execute_result"
    }
   ],
   "source": [
    "# import display.HTML and use it display the text as HTML\n",
    "from IPython.display import HTML\n",
    "HTML(mytext)"
   ]
  },
  {
   "cell_type": "markdown",
   "metadata": {
    "id": "1lU5LtTUkRJd"
   },
   "source": [
    "\n",
    "We could make it more readable still by turning the text into a list of paragraphs and displaying each with a space between."
   ]
  },
  {
   "cell_type": "code",
   "execution_count": 5,
   "metadata": {
    "executionInfo": {
     "elapsed": 2,
     "status": "aborted",
     "timestamp": 1723522418237,
     "user": {
      "displayName": "Rodrigo Araya",
      "userId": "15064802547271996259"
     },
     "user_tz": -600
    },
    "id": "3TrJN19UkrF-"
   },
   "outputs": [
    {
     "data": {
      "text/html": [
       "<p>Have we reached (hu)man-machine symbiosis where we do not simply use technology but are enmeshed with technology in “socio-cyborgian activity systems,” as Bazerman notes?</p></br><p></p></br><p>While we are certainly in an age where technology plays an increasingly important role in our daily lives, we have not yet fully reached a state of human-machine symbiosis. However, there are certainly elements of symbiosis that can be seen in certain domains.</p></br><p></p></br><p>For example, in some professions such as medicine or aviation, technology plays an integral role in supporting human decision-making and action. In these domains, technology and humans work together to achieve a common goal, and the relationship between the two can be seen as a kind of symbiosis.</p></br><p></p></br><p>However, in other domains such as social media or gaming, the relationship between humans and technology is more complex and often less symbiotic. In these domains, technology can sometimes be seen as a distraction or even a hindrance to human activity, rather than a support.</p></br><p></p></br><p>Overall, while the relationship between humans and technology is undoubtedly becoming more intertwined, it is still evolving and we have not yet reached a full state of symbiosis in all areas of our lives</p>"
      ],
      "text/plain": [
       "<IPython.core.display.HTML object>"
      ]
     },
     "execution_count": 5,
     "metadata": {},
     "output_type": "execute_result"
    }
   ],
   "source": [
    "# create a list of paragraphs\n",
    "\n",
    "mytext_paras = mytext.split('\\n')\n",
    "\n",
    "# wrap each paragraph in html <p> tags and separate with a </br> tag\n",
    "html_mytext = '</br>'.join(map(lambda x: '<p>'+x+'</p>', mytext_paras))\n",
    "\n",
    "HTML(html_mytext)"
   ]
  },
  {
   "cell_type": "markdown",
   "metadata": {
    "id": "UI_3GXkzn5U9"
   },
   "source": [
    "## 2. Basic Analysis\n",
    "\n",
    "To perform analysis on text, we generally make use of NLP libraries. Two of the most common libraries for the Python language are `Spacy` and `NLTK`. We will use NLTK for our first analysis."
   ]
  },
  {
   "cell_type": "code",
   "execution_count": 6,
   "metadata": {
    "executionInfo": {
     "elapsed": 2,
     "status": "aborted",
     "timestamp": 1723522418237,
     "user": {
      "displayName": "Rodrigo Araya",
      "userId": "15064802547271996259"
     },
     "user_tz": -600
    },
    "id": "LA1TsIq3dFCI"
   },
   "outputs": [
    {
     "name": "stdout",
     "output_type": "stream",
     "text": [
      "Intel MKL WARNING: Support of Intel(R) Streaming SIMD Extensions 4.2 (Intel(R) SSE4.2) enabled only processors has been deprecated. Intel oneAPI Math Kernel Library 2025.0 will require Intel(R) Advanced Vector Extensions (Intel(R) AVX) instructions.\n",
      "Intel MKL WARNING: Support of Intel(R) Streaming SIMD Extensions 4.2 (Intel(R) SSE4.2) enabled only processors has been deprecated. Intel oneAPI Math Kernel Library 2025.0 will require Intel(R) Advanced Vector Extensions (Intel(R) AVX) instructions.\n"
     ]
    },
    {
     "name": "stderr",
     "output_type": "stream",
     "text": [
      "[nltk_data] Downloading package punkt to /Users/rodzaraya/nltk_data...\n",
      "[nltk_data]   Package punkt is already up-to-date!\n"
     ]
    },
    {
     "data": {
      "text/plain": [
       "True"
      ]
     },
     "execution_count": 6,
     "metadata": {},
     "output_type": "execute_result"
    }
   ],
   "source": [
    "#Import and load the NLTK library\n",
    "import nltk\n",
    "from  nltk.tokenize  import  sent_tokenize ,  word_tokenize\n",
    "nltk.download('punkt')"
   ]
  },
  {
   "cell_type": "markdown",
   "metadata": {
    "id": "QUGUdF6U0CWY"
   },
   "source": [
    "### Tokenization"
   ]
  },
  {
   "cell_type": "markdown",
   "metadata": {
    "id": "SR2HwGvtqURV"
   },
   "source": [
    "We're now ready to process our text with NLTK. For this exercise, we'll just do simple analysis starting with tokenization."
   ]
  },
  {
   "cell_type": "code",
   "execution_count": 7,
   "metadata": {
    "executionInfo": {
     "elapsed": 2,
     "status": "aborted",
     "timestamp": 1723522418237,
     "user": {
      "displayName": "Rodrigo Araya",
      "userId": "15064802547271996259"
     },
     "user_tz": -600
    },
    "id": "cIr35TVu58tu"
   },
   "outputs": [
    {
     "data": {
      "text/plain": [
       "['Have we reached (hu)man-machine symbiosis where we do not simply use technology but are enmeshed with technology in “socio-cyborgian activity systems,” as Bazerman notes?',\n",
       " 'While we are certainly in an age where technology plays an increasingly important role in our daily lives, we have not yet fully reached a state of human-machine symbiosis.',\n",
       " 'However, there are certainly elements of symbiosis that can be seen in certain domains.',\n",
       " 'For example, in some professions such as medicine or aviation, technology plays an integral role in supporting human decision-making and action.',\n",
       " 'In these domains, technology and humans work together to achieve a common goal, and the relationship between the two can be seen as a kind of symbiosis.',\n",
       " 'However, in other domains such as social media or gaming, the relationship between humans and technology is more complex and often less symbiotic.',\n",
       " 'In these domains, technology can sometimes be seen as a distraction or even a hindrance to human activity, rather than a support.',\n",
       " 'Overall, while the relationship between humans and technology is undoubtedly becoming more intertwined, it is still evolving and we have not yet reached a full state of symbiosis in all areas of our lives']"
      ]
     },
     "execution_count": 7,
     "metadata": {},
     "output_type": "execute_result"
    }
   ],
   "source": [
    "mytextsents = sent_tokenize(mytext)\n",
    "mytextsents"
   ]
  },
  {
   "cell_type": "code",
   "execution_count": 8,
   "metadata": {
    "executionInfo": {
     "elapsed": 2,
     "status": "aborted",
     "timestamp": 1723522418237,
     "user": {
      "displayName": "Rodrigo Araya",
      "userId": "15064802547271996259"
     },
     "user_tz": -600
    },
    "id": "r8rxsUZv7xRy"
   },
   "outputs": [
    {
     "data": {
      "text/plain": [
       "['Have',\n",
       " 'we',\n",
       " 'reached',\n",
       " '(',\n",
       " 'hu',\n",
       " ')',\n",
       " 'man-machine',\n",
       " 'symbiosis',\n",
       " 'where',\n",
       " 'we',\n",
       " 'do',\n",
       " 'not',\n",
       " 'simply',\n",
       " 'use',\n",
       " 'technology',\n",
       " 'but',\n",
       " 'are',\n",
       " 'enmeshed',\n",
       " 'with',\n",
       " 'technology',\n",
       " 'in',\n",
       " '“',\n",
       " 'socio-cyborgian',\n",
       " 'activity',\n",
       " 'systems',\n",
       " ',',\n",
       " '”',\n",
       " 'as',\n",
       " 'Bazerman',\n",
       " 'notes',\n",
       " '?',\n",
       " 'While',\n",
       " 'we',\n",
       " 'are',\n",
       " 'certainly',\n",
       " 'in',\n",
       " 'an',\n",
       " 'age',\n",
       " 'where',\n",
       " 'technology',\n",
       " 'plays',\n",
       " 'an',\n",
       " 'increasingly',\n",
       " 'important',\n",
       " 'role',\n",
       " 'in',\n",
       " 'our',\n",
       " 'daily',\n",
       " 'lives',\n",
       " ',',\n",
       " 'we',\n",
       " 'have',\n",
       " 'not',\n",
       " 'yet',\n",
       " 'fully',\n",
       " 'reached',\n",
       " 'a',\n",
       " 'state',\n",
       " 'of',\n",
       " 'human-machine',\n",
       " 'symbiosis',\n",
       " '.',\n",
       " 'However',\n",
       " ',',\n",
       " 'there',\n",
       " 'are',\n",
       " 'certainly',\n",
       " 'elements',\n",
       " 'of',\n",
       " 'symbiosis',\n",
       " 'that',\n",
       " 'can',\n",
       " 'be',\n",
       " 'seen',\n",
       " 'in',\n",
       " 'certain',\n",
       " 'domains',\n",
       " '.',\n",
       " 'For',\n",
       " 'example',\n",
       " ',',\n",
       " 'in',\n",
       " 'some',\n",
       " 'professions',\n",
       " 'such',\n",
       " 'as',\n",
       " 'medicine',\n",
       " 'or',\n",
       " 'aviation',\n",
       " ',',\n",
       " 'technology',\n",
       " 'plays',\n",
       " 'an',\n",
       " 'integral',\n",
       " 'role',\n",
       " 'in',\n",
       " 'supporting',\n",
       " 'human',\n",
       " 'decision-making',\n",
       " 'and',\n",
       " 'action',\n",
       " '.',\n",
       " 'In',\n",
       " 'these',\n",
       " 'domains',\n",
       " ',',\n",
       " 'technology',\n",
       " 'and',\n",
       " 'humans',\n",
       " 'work',\n",
       " 'together',\n",
       " 'to',\n",
       " 'achieve',\n",
       " 'a',\n",
       " 'common',\n",
       " 'goal',\n",
       " ',',\n",
       " 'and',\n",
       " 'the',\n",
       " 'relationship',\n",
       " 'between',\n",
       " 'the',\n",
       " 'two',\n",
       " 'can',\n",
       " 'be',\n",
       " 'seen',\n",
       " 'as',\n",
       " 'a',\n",
       " 'kind',\n",
       " 'of',\n",
       " 'symbiosis',\n",
       " '.',\n",
       " 'However',\n",
       " ',',\n",
       " 'in',\n",
       " 'other',\n",
       " 'domains',\n",
       " 'such',\n",
       " 'as',\n",
       " 'social',\n",
       " 'media',\n",
       " 'or',\n",
       " 'gaming',\n",
       " ',',\n",
       " 'the',\n",
       " 'relationship',\n",
       " 'between',\n",
       " 'humans',\n",
       " 'and',\n",
       " 'technology',\n",
       " 'is',\n",
       " 'more',\n",
       " 'complex',\n",
       " 'and',\n",
       " 'often',\n",
       " 'less',\n",
       " 'symbiotic',\n",
       " '.',\n",
       " 'In',\n",
       " 'these',\n",
       " 'domains',\n",
       " ',',\n",
       " 'technology',\n",
       " 'can',\n",
       " 'sometimes',\n",
       " 'be',\n",
       " 'seen',\n",
       " 'as',\n",
       " 'a',\n",
       " 'distraction',\n",
       " 'or',\n",
       " 'even',\n",
       " 'a',\n",
       " 'hindrance',\n",
       " 'to',\n",
       " 'human',\n",
       " 'activity',\n",
       " ',',\n",
       " 'rather',\n",
       " 'than',\n",
       " 'a',\n",
       " 'support',\n",
       " '.',\n",
       " 'Overall',\n",
       " ',',\n",
       " 'while',\n",
       " 'the',\n",
       " 'relationship',\n",
       " 'between',\n",
       " 'humans',\n",
       " 'and',\n",
       " 'technology',\n",
       " 'is',\n",
       " 'undoubtedly',\n",
       " 'becoming',\n",
       " 'more',\n",
       " 'intertwined',\n",
       " ',',\n",
       " 'it',\n",
       " 'is',\n",
       " 'still',\n",
       " 'evolving',\n",
       " 'and',\n",
       " 'we',\n",
       " 'have',\n",
       " 'not',\n",
       " 'yet',\n",
       " 'reached',\n",
       " 'a',\n",
       " 'full',\n",
       " 'state',\n",
       " 'of',\n",
       " 'symbiosis',\n",
       " 'in',\n",
       " 'all',\n",
       " 'areas',\n",
       " 'of',\n",
       " 'our',\n",
       " 'lives']"
      ]
     },
     "execution_count": 8,
     "metadata": {},
     "output_type": "execute_result"
    }
   ],
   "source": [
    "mytextwords = word_tokenize(mytext)\n",
    "mytextwords"
   ]
  },
  {
   "cell_type": "markdown",
   "metadata": {
    "id": "CTxoeIuF-Ow7"
   },
   "source": [
    "### Parts of Speech (POS) tagging"
   ]
  },
  {
   "cell_type": "markdown",
   "metadata": {
    "id": "6W8He74Q-Mzc"
   },
   "source": [
    "We can also identify the parts-of-speech in the text using NLTK predefined taggers"
   ]
  },
  {
   "cell_type": "code",
   "execution_count": 9,
   "metadata": {
    "executionInfo": {
     "elapsed": 2,
     "status": "aborted",
     "timestamp": 1723522418237,
     "user": {
      "displayName": "Rodrigo Araya",
      "userId": "15064802547271996259"
     },
     "user_tz": -600
    },
    "id": "gqWpQChz8Yxk"
   },
   "outputs": [
    {
     "name": "stderr",
     "output_type": "stream",
     "text": [
      "[nltk_data] Downloading package averaged_perceptron_tagger to\n",
      "[nltk_data]     /Users/rodzaraya/nltk_data...\n",
      "[nltk_data]   Package averaged_perceptron_tagger is already up-to-\n",
      "[nltk_data]       date!\n",
      "[nltk_data] Downloading package tagsets to\n",
      "[nltk_data]     /Users/rodzaraya/nltk_data...\n"
     ]
    },
    {
     "name": "stdout",
     "output_type": "stream",
     "text": [
      "$: dollar\n",
      "    $ -$ --$ A$ C$ HK$ M$ NZ$ S$ U.S.$ US$\n",
      "'': closing quotation mark\n",
      "    ' ''\n",
      "(: opening parenthesis\n",
      "    ( [ {\n",
      "): closing parenthesis\n",
      "    ) ] }\n",
      ",: comma\n",
      "    ,\n",
      "--: dash\n",
      "    --\n",
      ".: sentence terminator\n",
      "    . ! ?\n",
      ":: colon or ellipsis\n",
      "    : ; ...\n",
      "CC: conjunction, coordinating\n",
      "    & 'n and both but either et for less minus neither nor or plus so\n",
      "    therefore times v. versus vs. whether yet\n",
      "CD: numeral, cardinal\n",
      "    mid-1890 nine-thirty forty-two one-tenth ten million 0.5 one forty-\n",
      "    seven 1987 twenty '79 zero two 78-degrees eighty-four IX '60s .025\n",
      "    fifteen 271,124 dozen quintillion DM2,000 ...\n",
      "DT: determiner\n",
      "    all an another any both del each either every half la many much nary\n",
      "    neither no some such that the them these this those\n",
      "EX: existential there\n",
      "    there\n",
      "FW: foreign word\n",
      "    gemeinschaft hund ich jeux habeas Haementeria Herr K'ang-si vous\n",
      "    lutihaw alai je jour objets salutaris fille quibusdam pas trop Monte\n",
      "    terram fiche oui corporis ...\n",
      "IN: preposition or conjunction, subordinating\n",
      "    astride among uppon whether out inside pro despite on by throughout\n",
      "    below within for towards near behind atop around if like until below\n",
      "    next into if beside ...\n",
      "JJ: adjective or numeral, ordinal\n",
      "    third ill-mannered pre-war regrettable oiled calamitous first separable\n",
      "    ectoplasmic battery-powered participatory fourth still-to-be-named\n",
      "    multilingual multi-disciplinary ...\n",
      "JJR: adjective, comparative\n",
      "    bleaker braver breezier briefer brighter brisker broader bumper busier\n",
      "    calmer cheaper choosier cleaner clearer closer colder commoner costlier\n",
      "    cozier creamier crunchier cuter ...\n",
      "JJS: adjective, superlative\n",
      "    calmest cheapest choicest classiest cleanest clearest closest commonest\n",
      "    corniest costliest crassest creepiest crudest cutest darkest deadliest\n",
      "    dearest deepest densest dinkiest ...\n",
      "LS: list item marker\n",
      "    A A. B B. C C. D E F First G H I J K One SP-44001 SP-44002 SP-44005\n",
      "    SP-44007 Second Third Three Two * a b c d first five four one six three\n",
      "    two\n",
      "MD: modal auxiliary\n",
      "    can cannot could couldn't dare may might must need ought shall should\n",
      "    shouldn't will would\n",
      "NN: noun, common, singular or mass\n",
      "    common-carrier cabbage knuckle-duster Casino afghan shed thermostat\n",
      "    investment slide humour falloff slick wind hyena override subhumanity\n",
      "    machinist ...\n",
      "NNP: noun, proper, singular\n",
      "    Motown Venneboerger Czestochwa Ranzer Conchita Trumplane Christos\n",
      "    Oceanside Escobar Kreisler Sawyer Cougar Yvette Ervin ODI Darryl CTCA\n",
      "    Shannon A.K.C. Meltex Liverpool ...\n",
      "NNPS: noun, proper, plural\n",
      "    Americans Americas Amharas Amityvilles Amusements Anarcho-Syndicalists\n",
      "    Andalusians Andes Andruses Angels Animals Anthony Antilles Antiques\n",
      "    Apache Apaches Apocrypha ...\n",
      "NNS: noun, common, plural\n",
      "    undergraduates scotches bric-a-brac products bodyguards facets coasts\n",
      "    divestitures storehouses designs clubs fragrances averages\n",
      "    subjectivists apprehensions muses factory-jobs ...\n",
      "PDT: pre-determiner\n",
      "    all both half many quite such sure this\n",
      "POS: genitive marker\n",
      "    ' 's\n",
      "PRP: pronoun, personal\n",
      "    hers herself him himself hisself it itself me myself one oneself ours\n",
      "    ourselves ownself self she thee theirs them themselves they thou thy us\n",
      "PRP$: pronoun, possessive\n",
      "    her his mine my our ours their thy your\n",
      "RB: adverb\n",
      "    occasionally unabatingly maddeningly adventurously professedly\n",
      "    stirringly prominently technologically magisterially predominately\n",
      "    swiftly fiscally pitilessly ...\n",
      "RBR: adverb, comparative\n",
      "    further gloomier grander graver greater grimmer harder harsher\n",
      "    healthier heavier higher however larger later leaner lengthier less-\n",
      "    perfectly lesser lonelier longer louder lower more ...\n",
      "RBS: adverb, superlative\n",
      "    best biggest bluntest earliest farthest first furthest hardest\n",
      "    heartiest highest largest least less most nearest second tightest worst\n",
      "RP: particle\n",
      "    aboard about across along apart around aside at away back before behind\n",
      "    by crop down ever fast for forth from go high i.e. in into just later\n",
      "    low more off on open out over per pie raising start teeth that through\n",
      "    under unto up up-pp upon whole with you\n",
      "SYM: symbol\n",
      "    % & ' '' ''. ) ). * + ,. < = > @ A[fj] U.S U.S.S.R * ** ***\n",
      "TO: \"to\" as preposition or infinitive marker\n",
      "    to\n",
      "UH: interjection\n",
      "    Goodbye Goody Gosh Wow Jeepers Jee-sus Hubba Hey Kee-reist Oops amen\n",
      "    huh howdy uh dammit whammo shucks heck anyways whodunnit honey golly\n",
      "    man baby diddle hush sonuvabitch ...\n",
      "VB: verb, base form\n",
      "    ask assemble assess assign assume atone attention avoid bake balkanize\n",
      "    bank begin behold believe bend benefit bevel beware bless boil bomb\n",
      "    boost brace break bring broil brush build ...\n",
      "VBD: verb, past tense\n",
      "    dipped pleaded swiped regummed soaked tidied convened halted registered\n",
      "    cushioned exacted snubbed strode aimed adopted belied figgered\n",
      "    speculated wore appreciated contemplated ...\n",
      "VBG: verb, present participle or gerund\n",
      "    telegraphing stirring focusing angering judging stalling lactating\n",
      "    hankerin' alleging veering capping approaching traveling besieging\n",
      "    encrypting interrupting erasing wincing ...\n",
      "VBN: verb, past participle\n",
      "    multihulled dilapidated aerosolized chaired languished panelized used\n",
      "    experimented flourished imitated reunifed factored condensed sheared\n",
      "    unsettled primed dubbed desired ...\n",
      "VBP: verb, present tense, not 3rd person singular\n",
      "    predominate wrap resort sue twist spill cure lengthen brush terminate\n",
      "    appear tend stray glisten obtain comprise detest tease attract\n",
      "    emphasize mold postpone sever return wag ...\n",
      "VBZ: verb, present tense, 3rd person singular\n",
      "    bases reconstructs marks mixes displeases seals carps weaves snatches\n",
      "    slumps stretches authorizes smolders pictures emerges stockpiles\n",
      "    seduces fizzes uses bolsters slaps speaks pleads ...\n",
      "WDT: WH-determiner\n",
      "    that what whatever which whichever\n",
      "WP: WH-pronoun\n",
      "    that what whatever whatsoever which who whom whosoever\n",
      "WP$: WH-pronoun, possessive\n",
      "    whose\n",
      "WRB: Wh-adverb\n",
      "    how however whence whenever where whereby whereever wherein whereof why\n",
      "``: opening quotation mark\n",
      "    ` ``\n"
     ]
    },
    {
     "name": "stderr",
     "output_type": "stream",
     "text": [
      "[nltk_data]   Unzipping help/tagsets.zip.\n"
     ]
    },
    {
     "data": {
      "text/plain": [
       "[('Have', 'VBP'),\n",
       " ('we', 'PRP'),\n",
       " ('reached', 'VBN'),\n",
       " ('(', '('),\n",
       " ('hu', 'NN'),\n",
       " (')', ')'),\n",
       " ('man-machine', 'NN'),\n",
       " ('symbiosis', 'NN'),\n",
       " ('where', 'WRB'),\n",
       " ('we', 'PRP'),\n",
       " ('do', 'VBP'),\n",
       " ('not', 'RB'),\n",
       " ('simply', 'RB'),\n",
       " ('use', 'JJ'),\n",
       " ('technology', 'NN'),\n",
       " ('but', 'CC'),\n",
       " ('are', 'VBP'),\n",
       " ('enmeshed', 'VBN'),\n",
       " ('with', 'IN'),\n",
       " ('technology', 'NN'),\n",
       " ('in', 'IN'),\n",
       " ('“', 'JJ'),\n",
       " ('socio-cyborgian', 'JJ'),\n",
       " ('activity', 'NN'),\n",
       " ('systems', 'NNS'),\n",
       " (',', ','),\n",
       " ('”', 'NNP'),\n",
       " ('as', 'IN'),\n",
       " ('Bazerman', 'NNP'),\n",
       " ('notes', 'NNS'),\n",
       " ('?', '.'),\n",
       " ('While', 'IN'),\n",
       " ('we', 'PRP'),\n",
       " ('are', 'VBP'),\n",
       " ('certainly', 'RB'),\n",
       " ('in', 'IN'),\n",
       " ('an', 'DT'),\n",
       " ('age', 'NN'),\n",
       " ('where', 'WRB'),\n",
       " ('technology', 'NN'),\n",
       " ('plays', 'VBZ'),\n",
       " ('an', 'DT'),\n",
       " ('increasingly', 'RB'),\n",
       " ('important', 'JJ'),\n",
       " ('role', 'NN'),\n",
       " ('in', 'IN'),\n",
       " ('our', 'PRP$'),\n",
       " ('daily', 'JJ'),\n",
       " ('lives', 'NNS'),\n",
       " (',', ','),\n",
       " ('we', 'PRP'),\n",
       " ('have', 'VBP'),\n",
       " ('not', 'RB'),\n",
       " ('yet', 'RB'),\n",
       " ('fully', 'RB'),\n",
       " ('reached', 'VBD'),\n",
       " ('a', 'DT'),\n",
       " ('state', 'NN'),\n",
       " ('of', 'IN'),\n",
       " ('human-machine', 'JJ'),\n",
       " ('symbiosis', 'NN'),\n",
       " ('.', '.'),\n",
       " ('However', 'RB'),\n",
       " (',', ','),\n",
       " ('there', 'EX'),\n",
       " ('are', 'VBP'),\n",
       " ('certainly', 'RB'),\n",
       " ('elements', 'NNS'),\n",
       " ('of', 'IN'),\n",
       " ('symbiosis', 'NN'),\n",
       " ('that', 'WDT'),\n",
       " ('can', 'MD'),\n",
       " ('be', 'VB'),\n",
       " ('seen', 'VBN'),\n",
       " ('in', 'IN'),\n",
       " ('certain', 'JJ'),\n",
       " ('domains', 'NNS'),\n",
       " ('.', '.'),\n",
       " ('For', 'IN'),\n",
       " ('example', 'NN'),\n",
       " (',', ','),\n",
       " ('in', 'IN'),\n",
       " ('some', 'DT'),\n",
       " ('professions', 'NNS'),\n",
       " ('such', 'JJ'),\n",
       " ('as', 'IN'),\n",
       " ('medicine', 'NN'),\n",
       " ('or', 'CC'),\n",
       " ('aviation', 'NN'),\n",
       " (',', ','),\n",
       " ('technology', 'NN'),\n",
       " ('plays', 'NNS'),\n",
       " ('an', 'DT'),\n",
       " ('integral', 'JJ'),\n",
       " ('role', 'NN'),\n",
       " ('in', 'IN'),\n",
       " ('supporting', 'VBG'),\n",
       " ('human', 'JJ'),\n",
       " ('decision-making', 'NN'),\n",
       " ('and', 'CC'),\n",
       " ('action', 'NN'),\n",
       " ('.', '.'),\n",
       " ('In', 'IN'),\n",
       " ('these', 'DT'),\n",
       " ('domains', 'NNS'),\n",
       " (',', ','),\n",
       " ('technology', 'NN'),\n",
       " ('and', 'CC'),\n",
       " ('humans', 'NNS'),\n",
       " ('work', 'VBP'),\n",
       " ('together', 'RB'),\n",
       " ('to', 'TO'),\n",
       " ('achieve', 'VB'),\n",
       " ('a', 'DT'),\n",
       " ('common', 'JJ'),\n",
       " ('goal', 'NN'),\n",
       " (',', ','),\n",
       " ('and', 'CC'),\n",
       " ('the', 'DT'),\n",
       " ('relationship', 'NN'),\n",
       " ('between', 'IN'),\n",
       " ('the', 'DT'),\n",
       " ('two', 'CD'),\n",
       " ('can', 'MD'),\n",
       " ('be', 'VB'),\n",
       " ('seen', 'VBN'),\n",
       " ('as', 'IN'),\n",
       " ('a', 'DT'),\n",
       " ('kind', 'NN'),\n",
       " ('of', 'IN'),\n",
       " ('symbiosis', 'NN'),\n",
       " ('.', '.'),\n",
       " ('However', 'RB'),\n",
       " (',', ','),\n",
       " ('in', 'IN'),\n",
       " ('other', 'JJ'),\n",
       " ('domains', 'NNS'),\n",
       " ('such', 'JJ'),\n",
       " ('as', 'IN'),\n",
       " ('social', 'JJ'),\n",
       " ('media', 'NNS'),\n",
       " ('or', 'CC'),\n",
       " ('gaming', 'NN'),\n",
       " (',', ','),\n",
       " ('the', 'DT'),\n",
       " ('relationship', 'NN'),\n",
       " ('between', 'IN'),\n",
       " ('humans', 'NNS'),\n",
       " ('and', 'CC'),\n",
       " ('technology', 'NN'),\n",
       " ('is', 'VBZ'),\n",
       " ('more', 'RBR'),\n",
       " ('complex', 'JJ'),\n",
       " ('and', 'CC'),\n",
       " ('often', 'RB'),\n",
       " ('less', 'RBR'),\n",
       " ('symbiotic', 'JJ'),\n",
       " ('.', '.'),\n",
       " ('In', 'IN'),\n",
       " ('these', 'DT'),\n",
       " ('domains', 'NNS'),\n",
       " (',', ','),\n",
       " ('technology', 'NN'),\n",
       " ('can', 'MD'),\n",
       " ('sometimes', 'RB'),\n",
       " ('be', 'VB'),\n",
       " ('seen', 'VBN'),\n",
       " ('as', 'IN'),\n",
       " ('a', 'DT'),\n",
       " ('distraction', 'NN'),\n",
       " ('or', 'CC'),\n",
       " ('even', 'RB'),\n",
       " ('a', 'DT'),\n",
       " ('hindrance', 'NN'),\n",
       " ('to', 'TO'),\n",
       " ('human', 'JJ'),\n",
       " ('activity', 'NN'),\n",
       " (',', ','),\n",
       " ('rather', 'RB'),\n",
       " ('than', 'IN'),\n",
       " ('a', 'DT'),\n",
       " ('support', 'NN'),\n",
       " ('.', '.'),\n",
       " ('Overall', 'JJ'),\n",
       " (',', ','),\n",
       " ('while', 'IN'),\n",
       " ('the', 'DT'),\n",
       " ('relationship', 'NN'),\n",
       " ('between', 'IN'),\n",
       " ('humans', 'NNS'),\n",
       " ('and', 'CC'),\n",
       " ('technology', 'NN'),\n",
       " ('is', 'VBZ'),\n",
       " ('undoubtedly', 'RB'),\n",
       " ('becoming', 'VBG'),\n",
       " ('more', 'RBR'),\n",
       " ('intertwined', 'JJ'),\n",
       " (',', ','),\n",
       " ('it', 'PRP'),\n",
       " ('is', 'VBZ'),\n",
       " ('still', 'RB'),\n",
       " ('evolving', 'VBG'),\n",
       " ('and', 'CC'),\n",
       " ('we', 'PRP'),\n",
       " ('have', 'VBP'),\n",
       " ('not', 'RB'),\n",
       " ('yet', 'RB'),\n",
       " ('reached', 'VBN'),\n",
       " ('a', 'DT'),\n",
       " ('full', 'JJ'),\n",
       " ('state', 'NN'),\n",
       " ('of', 'IN'),\n",
       " ('symbiosis', 'NN'),\n",
       " ('in', 'IN'),\n",
       " ('all', 'DT'),\n",
       " ('areas', 'NNS'),\n",
       " ('of', 'IN'),\n",
       " ('our', 'PRP$'),\n",
       " ('lives', 'NNS')]"
      ]
     },
     "execution_count": 9,
     "metadata": {},
     "output_type": "execute_result"
    }
   ],
   "source": [
    "nltk.download('averaged_perceptron_tagger')\n",
    "nltk.download('tagsets')\n",
    "nltk.help.upenn_tagset()\n",
    "\n",
    "mytextpos = nltk.pos_tag(mytextwords)\n",
    "mytextpos"
   ]
  },
  {
   "cell_type": "markdown",
   "metadata": {
    "id": "X9d86i_j0LD5"
   },
   "source": [
    "And display the dependency tree..."
   ]
  },
  {
   "cell_type": "code",
   "execution_count": 10,
   "metadata": {
    "executionInfo": {
     "elapsed": 2,
     "status": "aborted",
     "timestamp": 1723522418237,
     "user": {
      "displayName": "Rodrigo Araya",
      "userId": "15064802547271996259"
     },
     "user_tz": -600
    },
    "id": "VQMIMd8A_Ycw"
   },
   "outputs": [
    {
     "name": "stdout",
     "output_type": "stream",
     "text": [
      "Collecting svgling\n",
      "  Downloading svgling-0.5.0-py3-none-any.whl.metadata (7.4 kB)\n",
      "Collecting svgwrite (from svgling)\n",
      "  Downloading svgwrite-1.4.3-py3-none-any.whl.metadata (8.8 kB)\n",
      "Downloading svgling-0.5.0-py3-none-any.whl (31 kB)\n",
      "Downloading svgwrite-1.4.3-py3-none-any.whl (67 kB)\n",
      "\u001b[2K   \u001b[90m━━━━━━━━━━━━━━━━━━━━━━━━━━━━━━━━━━━━━━━━\u001b[0m \u001b[32m67.1/67.1 kB\u001b[0m \u001b[31m2.5 MB/s\u001b[0m eta \u001b[36m0:00:00\u001b[0m\n",
      "\u001b[?25hInstalling collected packages: svgwrite, svgling\n",
      "Successfully installed svgling-0.5.0 svgwrite-1.4.3\n",
      "\u001b[33mWARNING: There was an error checking the latest version of pip.\u001b[0m\u001b[33m\n",
      "\u001b[0m"
     ]
    },
    {
     "name": "stderr",
     "output_type": "stream",
     "text": [
      "[nltk_data] Downloading package maxent_ne_chunker to\n",
      "[nltk_data]     /Users/rodzaraya/nltk_data...\n",
      "[nltk_data]   Unzipping chunkers/maxent_ne_chunker.zip.\n",
      "[nltk_data] Downloading package words to /Users/rodzaraya/nltk_data...\n",
      "[nltk_data]   Unzipping corpora/words.zip.\n"
     ]
    },
    {
     "data": {
      "image/svg+xml": [
       "<svg baseProfile=\"full\" height=\"168px\" preserveAspectRatio=\"xMidYMid meet\" style=\"font-family: times, serif; font-weight: normal; font-style: normal; font-size: 16px\" version=\"1.1\" viewBox=\"0,0,11856.0,168.0\" width=\"11856px\" xmlns=\"http://www.w3.org/2000/svg\" xmlns:ev=\"http://www.w3.org/2001/xml-events\" xmlns:xlink=\"http://www.w3.org/1999/xlink\"><defs /><svg width=\"100%\" x=\"0\" y=\"0px\"><defs /><text text-anchor=\"middle\" x=\"50%\" y=\"16px\">S</text></svg><svg width=\"0.404858%\" x=\"0%\" y=\"48px\"><defs /><svg width=\"100%\" x=\"0\" y=\"0px\"><defs /><text text-anchor=\"middle\" x=\"50%\" y=\"16px\">Have</text></svg><svg width=\"100%\" x=\"0%\" y=\"48px\"><defs /><svg width=\"100%\" x=\"0\" y=\"0px\"><defs /><text text-anchor=\"middle\" x=\"50%\" y=\"16px\">VBP</text></svg></svg><line stroke=\"black\" x1=\"50%\" x2=\"50%\" y1=\"20px\" y2=\"48px\" /></svg><line stroke=\"black\" x1=\"50%\" x2=\"0.202429%\" y1=\"20px\" y2=\"48px\" /><svg width=\"0.337382%\" x=\"0.404858%\" y=\"48px\"><defs /><svg width=\"100%\" x=\"0\" y=\"0px\"><defs /><text text-anchor=\"middle\" x=\"50%\" y=\"16px\">we</text></svg><svg width=\"100%\" x=\"0%\" y=\"48px\"><defs /><svg width=\"100%\" x=\"0\" y=\"0px\"><defs /><text text-anchor=\"middle\" x=\"50%\" y=\"16px\">PRP</text></svg></svg><line stroke=\"black\" x1=\"50%\" x2=\"50%\" y1=\"20px\" y2=\"48px\" /></svg><line stroke=\"black\" x1=\"50%\" x2=\"0.573549%\" y1=\"20px\" y2=\"48px\" /><svg width=\"0.607287%\" x=\"0.74224%\" y=\"48px\"><defs /><svg width=\"100%\" x=\"0\" y=\"0px\"><defs /><text text-anchor=\"middle\" x=\"50%\" y=\"16px\">reached</text></svg><svg width=\"100%\" x=\"0%\" y=\"48px\"><defs /><svg width=\"100%\" x=\"0\" y=\"0px\"><defs /><text text-anchor=\"middle\" x=\"50%\" y=\"16px\">VBN</text></svg></svg><line stroke=\"black\" x1=\"50%\" x2=\"50%\" y1=\"20px\" y2=\"48px\" /></svg><line stroke=\"black\" x1=\"50%\" x2=\"1.04588%\" y1=\"20px\" y2=\"48px\" /><svg width=\"0.202429%\" x=\"1.34953%\" y=\"48px\"><defs /><svg width=\"100%\" x=\"0\" y=\"0px\"><defs /><text text-anchor=\"middle\" x=\"50%\" y=\"16px\">(</text></svg><svg width=\"100%\" x=\"0%\" y=\"48px\"><defs /><svg width=\"100%\" x=\"0\" y=\"0px\"><defs /><text text-anchor=\"middle\" x=\"50%\" y=\"16px\">(</text></svg></svg><line stroke=\"black\" x1=\"50%\" x2=\"50%\" y1=\"20px\" y2=\"48px\" /></svg><line stroke=\"black\" x1=\"50%\" x2=\"1.45074%\" y1=\"20px\" y2=\"48px\" /><svg width=\"0.269906%\" x=\"1.55196%\" y=\"48px\"><defs /><svg width=\"100%\" x=\"0\" y=\"0px\"><defs /><text text-anchor=\"middle\" x=\"50%\" y=\"16px\">hu</text></svg><svg width=\"100%\" x=\"0%\" y=\"48px\"><defs /><svg width=\"100%\" x=\"0\" y=\"0px\"><defs /><text text-anchor=\"middle\" x=\"50%\" y=\"16px\">NN</text></svg></svg><line stroke=\"black\" x1=\"50%\" x2=\"50%\" y1=\"20px\" y2=\"48px\" /></svg><line stroke=\"black\" x1=\"50%\" x2=\"1.68691%\" y1=\"20px\" y2=\"48px\" /><svg width=\"0.202429%\" x=\"1.82186%\" y=\"48px\"><defs /><svg width=\"100%\" x=\"0\" y=\"0px\"><defs /><text text-anchor=\"middle\" x=\"50%\" y=\"16px\">)</text></svg><svg width=\"100%\" x=\"0%\" y=\"48px\"><defs /><svg width=\"100%\" x=\"0\" y=\"0px\"><defs /><text text-anchor=\"middle\" x=\"50%\" y=\"16px\">)</text></svg></svg><line stroke=\"black\" x1=\"50%\" x2=\"50%\" y1=\"20px\" y2=\"48px\" /></svg><line stroke=\"black\" x1=\"50%\" x2=\"1.92308%\" y1=\"20px\" y2=\"48px\" /><svg width=\"0.877193%\" x=\"2.02429%\" y=\"48px\"><defs /><svg width=\"100%\" x=\"0\" y=\"0px\"><defs /><text text-anchor=\"middle\" x=\"50%\" y=\"16px\">man-machine</text></svg><svg width=\"100%\" x=\"0%\" y=\"48px\"><defs /><svg width=\"100%\" x=\"0\" y=\"0px\"><defs /><text text-anchor=\"middle\" x=\"50%\" y=\"16px\">NN</text></svg></svg><line stroke=\"black\" x1=\"50%\" x2=\"50%\" y1=\"20px\" y2=\"48px\" /></svg><line stroke=\"black\" x1=\"50%\" x2=\"2.46289%\" y1=\"20px\" y2=\"48px\" /><svg width=\"0.74224%\" x=\"2.90148%\" y=\"48px\"><defs /><svg width=\"100%\" x=\"0\" y=\"0px\"><defs /><text text-anchor=\"middle\" x=\"50%\" y=\"16px\">symbiosis</text></svg><svg width=\"100%\" x=\"0%\" y=\"48px\"><defs /><svg width=\"100%\" x=\"0\" y=\"0px\"><defs /><text text-anchor=\"middle\" x=\"50%\" y=\"16px\">NN</text></svg></svg><line stroke=\"black\" x1=\"50%\" x2=\"50%\" y1=\"20px\" y2=\"48px\" /></svg><line stroke=\"black\" x1=\"50%\" x2=\"3.2726%\" y1=\"20px\" y2=\"48px\" /><svg width=\"0.472335%\" x=\"3.64372%\" y=\"48px\"><defs /><svg width=\"100%\" x=\"0\" y=\"0px\"><defs /><text text-anchor=\"middle\" x=\"50%\" y=\"16px\">where</text></svg><svg width=\"100%\" x=\"0%\" y=\"48px\"><defs /><svg width=\"100%\" x=\"0\" y=\"0px\"><defs /><text text-anchor=\"middle\" x=\"50%\" y=\"16px\">WRB</text></svg></svg><line stroke=\"black\" x1=\"50%\" x2=\"50%\" y1=\"20px\" y2=\"48px\" /></svg><line stroke=\"black\" x1=\"50%\" x2=\"3.87989%\" y1=\"20px\" y2=\"48px\" /><svg width=\"0.337382%\" x=\"4.11606%\" y=\"48px\"><defs /><svg width=\"100%\" x=\"0\" y=\"0px\"><defs /><text text-anchor=\"middle\" x=\"50%\" y=\"16px\">we</text></svg><svg width=\"100%\" x=\"0%\" y=\"48px\"><defs /><svg width=\"100%\" x=\"0\" y=\"0px\"><defs /><text text-anchor=\"middle\" x=\"50%\" y=\"16px\">PRP</text></svg></svg><line stroke=\"black\" x1=\"50%\" x2=\"50%\" y1=\"20px\" y2=\"48px\" /></svg><line stroke=\"black\" x1=\"50%\" x2=\"4.28475%\" y1=\"20px\" y2=\"48px\" /><svg width=\"0.337382%\" x=\"4.45344%\" y=\"48px\"><defs /><svg width=\"100%\" x=\"0\" y=\"0px\"><defs /><text text-anchor=\"middle\" x=\"50%\" y=\"16px\">do</text></svg><svg width=\"100%\" x=\"0%\" y=\"48px\"><defs /><svg width=\"100%\" x=\"0\" y=\"0px\"><defs /><text text-anchor=\"middle\" x=\"50%\" y=\"16px\">VBP</text></svg></svg><line stroke=\"black\" x1=\"50%\" x2=\"50%\" y1=\"20px\" y2=\"48px\" /></svg><line stroke=\"black\" x1=\"50%\" x2=\"4.62213%\" y1=\"20px\" y2=\"48px\" /><svg width=\"0.337382%\" x=\"4.79082%\" y=\"48px\"><defs /><svg width=\"100%\" x=\"0\" y=\"0px\"><defs /><text text-anchor=\"middle\" x=\"50%\" y=\"16px\">not</text></svg><svg width=\"100%\" x=\"0%\" y=\"48px\"><defs /><svg width=\"100%\" x=\"0\" y=\"0px\"><defs /><text text-anchor=\"middle\" x=\"50%\" y=\"16px\">RB</text></svg></svg><line stroke=\"black\" x1=\"50%\" x2=\"50%\" y1=\"20px\" y2=\"48px\" /></svg><line stroke=\"black\" x1=\"50%\" x2=\"4.95951%\" y1=\"20px\" y2=\"48px\" /><svg width=\"0.539811%\" x=\"5.12821%\" y=\"48px\"><defs /><svg width=\"100%\" x=\"0\" y=\"0px\"><defs /><text text-anchor=\"middle\" x=\"50%\" y=\"16px\">simply</text></svg><svg width=\"100%\" x=\"0%\" y=\"48px\"><defs /><svg width=\"100%\" x=\"0\" y=\"0px\"><defs /><text text-anchor=\"middle\" x=\"50%\" y=\"16px\">RB</text></svg></svg><line stroke=\"black\" x1=\"50%\" x2=\"50%\" y1=\"20px\" y2=\"48px\" /></svg><line stroke=\"black\" x1=\"50%\" x2=\"5.39811%\" y1=\"20px\" y2=\"48px\" /><svg width=\"0.337382%\" x=\"5.66802%\" y=\"48px\"><defs /><svg width=\"100%\" x=\"0\" y=\"0px\"><defs /><text text-anchor=\"middle\" x=\"50%\" y=\"16px\">use</text></svg><svg width=\"100%\" x=\"0%\" y=\"48px\"><defs /><svg width=\"100%\" x=\"0\" y=\"0px\"><defs /><text text-anchor=\"middle\" x=\"50%\" y=\"16px\">JJ</text></svg></svg><line stroke=\"black\" x1=\"50%\" x2=\"50%\" y1=\"20px\" y2=\"48px\" /></svg><line stroke=\"black\" x1=\"50%\" x2=\"5.83671%\" y1=\"20px\" y2=\"48px\" /><svg width=\"0.809717%\" x=\"6.0054%\" y=\"48px\"><defs /><svg width=\"100%\" x=\"0\" y=\"0px\"><defs /><text text-anchor=\"middle\" x=\"50%\" y=\"16px\">technology</text></svg><svg width=\"100%\" x=\"0%\" y=\"48px\"><defs /><svg width=\"100%\" x=\"0\" y=\"0px\"><defs /><text text-anchor=\"middle\" x=\"50%\" y=\"16px\">NN</text></svg></svg><line stroke=\"black\" x1=\"50%\" x2=\"50%\" y1=\"20px\" y2=\"48px\" /></svg><line stroke=\"black\" x1=\"50%\" x2=\"6.41026%\" y1=\"20px\" y2=\"48px\" /><svg width=\"0.337382%\" x=\"6.81511%\" y=\"48px\"><defs /><svg width=\"100%\" x=\"0\" y=\"0px\"><defs /><text text-anchor=\"middle\" x=\"50%\" y=\"16px\">but</text></svg><svg width=\"100%\" x=\"0%\" y=\"48px\"><defs /><svg width=\"100%\" x=\"0\" y=\"0px\"><defs /><text text-anchor=\"middle\" x=\"50%\" y=\"16px\">CC</text></svg></svg><line stroke=\"black\" x1=\"50%\" x2=\"50%\" y1=\"20px\" y2=\"48px\" /></svg><line stroke=\"black\" x1=\"50%\" x2=\"6.98381%\" y1=\"20px\" y2=\"48px\" /><svg width=\"0.337382%\" x=\"7.1525%\" y=\"48px\"><defs /><svg width=\"100%\" x=\"0\" y=\"0px\"><defs /><text text-anchor=\"middle\" x=\"50%\" y=\"16px\">are</text></svg><svg width=\"100%\" x=\"0%\" y=\"48px\"><defs /><svg width=\"100%\" x=\"0\" y=\"0px\"><defs /><text text-anchor=\"middle\" x=\"50%\" y=\"16px\">VBP</text></svg></svg><line stroke=\"black\" x1=\"50%\" x2=\"50%\" y1=\"20px\" y2=\"48px\" /></svg><line stroke=\"black\" x1=\"50%\" x2=\"7.32119%\" y1=\"20px\" y2=\"48px\" /><svg width=\"0.674764%\" x=\"7.48988%\" y=\"48px\"><defs /><svg width=\"100%\" x=\"0\" y=\"0px\"><defs /><text text-anchor=\"middle\" x=\"50%\" y=\"16px\">enmeshed</text></svg><svg width=\"100%\" x=\"0%\" y=\"48px\"><defs /><svg width=\"100%\" x=\"0\" y=\"0px\"><defs /><text text-anchor=\"middle\" x=\"50%\" y=\"16px\">VBN</text></svg></svg><line stroke=\"black\" x1=\"50%\" x2=\"50%\" y1=\"20px\" y2=\"48px\" /></svg><line stroke=\"black\" x1=\"50%\" x2=\"7.82726%\" y1=\"20px\" y2=\"48px\" /><svg width=\"0.404858%\" x=\"8.16464%\" y=\"48px\"><defs /><svg width=\"100%\" x=\"0\" y=\"0px\"><defs /><text text-anchor=\"middle\" x=\"50%\" y=\"16px\">with</text></svg><svg width=\"100%\" x=\"0%\" y=\"48px\"><defs /><svg width=\"100%\" x=\"0\" y=\"0px\"><defs /><text text-anchor=\"middle\" x=\"50%\" y=\"16px\">IN</text></svg></svg><line stroke=\"black\" x1=\"50%\" x2=\"50%\" y1=\"20px\" y2=\"48px\" /></svg><line stroke=\"black\" x1=\"50%\" x2=\"8.36707%\" y1=\"20px\" y2=\"48px\" /><svg width=\"0.809717%\" x=\"8.5695%\" y=\"48px\"><defs /><svg width=\"100%\" x=\"0\" y=\"0px\"><defs /><text text-anchor=\"middle\" x=\"50%\" y=\"16px\">technology</text></svg><svg width=\"100%\" x=\"0%\" y=\"48px\"><defs /><svg width=\"100%\" x=\"0\" y=\"0px\"><defs /><text text-anchor=\"middle\" x=\"50%\" y=\"16px\">NN</text></svg></svg><line stroke=\"black\" x1=\"50%\" x2=\"50%\" y1=\"20px\" y2=\"48px\" /></svg><line stroke=\"black\" x1=\"50%\" x2=\"8.97436%\" y1=\"20px\" y2=\"48px\" /><svg width=\"0.269906%\" x=\"9.37922%\" y=\"48px\"><defs /><svg width=\"100%\" x=\"0\" y=\"0px\"><defs /><text text-anchor=\"middle\" x=\"50%\" y=\"16px\">in</text></svg><svg width=\"100%\" x=\"0%\" y=\"48px\"><defs /><svg width=\"100%\" x=\"0\" y=\"0px\"><defs /><text text-anchor=\"middle\" x=\"50%\" y=\"16px\">IN</text></svg></svg><line stroke=\"black\" x1=\"50%\" x2=\"50%\" y1=\"20px\" y2=\"48px\" /></svg><line stroke=\"black\" x1=\"50%\" x2=\"9.51417%\" y1=\"20px\" y2=\"48px\" /><svg width=\"0.269906%\" x=\"9.64912%\" y=\"48px\"><defs /><svg width=\"100%\" x=\"0\" y=\"0px\"><defs /><text text-anchor=\"middle\" x=\"50%\" y=\"16px\">“</text></svg><svg width=\"100%\" x=\"0%\" y=\"48px\"><defs /><svg width=\"100%\" x=\"0\" y=\"0px\"><defs /><text text-anchor=\"middle\" x=\"50%\" y=\"16px\">JJ</text></svg></svg><line stroke=\"black\" x1=\"50%\" x2=\"50%\" y1=\"20px\" y2=\"48px\" /></svg><line stroke=\"black\" x1=\"50%\" x2=\"9.78408%\" y1=\"20px\" y2=\"48px\" /><svg width=\"1.1471%\" x=\"9.91903%\" y=\"48px\"><defs /><svg width=\"100%\" x=\"0\" y=\"0px\"><defs /><text text-anchor=\"middle\" x=\"50%\" y=\"16px\">socio-cyborgian</text></svg><svg width=\"100%\" x=\"0%\" y=\"48px\"><defs /><svg width=\"100%\" x=\"0\" y=\"0px\"><defs /><text text-anchor=\"middle\" x=\"50%\" y=\"16px\">JJ</text></svg></svg><line stroke=\"black\" x1=\"50%\" x2=\"50%\" y1=\"20px\" y2=\"48px\" /></svg><line stroke=\"black\" x1=\"50%\" x2=\"10.4926%\" y1=\"20px\" y2=\"48px\" /><svg width=\"0.674764%\" x=\"11.0661%\" y=\"48px\"><defs /><svg width=\"100%\" x=\"0\" y=\"0px\"><defs /><text text-anchor=\"middle\" x=\"50%\" y=\"16px\">activity</text></svg><svg width=\"100%\" x=\"0%\" y=\"48px\"><defs /><svg width=\"100%\" x=\"0\" y=\"0px\"><defs /><text text-anchor=\"middle\" x=\"50%\" y=\"16px\">NN</text></svg></svg><line stroke=\"black\" x1=\"50%\" x2=\"50%\" y1=\"20px\" y2=\"48px\" /></svg><line stroke=\"black\" x1=\"50%\" x2=\"11.4035%\" y1=\"20px\" y2=\"48px\" /><svg width=\"0.607287%\" x=\"11.7409%\" y=\"48px\"><defs /><svg width=\"100%\" x=\"0\" y=\"0px\"><defs /><text text-anchor=\"middle\" x=\"50%\" y=\"16px\">systems</text></svg><svg width=\"100%\" x=\"0%\" y=\"48px\"><defs /><svg width=\"100%\" x=\"0\" y=\"0px\"><defs /><text text-anchor=\"middle\" x=\"50%\" y=\"16px\">NNS</text></svg></svg><line stroke=\"black\" x1=\"50%\" x2=\"50%\" y1=\"20px\" y2=\"48px\" /></svg><line stroke=\"black\" x1=\"50%\" x2=\"12.0445%\" y1=\"20px\" y2=\"48px\" /><svg width=\"0.202429%\" x=\"12.3482%\" y=\"48px\"><defs /><svg width=\"100%\" x=\"0\" y=\"0px\"><defs /><text text-anchor=\"middle\" x=\"50%\" y=\"16px\">,</text></svg><svg width=\"100%\" x=\"0%\" y=\"48px\"><defs /><svg width=\"100%\" x=\"0\" y=\"0px\"><defs /><text text-anchor=\"middle\" x=\"50%\" y=\"16px\">,</text></svg></svg><line stroke=\"black\" x1=\"50%\" x2=\"50%\" y1=\"20px\" y2=\"48px\" /></svg><line stroke=\"black\" x1=\"50%\" x2=\"12.4494%\" y1=\"20px\" y2=\"48px\" /><svg width=\"0.337382%\" x=\"12.5506%\" y=\"48px\"><defs /><svg width=\"100%\" x=\"0\" y=\"0px\"><defs /><text text-anchor=\"middle\" x=\"50%\" y=\"16px\">”</text></svg><svg width=\"100%\" x=\"0%\" y=\"48px\"><defs /><svg width=\"100%\" x=\"0\" y=\"0px\"><defs /><text text-anchor=\"middle\" x=\"50%\" y=\"16px\">NNP</text></svg></svg><line stroke=\"black\" x1=\"50%\" x2=\"50%\" y1=\"20px\" y2=\"48px\" /></svg><line stroke=\"black\" x1=\"50%\" x2=\"12.7193%\" y1=\"20px\" y2=\"48px\" /><svg width=\"0.269906%\" x=\"12.888%\" y=\"48px\"><defs /><svg width=\"100%\" x=\"0\" y=\"0px\"><defs /><text text-anchor=\"middle\" x=\"50%\" y=\"16px\">as</text></svg><svg width=\"100%\" x=\"0%\" y=\"48px\"><defs /><svg width=\"100%\" x=\"0\" y=\"0px\"><defs /><text text-anchor=\"middle\" x=\"50%\" y=\"16px\">IN</text></svg></svg><line stroke=\"black\" x1=\"50%\" x2=\"50%\" y1=\"20px\" y2=\"48px\" /></svg><line stroke=\"black\" x1=\"50%\" x2=\"13.0229%\" y1=\"20px\" y2=\"48px\" /><svg width=\"0.944669%\" x=\"13.1579%\" y=\"48px\"><defs /><svg width=\"100%\" x=\"0\" y=\"0px\"><defs /><text text-anchor=\"middle\" x=\"50%\" y=\"16px\">ORGANIZATION</text></svg><svg width=\"100%\" x=\"0%\" y=\"48px\"><defs /><svg width=\"100%\" x=\"0\" y=\"0px\"><defs /><text text-anchor=\"middle\" x=\"50%\" y=\"16px\">Bazerman</text></svg><svg width=\"100%\" x=\"0%\" y=\"48px\"><defs /><svg width=\"100%\" x=\"0\" y=\"0px\"><defs /><text text-anchor=\"middle\" x=\"50%\" y=\"16px\">NNP</text></svg></svg><line stroke=\"black\" x1=\"50%\" x2=\"50%\" y1=\"20px\" y2=\"48px\" /></svg><line stroke=\"black\" x1=\"50%\" x2=\"50%\" y1=\"20px\" y2=\"48px\" /></svg><line stroke=\"black\" x1=\"50%\" x2=\"13.6302%\" y1=\"20px\" y2=\"48px\" /><svg width=\"0.472335%\" x=\"14.1026%\" y=\"48px\"><defs /><svg width=\"100%\" x=\"0\" y=\"0px\"><defs /><text text-anchor=\"middle\" x=\"50%\" y=\"16px\">notes</text></svg><svg width=\"100%\" x=\"0%\" y=\"48px\"><defs /><svg width=\"100%\" x=\"0\" y=\"0px\"><defs /><text text-anchor=\"middle\" x=\"50%\" y=\"16px\">NNS</text></svg></svg><line stroke=\"black\" x1=\"50%\" x2=\"50%\" y1=\"20px\" y2=\"48px\" /></svg><line stroke=\"black\" x1=\"50%\" x2=\"14.3387%\" y1=\"20px\" y2=\"48px\" /><svg width=\"0.202429%\" x=\"14.5749%\" y=\"48px\"><defs /><svg width=\"100%\" x=\"0\" y=\"0px\"><defs /><text text-anchor=\"middle\" x=\"50%\" y=\"16px\">?</text></svg><svg width=\"100%\" x=\"0%\" y=\"48px\"><defs /><svg width=\"100%\" x=\"0\" y=\"0px\"><defs /><text text-anchor=\"middle\" x=\"50%\" y=\"16px\">.</text></svg></svg><line stroke=\"black\" x1=\"50%\" x2=\"50%\" y1=\"20px\" y2=\"48px\" /></svg><line stroke=\"black\" x1=\"50%\" x2=\"14.6761%\" y1=\"20px\" y2=\"48px\" /><svg width=\"0.472335%\" x=\"14.7773%\" y=\"48px\"><defs /><svg width=\"100%\" x=\"0\" y=\"0px\"><defs /><text text-anchor=\"middle\" x=\"50%\" y=\"16px\">While</text></svg><svg width=\"100%\" x=\"0%\" y=\"48px\"><defs /><svg width=\"100%\" x=\"0\" y=\"0px\"><defs /><text text-anchor=\"middle\" x=\"50%\" y=\"16px\">IN</text></svg></svg><line stroke=\"black\" x1=\"50%\" x2=\"50%\" y1=\"20px\" y2=\"48px\" /></svg><line stroke=\"black\" x1=\"50%\" x2=\"15.0135%\" y1=\"20px\" y2=\"48px\" /><svg width=\"0.337382%\" x=\"15.2497%\" y=\"48px\"><defs /><svg width=\"100%\" x=\"0\" y=\"0px\"><defs /><text text-anchor=\"middle\" x=\"50%\" y=\"16px\">we</text></svg><svg width=\"100%\" x=\"0%\" y=\"48px\"><defs /><svg width=\"100%\" x=\"0\" y=\"0px\"><defs /><text text-anchor=\"middle\" x=\"50%\" y=\"16px\">PRP</text></svg></svg><line stroke=\"black\" x1=\"50%\" x2=\"50%\" y1=\"20px\" y2=\"48px\" /></svg><line stroke=\"black\" x1=\"50%\" x2=\"15.4184%\" y1=\"20px\" y2=\"48px\" /><svg width=\"0.337382%\" x=\"15.587%\" y=\"48px\"><defs /><svg width=\"100%\" x=\"0\" y=\"0px\"><defs /><text text-anchor=\"middle\" x=\"50%\" y=\"16px\">are</text></svg><svg width=\"100%\" x=\"0%\" y=\"48px\"><defs /><svg width=\"100%\" x=\"0\" y=\"0px\"><defs /><text text-anchor=\"middle\" x=\"50%\" y=\"16px\">VBP</text></svg></svg><line stroke=\"black\" x1=\"50%\" x2=\"50%\" y1=\"20px\" y2=\"48px\" /></svg><line stroke=\"black\" x1=\"50%\" x2=\"15.7557%\" y1=\"20px\" y2=\"48px\" /><svg width=\"0.74224%\" x=\"15.9244%\" y=\"48px\"><defs /><svg width=\"100%\" x=\"0\" y=\"0px\"><defs /><text text-anchor=\"middle\" x=\"50%\" y=\"16px\">certainly</text></svg><svg width=\"100%\" x=\"0%\" y=\"48px\"><defs /><svg width=\"100%\" x=\"0\" y=\"0px\"><defs /><text text-anchor=\"middle\" x=\"50%\" y=\"16px\">RB</text></svg></svg><line stroke=\"black\" x1=\"50%\" x2=\"50%\" y1=\"20px\" y2=\"48px\" /></svg><line stroke=\"black\" x1=\"50%\" x2=\"16.2955%\" y1=\"20px\" y2=\"48px\" /><svg width=\"0.269906%\" x=\"16.6667%\" y=\"48px\"><defs /><svg width=\"100%\" x=\"0\" y=\"0px\"><defs /><text text-anchor=\"middle\" x=\"50%\" y=\"16px\">in</text></svg><svg width=\"100%\" x=\"0%\" y=\"48px\"><defs /><svg width=\"100%\" x=\"0\" y=\"0px\"><defs /><text text-anchor=\"middle\" x=\"50%\" y=\"16px\">IN</text></svg></svg><line stroke=\"black\" x1=\"50%\" x2=\"50%\" y1=\"20px\" y2=\"48px\" /></svg><line stroke=\"black\" x1=\"50%\" x2=\"16.8016%\" y1=\"20px\" y2=\"48px\" /><svg width=\"0.269906%\" x=\"16.9366%\" y=\"48px\"><defs /><svg width=\"100%\" x=\"0\" y=\"0px\"><defs /><text text-anchor=\"middle\" x=\"50%\" y=\"16px\">an</text></svg><svg width=\"100%\" x=\"0%\" y=\"48px\"><defs /><svg width=\"100%\" x=\"0\" y=\"0px\"><defs /><text text-anchor=\"middle\" x=\"50%\" y=\"16px\">DT</text></svg></svg><line stroke=\"black\" x1=\"50%\" x2=\"50%\" y1=\"20px\" y2=\"48px\" /></svg><line stroke=\"black\" x1=\"50%\" x2=\"17.0715%\" y1=\"20px\" y2=\"48px\" /><svg width=\"0.337382%\" x=\"17.2065%\" y=\"48px\"><defs /><svg width=\"100%\" x=\"0\" y=\"0px\"><defs /><text text-anchor=\"middle\" x=\"50%\" y=\"16px\">age</text></svg><svg width=\"100%\" x=\"0%\" y=\"48px\"><defs /><svg width=\"100%\" x=\"0\" y=\"0px\"><defs /><text text-anchor=\"middle\" x=\"50%\" y=\"16px\">NN</text></svg></svg><line stroke=\"black\" x1=\"50%\" x2=\"50%\" y1=\"20px\" y2=\"48px\" /></svg><line stroke=\"black\" x1=\"50%\" x2=\"17.3752%\" y1=\"20px\" y2=\"48px\" /><svg width=\"0.472335%\" x=\"17.5439%\" y=\"48px\"><defs /><svg width=\"100%\" x=\"0\" y=\"0px\"><defs /><text text-anchor=\"middle\" x=\"50%\" y=\"16px\">where</text></svg><svg width=\"100%\" x=\"0%\" y=\"48px\"><defs /><svg width=\"100%\" x=\"0\" y=\"0px\"><defs /><text text-anchor=\"middle\" x=\"50%\" y=\"16px\">WRB</text></svg></svg><line stroke=\"black\" x1=\"50%\" x2=\"50%\" y1=\"20px\" y2=\"48px\" /></svg><line stroke=\"black\" x1=\"50%\" x2=\"17.78%\" y1=\"20px\" y2=\"48px\" /><svg width=\"0.809717%\" x=\"18.0162%\" y=\"48px\"><defs /><svg width=\"100%\" x=\"0\" y=\"0px\"><defs /><text text-anchor=\"middle\" x=\"50%\" y=\"16px\">technology</text></svg><svg width=\"100%\" x=\"0%\" y=\"48px\"><defs /><svg width=\"100%\" x=\"0\" y=\"0px\"><defs /><text text-anchor=\"middle\" x=\"50%\" y=\"16px\">NN</text></svg></svg><line stroke=\"black\" x1=\"50%\" x2=\"50%\" y1=\"20px\" y2=\"48px\" /></svg><line stroke=\"black\" x1=\"50%\" x2=\"18.4211%\" y1=\"20px\" y2=\"48px\" /><svg width=\"0.472335%\" x=\"18.8259%\" y=\"48px\"><defs /><svg width=\"100%\" x=\"0\" y=\"0px\"><defs /><text text-anchor=\"middle\" x=\"50%\" y=\"16px\">plays</text></svg><svg width=\"100%\" x=\"0%\" y=\"48px\"><defs /><svg width=\"100%\" x=\"0\" y=\"0px\"><defs /><text text-anchor=\"middle\" x=\"50%\" y=\"16px\">VBZ</text></svg></svg><line stroke=\"black\" x1=\"50%\" x2=\"50%\" y1=\"20px\" y2=\"48px\" /></svg><line stroke=\"black\" x1=\"50%\" x2=\"19.0621%\" y1=\"20px\" y2=\"48px\" /><svg width=\"0.269906%\" x=\"19.2982%\" y=\"48px\"><defs /><svg width=\"100%\" x=\"0\" y=\"0px\"><defs /><text text-anchor=\"middle\" x=\"50%\" y=\"16px\">an</text></svg><svg width=\"100%\" x=\"0%\" y=\"48px\"><defs /><svg width=\"100%\" x=\"0\" y=\"0px\"><defs /><text text-anchor=\"middle\" x=\"50%\" y=\"16px\">DT</text></svg></svg><line stroke=\"black\" x1=\"50%\" x2=\"50%\" y1=\"20px\" y2=\"48px\" /></svg><line stroke=\"black\" x1=\"50%\" x2=\"19.4332%\" y1=\"20px\" y2=\"48px\" /><svg width=\"0.944669%\" x=\"19.5682%\" y=\"48px\"><defs /><svg width=\"100%\" x=\"0\" y=\"0px\"><defs /><text text-anchor=\"middle\" x=\"50%\" y=\"16px\">increasingly</text></svg><svg width=\"100%\" x=\"0%\" y=\"48px\"><defs /><svg width=\"100%\" x=\"0\" y=\"0px\"><defs /><text text-anchor=\"middle\" x=\"50%\" y=\"16px\">RB</text></svg></svg><line stroke=\"black\" x1=\"50%\" x2=\"50%\" y1=\"20px\" y2=\"48px\" /></svg><line stroke=\"black\" x1=\"50%\" x2=\"20.0405%\" y1=\"20px\" y2=\"48px\" /><svg width=\"0.74224%\" x=\"20.5128%\" y=\"48px\"><defs /><svg width=\"100%\" x=\"0\" y=\"0px\"><defs /><text text-anchor=\"middle\" x=\"50%\" y=\"16px\">important</text></svg><svg width=\"100%\" x=\"0%\" y=\"48px\"><defs /><svg width=\"100%\" x=\"0\" y=\"0px\"><defs /><text text-anchor=\"middle\" x=\"50%\" y=\"16px\">JJ</text></svg></svg><line stroke=\"black\" x1=\"50%\" x2=\"50%\" y1=\"20px\" y2=\"48px\" /></svg><line stroke=\"black\" x1=\"50%\" x2=\"20.8839%\" y1=\"20px\" y2=\"48px\" /><svg width=\"0.404858%\" x=\"21.2551%\" y=\"48px\"><defs /><svg width=\"100%\" x=\"0\" y=\"0px\"><defs /><text text-anchor=\"middle\" x=\"50%\" y=\"16px\">role</text></svg><svg width=\"100%\" x=\"0%\" y=\"48px\"><defs /><svg width=\"100%\" x=\"0\" y=\"0px\"><defs /><text text-anchor=\"middle\" x=\"50%\" y=\"16px\">NN</text></svg></svg><line stroke=\"black\" x1=\"50%\" x2=\"50%\" y1=\"20px\" y2=\"48px\" /></svg><line stroke=\"black\" x1=\"50%\" x2=\"21.4575%\" y1=\"20px\" y2=\"48px\" /><svg width=\"0.269906%\" x=\"21.6599%\" y=\"48px\"><defs /><svg width=\"100%\" x=\"0\" y=\"0px\"><defs /><text text-anchor=\"middle\" x=\"50%\" y=\"16px\">in</text></svg><svg width=\"100%\" x=\"0%\" y=\"48px\"><defs /><svg width=\"100%\" x=\"0\" y=\"0px\"><defs /><text text-anchor=\"middle\" x=\"50%\" y=\"16px\">IN</text></svg></svg><line stroke=\"black\" x1=\"50%\" x2=\"50%\" y1=\"20px\" y2=\"48px\" /></svg><line stroke=\"black\" x1=\"50%\" x2=\"21.7949%\" y1=\"20px\" y2=\"48px\" /><svg width=\"0.404858%\" x=\"21.9298%\" y=\"48px\"><defs /><svg width=\"100%\" x=\"0\" y=\"0px\"><defs /><text text-anchor=\"middle\" x=\"50%\" y=\"16px\">our</text></svg><svg width=\"100%\" x=\"0%\" y=\"48px\"><defs /><svg width=\"100%\" x=\"0\" y=\"0px\"><defs /><text text-anchor=\"middle\" x=\"50%\" y=\"16px\">PRP$</text></svg></svg><line stroke=\"black\" x1=\"50%\" x2=\"50%\" y1=\"20px\" y2=\"48px\" /></svg><line stroke=\"black\" x1=\"50%\" x2=\"22.1323%\" y1=\"20px\" y2=\"48px\" /><svg width=\"0.472335%\" x=\"22.3347%\" y=\"48px\"><defs /><svg width=\"100%\" x=\"0\" y=\"0px\"><defs /><text text-anchor=\"middle\" x=\"50%\" y=\"16px\">daily</text></svg><svg width=\"100%\" x=\"0%\" y=\"48px\"><defs /><svg width=\"100%\" x=\"0\" y=\"0px\"><defs /><text text-anchor=\"middle\" x=\"50%\" y=\"16px\">JJ</text></svg></svg><line stroke=\"black\" x1=\"50%\" x2=\"50%\" y1=\"20px\" y2=\"48px\" /></svg><line stroke=\"black\" x1=\"50%\" x2=\"22.5709%\" y1=\"20px\" y2=\"48px\" /><svg width=\"0.472335%\" x=\"22.807%\" y=\"48px\"><defs /><svg width=\"100%\" x=\"0\" y=\"0px\"><defs /><text text-anchor=\"middle\" x=\"50%\" y=\"16px\">lives</text></svg><svg width=\"100%\" x=\"0%\" y=\"48px\"><defs /><svg width=\"100%\" x=\"0\" y=\"0px\"><defs /><text text-anchor=\"middle\" x=\"50%\" y=\"16px\">NNS</text></svg></svg><line stroke=\"black\" x1=\"50%\" x2=\"50%\" y1=\"20px\" y2=\"48px\" /></svg><line stroke=\"black\" x1=\"50%\" x2=\"23.0432%\" y1=\"20px\" y2=\"48px\" /><svg width=\"0.202429%\" x=\"23.2794%\" y=\"48px\"><defs /><svg width=\"100%\" x=\"0\" y=\"0px\"><defs /><text text-anchor=\"middle\" x=\"50%\" y=\"16px\">,</text></svg><svg width=\"100%\" x=\"0%\" y=\"48px\"><defs /><svg width=\"100%\" x=\"0\" y=\"0px\"><defs /><text text-anchor=\"middle\" x=\"50%\" y=\"16px\">,</text></svg></svg><line stroke=\"black\" x1=\"50%\" x2=\"50%\" y1=\"20px\" y2=\"48px\" /></svg><line stroke=\"black\" x1=\"50%\" x2=\"23.3806%\" y1=\"20px\" y2=\"48px\" /><svg width=\"0.337382%\" x=\"23.4818%\" y=\"48px\"><defs /><svg width=\"100%\" x=\"0\" y=\"0px\"><defs /><text text-anchor=\"middle\" x=\"50%\" y=\"16px\">we</text></svg><svg width=\"100%\" x=\"0%\" y=\"48px\"><defs /><svg width=\"100%\" x=\"0\" y=\"0px\"><defs /><text text-anchor=\"middle\" x=\"50%\" y=\"16px\">PRP</text></svg></svg><line stroke=\"black\" x1=\"50%\" x2=\"50%\" y1=\"20px\" y2=\"48px\" /></svg><line stroke=\"black\" x1=\"50%\" x2=\"23.6505%\" y1=\"20px\" y2=\"48px\" /><svg width=\"0.404858%\" x=\"23.8192%\" y=\"48px\"><defs /><svg width=\"100%\" x=\"0\" y=\"0px\"><defs /><text text-anchor=\"middle\" x=\"50%\" y=\"16px\">have</text></svg><svg width=\"100%\" x=\"0%\" y=\"48px\"><defs /><svg width=\"100%\" x=\"0\" y=\"0px\"><defs /><text text-anchor=\"middle\" x=\"50%\" y=\"16px\">VBP</text></svg></svg><line stroke=\"black\" x1=\"50%\" x2=\"50%\" y1=\"20px\" y2=\"48px\" /></svg><line stroke=\"black\" x1=\"50%\" x2=\"24.0216%\" y1=\"20px\" y2=\"48px\" /><svg width=\"0.337382%\" x=\"24.224%\" y=\"48px\"><defs /><svg width=\"100%\" x=\"0\" y=\"0px\"><defs /><text text-anchor=\"middle\" x=\"50%\" y=\"16px\">not</text></svg><svg width=\"100%\" x=\"0%\" y=\"48px\"><defs /><svg width=\"100%\" x=\"0\" y=\"0px\"><defs /><text text-anchor=\"middle\" x=\"50%\" y=\"16px\">RB</text></svg></svg><line stroke=\"black\" x1=\"50%\" x2=\"50%\" y1=\"20px\" y2=\"48px\" /></svg><line stroke=\"black\" x1=\"50%\" x2=\"24.3927%\" y1=\"20px\" y2=\"48px\" /><svg width=\"0.337382%\" x=\"24.5614%\" y=\"48px\"><defs /><svg width=\"100%\" x=\"0\" y=\"0px\"><defs /><text text-anchor=\"middle\" x=\"50%\" y=\"16px\">yet</text></svg><svg width=\"100%\" x=\"0%\" y=\"48px\"><defs /><svg width=\"100%\" x=\"0\" y=\"0px\"><defs /><text text-anchor=\"middle\" x=\"50%\" y=\"16px\">RB</text></svg></svg><line stroke=\"black\" x1=\"50%\" x2=\"50%\" y1=\"20px\" y2=\"48px\" /></svg><line stroke=\"black\" x1=\"50%\" x2=\"24.7301%\" y1=\"20px\" y2=\"48px\" /><svg width=\"0.472335%\" x=\"24.8988%\" y=\"48px\"><defs /><svg width=\"100%\" x=\"0\" y=\"0px\"><defs /><text text-anchor=\"middle\" x=\"50%\" y=\"16px\">fully</text></svg><svg width=\"100%\" x=\"0%\" y=\"48px\"><defs /><svg width=\"100%\" x=\"0\" y=\"0px\"><defs /><text text-anchor=\"middle\" x=\"50%\" y=\"16px\">RB</text></svg></svg><line stroke=\"black\" x1=\"50%\" x2=\"50%\" y1=\"20px\" y2=\"48px\" /></svg><line stroke=\"black\" x1=\"50%\" x2=\"25.135%\" y1=\"20px\" y2=\"48px\" /><svg width=\"0.607287%\" x=\"25.3711%\" y=\"48px\"><defs /><svg width=\"100%\" x=\"0\" y=\"0px\"><defs /><text text-anchor=\"middle\" x=\"50%\" y=\"16px\">reached</text></svg><svg width=\"100%\" x=\"0%\" y=\"48px\"><defs /><svg width=\"100%\" x=\"0\" y=\"0px\"><defs /><text text-anchor=\"middle\" x=\"50%\" y=\"16px\">VBD</text></svg></svg><line stroke=\"black\" x1=\"50%\" x2=\"50%\" y1=\"20px\" y2=\"48px\" /></svg><line stroke=\"black\" x1=\"50%\" x2=\"25.6748%\" y1=\"20px\" y2=\"48px\" /><svg width=\"0.269906%\" x=\"25.9784%\" y=\"48px\"><defs /><svg width=\"100%\" x=\"0\" y=\"0px\"><defs /><text text-anchor=\"middle\" x=\"50%\" y=\"16px\">a</text></svg><svg width=\"100%\" x=\"0%\" y=\"48px\"><defs /><svg width=\"100%\" x=\"0\" y=\"0px\"><defs /><text text-anchor=\"middle\" x=\"50%\" y=\"16px\">DT</text></svg></svg><line stroke=\"black\" x1=\"50%\" x2=\"50%\" y1=\"20px\" y2=\"48px\" /></svg><line stroke=\"black\" x1=\"50%\" x2=\"26.1134%\" y1=\"20px\" y2=\"48px\" /><svg width=\"0.472335%\" x=\"26.2483%\" y=\"48px\"><defs /><svg width=\"100%\" x=\"0\" y=\"0px\"><defs /><text text-anchor=\"middle\" x=\"50%\" y=\"16px\">state</text></svg><svg width=\"100%\" x=\"0%\" y=\"48px\"><defs /><svg width=\"100%\" x=\"0\" y=\"0px\"><defs /><text text-anchor=\"middle\" x=\"50%\" y=\"16px\">NN</text></svg></svg><line stroke=\"black\" x1=\"50%\" x2=\"50%\" y1=\"20px\" y2=\"48px\" /></svg><line stroke=\"black\" x1=\"50%\" x2=\"26.4845%\" y1=\"20px\" y2=\"48px\" /><svg width=\"0.269906%\" x=\"26.7206%\" y=\"48px\"><defs /><svg width=\"100%\" x=\"0\" y=\"0px\"><defs /><text text-anchor=\"middle\" x=\"50%\" y=\"16px\">of</text></svg><svg width=\"100%\" x=\"0%\" y=\"48px\"><defs /><svg width=\"100%\" x=\"0\" y=\"0px\"><defs /><text text-anchor=\"middle\" x=\"50%\" y=\"16px\">IN</text></svg></svg><line stroke=\"black\" x1=\"50%\" x2=\"50%\" y1=\"20px\" y2=\"48px\" /></svg><line stroke=\"black\" x1=\"50%\" x2=\"26.8556%\" y1=\"20px\" y2=\"48px\" /><svg width=\"1.01215%\" x=\"26.9906%\" y=\"48px\"><defs /><svg width=\"100%\" x=\"0\" y=\"0px\"><defs /><text text-anchor=\"middle\" x=\"50%\" y=\"16px\">human-machine</text></svg><svg width=\"100%\" x=\"0%\" y=\"48px\"><defs /><svg width=\"100%\" x=\"0\" y=\"0px\"><defs /><text text-anchor=\"middle\" x=\"50%\" y=\"16px\">JJ</text></svg></svg><line stroke=\"black\" x1=\"50%\" x2=\"50%\" y1=\"20px\" y2=\"48px\" /></svg><line stroke=\"black\" x1=\"50%\" x2=\"27.4966%\" y1=\"20px\" y2=\"48px\" /><svg width=\"0.74224%\" x=\"28.0027%\" y=\"48px\"><defs /><svg width=\"100%\" x=\"0\" y=\"0px\"><defs /><text text-anchor=\"middle\" x=\"50%\" y=\"16px\">symbiosis</text></svg><svg width=\"100%\" x=\"0%\" y=\"48px\"><defs /><svg width=\"100%\" x=\"0\" y=\"0px\"><defs /><text text-anchor=\"middle\" x=\"50%\" y=\"16px\">NN</text></svg></svg><line stroke=\"black\" x1=\"50%\" x2=\"50%\" y1=\"20px\" y2=\"48px\" /></svg><line stroke=\"black\" x1=\"50%\" x2=\"28.3738%\" y1=\"20px\" y2=\"48px\" /><svg width=\"0.202429%\" x=\"28.7449%\" y=\"48px\"><defs /><svg width=\"100%\" x=\"0\" y=\"0px\"><defs /><text text-anchor=\"middle\" x=\"50%\" y=\"16px\">.</text></svg><svg width=\"100%\" x=\"0%\" y=\"48px\"><defs /><svg width=\"100%\" x=\"0\" y=\"0px\"><defs /><text text-anchor=\"middle\" x=\"50%\" y=\"16px\">.</text></svg></svg><line stroke=\"black\" x1=\"50%\" x2=\"50%\" y1=\"20px\" y2=\"48px\" /></svg><line stroke=\"black\" x1=\"50%\" x2=\"28.8462%\" y1=\"20px\" y2=\"48px\" /><svg width=\"0.607287%\" x=\"28.9474%\" y=\"48px\"><defs /><svg width=\"100%\" x=\"0\" y=\"0px\"><defs /><text text-anchor=\"middle\" x=\"50%\" y=\"16px\">However</text></svg><svg width=\"100%\" x=\"0%\" y=\"48px\"><defs /><svg width=\"100%\" x=\"0\" y=\"0px\"><defs /><text text-anchor=\"middle\" x=\"50%\" y=\"16px\">RB</text></svg></svg><line stroke=\"black\" x1=\"50%\" x2=\"50%\" y1=\"20px\" y2=\"48px\" /></svg><line stroke=\"black\" x1=\"50%\" x2=\"29.251%\" y1=\"20px\" y2=\"48px\" /><svg width=\"0.202429%\" x=\"29.5547%\" y=\"48px\"><defs /><svg width=\"100%\" x=\"0\" y=\"0px\"><defs /><text text-anchor=\"middle\" x=\"50%\" y=\"16px\">,</text></svg><svg width=\"100%\" x=\"0%\" y=\"48px\"><defs /><svg width=\"100%\" x=\"0\" y=\"0px\"><defs /><text text-anchor=\"middle\" x=\"50%\" y=\"16px\">,</text></svg></svg><line stroke=\"black\" x1=\"50%\" x2=\"50%\" y1=\"20px\" y2=\"48px\" /></svg><line stroke=\"black\" x1=\"50%\" x2=\"29.6559%\" y1=\"20px\" y2=\"48px\" /><svg width=\"0.472335%\" x=\"29.7571%\" y=\"48px\"><defs /><svg width=\"100%\" x=\"0\" y=\"0px\"><defs /><text text-anchor=\"middle\" x=\"50%\" y=\"16px\">there</text></svg><svg width=\"100%\" x=\"0%\" y=\"48px\"><defs /><svg width=\"100%\" x=\"0\" y=\"0px\"><defs /><text text-anchor=\"middle\" x=\"50%\" y=\"16px\">EX</text></svg></svg><line stroke=\"black\" x1=\"50%\" x2=\"50%\" y1=\"20px\" y2=\"48px\" /></svg><line stroke=\"black\" x1=\"50%\" x2=\"29.9933%\" y1=\"20px\" y2=\"48px\" /><svg width=\"0.337382%\" x=\"30.2294%\" y=\"48px\"><defs /><svg width=\"100%\" x=\"0\" y=\"0px\"><defs /><text text-anchor=\"middle\" x=\"50%\" y=\"16px\">are</text></svg><svg width=\"100%\" x=\"0%\" y=\"48px\"><defs /><svg width=\"100%\" x=\"0\" y=\"0px\"><defs /><text text-anchor=\"middle\" x=\"50%\" y=\"16px\">VBP</text></svg></svg><line stroke=\"black\" x1=\"50%\" x2=\"50%\" y1=\"20px\" y2=\"48px\" /></svg><line stroke=\"black\" x1=\"50%\" x2=\"30.3981%\" y1=\"20px\" y2=\"48px\" /><svg width=\"0.74224%\" x=\"30.5668%\" y=\"48px\"><defs /><svg width=\"100%\" x=\"0\" y=\"0px\"><defs /><text text-anchor=\"middle\" x=\"50%\" y=\"16px\">certainly</text></svg><svg width=\"100%\" x=\"0%\" y=\"48px\"><defs /><svg width=\"100%\" x=\"0\" y=\"0px\"><defs /><text text-anchor=\"middle\" x=\"50%\" y=\"16px\">RB</text></svg></svg><line stroke=\"black\" x1=\"50%\" x2=\"50%\" y1=\"20px\" y2=\"48px\" /></svg><line stroke=\"black\" x1=\"50%\" x2=\"30.9379%\" y1=\"20px\" y2=\"48px\" /><svg width=\"0.674764%\" x=\"31.309%\" y=\"48px\"><defs /><svg width=\"100%\" x=\"0\" y=\"0px\"><defs /><text text-anchor=\"middle\" x=\"50%\" y=\"16px\">elements</text></svg><svg width=\"100%\" x=\"0%\" y=\"48px\"><defs /><svg width=\"100%\" x=\"0\" y=\"0px\"><defs /><text text-anchor=\"middle\" x=\"50%\" y=\"16px\">NNS</text></svg></svg><line stroke=\"black\" x1=\"50%\" x2=\"50%\" y1=\"20px\" y2=\"48px\" /></svg><line stroke=\"black\" x1=\"50%\" x2=\"31.6464%\" y1=\"20px\" y2=\"48px\" /><svg width=\"0.269906%\" x=\"31.9838%\" y=\"48px\"><defs /><svg width=\"100%\" x=\"0\" y=\"0px\"><defs /><text text-anchor=\"middle\" x=\"50%\" y=\"16px\">of</text></svg><svg width=\"100%\" x=\"0%\" y=\"48px\"><defs /><svg width=\"100%\" x=\"0\" y=\"0px\"><defs /><text text-anchor=\"middle\" x=\"50%\" y=\"16px\">IN</text></svg></svg><line stroke=\"black\" x1=\"50%\" x2=\"50%\" y1=\"20px\" y2=\"48px\" /></svg><line stroke=\"black\" x1=\"50%\" x2=\"32.1188%\" y1=\"20px\" y2=\"48px\" /><svg width=\"0.74224%\" x=\"32.2537%\" y=\"48px\"><defs /><svg width=\"100%\" x=\"0\" y=\"0px\"><defs /><text text-anchor=\"middle\" x=\"50%\" y=\"16px\">symbiosis</text></svg><svg width=\"100%\" x=\"0%\" y=\"48px\"><defs /><svg width=\"100%\" x=\"0\" y=\"0px\"><defs /><text text-anchor=\"middle\" x=\"50%\" y=\"16px\">NN</text></svg></svg><line stroke=\"black\" x1=\"50%\" x2=\"50%\" y1=\"20px\" y2=\"48px\" /></svg><line stroke=\"black\" x1=\"50%\" x2=\"32.6248%\" y1=\"20px\" y2=\"48px\" /><svg width=\"0.404858%\" x=\"32.996%\" y=\"48px\"><defs /><svg width=\"100%\" x=\"0\" y=\"0px\"><defs /><text text-anchor=\"middle\" x=\"50%\" y=\"16px\">that</text></svg><svg width=\"100%\" x=\"0%\" y=\"48px\"><defs /><svg width=\"100%\" x=\"0\" y=\"0px\"><defs /><text text-anchor=\"middle\" x=\"50%\" y=\"16px\">WDT</text></svg></svg><line stroke=\"black\" x1=\"50%\" x2=\"50%\" y1=\"20px\" y2=\"48px\" /></svg><line stroke=\"black\" x1=\"50%\" x2=\"33.1984%\" y1=\"20px\" y2=\"48px\" /><svg width=\"0.337382%\" x=\"33.4008%\" y=\"48px\"><defs /><svg width=\"100%\" x=\"0\" y=\"0px\"><defs /><text text-anchor=\"middle\" x=\"50%\" y=\"16px\">can</text></svg><svg width=\"100%\" x=\"0%\" y=\"48px\"><defs /><svg width=\"100%\" x=\"0\" y=\"0px\"><defs /><text text-anchor=\"middle\" x=\"50%\" y=\"16px\">MD</text></svg></svg><line stroke=\"black\" x1=\"50%\" x2=\"50%\" y1=\"20px\" y2=\"48px\" /></svg><line stroke=\"black\" x1=\"50%\" x2=\"33.5695%\" y1=\"20px\" y2=\"48px\" /><svg width=\"0.269906%\" x=\"33.7382%\" y=\"48px\"><defs /><svg width=\"100%\" x=\"0\" y=\"0px\"><defs /><text text-anchor=\"middle\" x=\"50%\" y=\"16px\">be</text></svg><svg width=\"100%\" x=\"0%\" y=\"48px\"><defs /><svg width=\"100%\" x=\"0\" y=\"0px\"><defs /><text text-anchor=\"middle\" x=\"50%\" y=\"16px\">VB</text></svg></svg><line stroke=\"black\" x1=\"50%\" x2=\"50%\" y1=\"20px\" y2=\"48px\" /></svg><line stroke=\"black\" x1=\"50%\" x2=\"33.8731%\" y1=\"20px\" y2=\"48px\" /><svg width=\"0.404858%\" x=\"34.0081%\" y=\"48px\"><defs /><svg width=\"100%\" x=\"0\" y=\"0px\"><defs /><text text-anchor=\"middle\" x=\"50%\" y=\"16px\">seen</text></svg><svg width=\"100%\" x=\"0%\" y=\"48px\"><defs /><svg width=\"100%\" x=\"0\" y=\"0px\"><defs /><text text-anchor=\"middle\" x=\"50%\" y=\"16px\">VBN</text></svg></svg><line stroke=\"black\" x1=\"50%\" x2=\"50%\" y1=\"20px\" y2=\"48px\" /></svg><line stroke=\"black\" x1=\"50%\" x2=\"34.2105%\" y1=\"20px\" y2=\"48px\" /><svg width=\"0.269906%\" x=\"34.413%\" y=\"48px\"><defs /><svg width=\"100%\" x=\"0\" y=\"0px\"><defs /><text text-anchor=\"middle\" x=\"50%\" y=\"16px\">in</text></svg><svg width=\"100%\" x=\"0%\" y=\"48px\"><defs /><svg width=\"100%\" x=\"0\" y=\"0px\"><defs /><text text-anchor=\"middle\" x=\"50%\" y=\"16px\">IN</text></svg></svg><line stroke=\"black\" x1=\"50%\" x2=\"50%\" y1=\"20px\" y2=\"48px\" /></svg><line stroke=\"black\" x1=\"50%\" x2=\"34.5479%\" y1=\"20px\" y2=\"48px\" /><svg width=\"0.607287%\" x=\"34.6829%\" y=\"48px\"><defs /><svg width=\"100%\" x=\"0\" y=\"0px\"><defs /><text text-anchor=\"middle\" x=\"50%\" y=\"16px\">certain</text></svg><svg width=\"100%\" x=\"0%\" y=\"48px\"><defs /><svg width=\"100%\" x=\"0\" y=\"0px\"><defs /><text text-anchor=\"middle\" x=\"50%\" y=\"16px\">JJ</text></svg></svg><line stroke=\"black\" x1=\"50%\" x2=\"50%\" y1=\"20px\" y2=\"48px\" /></svg><line stroke=\"black\" x1=\"50%\" x2=\"34.9865%\" y1=\"20px\" y2=\"48px\" /><svg width=\"0.607287%\" x=\"35.2901%\" y=\"48px\"><defs /><svg width=\"100%\" x=\"0\" y=\"0px\"><defs /><text text-anchor=\"middle\" x=\"50%\" y=\"16px\">domains</text></svg><svg width=\"100%\" x=\"0%\" y=\"48px\"><defs /><svg width=\"100%\" x=\"0\" y=\"0px\"><defs /><text text-anchor=\"middle\" x=\"50%\" y=\"16px\">NNS</text></svg></svg><line stroke=\"black\" x1=\"50%\" x2=\"50%\" y1=\"20px\" y2=\"48px\" /></svg><line stroke=\"black\" x1=\"50%\" x2=\"35.5938%\" y1=\"20px\" y2=\"48px\" /><svg width=\"0.202429%\" x=\"35.8974%\" y=\"48px\"><defs /><svg width=\"100%\" x=\"0\" y=\"0px\"><defs /><text text-anchor=\"middle\" x=\"50%\" y=\"16px\">.</text></svg><svg width=\"100%\" x=\"0%\" y=\"48px\"><defs /><svg width=\"100%\" x=\"0\" y=\"0px\"><defs /><text text-anchor=\"middle\" x=\"50%\" y=\"16px\">.</text></svg></svg><line stroke=\"black\" x1=\"50%\" x2=\"50%\" y1=\"20px\" y2=\"48px\" /></svg><line stroke=\"black\" x1=\"50%\" x2=\"35.9987%\" y1=\"20px\" y2=\"48px\" /><svg width=\"0.337382%\" x=\"36.0999%\" y=\"48px\"><defs /><svg width=\"100%\" x=\"0\" y=\"0px\"><defs /><text text-anchor=\"middle\" x=\"50%\" y=\"16px\">For</text></svg><svg width=\"100%\" x=\"0%\" y=\"48px\"><defs /><svg width=\"100%\" x=\"0\" y=\"0px\"><defs /><text text-anchor=\"middle\" x=\"50%\" y=\"16px\">IN</text></svg></svg><line stroke=\"black\" x1=\"50%\" x2=\"50%\" y1=\"20px\" y2=\"48px\" /></svg><line stroke=\"black\" x1=\"50%\" x2=\"36.2686%\" y1=\"20px\" y2=\"48px\" /><svg width=\"0.607287%\" x=\"36.4372%\" y=\"48px\"><defs /><svg width=\"100%\" x=\"0\" y=\"0px\"><defs /><text text-anchor=\"middle\" x=\"50%\" y=\"16px\">example</text></svg><svg width=\"100%\" x=\"0%\" y=\"48px\"><defs /><svg width=\"100%\" x=\"0\" y=\"0px\"><defs /><text text-anchor=\"middle\" x=\"50%\" y=\"16px\">NN</text></svg></svg><line stroke=\"black\" x1=\"50%\" x2=\"50%\" y1=\"20px\" y2=\"48px\" /></svg><line stroke=\"black\" x1=\"50%\" x2=\"36.7409%\" y1=\"20px\" y2=\"48px\" /><svg width=\"0.202429%\" x=\"37.0445%\" y=\"48px\"><defs /><svg width=\"100%\" x=\"0\" y=\"0px\"><defs /><text text-anchor=\"middle\" x=\"50%\" y=\"16px\">,</text></svg><svg width=\"100%\" x=\"0%\" y=\"48px\"><defs /><svg width=\"100%\" x=\"0\" y=\"0px\"><defs /><text text-anchor=\"middle\" x=\"50%\" y=\"16px\">,</text></svg></svg><line stroke=\"black\" x1=\"50%\" x2=\"50%\" y1=\"20px\" y2=\"48px\" /></svg><line stroke=\"black\" x1=\"50%\" x2=\"37.1457%\" y1=\"20px\" y2=\"48px\" /><svg width=\"0.269906%\" x=\"37.247%\" y=\"48px\"><defs /><svg width=\"100%\" x=\"0\" y=\"0px\"><defs /><text text-anchor=\"middle\" x=\"50%\" y=\"16px\">in</text></svg><svg width=\"100%\" x=\"0%\" y=\"48px\"><defs /><svg width=\"100%\" x=\"0\" y=\"0px\"><defs /><text text-anchor=\"middle\" x=\"50%\" y=\"16px\">IN</text></svg></svg><line stroke=\"black\" x1=\"50%\" x2=\"50%\" y1=\"20px\" y2=\"48px\" /></svg><line stroke=\"black\" x1=\"50%\" x2=\"37.3819%\" y1=\"20px\" y2=\"48px\" /><svg width=\"0.404858%\" x=\"37.5169%\" y=\"48px\"><defs /><svg width=\"100%\" x=\"0\" y=\"0px\"><defs /><text text-anchor=\"middle\" x=\"50%\" y=\"16px\">some</text></svg><svg width=\"100%\" x=\"0%\" y=\"48px\"><defs /><svg width=\"100%\" x=\"0\" y=\"0px\"><defs /><text text-anchor=\"middle\" x=\"50%\" y=\"16px\">DT</text></svg></svg><line stroke=\"black\" x1=\"50%\" x2=\"50%\" y1=\"20px\" y2=\"48px\" /></svg><line stroke=\"black\" x1=\"50%\" x2=\"37.7193%\" y1=\"20px\" y2=\"48px\" /><svg width=\"0.877193%\" x=\"37.9217%\" y=\"48px\"><defs /><svg width=\"100%\" x=\"0\" y=\"0px\"><defs /><text text-anchor=\"middle\" x=\"50%\" y=\"16px\">professions</text></svg><svg width=\"100%\" x=\"0%\" y=\"48px\"><defs /><svg width=\"100%\" x=\"0\" y=\"0px\"><defs /><text text-anchor=\"middle\" x=\"50%\" y=\"16px\">NNS</text></svg></svg><line stroke=\"black\" x1=\"50%\" x2=\"50%\" y1=\"20px\" y2=\"48px\" /></svg><line stroke=\"black\" x1=\"50%\" x2=\"38.3603%\" y1=\"20px\" y2=\"48px\" /><svg width=\"0.404858%\" x=\"38.7989%\" y=\"48px\"><defs /><svg width=\"100%\" x=\"0\" y=\"0px\"><defs /><text text-anchor=\"middle\" x=\"50%\" y=\"16px\">such</text></svg><svg width=\"100%\" x=\"0%\" y=\"48px\"><defs /><svg width=\"100%\" x=\"0\" y=\"0px\"><defs /><text text-anchor=\"middle\" x=\"50%\" y=\"16px\">JJ</text></svg></svg><line stroke=\"black\" x1=\"50%\" x2=\"50%\" y1=\"20px\" y2=\"48px\" /></svg><line stroke=\"black\" x1=\"50%\" x2=\"39.0013%\" y1=\"20px\" y2=\"48px\" /><svg width=\"0.269906%\" x=\"39.2038%\" y=\"48px\"><defs /><svg width=\"100%\" x=\"0\" y=\"0px\"><defs /><text text-anchor=\"middle\" x=\"50%\" y=\"16px\">as</text></svg><svg width=\"100%\" x=\"0%\" y=\"48px\"><defs /><svg width=\"100%\" x=\"0\" y=\"0px\"><defs /><text text-anchor=\"middle\" x=\"50%\" y=\"16px\">IN</text></svg></svg><line stroke=\"black\" x1=\"50%\" x2=\"50%\" y1=\"20px\" y2=\"48px\" /></svg><line stroke=\"black\" x1=\"50%\" x2=\"39.3387%\" y1=\"20px\" y2=\"48px\" /><svg width=\"0.674764%\" x=\"39.4737%\" y=\"48px\"><defs /><svg width=\"100%\" x=\"0\" y=\"0px\"><defs /><text text-anchor=\"middle\" x=\"50%\" y=\"16px\">medicine</text></svg><svg width=\"100%\" x=\"0%\" y=\"48px\"><defs /><svg width=\"100%\" x=\"0\" y=\"0px\"><defs /><text text-anchor=\"middle\" x=\"50%\" y=\"16px\">NN</text></svg></svg><line stroke=\"black\" x1=\"50%\" x2=\"50%\" y1=\"20px\" y2=\"48px\" /></svg><line stroke=\"black\" x1=\"50%\" x2=\"39.8111%\" y1=\"20px\" y2=\"48px\" /><svg width=\"0.269906%\" x=\"40.1484%\" y=\"48px\"><defs /><svg width=\"100%\" x=\"0\" y=\"0px\"><defs /><text text-anchor=\"middle\" x=\"50%\" y=\"16px\">or</text></svg><svg width=\"100%\" x=\"0%\" y=\"48px\"><defs /><svg width=\"100%\" x=\"0\" y=\"0px\"><defs /><text text-anchor=\"middle\" x=\"50%\" y=\"16px\">CC</text></svg></svg><line stroke=\"black\" x1=\"50%\" x2=\"50%\" y1=\"20px\" y2=\"48px\" /></svg><line stroke=\"black\" x1=\"50%\" x2=\"40.2834%\" y1=\"20px\" y2=\"48px\" /><svg width=\"0.674764%\" x=\"40.4184%\" y=\"48px\"><defs /><svg width=\"100%\" x=\"0\" y=\"0px\"><defs /><text text-anchor=\"middle\" x=\"50%\" y=\"16px\">aviation</text></svg><svg width=\"100%\" x=\"0%\" y=\"48px\"><defs /><svg width=\"100%\" x=\"0\" y=\"0px\"><defs /><text text-anchor=\"middle\" x=\"50%\" y=\"16px\">NN</text></svg></svg><line stroke=\"black\" x1=\"50%\" x2=\"50%\" y1=\"20px\" y2=\"48px\" /></svg><line stroke=\"black\" x1=\"50%\" x2=\"40.7557%\" y1=\"20px\" y2=\"48px\" /><svg width=\"0.202429%\" x=\"41.0931%\" y=\"48px\"><defs /><svg width=\"100%\" x=\"0\" y=\"0px\"><defs /><text text-anchor=\"middle\" x=\"50%\" y=\"16px\">,</text></svg><svg width=\"100%\" x=\"0%\" y=\"48px\"><defs /><svg width=\"100%\" x=\"0\" y=\"0px\"><defs /><text text-anchor=\"middle\" x=\"50%\" y=\"16px\">,</text></svg></svg><line stroke=\"black\" x1=\"50%\" x2=\"50%\" y1=\"20px\" y2=\"48px\" /></svg><line stroke=\"black\" x1=\"50%\" x2=\"41.1943%\" y1=\"20px\" y2=\"48px\" /><svg width=\"0.809717%\" x=\"41.2955%\" y=\"48px\"><defs /><svg width=\"100%\" x=\"0\" y=\"0px\"><defs /><text text-anchor=\"middle\" x=\"50%\" y=\"16px\">technology</text></svg><svg width=\"100%\" x=\"0%\" y=\"48px\"><defs /><svg width=\"100%\" x=\"0\" y=\"0px\"><defs /><text text-anchor=\"middle\" x=\"50%\" y=\"16px\">NN</text></svg></svg><line stroke=\"black\" x1=\"50%\" x2=\"50%\" y1=\"20px\" y2=\"48px\" /></svg><line stroke=\"black\" x1=\"50%\" x2=\"41.7004%\" y1=\"20px\" y2=\"48px\" /><svg width=\"0.472335%\" x=\"42.1053%\" y=\"48px\"><defs /><svg width=\"100%\" x=\"0\" y=\"0px\"><defs /><text text-anchor=\"middle\" x=\"50%\" y=\"16px\">plays</text></svg><svg width=\"100%\" x=\"0%\" y=\"48px\"><defs /><svg width=\"100%\" x=\"0\" y=\"0px\"><defs /><text text-anchor=\"middle\" x=\"50%\" y=\"16px\">NNS</text></svg></svg><line stroke=\"black\" x1=\"50%\" x2=\"50%\" y1=\"20px\" y2=\"48px\" /></svg><line stroke=\"black\" x1=\"50%\" x2=\"42.3414%\" y1=\"20px\" y2=\"48px\" /><svg width=\"0.269906%\" x=\"42.5776%\" y=\"48px\"><defs /><svg width=\"100%\" x=\"0\" y=\"0px\"><defs /><text text-anchor=\"middle\" x=\"50%\" y=\"16px\">an</text></svg><svg width=\"100%\" x=\"0%\" y=\"48px\"><defs /><svg width=\"100%\" x=\"0\" y=\"0px\"><defs /><text text-anchor=\"middle\" x=\"50%\" y=\"16px\">DT</text></svg></svg><line stroke=\"black\" x1=\"50%\" x2=\"50%\" y1=\"20px\" y2=\"48px\" /></svg><line stroke=\"black\" x1=\"50%\" x2=\"42.7126%\" y1=\"20px\" y2=\"48px\" /><svg width=\"0.674764%\" x=\"42.8475%\" y=\"48px\"><defs /><svg width=\"100%\" x=\"0\" y=\"0px\"><defs /><text text-anchor=\"middle\" x=\"50%\" y=\"16px\">integral</text></svg><svg width=\"100%\" x=\"0%\" y=\"48px\"><defs /><svg width=\"100%\" x=\"0\" y=\"0px\"><defs /><text text-anchor=\"middle\" x=\"50%\" y=\"16px\">JJ</text></svg></svg><line stroke=\"black\" x1=\"50%\" x2=\"50%\" y1=\"20px\" y2=\"48px\" /></svg><line stroke=\"black\" x1=\"50%\" x2=\"43.1849%\" y1=\"20px\" y2=\"48px\" /><svg width=\"0.404858%\" x=\"43.5223%\" y=\"48px\"><defs /><svg width=\"100%\" x=\"0\" y=\"0px\"><defs /><text text-anchor=\"middle\" x=\"50%\" y=\"16px\">role</text></svg><svg width=\"100%\" x=\"0%\" y=\"48px\"><defs /><svg width=\"100%\" x=\"0\" y=\"0px\"><defs /><text text-anchor=\"middle\" x=\"50%\" y=\"16px\">NN</text></svg></svg><line stroke=\"black\" x1=\"50%\" x2=\"50%\" y1=\"20px\" y2=\"48px\" /></svg><line stroke=\"black\" x1=\"50%\" x2=\"43.7247%\" y1=\"20px\" y2=\"48px\" /><svg width=\"0.269906%\" x=\"43.9271%\" y=\"48px\"><defs /><svg width=\"100%\" x=\"0\" y=\"0px\"><defs /><text text-anchor=\"middle\" x=\"50%\" y=\"16px\">in</text></svg><svg width=\"100%\" x=\"0%\" y=\"48px\"><defs /><svg width=\"100%\" x=\"0\" y=\"0px\"><defs /><text text-anchor=\"middle\" x=\"50%\" y=\"16px\">IN</text></svg></svg><line stroke=\"black\" x1=\"50%\" x2=\"50%\" y1=\"20px\" y2=\"48px\" /></svg><line stroke=\"black\" x1=\"50%\" x2=\"44.0621%\" y1=\"20px\" y2=\"48px\" /><svg width=\"0.809717%\" x=\"44.197%\" y=\"48px\"><defs /><svg width=\"100%\" x=\"0\" y=\"0px\"><defs /><text text-anchor=\"middle\" x=\"50%\" y=\"16px\">supporting</text></svg><svg width=\"100%\" x=\"0%\" y=\"48px\"><defs /><svg width=\"100%\" x=\"0\" y=\"0px\"><defs /><text text-anchor=\"middle\" x=\"50%\" y=\"16px\">VBG</text></svg></svg><line stroke=\"black\" x1=\"50%\" x2=\"50%\" y1=\"20px\" y2=\"48px\" /></svg><line stroke=\"black\" x1=\"50%\" x2=\"44.6019%\" y1=\"20px\" y2=\"48px\" /><svg width=\"0.472335%\" x=\"45.0067%\" y=\"48px\"><defs /><svg width=\"100%\" x=\"0\" y=\"0px\"><defs /><text text-anchor=\"middle\" x=\"50%\" y=\"16px\">human</text></svg><svg width=\"100%\" x=\"0%\" y=\"48px\"><defs /><svg width=\"100%\" x=\"0\" y=\"0px\"><defs /><text text-anchor=\"middle\" x=\"50%\" y=\"16px\">JJ</text></svg></svg><line stroke=\"black\" x1=\"50%\" x2=\"50%\" y1=\"20px\" y2=\"48px\" /></svg><line stroke=\"black\" x1=\"50%\" x2=\"45.2429%\" y1=\"20px\" y2=\"48px\" /><svg width=\"1.1471%\" x=\"45.4791%\" y=\"48px\"><defs /><svg width=\"100%\" x=\"0\" y=\"0px\"><defs /><text text-anchor=\"middle\" x=\"50%\" y=\"16px\">decision-making</text></svg><svg width=\"100%\" x=\"0%\" y=\"48px\"><defs /><svg width=\"100%\" x=\"0\" y=\"0px\"><defs /><text text-anchor=\"middle\" x=\"50%\" y=\"16px\">NN</text></svg></svg><line stroke=\"black\" x1=\"50%\" x2=\"50%\" y1=\"20px\" y2=\"48px\" /></svg><line stroke=\"black\" x1=\"50%\" x2=\"46.0526%\" y1=\"20px\" y2=\"48px\" /><svg width=\"0.337382%\" x=\"46.6262%\" y=\"48px\"><defs /><svg width=\"100%\" x=\"0\" y=\"0px\"><defs /><text text-anchor=\"middle\" x=\"50%\" y=\"16px\">and</text></svg><svg width=\"100%\" x=\"0%\" y=\"48px\"><defs /><svg width=\"100%\" x=\"0\" y=\"0px\"><defs /><text text-anchor=\"middle\" x=\"50%\" y=\"16px\">CC</text></svg></svg><line stroke=\"black\" x1=\"50%\" x2=\"50%\" y1=\"20px\" y2=\"48px\" /></svg><line stroke=\"black\" x1=\"50%\" x2=\"46.7949%\" y1=\"20px\" y2=\"48px\" /><svg width=\"0.539811%\" x=\"46.9636%\" y=\"48px\"><defs /><svg width=\"100%\" x=\"0\" y=\"0px\"><defs /><text text-anchor=\"middle\" x=\"50%\" y=\"16px\">action</text></svg><svg width=\"100%\" x=\"0%\" y=\"48px\"><defs /><svg width=\"100%\" x=\"0\" y=\"0px\"><defs /><text text-anchor=\"middle\" x=\"50%\" y=\"16px\">NN</text></svg></svg><line stroke=\"black\" x1=\"50%\" x2=\"50%\" y1=\"20px\" y2=\"48px\" /></svg><line stroke=\"black\" x1=\"50%\" x2=\"47.2335%\" y1=\"20px\" y2=\"48px\" /><svg width=\"0.202429%\" x=\"47.5034%\" y=\"48px\"><defs /><svg width=\"100%\" x=\"0\" y=\"0px\"><defs /><text text-anchor=\"middle\" x=\"50%\" y=\"16px\">.</text></svg><svg width=\"100%\" x=\"0%\" y=\"48px\"><defs /><svg width=\"100%\" x=\"0\" y=\"0px\"><defs /><text text-anchor=\"middle\" x=\"50%\" y=\"16px\">.</text></svg></svg><line stroke=\"black\" x1=\"50%\" x2=\"50%\" y1=\"20px\" y2=\"48px\" /></svg><line stroke=\"black\" x1=\"50%\" x2=\"47.6046%\" y1=\"20px\" y2=\"48px\" /><svg width=\"0.269906%\" x=\"47.7058%\" y=\"48px\"><defs /><svg width=\"100%\" x=\"0\" y=\"0px\"><defs /><text text-anchor=\"middle\" x=\"50%\" y=\"16px\">In</text></svg><svg width=\"100%\" x=\"0%\" y=\"48px\"><defs /><svg width=\"100%\" x=\"0\" y=\"0px\"><defs /><text text-anchor=\"middle\" x=\"50%\" y=\"16px\">IN</text></svg></svg><line stroke=\"black\" x1=\"50%\" x2=\"50%\" y1=\"20px\" y2=\"48px\" /></svg><line stroke=\"black\" x1=\"50%\" x2=\"47.8408%\" y1=\"20px\" y2=\"48px\" /><svg width=\"0.472335%\" x=\"47.9757%\" y=\"48px\"><defs /><svg width=\"100%\" x=\"0\" y=\"0px\"><defs /><text text-anchor=\"middle\" x=\"50%\" y=\"16px\">these</text></svg><svg width=\"100%\" x=\"0%\" y=\"48px\"><defs /><svg width=\"100%\" x=\"0\" y=\"0px\"><defs /><text text-anchor=\"middle\" x=\"50%\" y=\"16px\">DT</text></svg></svg><line stroke=\"black\" x1=\"50%\" x2=\"50%\" y1=\"20px\" y2=\"48px\" /></svg><line stroke=\"black\" x1=\"50%\" x2=\"48.2119%\" y1=\"20px\" y2=\"48px\" /><svg width=\"0.607287%\" x=\"48.448%\" y=\"48px\"><defs /><svg width=\"100%\" x=\"0\" y=\"0px\"><defs /><text text-anchor=\"middle\" x=\"50%\" y=\"16px\">domains</text></svg><svg width=\"100%\" x=\"0%\" y=\"48px\"><defs /><svg width=\"100%\" x=\"0\" y=\"0px\"><defs /><text text-anchor=\"middle\" x=\"50%\" y=\"16px\">NNS</text></svg></svg><line stroke=\"black\" x1=\"50%\" x2=\"50%\" y1=\"20px\" y2=\"48px\" /></svg><line stroke=\"black\" x1=\"50%\" x2=\"48.7517%\" y1=\"20px\" y2=\"48px\" /><svg width=\"0.202429%\" x=\"49.0553%\" y=\"48px\"><defs /><svg width=\"100%\" x=\"0\" y=\"0px\"><defs /><text text-anchor=\"middle\" x=\"50%\" y=\"16px\">,</text></svg><svg width=\"100%\" x=\"0%\" y=\"48px\"><defs /><svg width=\"100%\" x=\"0\" y=\"0px\"><defs /><text text-anchor=\"middle\" x=\"50%\" y=\"16px\">,</text></svg></svg><line stroke=\"black\" x1=\"50%\" x2=\"50%\" y1=\"20px\" y2=\"48px\" /></svg><line stroke=\"black\" x1=\"50%\" x2=\"49.1565%\" y1=\"20px\" y2=\"48px\" /><svg width=\"0.809717%\" x=\"49.2578%\" y=\"48px\"><defs /><svg width=\"100%\" x=\"0\" y=\"0px\"><defs /><text text-anchor=\"middle\" x=\"50%\" y=\"16px\">technology</text></svg><svg width=\"100%\" x=\"0%\" y=\"48px\"><defs /><svg width=\"100%\" x=\"0\" y=\"0px\"><defs /><text text-anchor=\"middle\" x=\"50%\" y=\"16px\">NN</text></svg></svg><line stroke=\"black\" x1=\"50%\" x2=\"50%\" y1=\"20px\" y2=\"48px\" /></svg><line stroke=\"black\" x1=\"50%\" x2=\"49.6626%\" y1=\"20px\" y2=\"48px\" /><svg width=\"0.337382%\" x=\"50.0675%\" y=\"48px\"><defs /><svg width=\"100%\" x=\"0\" y=\"0px\"><defs /><text text-anchor=\"middle\" x=\"50%\" y=\"16px\">and</text></svg><svg width=\"100%\" x=\"0%\" y=\"48px\"><defs /><svg width=\"100%\" x=\"0\" y=\"0px\"><defs /><text text-anchor=\"middle\" x=\"50%\" y=\"16px\">CC</text></svg></svg><line stroke=\"black\" x1=\"50%\" x2=\"50%\" y1=\"20px\" y2=\"48px\" /></svg><line stroke=\"black\" x1=\"50%\" x2=\"50.2362%\" y1=\"20px\" y2=\"48px\" /><svg width=\"0.539811%\" x=\"50.4049%\" y=\"48px\"><defs /><svg width=\"100%\" x=\"0\" y=\"0px\"><defs /><text text-anchor=\"middle\" x=\"50%\" y=\"16px\">humans</text></svg><svg width=\"100%\" x=\"0%\" y=\"48px\"><defs /><svg width=\"100%\" x=\"0\" y=\"0px\"><defs /><text text-anchor=\"middle\" x=\"50%\" y=\"16px\">NNS</text></svg></svg><line stroke=\"black\" x1=\"50%\" x2=\"50%\" y1=\"20px\" y2=\"48px\" /></svg><line stroke=\"black\" x1=\"50%\" x2=\"50.6748%\" y1=\"20px\" y2=\"48px\" /><svg width=\"0.404858%\" x=\"50.9447%\" y=\"48px\"><defs /><svg width=\"100%\" x=\"0\" y=\"0px\"><defs /><text text-anchor=\"middle\" x=\"50%\" y=\"16px\">work</text></svg><svg width=\"100%\" x=\"0%\" y=\"48px\"><defs /><svg width=\"100%\" x=\"0\" y=\"0px\"><defs /><text text-anchor=\"middle\" x=\"50%\" y=\"16px\">VBP</text></svg></svg><line stroke=\"black\" x1=\"50%\" x2=\"50%\" y1=\"20px\" y2=\"48px\" /></svg><line stroke=\"black\" x1=\"50%\" x2=\"51.1471%\" y1=\"20px\" y2=\"48px\" /><svg width=\"0.674764%\" x=\"51.3495%\" y=\"48px\"><defs /><svg width=\"100%\" x=\"0\" y=\"0px\"><defs /><text text-anchor=\"middle\" x=\"50%\" y=\"16px\">together</text></svg><svg width=\"100%\" x=\"0%\" y=\"48px\"><defs /><svg width=\"100%\" x=\"0\" y=\"0px\"><defs /><text text-anchor=\"middle\" x=\"50%\" y=\"16px\">RB</text></svg></svg><line stroke=\"black\" x1=\"50%\" x2=\"50%\" y1=\"20px\" y2=\"48px\" /></svg><line stroke=\"black\" x1=\"50%\" x2=\"51.6869%\" y1=\"20px\" y2=\"48px\" /><svg width=\"0.269906%\" x=\"52.0243%\" y=\"48px\"><defs /><svg width=\"100%\" x=\"0\" y=\"0px\"><defs /><text text-anchor=\"middle\" x=\"50%\" y=\"16px\">to</text></svg><svg width=\"100%\" x=\"0%\" y=\"48px\"><defs /><svg width=\"100%\" x=\"0\" y=\"0px\"><defs /><text text-anchor=\"middle\" x=\"50%\" y=\"16px\">TO</text></svg></svg><line stroke=\"black\" x1=\"50%\" x2=\"50%\" y1=\"20px\" y2=\"48px\" /></svg><line stroke=\"black\" x1=\"50%\" x2=\"52.1592%\" y1=\"20px\" y2=\"48px\" /><svg width=\"0.607287%\" x=\"52.2942%\" y=\"48px\"><defs /><svg width=\"100%\" x=\"0\" y=\"0px\"><defs /><text text-anchor=\"middle\" x=\"50%\" y=\"16px\">achieve</text></svg><svg width=\"100%\" x=\"0%\" y=\"48px\"><defs /><svg width=\"100%\" x=\"0\" y=\"0px\"><defs /><text text-anchor=\"middle\" x=\"50%\" y=\"16px\">VB</text></svg></svg><line stroke=\"black\" x1=\"50%\" x2=\"50%\" y1=\"20px\" y2=\"48px\" /></svg><line stroke=\"black\" x1=\"50%\" x2=\"52.5978%\" y1=\"20px\" y2=\"48px\" /><svg width=\"0.269906%\" x=\"52.9015%\" y=\"48px\"><defs /><svg width=\"100%\" x=\"0\" y=\"0px\"><defs /><text text-anchor=\"middle\" x=\"50%\" y=\"16px\">a</text></svg><svg width=\"100%\" x=\"0%\" y=\"48px\"><defs /><svg width=\"100%\" x=\"0\" y=\"0px\"><defs /><text text-anchor=\"middle\" x=\"50%\" y=\"16px\">DT</text></svg></svg><line stroke=\"black\" x1=\"50%\" x2=\"50%\" y1=\"20px\" y2=\"48px\" /></svg><line stroke=\"black\" x1=\"50%\" x2=\"53.0364%\" y1=\"20px\" y2=\"48px\" /><svg width=\"0.539811%\" x=\"53.1714%\" y=\"48px\"><defs /><svg width=\"100%\" x=\"0\" y=\"0px\"><defs /><text text-anchor=\"middle\" x=\"50%\" y=\"16px\">common</text></svg><svg width=\"100%\" x=\"0%\" y=\"48px\"><defs /><svg width=\"100%\" x=\"0\" y=\"0px\"><defs /><text text-anchor=\"middle\" x=\"50%\" y=\"16px\">JJ</text></svg></svg><line stroke=\"black\" x1=\"50%\" x2=\"50%\" y1=\"20px\" y2=\"48px\" /></svg><line stroke=\"black\" x1=\"50%\" x2=\"53.4413%\" y1=\"20px\" y2=\"48px\" /><svg width=\"0.404858%\" x=\"53.7112%\" y=\"48px\"><defs /><svg width=\"100%\" x=\"0\" y=\"0px\"><defs /><text text-anchor=\"middle\" x=\"50%\" y=\"16px\">goal</text></svg><svg width=\"100%\" x=\"0%\" y=\"48px\"><defs /><svg width=\"100%\" x=\"0\" y=\"0px\"><defs /><text text-anchor=\"middle\" x=\"50%\" y=\"16px\">NN</text></svg></svg><line stroke=\"black\" x1=\"50%\" x2=\"50%\" y1=\"20px\" y2=\"48px\" /></svg><line stroke=\"black\" x1=\"50%\" x2=\"53.9136%\" y1=\"20px\" y2=\"48px\" /><svg width=\"0.202429%\" x=\"54.1161%\" y=\"48px\"><defs /><svg width=\"100%\" x=\"0\" y=\"0px\"><defs /><text text-anchor=\"middle\" x=\"50%\" y=\"16px\">,</text></svg><svg width=\"100%\" x=\"0%\" y=\"48px\"><defs /><svg width=\"100%\" x=\"0\" y=\"0px\"><defs /><text text-anchor=\"middle\" x=\"50%\" y=\"16px\">,</text></svg></svg><line stroke=\"black\" x1=\"50%\" x2=\"50%\" y1=\"20px\" y2=\"48px\" /></svg><line stroke=\"black\" x1=\"50%\" x2=\"54.2173%\" y1=\"20px\" y2=\"48px\" /><svg width=\"0.337382%\" x=\"54.3185%\" y=\"48px\"><defs /><svg width=\"100%\" x=\"0\" y=\"0px\"><defs /><text text-anchor=\"middle\" x=\"50%\" y=\"16px\">and</text></svg><svg width=\"100%\" x=\"0%\" y=\"48px\"><defs /><svg width=\"100%\" x=\"0\" y=\"0px\"><defs /><text text-anchor=\"middle\" x=\"50%\" y=\"16px\">CC</text></svg></svg><line stroke=\"black\" x1=\"50%\" x2=\"50%\" y1=\"20px\" y2=\"48px\" /></svg><line stroke=\"black\" x1=\"50%\" x2=\"54.4872%\" y1=\"20px\" y2=\"48px\" /><svg width=\"0.337382%\" x=\"54.6559%\" y=\"48px\"><defs /><svg width=\"100%\" x=\"0\" y=\"0px\"><defs /><text text-anchor=\"middle\" x=\"50%\" y=\"16px\">the</text></svg><svg width=\"100%\" x=\"0%\" y=\"48px\"><defs /><svg width=\"100%\" x=\"0\" y=\"0px\"><defs /><text text-anchor=\"middle\" x=\"50%\" y=\"16px\">DT</text></svg></svg><line stroke=\"black\" x1=\"50%\" x2=\"50%\" y1=\"20px\" y2=\"48px\" /></svg><line stroke=\"black\" x1=\"50%\" x2=\"54.8246%\" y1=\"20px\" y2=\"48px\" /><svg width=\"0.944669%\" x=\"54.9933%\" y=\"48px\"><defs /><svg width=\"100%\" x=\"0\" y=\"0px\"><defs /><text text-anchor=\"middle\" x=\"50%\" y=\"16px\">relationship</text></svg><svg width=\"100%\" x=\"0%\" y=\"48px\"><defs /><svg width=\"100%\" x=\"0\" y=\"0px\"><defs /><text text-anchor=\"middle\" x=\"50%\" y=\"16px\">NN</text></svg></svg><line stroke=\"black\" x1=\"50%\" x2=\"50%\" y1=\"20px\" y2=\"48px\" /></svg><line stroke=\"black\" x1=\"50%\" x2=\"55.4656%\" y1=\"20px\" y2=\"48px\" /><svg width=\"0.607287%\" x=\"55.9379%\" y=\"48px\"><defs /><svg width=\"100%\" x=\"0\" y=\"0px\"><defs /><text text-anchor=\"middle\" x=\"50%\" y=\"16px\">between</text></svg><svg width=\"100%\" x=\"0%\" y=\"48px\"><defs /><svg width=\"100%\" x=\"0\" y=\"0px\"><defs /><text text-anchor=\"middle\" x=\"50%\" y=\"16px\">IN</text></svg></svg><line stroke=\"black\" x1=\"50%\" x2=\"50%\" y1=\"20px\" y2=\"48px\" /></svg><line stroke=\"black\" x1=\"50%\" x2=\"56.2416%\" y1=\"20px\" y2=\"48px\" /><svg width=\"0.337382%\" x=\"56.5452%\" y=\"48px\"><defs /><svg width=\"100%\" x=\"0\" y=\"0px\"><defs /><text text-anchor=\"middle\" x=\"50%\" y=\"16px\">the</text></svg><svg width=\"100%\" x=\"0%\" y=\"48px\"><defs /><svg width=\"100%\" x=\"0\" y=\"0px\"><defs /><text text-anchor=\"middle\" x=\"50%\" y=\"16px\">DT</text></svg></svg><line stroke=\"black\" x1=\"50%\" x2=\"50%\" y1=\"20px\" y2=\"48px\" /></svg><line stroke=\"black\" x1=\"50%\" x2=\"56.7139%\" y1=\"20px\" y2=\"48px\" /><svg width=\"0.337382%\" x=\"56.8826%\" y=\"48px\"><defs /><svg width=\"100%\" x=\"0\" y=\"0px\"><defs /><text text-anchor=\"middle\" x=\"50%\" y=\"16px\">two</text></svg><svg width=\"100%\" x=\"0%\" y=\"48px\"><defs /><svg width=\"100%\" x=\"0\" y=\"0px\"><defs /><text text-anchor=\"middle\" x=\"50%\" y=\"16px\">CD</text></svg></svg><line stroke=\"black\" x1=\"50%\" x2=\"50%\" y1=\"20px\" y2=\"48px\" /></svg><line stroke=\"black\" x1=\"50%\" x2=\"57.0513%\" y1=\"20px\" y2=\"48px\" /><svg width=\"0.337382%\" x=\"57.22%\" y=\"48px\"><defs /><svg width=\"100%\" x=\"0\" y=\"0px\"><defs /><text text-anchor=\"middle\" x=\"50%\" y=\"16px\">can</text></svg><svg width=\"100%\" x=\"0%\" y=\"48px\"><defs /><svg width=\"100%\" x=\"0\" y=\"0px\"><defs /><text text-anchor=\"middle\" x=\"50%\" y=\"16px\">MD</text></svg></svg><line stroke=\"black\" x1=\"50%\" x2=\"50%\" y1=\"20px\" y2=\"48px\" /></svg><line stroke=\"black\" x1=\"50%\" x2=\"57.3887%\" y1=\"20px\" y2=\"48px\" /><svg width=\"0.269906%\" x=\"57.5574%\" y=\"48px\"><defs /><svg width=\"100%\" x=\"0\" y=\"0px\"><defs /><text text-anchor=\"middle\" x=\"50%\" y=\"16px\">be</text></svg><svg width=\"100%\" x=\"0%\" y=\"48px\"><defs /><svg width=\"100%\" x=\"0\" y=\"0px\"><defs /><text text-anchor=\"middle\" x=\"50%\" y=\"16px\">VB</text></svg></svg><line stroke=\"black\" x1=\"50%\" x2=\"50%\" y1=\"20px\" y2=\"48px\" /></svg><line stroke=\"black\" x1=\"50%\" x2=\"57.6923%\" y1=\"20px\" y2=\"48px\" /><svg width=\"0.404858%\" x=\"57.8273%\" y=\"48px\"><defs /><svg width=\"100%\" x=\"0\" y=\"0px\"><defs /><text text-anchor=\"middle\" x=\"50%\" y=\"16px\">seen</text></svg><svg width=\"100%\" x=\"0%\" y=\"48px\"><defs /><svg width=\"100%\" x=\"0\" y=\"0px\"><defs /><text text-anchor=\"middle\" x=\"50%\" y=\"16px\">VBN</text></svg></svg><line stroke=\"black\" x1=\"50%\" x2=\"50%\" y1=\"20px\" y2=\"48px\" /></svg><line stroke=\"black\" x1=\"50%\" x2=\"58.0297%\" y1=\"20px\" y2=\"48px\" /><svg width=\"0.269906%\" x=\"58.2321%\" y=\"48px\"><defs /><svg width=\"100%\" x=\"0\" y=\"0px\"><defs /><text text-anchor=\"middle\" x=\"50%\" y=\"16px\">as</text></svg><svg width=\"100%\" x=\"0%\" y=\"48px\"><defs /><svg width=\"100%\" x=\"0\" y=\"0px\"><defs /><text text-anchor=\"middle\" x=\"50%\" y=\"16px\">IN</text></svg></svg><line stroke=\"black\" x1=\"50%\" x2=\"50%\" y1=\"20px\" y2=\"48px\" /></svg><line stroke=\"black\" x1=\"50%\" x2=\"58.3671%\" y1=\"20px\" y2=\"48px\" /><svg width=\"0.269906%\" x=\"58.502%\" y=\"48px\"><defs /><svg width=\"100%\" x=\"0\" y=\"0px\"><defs /><text text-anchor=\"middle\" x=\"50%\" y=\"16px\">a</text></svg><svg width=\"100%\" x=\"0%\" y=\"48px\"><defs /><svg width=\"100%\" x=\"0\" y=\"0px\"><defs /><text text-anchor=\"middle\" x=\"50%\" y=\"16px\">DT</text></svg></svg><line stroke=\"black\" x1=\"50%\" x2=\"50%\" y1=\"20px\" y2=\"48px\" /></svg><line stroke=\"black\" x1=\"50%\" x2=\"58.637%\" y1=\"20px\" y2=\"48px\" /><svg width=\"0.404858%\" x=\"58.7719%\" y=\"48px\"><defs /><svg width=\"100%\" x=\"0\" y=\"0px\"><defs /><text text-anchor=\"middle\" x=\"50%\" y=\"16px\">kind</text></svg><svg width=\"100%\" x=\"0%\" y=\"48px\"><defs /><svg width=\"100%\" x=\"0\" y=\"0px\"><defs /><text text-anchor=\"middle\" x=\"50%\" y=\"16px\">NN</text></svg></svg><line stroke=\"black\" x1=\"50%\" x2=\"50%\" y1=\"20px\" y2=\"48px\" /></svg><line stroke=\"black\" x1=\"50%\" x2=\"58.9744%\" y1=\"20px\" y2=\"48px\" /><svg width=\"0.269906%\" x=\"59.1768%\" y=\"48px\"><defs /><svg width=\"100%\" x=\"0\" y=\"0px\"><defs /><text text-anchor=\"middle\" x=\"50%\" y=\"16px\">of</text></svg><svg width=\"100%\" x=\"0%\" y=\"48px\"><defs /><svg width=\"100%\" x=\"0\" y=\"0px\"><defs /><text text-anchor=\"middle\" x=\"50%\" y=\"16px\">IN</text></svg></svg><line stroke=\"black\" x1=\"50%\" x2=\"50%\" y1=\"20px\" y2=\"48px\" /></svg><line stroke=\"black\" x1=\"50%\" x2=\"59.3117%\" y1=\"20px\" y2=\"48px\" /><svg width=\"0.74224%\" x=\"59.4467%\" y=\"48px\"><defs /><svg width=\"100%\" x=\"0\" y=\"0px\"><defs /><text text-anchor=\"middle\" x=\"50%\" y=\"16px\">symbiosis</text></svg><svg width=\"100%\" x=\"0%\" y=\"48px\"><defs /><svg width=\"100%\" x=\"0\" y=\"0px\"><defs /><text text-anchor=\"middle\" x=\"50%\" y=\"16px\">NN</text></svg></svg><line stroke=\"black\" x1=\"50%\" x2=\"50%\" y1=\"20px\" y2=\"48px\" /></svg><line stroke=\"black\" x1=\"50%\" x2=\"59.8178%\" y1=\"20px\" y2=\"48px\" /><svg width=\"0.202429%\" x=\"60.1889%\" y=\"48px\"><defs /><svg width=\"100%\" x=\"0\" y=\"0px\"><defs /><text text-anchor=\"middle\" x=\"50%\" y=\"16px\">.</text></svg><svg width=\"100%\" x=\"0%\" y=\"48px\"><defs /><svg width=\"100%\" x=\"0\" y=\"0px\"><defs /><text text-anchor=\"middle\" x=\"50%\" y=\"16px\">.</text></svg></svg><line stroke=\"black\" x1=\"50%\" x2=\"50%\" y1=\"20px\" y2=\"48px\" /></svg><line stroke=\"black\" x1=\"50%\" x2=\"60.2901%\" y1=\"20px\" y2=\"48px\" /><svg width=\"0.607287%\" x=\"60.3914%\" y=\"48px\"><defs /><svg width=\"100%\" x=\"0\" y=\"0px\"><defs /><text text-anchor=\"middle\" x=\"50%\" y=\"16px\">However</text></svg><svg width=\"100%\" x=\"0%\" y=\"48px\"><defs /><svg width=\"100%\" x=\"0\" y=\"0px\"><defs /><text text-anchor=\"middle\" x=\"50%\" y=\"16px\">RB</text></svg></svg><line stroke=\"black\" x1=\"50%\" x2=\"50%\" y1=\"20px\" y2=\"48px\" /></svg><line stroke=\"black\" x1=\"50%\" x2=\"60.695%\" y1=\"20px\" y2=\"48px\" /><svg width=\"0.202429%\" x=\"60.9987%\" y=\"48px\"><defs /><svg width=\"100%\" x=\"0\" y=\"0px\"><defs /><text text-anchor=\"middle\" x=\"50%\" y=\"16px\">,</text></svg><svg width=\"100%\" x=\"0%\" y=\"48px\"><defs /><svg width=\"100%\" x=\"0\" y=\"0px\"><defs /><text text-anchor=\"middle\" x=\"50%\" y=\"16px\">,</text></svg></svg><line stroke=\"black\" x1=\"50%\" x2=\"50%\" y1=\"20px\" y2=\"48px\" /></svg><line stroke=\"black\" x1=\"50%\" x2=\"61.0999%\" y1=\"20px\" y2=\"48px\" /><svg width=\"0.269906%\" x=\"61.2011%\" y=\"48px\"><defs /><svg width=\"100%\" x=\"0\" y=\"0px\"><defs /><text text-anchor=\"middle\" x=\"50%\" y=\"16px\">in</text></svg><svg width=\"100%\" x=\"0%\" y=\"48px\"><defs /><svg width=\"100%\" x=\"0\" y=\"0px\"><defs /><text text-anchor=\"middle\" x=\"50%\" y=\"16px\">IN</text></svg></svg><line stroke=\"black\" x1=\"50%\" x2=\"50%\" y1=\"20px\" y2=\"48px\" /></svg><line stroke=\"black\" x1=\"50%\" x2=\"61.336%\" y1=\"20px\" y2=\"48px\" /><svg width=\"0.472335%\" x=\"61.471%\" y=\"48px\"><defs /><svg width=\"100%\" x=\"0\" y=\"0px\"><defs /><text text-anchor=\"middle\" x=\"50%\" y=\"16px\">other</text></svg><svg width=\"100%\" x=\"0%\" y=\"48px\"><defs /><svg width=\"100%\" x=\"0\" y=\"0px\"><defs /><text text-anchor=\"middle\" x=\"50%\" y=\"16px\">JJ</text></svg></svg><line stroke=\"black\" x1=\"50%\" x2=\"50%\" y1=\"20px\" y2=\"48px\" /></svg><line stroke=\"black\" x1=\"50%\" x2=\"61.7072%\" y1=\"20px\" y2=\"48px\" /><svg width=\"0.607287%\" x=\"61.9433%\" y=\"48px\"><defs /><svg width=\"100%\" x=\"0\" y=\"0px\"><defs /><text text-anchor=\"middle\" x=\"50%\" y=\"16px\">domains</text></svg><svg width=\"100%\" x=\"0%\" y=\"48px\"><defs /><svg width=\"100%\" x=\"0\" y=\"0px\"><defs /><text text-anchor=\"middle\" x=\"50%\" y=\"16px\">NNS</text></svg></svg><line stroke=\"black\" x1=\"50%\" x2=\"50%\" y1=\"20px\" y2=\"48px\" /></svg><line stroke=\"black\" x1=\"50%\" x2=\"62.247%\" y1=\"20px\" y2=\"48px\" /><svg width=\"0.404858%\" x=\"62.5506%\" y=\"48px\"><defs /><svg width=\"100%\" x=\"0\" y=\"0px\"><defs /><text text-anchor=\"middle\" x=\"50%\" y=\"16px\">such</text></svg><svg width=\"100%\" x=\"0%\" y=\"48px\"><defs /><svg width=\"100%\" x=\"0\" y=\"0px\"><defs /><text text-anchor=\"middle\" x=\"50%\" y=\"16px\">JJ</text></svg></svg><line stroke=\"black\" x1=\"50%\" x2=\"50%\" y1=\"20px\" y2=\"48px\" /></svg><line stroke=\"black\" x1=\"50%\" x2=\"62.753%\" y1=\"20px\" y2=\"48px\" /><svg width=\"0.269906%\" x=\"62.9555%\" y=\"48px\"><defs /><svg width=\"100%\" x=\"0\" y=\"0px\"><defs /><text text-anchor=\"middle\" x=\"50%\" y=\"16px\">as</text></svg><svg width=\"100%\" x=\"0%\" y=\"48px\"><defs /><svg width=\"100%\" x=\"0\" y=\"0px\"><defs /><text text-anchor=\"middle\" x=\"50%\" y=\"16px\">IN</text></svg></svg><line stroke=\"black\" x1=\"50%\" x2=\"50%\" y1=\"20px\" y2=\"48px\" /></svg><line stroke=\"black\" x1=\"50%\" x2=\"63.0904%\" y1=\"20px\" y2=\"48px\" /><svg width=\"0.539811%\" x=\"63.2254%\" y=\"48px\"><defs /><svg width=\"100%\" x=\"0\" y=\"0px\"><defs /><text text-anchor=\"middle\" x=\"50%\" y=\"16px\">social</text></svg><svg width=\"100%\" x=\"0%\" y=\"48px\"><defs /><svg width=\"100%\" x=\"0\" y=\"0px\"><defs /><text text-anchor=\"middle\" x=\"50%\" y=\"16px\">JJ</text></svg></svg><line stroke=\"black\" x1=\"50%\" x2=\"50%\" y1=\"20px\" y2=\"48px\" /></svg><line stroke=\"black\" x1=\"50%\" x2=\"63.4953%\" y1=\"20px\" y2=\"48px\" /><svg width=\"0.472335%\" x=\"63.7652%\" y=\"48px\"><defs /><svg width=\"100%\" x=\"0\" y=\"0px\"><defs /><text text-anchor=\"middle\" x=\"50%\" y=\"16px\">media</text></svg><svg width=\"100%\" x=\"0%\" y=\"48px\"><defs /><svg width=\"100%\" x=\"0\" y=\"0px\"><defs /><text text-anchor=\"middle\" x=\"50%\" y=\"16px\">NNS</text></svg></svg><line stroke=\"black\" x1=\"50%\" x2=\"50%\" y1=\"20px\" y2=\"48px\" /></svg><line stroke=\"black\" x1=\"50%\" x2=\"64.0013%\" y1=\"20px\" y2=\"48px\" /><svg width=\"0.269906%\" x=\"64.2375%\" y=\"48px\"><defs /><svg width=\"100%\" x=\"0\" y=\"0px\"><defs /><text text-anchor=\"middle\" x=\"50%\" y=\"16px\">or</text></svg><svg width=\"100%\" x=\"0%\" y=\"48px\"><defs /><svg width=\"100%\" x=\"0\" y=\"0px\"><defs /><text text-anchor=\"middle\" x=\"50%\" y=\"16px\">CC</text></svg></svg><line stroke=\"black\" x1=\"50%\" x2=\"50%\" y1=\"20px\" y2=\"48px\" /></svg><line stroke=\"black\" x1=\"50%\" x2=\"64.3725%\" y1=\"20px\" y2=\"48px\" /><svg width=\"0.539811%\" x=\"64.5074%\" y=\"48px\"><defs /><svg width=\"100%\" x=\"0\" y=\"0px\"><defs /><text text-anchor=\"middle\" x=\"50%\" y=\"16px\">gaming</text></svg><svg width=\"100%\" x=\"0%\" y=\"48px\"><defs /><svg width=\"100%\" x=\"0\" y=\"0px\"><defs /><text text-anchor=\"middle\" x=\"50%\" y=\"16px\">NN</text></svg></svg><line stroke=\"black\" x1=\"50%\" x2=\"50%\" y1=\"20px\" y2=\"48px\" /></svg><line stroke=\"black\" x1=\"50%\" x2=\"64.7773%\" y1=\"20px\" y2=\"48px\" /><svg width=\"0.202429%\" x=\"65.0472%\" y=\"48px\"><defs /><svg width=\"100%\" x=\"0\" y=\"0px\"><defs /><text text-anchor=\"middle\" x=\"50%\" y=\"16px\">,</text></svg><svg width=\"100%\" x=\"0%\" y=\"48px\"><defs /><svg width=\"100%\" x=\"0\" y=\"0px\"><defs /><text text-anchor=\"middle\" x=\"50%\" y=\"16px\">,</text></svg></svg><line stroke=\"black\" x1=\"50%\" x2=\"50%\" y1=\"20px\" y2=\"48px\" /></svg><line stroke=\"black\" x1=\"50%\" x2=\"65.1484%\" y1=\"20px\" y2=\"48px\" /><svg width=\"0.337382%\" x=\"65.2497%\" y=\"48px\"><defs /><svg width=\"100%\" x=\"0\" y=\"0px\"><defs /><text text-anchor=\"middle\" x=\"50%\" y=\"16px\">the</text></svg><svg width=\"100%\" x=\"0%\" y=\"48px\"><defs /><svg width=\"100%\" x=\"0\" y=\"0px\"><defs /><text text-anchor=\"middle\" x=\"50%\" y=\"16px\">DT</text></svg></svg><line stroke=\"black\" x1=\"50%\" x2=\"50%\" y1=\"20px\" y2=\"48px\" /></svg><line stroke=\"black\" x1=\"50%\" x2=\"65.4184%\" y1=\"20px\" y2=\"48px\" /><svg width=\"0.944669%\" x=\"65.587%\" y=\"48px\"><defs /><svg width=\"100%\" x=\"0\" y=\"0px\"><defs /><text text-anchor=\"middle\" x=\"50%\" y=\"16px\">relationship</text></svg><svg width=\"100%\" x=\"0%\" y=\"48px\"><defs /><svg width=\"100%\" x=\"0\" y=\"0px\"><defs /><text text-anchor=\"middle\" x=\"50%\" y=\"16px\">NN</text></svg></svg><line stroke=\"black\" x1=\"50%\" x2=\"50%\" y1=\"20px\" y2=\"48px\" /></svg><line stroke=\"black\" x1=\"50%\" x2=\"66.0594%\" y1=\"20px\" y2=\"48px\" /><svg width=\"0.607287%\" x=\"66.5317%\" y=\"48px\"><defs /><svg width=\"100%\" x=\"0\" y=\"0px\"><defs /><text text-anchor=\"middle\" x=\"50%\" y=\"16px\">between</text></svg><svg width=\"100%\" x=\"0%\" y=\"48px\"><defs /><svg width=\"100%\" x=\"0\" y=\"0px\"><defs /><text text-anchor=\"middle\" x=\"50%\" y=\"16px\">IN</text></svg></svg><line stroke=\"black\" x1=\"50%\" x2=\"50%\" y1=\"20px\" y2=\"48px\" /></svg><line stroke=\"black\" x1=\"50%\" x2=\"66.8354%\" y1=\"20px\" y2=\"48px\" /><svg width=\"0.539811%\" x=\"67.139%\" y=\"48px\"><defs /><svg width=\"100%\" x=\"0\" y=\"0px\"><defs /><text text-anchor=\"middle\" x=\"50%\" y=\"16px\">humans</text></svg><svg width=\"100%\" x=\"0%\" y=\"48px\"><defs /><svg width=\"100%\" x=\"0\" y=\"0px\"><defs /><text text-anchor=\"middle\" x=\"50%\" y=\"16px\">NNS</text></svg></svg><line stroke=\"black\" x1=\"50%\" x2=\"50%\" y1=\"20px\" y2=\"48px\" /></svg><line stroke=\"black\" x1=\"50%\" x2=\"67.4089%\" y1=\"20px\" y2=\"48px\" /><svg width=\"0.337382%\" x=\"67.6788%\" y=\"48px\"><defs /><svg width=\"100%\" x=\"0\" y=\"0px\"><defs /><text text-anchor=\"middle\" x=\"50%\" y=\"16px\">and</text></svg><svg width=\"100%\" x=\"0%\" y=\"48px\"><defs /><svg width=\"100%\" x=\"0\" y=\"0px\"><defs /><text text-anchor=\"middle\" x=\"50%\" y=\"16px\">CC</text></svg></svg><line stroke=\"black\" x1=\"50%\" x2=\"50%\" y1=\"20px\" y2=\"48px\" /></svg><line stroke=\"black\" x1=\"50%\" x2=\"67.8475%\" y1=\"20px\" y2=\"48px\" /><svg width=\"0.809717%\" x=\"68.0162%\" y=\"48px\"><defs /><svg width=\"100%\" x=\"0\" y=\"0px\"><defs /><text text-anchor=\"middle\" x=\"50%\" y=\"16px\">technology</text></svg><svg width=\"100%\" x=\"0%\" y=\"48px\"><defs /><svg width=\"100%\" x=\"0\" y=\"0px\"><defs /><text text-anchor=\"middle\" x=\"50%\" y=\"16px\">NN</text></svg></svg><line stroke=\"black\" x1=\"50%\" x2=\"50%\" y1=\"20px\" y2=\"48px\" /></svg><line stroke=\"black\" x1=\"50%\" x2=\"68.4211%\" y1=\"20px\" y2=\"48px\" /><svg width=\"0.337382%\" x=\"68.8259%\" y=\"48px\"><defs /><svg width=\"100%\" x=\"0\" y=\"0px\"><defs /><text text-anchor=\"middle\" x=\"50%\" y=\"16px\">is</text></svg><svg width=\"100%\" x=\"0%\" y=\"48px\"><defs /><svg width=\"100%\" x=\"0\" y=\"0px\"><defs /><text text-anchor=\"middle\" x=\"50%\" y=\"16px\">VBZ</text></svg></svg><line stroke=\"black\" x1=\"50%\" x2=\"50%\" y1=\"20px\" y2=\"48px\" /></svg><line stroke=\"black\" x1=\"50%\" x2=\"68.9946%\" y1=\"20px\" y2=\"48px\" /><svg width=\"0.404858%\" x=\"69.1633%\" y=\"48px\"><defs /><svg width=\"100%\" x=\"0\" y=\"0px\"><defs /><text text-anchor=\"middle\" x=\"50%\" y=\"16px\">more</text></svg><svg width=\"100%\" x=\"0%\" y=\"48px\"><defs /><svg width=\"100%\" x=\"0\" y=\"0px\"><defs /><text text-anchor=\"middle\" x=\"50%\" y=\"16px\">RBR</text></svg></svg><line stroke=\"black\" x1=\"50%\" x2=\"50%\" y1=\"20px\" y2=\"48px\" /></svg><line stroke=\"black\" x1=\"50%\" x2=\"69.3657%\" y1=\"20px\" y2=\"48px\" /><svg width=\"0.607287%\" x=\"69.5682%\" y=\"48px\"><defs /><svg width=\"100%\" x=\"0\" y=\"0px\"><defs /><text text-anchor=\"middle\" x=\"50%\" y=\"16px\">complex</text></svg><svg width=\"100%\" x=\"0%\" y=\"48px\"><defs /><svg width=\"100%\" x=\"0\" y=\"0px\"><defs /><text text-anchor=\"middle\" x=\"50%\" y=\"16px\">JJ</text></svg></svg><line stroke=\"black\" x1=\"50%\" x2=\"50%\" y1=\"20px\" y2=\"48px\" /></svg><line stroke=\"black\" x1=\"50%\" x2=\"69.8718%\" y1=\"20px\" y2=\"48px\" /><svg width=\"0.337382%\" x=\"70.1754%\" y=\"48px\"><defs /><svg width=\"100%\" x=\"0\" y=\"0px\"><defs /><text text-anchor=\"middle\" x=\"50%\" y=\"16px\">and</text></svg><svg width=\"100%\" x=\"0%\" y=\"48px\"><defs /><svg width=\"100%\" x=\"0\" y=\"0px\"><defs /><text text-anchor=\"middle\" x=\"50%\" y=\"16px\">CC</text></svg></svg><line stroke=\"black\" x1=\"50%\" x2=\"50%\" y1=\"20px\" y2=\"48px\" /></svg><line stroke=\"black\" x1=\"50%\" x2=\"70.3441%\" y1=\"20px\" y2=\"48px\" /><svg width=\"0.472335%\" x=\"70.5128%\" y=\"48px\"><defs /><svg width=\"100%\" x=\"0\" y=\"0px\"><defs /><text text-anchor=\"middle\" x=\"50%\" y=\"16px\">often</text></svg><svg width=\"100%\" x=\"0%\" y=\"48px\"><defs /><svg width=\"100%\" x=\"0\" y=\"0px\"><defs /><text text-anchor=\"middle\" x=\"50%\" y=\"16px\">RB</text></svg></svg><line stroke=\"black\" x1=\"50%\" x2=\"50%\" y1=\"20px\" y2=\"48px\" /></svg><line stroke=\"black\" x1=\"50%\" x2=\"70.749%\" y1=\"20px\" y2=\"48px\" /><svg width=\"0.404858%\" x=\"70.9852%\" y=\"48px\"><defs /><svg width=\"100%\" x=\"0\" y=\"0px\"><defs /><text text-anchor=\"middle\" x=\"50%\" y=\"16px\">less</text></svg><svg width=\"100%\" x=\"0%\" y=\"48px\"><defs /><svg width=\"100%\" x=\"0\" y=\"0px\"><defs /><text text-anchor=\"middle\" x=\"50%\" y=\"16px\">RBR</text></svg></svg><line stroke=\"black\" x1=\"50%\" x2=\"50%\" y1=\"20px\" y2=\"48px\" /></svg><line stroke=\"black\" x1=\"50%\" x2=\"71.1876%\" y1=\"20px\" y2=\"48px\" /><svg width=\"0.74224%\" x=\"71.39%\" y=\"48px\"><defs /><svg width=\"100%\" x=\"0\" y=\"0px\"><defs /><text text-anchor=\"middle\" x=\"50%\" y=\"16px\">symbiotic</text></svg><svg width=\"100%\" x=\"0%\" y=\"48px\"><defs /><svg width=\"100%\" x=\"0\" y=\"0px\"><defs /><text text-anchor=\"middle\" x=\"50%\" y=\"16px\">JJ</text></svg></svg><line stroke=\"black\" x1=\"50%\" x2=\"50%\" y1=\"20px\" y2=\"48px\" /></svg><line stroke=\"black\" x1=\"50%\" x2=\"71.7611%\" y1=\"20px\" y2=\"48px\" /><svg width=\"0.202429%\" x=\"72.1323%\" y=\"48px\"><defs /><svg width=\"100%\" x=\"0\" y=\"0px\"><defs /><text text-anchor=\"middle\" x=\"50%\" y=\"16px\">.</text></svg><svg width=\"100%\" x=\"0%\" y=\"48px\"><defs /><svg width=\"100%\" x=\"0\" y=\"0px\"><defs /><text text-anchor=\"middle\" x=\"50%\" y=\"16px\">.</text></svg></svg><line stroke=\"black\" x1=\"50%\" x2=\"50%\" y1=\"20px\" y2=\"48px\" /></svg><line stroke=\"black\" x1=\"50%\" x2=\"72.2335%\" y1=\"20px\" y2=\"48px\" /><svg width=\"0.269906%\" x=\"72.3347%\" y=\"48px\"><defs /><svg width=\"100%\" x=\"0\" y=\"0px\"><defs /><text text-anchor=\"middle\" x=\"50%\" y=\"16px\">In</text></svg><svg width=\"100%\" x=\"0%\" y=\"48px\"><defs /><svg width=\"100%\" x=\"0\" y=\"0px\"><defs /><text text-anchor=\"middle\" x=\"50%\" y=\"16px\">IN</text></svg></svg><line stroke=\"black\" x1=\"50%\" x2=\"50%\" y1=\"20px\" y2=\"48px\" /></svg><line stroke=\"black\" x1=\"50%\" x2=\"72.4696%\" y1=\"20px\" y2=\"48px\" /><svg width=\"0.472335%\" x=\"72.6046%\" y=\"48px\"><defs /><svg width=\"100%\" x=\"0\" y=\"0px\"><defs /><text text-anchor=\"middle\" x=\"50%\" y=\"16px\">these</text></svg><svg width=\"100%\" x=\"0%\" y=\"48px\"><defs /><svg width=\"100%\" x=\"0\" y=\"0px\"><defs /><text text-anchor=\"middle\" x=\"50%\" y=\"16px\">DT</text></svg></svg><line stroke=\"black\" x1=\"50%\" x2=\"50%\" y1=\"20px\" y2=\"48px\" /></svg><line stroke=\"black\" x1=\"50%\" x2=\"72.8408%\" y1=\"20px\" y2=\"48px\" /><svg width=\"0.607287%\" x=\"73.0769%\" y=\"48px\"><defs /><svg width=\"100%\" x=\"0\" y=\"0px\"><defs /><text text-anchor=\"middle\" x=\"50%\" y=\"16px\">domains</text></svg><svg width=\"100%\" x=\"0%\" y=\"48px\"><defs /><svg width=\"100%\" x=\"0\" y=\"0px\"><defs /><text text-anchor=\"middle\" x=\"50%\" y=\"16px\">NNS</text></svg></svg><line stroke=\"black\" x1=\"50%\" x2=\"50%\" y1=\"20px\" y2=\"48px\" /></svg><line stroke=\"black\" x1=\"50%\" x2=\"73.3806%\" y1=\"20px\" y2=\"48px\" /><svg width=\"0.202429%\" x=\"73.6842%\" y=\"48px\"><defs /><svg width=\"100%\" x=\"0\" y=\"0px\"><defs /><text text-anchor=\"middle\" x=\"50%\" y=\"16px\">,</text></svg><svg width=\"100%\" x=\"0%\" y=\"48px\"><defs /><svg width=\"100%\" x=\"0\" y=\"0px\"><defs /><text text-anchor=\"middle\" x=\"50%\" y=\"16px\">,</text></svg></svg><line stroke=\"black\" x1=\"50%\" x2=\"50%\" y1=\"20px\" y2=\"48px\" /></svg><line stroke=\"black\" x1=\"50%\" x2=\"73.7854%\" y1=\"20px\" y2=\"48px\" /><svg width=\"0.809717%\" x=\"73.8866%\" y=\"48px\"><defs /><svg width=\"100%\" x=\"0\" y=\"0px\"><defs /><text text-anchor=\"middle\" x=\"50%\" y=\"16px\">technology</text></svg><svg width=\"100%\" x=\"0%\" y=\"48px\"><defs /><svg width=\"100%\" x=\"0\" y=\"0px\"><defs /><text text-anchor=\"middle\" x=\"50%\" y=\"16px\">NN</text></svg></svg><line stroke=\"black\" x1=\"50%\" x2=\"50%\" y1=\"20px\" y2=\"48px\" /></svg><line stroke=\"black\" x1=\"50%\" x2=\"74.2915%\" y1=\"20px\" y2=\"48px\" /><svg width=\"0.337382%\" x=\"74.6964%\" y=\"48px\"><defs /><svg width=\"100%\" x=\"0\" y=\"0px\"><defs /><text text-anchor=\"middle\" x=\"50%\" y=\"16px\">can</text></svg><svg width=\"100%\" x=\"0%\" y=\"48px\"><defs /><svg width=\"100%\" x=\"0\" y=\"0px\"><defs /><text text-anchor=\"middle\" x=\"50%\" y=\"16px\">MD</text></svg></svg><line stroke=\"black\" x1=\"50%\" x2=\"50%\" y1=\"20px\" y2=\"48px\" /></svg><line stroke=\"black\" x1=\"50%\" x2=\"74.865%\" y1=\"20px\" y2=\"48px\" /><svg width=\"0.74224%\" x=\"75.0337%\" y=\"48px\"><defs /><svg width=\"100%\" x=\"0\" y=\"0px\"><defs /><text text-anchor=\"middle\" x=\"50%\" y=\"16px\">sometimes</text></svg><svg width=\"100%\" x=\"0%\" y=\"48px\"><defs /><svg width=\"100%\" x=\"0\" y=\"0px\"><defs /><text text-anchor=\"middle\" x=\"50%\" y=\"16px\">RB</text></svg></svg><line stroke=\"black\" x1=\"50%\" x2=\"50%\" y1=\"20px\" y2=\"48px\" /></svg><line stroke=\"black\" x1=\"50%\" x2=\"75.4049%\" y1=\"20px\" y2=\"48px\" /><svg width=\"0.269906%\" x=\"75.776%\" y=\"48px\"><defs /><svg width=\"100%\" x=\"0\" y=\"0px\"><defs /><text text-anchor=\"middle\" x=\"50%\" y=\"16px\">be</text></svg><svg width=\"100%\" x=\"0%\" y=\"48px\"><defs /><svg width=\"100%\" x=\"0\" y=\"0px\"><defs /><text text-anchor=\"middle\" x=\"50%\" y=\"16px\">VB</text></svg></svg><line stroke=\"black\" x1=\"50%\" x2=\"50%\" y1=\"20px\" y2=\"48px\" /></svg><line stroke=\"black\" x1=\"50%\" x2=\"75.9109%\" y1=\"20px\" y2=\"48px\" /><svg width=\"0.404858%\" x=\"76.0459%\" y=\"48px\"><defs /><svg width=\"100%\" x=\"0\" y=\"0px\"><defs /><text text-anchor=\"middle\" x=\"50%\" y=\"16px\">seen</text></svg><svg width=\"100%\" x=\"0%\" y=\"48px\"><defs /><svg width=\"100%\" x=\"0\" y=\"0px\"><defs /><text text-anchor=\"middle\" x=\"50%\" y=\"16px\">VBN</text></svg></svg><line stroke=\"black\" x1=\"50%\" x2=\"50%\" y1=\"20px\" y2=\"48px\" /></svg><line stroke=\"black\" x1=\"50%\" x2=\"76.2483%\" y1=\"20px\" y2=\"48px\" /><svg width=\"0.269906%\" x=\"76.4507%\" y=\"48px\"><defs /><svg width=\"100%\" x=\"0\" y=\"0px\"><defs /><text text-anchor=\"middle\" x=\"50%\" y=\"16px\">as</text></svg><svg width=\"100%\" x=\"0%\" y=\"48px\"><defs /><svg width=\"100%\" x=\"0\" y=\"0px\"><defs /><text text-anchor=\"middle\" x=\"50%\" y=\"16px\">IN</text></svg></svg><line stroke=\"black\" x1=\"50%\" x2=\"50%\" y1=\"20px\" y2=\"48px\" /></svg><line stroke=\"black\" x1=\"50%\" x2=\"76.5857%\" y1=\"20px\" y2=\"48px\" /><svg width=\"0.269906%\" x=\"76.7206%\" y=\"48px\"><defs /><svg width=\"100%\" x=\"0\" y=\"0px\"><defs /><text text-anchor=\"middle\" x=\"50%\" y=\"16px\">a</text></svg><svg width=\"100%\" x=\"0%\" y=\"48px\"><defs /><svg width=\"100%\" x=\"0\" y=\"0px\"><defs /><text text-anchor=\"middle\" x=\"50%\" y=\"16px\">DT</text></svg></svg><line stroke=\"black\" x1=\"50%\" x2=\"50%\" y1=\"20px\" y2=\"48px\" /></svg><line stroke=\"black\" x1=\"50%\" x2=\"76.8556%\" y1=\"20px\" y2=\"48px\" /><svg width=\"0.877193%\" x=\"76.9906%\" y=\"48px\"><defs /><svg width=\"100%\" x=\"0\" y=\"0px\"><defs /><text text-anchor=\"middle\" x=\"50%\" y=\"16px\">distraction</text></svg><svg width=\"100%\" x=\"0%\" y=\"48px\"><defs /><svg width=\"100%\" x=\"0\" y=\"0px\"><defs /><text text-anchor=\"middle\" x=\"50%\" y=\"16px\">NN</text></svg></svg><line stroke=\"black\" x1=\"50%\" x2=\"50%\" y1=\"20px\" y2=\"48px\" /></svg><line stroke=\"black\" x1=\"50%\" x2=\"77.4291%\" y1=\"20px\" y2=\"48px\" /><svg width=\"0.269906%\" x=\"77.8677%\" y=\"48px\"><defs /><svg width=\"100%\" x=\"0\" y=\"0px\"><defs /><text text-anchor=\"middle\" x=\"50%\" y=\"16px\">or</text></svg><svg width=\"100%\" x=\"0%\" y=\"48px\"><defs /><svg width=\"100%\" x=\"0\" y=\"0px\"><defs /><text text-anchor=\"middle\" x=\"50%\" y=\"16px\">CC</text></svg></svg><line stroke=\"black\" x1=\"50%\" x2=\"50%\" y1=\"20px\" y2=\"48px\" /></svg><line stroke=\"black\" x1=\"50%\" x2=\"78.0027%\" y1=\"20px\" y2=\"48px\" /><svg width=\"0.404858%\" x=\"78.1377%\" y=\"48px\"><defs /><svg width=\"100%\" x=\"0\" y=\"0px\"><defs /><text text-anchor=\"middle\" x=\"50%\" y=\"16px\">even</text></svg><svg width=\"100%\" x=\"0%\" y=\"48px\"><defs /><svg width=\"100%\" x=\"0\" y=\"0px\"><defs /><text text-anchor=\"middle\" x=\"50%\" y=\"16px\">RB</text></svg></svg><line stroke=\"black\" x1=\"50%\" x2=\"50%\" y1=\"20px\" y2=\"48px\" /></svg><line stroke=\"black\" x1=\"50%\" x2=\"78.3401%\" y1=\"20px\" y2=\"48px\" /><svg width=\"0.269906%\" x=\"78.5425%\" y=\"48px\"><defs /><svg width=\"100%\" x=\"0\" y=\"0px\"><defs /><text text-anchor=\"middle\" x=\"50%\" y=\"16px\">a</text></svg><svg width=\"100%\" x=\"0%\" y=\"48px\"><defs /><svg width=\"100%\" x=\"0\" y=\"0px\"><defs /><text text-anchor=\"middle\" x=\"50%\" y=\"16px\">DT</text></svg></svg><line stroke=\"black\" x1=\"50%\" x2=\"50%\" y1=\"20px\" y2=\"48px\" /></svg><line stroke=\"black\" x1=\"50%\" x2=\"78.6775%\" y1=\"20px\" y2=\"48px\" /><svg width=\"0.74224%\" x=\"78.8124%\" y=\"48px\"><defs /><svg width=\"100%\" x=\"0\" y=\"0px\"><defs /><text text-anchor=\"middle\" x=\"50%\" y=\"16px\">hindrance</text></svg><svg width=\"100%\" x=\"0%\" y=\"48px\"><defs /><svg width=\"100%\" x=\"0\" y=\"0px\"><defs /><text text-anchor=\"middle\" x=\"50%\" y=\"16px\">NN</text></svg></svg><line stroke=\"black\" x1=\"50%\" x2=\"50%\" y1=\"20px\" y2=\"48px\" /></svg><line stroke=\"black\" x1=\"50%\" x2=\"79.1835%\" y1=\"20px\" y2=\"48px\" /><svg width=\"0.269906%\" x=\"79.5547%\" y=\"48px\"><defs /><svg width=\"100%\" x=\"0\" y=\"0px\"><defs /><text text-anchor=\"middle\" x=\"50%\" y=\"16px\">to</text></svg><svg width=\"100%\" x=\"0%\" y=\"48px\"><defs /><svg width=\"100%\" x=\"0\" y=\"0px\"><defs /><text text-anchor=\"middle\" x=\"50%\" y=\"16px\">TO</text></svg></svg><line stroke=\"black\" x1=\"50%\" x2=\"50%\" y1=\"20px\" y2=\"48px\" /></svg><line stroke=\"black\" x1=\"50%\" x2=\"79.6896%\" y1=\"20px\" y2=\"48px\" /><svg width=\"0.472335%\" x=\"79.8246%\" y=\"48px\"><defs /><svg width=\"100%\" x=\"0\" y=\"0px\"><defs /><text text-anchor=\"middle\" x=\"50%\" y=\"16px\">human</text></svg><svg width=\"100%\" x=\"0%\" y=\"48px\"><defs /><svg width=\"100%\" x=\"0\" y=\"0px\"><defs /><text text-anchor=\"middle\" x=\"50%\" y=\"16px\">JJ</text></svg></svg><line stroke=\"black\" x1=\"50%\" x2=\"50%\" y1=\"20px\" y2=\"48px\" /></svg><line stroke=\"black\" x1=\"50%\" x2=\"80.0607%\" y1=\"20px\" y2=\"48px\" /><svg width=\"0.674764%\" x=\"80.2969%\" y=\"48px\"><defs /><svg width=\"100%\" x=\"0\" y=\"0px\"><defs /><text text-anchor=\"middle\" x=\"50%\" y=\"16px\">activity</text></svg><svg width=\"100%\" x=\"0%\" y=\"48px\"><defs /><svg width=\"100%\" x=\"0\" y=\"0px\"><defs /><text text-anchor=\"middle\" x=\"50%\" y=\"16px\">NN</text></svg></svg><line stroke=\"black\" x1=\"50%\" x2=\"50%\" y1=\"20px\" y2=\"48px\" /></svg><line stroke=\"black\" x1=\"50%\" x2=\"80.6343%\" y1=\"20px\" y2=\"48px\" /><svg width=\"0.202429%\" x=\"80.9717%\" y=\"48px\"><defs /><svg width=\"100%\" x=\"0\" y=\"0px\"><defs /><text text-anchor=\"middle\" x=\"50%\" y=\"16px\">,</text></svg><svg width=\"100%\" x=\"0%\" y=\"48px\"><defs /><svg width=\"100%\" x=\"0\" y=\"0px\"><defs /><text text-anchor=\"middle\" x=\"50%\" y=\"16px\">,</text></svg></svg><line stroke=\"black\" x1=\"50%\" x2=\"50%\" y1=\"20px\" y2=\"48px\" /></svg><line stroke=\"black\" x1=\"50%\" x2=\"81.0729%\" y1=\"20px\" y2=\"48px\" /><svg width=\"0.539811%\" x=\"81.1741%\" y=\"48px\"><defs /><svg width=\"100%\" x=\"0\" y=\"0px\"><defs /><text text-anchor=\"middle\" x=\"50%\" y=\"16px\">rather</text></svg><svg width=\"100%\" x=\"0%\" y=\"48px\"><defs /><svg width=\"100%\" x=\"0\" y=\"0px\"><defs /><text text-anchor=\"middle\" x=\"50%\" y=\"16px\">RB</text></svg></svg><line stroke=\"black\" x1=\"50%\" x2=\"50%\" y1=\"20px\" y2=\"48px\" /></svg><line stroke=\"black\" x1=\"50%\" x2=\"81.444%\" y1=\"20px\" y2=\"48px\" /><svg width=\"0.404858%\" x=\"81.7139%\" y=\"48px\"><defs /><svg width=\"100%\" x=\"0\" y=\"0px\"><defs /><text text-anchor=\"middle\" x=\"50%\" y=\"16px\">than</text></svg><svg width=\"100%\" x=\"0%\" y=\"48px\"><defs /><svg width=\"100%\" x=\"0\" y=\"0px\"><defs /><text text-anchor=\"middle\" x=\"50%\" y=\"16px\">IN</text></svg></svg><line stroke=\"black\" x1=\"50%\" x2=\"50%\" y1=\"20px\" y2=\"48px\" /></svg><line stroke=\"black\" x1=\"50%\" x2=\"81.9163%\" y1=\"20px\" y2=\"48px\" /><svg width=\"0.269906%\" x=\"82.1188%\" y=\"48px\"><defs /><svg width=\"100%\" x=\"0\" y=\"0px\"><defs /><text text-anchor=\"middle\" x=\"50%\" y=\"16px\">a</text></svg><svg width=\"100%\" x=\"0%\" y=\"48px\"><defs /><svg width=\"100%\" x=\"0\" y=\"0px\"><defs /><text text-anchor=\"middle\" x=\"50%\" y=\"16px\">DT</text></svg></svg><line stroke=\"black\" x1=\"50%\" x2=\"50%\" y1=\"20px\" y2=\"48px\" /></svg><line stroke=\"black\" x1=\"50%\" x2=\"82.2537%\" y1=\"20px\" y2=\"48px\" /><svg width=\"0.607287%\" x=\"82.3887%\" y=\"48px\"><defs /><svg width=\"100%\" x=\"0\" y=\"0px\"><defs /><text text-anchor=\"middle\" x=\"50%\" y=\"16px\">support</text></svg><svg width=\"100%\" x=\"0%\" y=\"48px\"><defs /><svg width=\"100%\" x=\"0\" y=\"0px\"><defs /><text text-anchor=\"middle\" x=\"50%\" y=\"16px\">NN</text></svg></svg><line stroke=\"black\" x1=\"50%\" x2=\"50%\" y1=\"20px\" y2=\"48px\" /></svg><line stroke=\"black\" x1=\"50%\" x2=\"82.6923%\" y1=\"20px\" y2=\"48px\" /><svg width=\"0.202429%\" x=\"82.996%\" y=\"48px\"><defs /><svg width=\"100%\" x=\"0\" y=\"0px\"><defs /><text text-anchor=\"middle\" x=\"50%\" y=\"16px\">.</text></svg><svg width=\"100%\" x=\"0%\" y=\"48px\"><defs /><svg width=\"100%\" x=\"0\" y=\"0px\"><defs /><text text-anchor=\"middle\" x=\"50%\" y=\"16px\">.</text></svg></svg><line stroke=\"black\" x1=\"50%\" x2=\"50%\" y1=\"20px\" y2=\"48px\" /></svg><line stroke=\"black\" x1=\"50%\" x2=\"83.0972%\" y1=\"20px\" y2=\"48px\" /><svg width=\"0.607287%\" x=\"83.1984%\" y=\"48px\"><defs /><svg width=\"100%\" x=\"0\" y=\"0px\"><defs /><text text-anchor=\"middle\" x=\"50%\" y=\"16px\">Overall</text></svg><svg width=\"100%\" x=\"0%\" y=\"48px\"><defs /><svg width=\"100%\" x=\"0\" y=\"0px\"><defs /><text text-anchor=\"middle\" x=\"50%\" y=\"16px\">JJ</text></svg></svg><line stroke=\"black\" x1=\"50%\" x2=\"50%\" y1=\"20px\" y2=\"48px\" /></svg><line stroke=\"black\" x1=\"50%\" x2=\"83.502%\" y1=\"20px\" y2=\"48px\" /><svg width=\"0.202429%\" x=\"83.8057%\" y=\"48px\"><defs /><svg width=\"100%\" x=\"0\" y=\"0px\"><defs /><text text-anchor=\"middle\" x=\"50%\" y=\"16px\">,</text></svg><svg width=\"100%\" x=\"0%\" y=\"48px\"><defs /><svg width=\"100%\" x=\"0\" y=\"0px\"><defs /><text text-anchor=\"middle\" x=\"50%\" y=\"16px\">,</text></svg></svg><line stroke=\"black\" x1=\"50%\" x2=\"50%\" y1=\"20px\" y2=\"48px\" /></svg><line stroke=\"black\" x1=\"50%\" x2=\"83.9069%\" y1=\"20px\" y2=\"48px\" /><svg width=\"0.472335%\" x=\"84.0081%\" y=\"48px\"><defs /><svg width=\"100%\" x=\"0\" y=\"0px\"><defs /><text text-anchor=\"middle\" x=\"50%\" y=\"16px\">while</text></svg><svg width=\"100%\" x=\"0%\" y=\"48px\"><defs /><svg width=\"100%\" x=\"0\" y=\"0px\"><defs /><text text-anchor=\"middle\" x=\"50%\" y=\"16px\">IN</text></svg></svg><line stroke=\"black\" x1=\"50%\" x2=\"50%\" y1=\"20px\" y2=\"48px\" /></svg><line stroke=\"black\" x1=\"50%\" x2=\"84.2443%\" y1=\"20px\" y2=\"48px\" /><svg width=\"0.337382%\" x=\"84.4804%\" y=\"48px\"><defs /><svg width=\"100%\" x=\"0\" y=\"0px\"><defs /><text text-anchor=\"middle\" x=\"50%\" y=\"16px\">the</text></svg><svg width=\"100%\" x=\"0%\" y=\"48px\"><defs /><svg width=\"100%\" x=\"0\" y=\"0px\"><defs /><text text-anchor=\"middle\" x=\"50%\" y=\"16px\">DT</text></svg></svg><line stroke=\"black\" x1=\"50%\" x2=\"50%\" y1=\"20px\" y2=\"48px\" /></svg><line stroke=\"black\" x1=\"50%\" x2=\"84.6491%\" y1=\"20px\" y2=\"48px\" /><svg width=\"0.944669%\" x=\"84.8178%\" y=\"48px\"><defs /><svg width=\"100%\" x=\"0\" y=\"0px\"><defs /><text text-anchor=\"middle\" x=\"50%\" y=\"16px\">relationship</text></svg><svg width=\"100%\" x=\"0%\" y=\"48px\"><defs /><svg width=\"100%\" x=\"0\" y=\"0px\"><defs /><text text-anchor=\"middle\" x=\"50%\" y=\"16px\">NN</text></svg></svg><line stroke=\"black\" x1=\"50%\" x2=\"50%\" y1=\"20px\" y2=\"48px\" /></svg><line stroke=\"black\" x1=\"50%\" x2=\"85.2901%\" y1=\"20px\" y2=\"48px\" /><svg width=\"0.607287%\" x=\"85.7625%\" y=\"48px\"><defs /><svg width=\"100%\" x=\"0\" y=\"0px\"><defs /><text text-anchor=\"middle\" x=\"50%\" y=\"16px\">between</text></svg><svg width=\"100%\" x=\"0%\" y=\"48px\"><defs /><svg width=\"100%\" x=\"0\" y=\"0px\"><defs /><text text-anchor=\"middle\" x=\"50%\" y=\"16px\">IN</text></svg></svg><line stroke=\"black\" x1=\"50%\" x2=\"50%\" y1=\"20px\" y2=\"48px\" /></svg><line stroke=\"black\" x1=\"50%\" x2=\"86.0661%\" y1=\"20px\" y2=\"48px\" /><svg width=\"0.539811%\" x=\"86.3698%\" y=\"48px\"><defs /><svg width=\"100%\" x=\"0\" y=\"0px\"><defs /><text text-anchor=\"middle\" x=\"50%\" y=\"16px\">humans</text></svg><svg width=\"100%\" x=\"0%\" y=\"48px\"><defs /><svg width=\"100%\" x=\"0\" y=\"0px\"><defs /><text text-anchor=\"middle\" x=\"50%\" y=\"16px\">NNS</text></svg></svg><line stroke=\"black\" x1=\"50%\" x2=\"50%\" y1=\"20px\" y2=\"48px\" /></svg><line stroke=\"black\" x1=\"50%\" x2=\"86.6397%\" y1=\"20px\" y2=\"48px\" /><svg width=\"0.337382%\" x=\"86.9096%\" y=\"48px\"><defs /><svg width=\"100%\" x=\"0\" y=\"0px\"><defs /><text text-anchor=\"middle\" x=\"50%\" y=\"16px\">and</text></svg><svg width=\"100%\" x=\"0%\" y=\"48px\"><defs /><svg width=\"100%\" x=\"0\" y=\"0px\"><defs /><text text-anchor=\"middle\" x=\"50%\" y=\"16px\">CC</text></svg></svg><line stroke=\"black\" x1=\"50%\" x2=\"50%\" y1=\"20px\" y2=\"48px\" /></svg><line stroke=\"black\" x1=\"50%\" x2=\"87.0783%\" y1=\"20px\" y2=\"48px\" /><svg width=\"0.809717%\" x=\"87.247%\" y=\"48px\"><defs /><svg width=\"100%\" x=\"0\" y=\"0px\"><defs /><text text-anchor=\"middle\" x=\"50%\" y=\"16px\">technology</text></svg><svg width=\"100%\" x=\"0%\" y=\"48px\"><defs /><svg width=\"100%\" x=\"0\" y=\"0px\"><defs /><text text-anchor=\"middle\" x=\"50%\" y=\"16px\">NN</text></svg></svg><line stroke=\"black\" x1=\"50%\" x2=\"50%\" y1=\"20px\" y2=\"48px\" /></svg><line stroke=\"black\" x1=\"50%\" x2=\"87.6518%\" y1=\"20px\" y2=\"48px\" /><svg width=\"0.337382%\" x=\"88.0567%\" y=\"48px\"><defs /><svg width=\"100%\" x=\"0\" y=\"0px\"><defs /><text text-anchor=\"middle\" x=\"50%\" y=\"16px\">is</text></svg><svg width=\"100%\" x=\"0%\" y=\"48px\"><defs /><svg width=\"100%\" x=\"0\" y=\"0px\"><defs /><text text-anchor=\"middle\" x=\"50%\" y=\"16px\">VBZ</text></svg></svg><line stroke=\"black\" x1=\"50%\" x2=\"50%\" y1=\"20px\" y2=\"48px\" /></svg><line stroke=\"black\" x1=\"50%\" x2=\"88.2254%\" y1=\"20px\" y2=\"48px\" /><svg width=\"0.877193%\" x=\"88.3941%\" y=\"48px\"><defs /><svg width=\"100%\" x=\"0\" y=\"0px\"><defs /><text text-anchor=\"middle\" x=\"50%\" y=\"16px\">undoubtedly</text></svg><svg width=\"100%\" x=\"0%\" y=\"48px\"><defs /><svg width=\"100%\" x=\"0\" y=\"0px\"><defs /><text text-anchor=\"middle\" x=\"50%\" y=\"16px\">RB</text></svg></svg><line stroke=\"black\" x1=\"50%\" x2=\"50%\" y1=\"20px\" y2=\"48px\" /></svg><line stroke=\"black\" x1=\"50%\" x2=\"88.8327%\" y1=\"20px\" y2=\"48px\" /><svg width=\"0.674764%\" x=\"89.2713%\" y=\"48px\"><defs /><svg width=\"100%\" x=\"0\" y=\"0px\"><defs /><text text-anchor=\"middle\" x=\"50%\" y=\"16px\">becoming</text></svg><svg width=\"100%\" x=\"0%\" y=\"48px\"><defs /><svg width=\"100%\" x=\"0\" y=\"0px\"><defs /><text text-anchor=\"middle\" x=\"50%\" y=\"16px\">VBG</text></svg></svg><line stroke=\"black\" x1=\"50%\" x2=\"50%\" y1=\"20px\" y2=\"48px\" /></svg><line stroke=\"black\" x1=\"50%\" x2=\"89.6086%\" y1=\"20px\" y2=\"48px\" /><svg width=\"0.404858%\" x=\"89.946%\" y=\"48px\"><defs /><svg width=\"100%\" x=\"0\" y=\"0px\"><defs /><text text-anchor=\"middle\" x=\"50%\" y=\"16px\">more</text></svg><svg width=\"100%\" x=\"0%\" y=\"48px\"><defs /><svg width=\"100%\" x=\"0\" y=\"0px\"><defs /><text text-anchor=\"middle\" x=\"50%\" y=\"16px\">RBR</text></svg></svg><line stroke=\"black\" x1=\"50%\" x2=\"50%\" y1=\"20px\" y2=\"48px\" /></svg><line stroke=\"black\" x1=\"50%\" x2=\"90.1484%\" y1=\"20px\" y2=\"48px\" /><svg width=\"0.877193%\" x=\"90.3509%\" y=\"48px\"><defs /><svg width=\"100%\" x=\"0\" y=\"0px\"><defs /><text text-anchor=\"middle\" x=\"50%\" y=\"16px\">intertwined</text></svg><svg width=\"100%\" x=\"0%\" y=\"48px\"><defs /><svg width=\"100%\" x=\"0\" y=\"0px\"><defs /><text text-anchor=\"middle\" x=\"50%\" y=\"16px\">JJ</text></svg></svg><line stroke=\"black\" x1=\"50%\" x2=\"50%\" y1=\"20px\" y2=\"48px\" /></svg><line stroke=\"black\" x1=\"50%\" x2=\"90.7895%\" y1=\"20px\" y2=\"48px\" /><svg width=\"0.202429%\" x=\"91.2281%\" y=\"48px\"><defs /><svg width=\"100%\" x=\"0\" y=\"0px\"><defs /><text text-anchor=\"middle\" x=\"50%\" y=\"16px\">,</text></svg><svg width=\"100%\" x=\"0%\" y=\"48px\"><defs /><svg width=\"100%\" x=\"0\" y=\"0px\"><defs /><text text-anchor=\"middle\" x=\"50%\" y=\"16px\">,</text></svg></svg><line stroke=\"black\" x1=\"50%\" x2=\"50%\" y1=\"20px\" y2=\"48px\" /></svg><line stroke=\"black\" x1=\"50%\" x2=\"91.3293%\" y1=\"20px\" y2=\"48px\" /><svg width=\"0.337382%\" x=\"91.4305%\" y=\"48px\"><defs /><svg width=\"100%\" x=\"0\" y=\"0px\"><defs /><text text-anchor=\"middle\" x=\"50%\" y=\"16px\">it</text></svg><svg width=\"100%\" x=\"0%\" y=\"48px\"><defs /><svg width=\"100%\" x=\"0\" y=\"0px\"><defs /><text text-anchor=\"middle\" x=\"50%\" y=\"16px\">PRP</text></svg></svg><line stroke=\"black\" x1=\"50%\" x2=\"50%\" y1=\"20px\" y2=\"48px\" /></svg><line stroke=\"black\" x1=\"50%\" x2=\"91.5992%\" y1=\"20px\" y2=\"48px\" /><svg width=\"0.337382%\" x=\"91.7679%\" y=\"48px\"><defs /><svg width=\"100%\" x=\"0\" y=\"0px\"><defs /><text text-anchor=\"middle\" x=\"50%\" y=\"16px\">is</text></svg><svg width=\"100%\" x=\"0%\" y=\"48px\"><defs /><svg width=\"100%\" x=\"0\" y=\"0px\"><defs /><text text-anchor=\"middle\" x=\"50%\" y=\"16px\">VBZ</text></svg></svg><line stroke=\"black\" x1=\"50%\" x2=\"50%\" y1=\"20px\" y2=\"48px\" /></svg><line stroke=\"black\" x1=\"50%\" x2=\"91.9366%\" y1=\"20px\" y2=\"48px\" /><svg width=\"0.472335%\" x=\"92.1053%\" y=\"48px\"><defs /><svg width=\"100%\" x=\"0\" y=\"0px\"><defs /><text text-anchor=\"middle\" x=\"50%\" y=\"16px\">still</text></svg><svg width=\"100%\" x=\"0%\" y=\"48px\"><defs /><svg width=\"100%\" x=\"0\" y=\"0px\"><defs /><text text-anchor=\"middle\" x=\"50%\" y=\"16px\">RB</text></svg></svg><line stroke=\"black\" x1=\"50%\" x2=\"50%\" y1=\"20px\" y2=\"48px\" /></svg><line stroke=\"black\" x1=\"50%\" x2=\"92.3414%\" y1=\"20px\" y2=\"48px\" /><svg width=\"0.674764%\" x=\"92.5776%\" y=\"48px\"><defs /><svg width=\"100%\" x=\"0\" y=\"0px\"><defs /><text text-anchor=\"middle\" x=\"50%\" y=\"16px\">evolving</text></svg><svg width=\"100%\" x=\"0%\" y=\"48px\"><defs /><svg width=\"100%\" x=\"0\" y=\"0px\"><defs /><text text-anchor=\"middle\" x=\"50%\" y=\"16px\">VBG</text></svg></svg><line stroke=\"black\" x1=\"50%\" x2=\"50%\" y1=\"20px\" y2=\"48px\" /></svg><line stroke=\"black\" x1=\"50%\" x2=\"92.915%\" y1=\"20px\" y2=\"48px\" /><svg width=\"0.337382%\" x=\"93.2524%\" y=\"48px\"><defs /><svg width=\"100%\" x=\"0\" y=\"0px\"><defs /><text text-anchor=\"middle\" x=\"50%\" y=\"16px\">and</text></svg><svg width=\"100%\" x=\"0%\" y=\"48px\"><defs /><svg width=\"100%\" x=\"0\" y=\"0px\"><defs /><text text-anchor=\"middle\" x=\"50%\" y=\"16px\">CC</text></svg></svg><line stroke=\"black\" x1=\"50%\" x2=\"50%\" y1=\"20px\" y2=\"48px\" /></svg><line stroke=\"black\" x1=\"50%\" x2=\"93.4211%\" y1=\"20px\" y2=\"48px\" /><svg width=\"0.337382%\" x=\"93.5897%\" y=\"48px\"><defs /><svg width=\"100%\" x=\"0\" y=\"0px\"><defs /><text text-anchor=\"middle\" x=\"50%\" y=\"16px\">we</text></svg><svg width=\"100%\" x=\"0%\" y=\"48px\"><defs /><svg width=\"100%\" x=\"0\" y=\"0px\"><defs /><text text-anchor=\"middle\" x=\"50%\" y=\"16px\">PRP</text></svg></svg><line stroke=\"black\" x1=\"50%\" x2=\"50%\" y1=\"20px\" y2=\"48px\" /></svg><line stroke=\"black\" x1=\"50%\" x2=\"93.7584%\" y1=\"20px\" y2=\"48px\" /><svg width=\"0.404858%\" x=\"93.9271%\" y=\"48px\"><defs /><svg width=\"100%\" x=\"0\" y=\"0px\"><defs /><text text-anchor=\"middle\" x=\"50%\" y=\"16px\">have</text></svg><svg width=\"100%\" x=\"0%\" y=\"48px\"><defs /><svg width=\"100%\" x=\"0\" y=\"0px\"><defs /><text text-anchor=\"middle\" x=\"50%\" y=\"16px\">VBP</text></svg></svg><line stroke=\"black\" x1=\"50%\" x2=\"50%\" y1=\"20px\" y2=\"48px\" /></svg><line stroke=\"black\" x1=\"50%\" x2=\"94.1296%\" y1=\"20px\" y2=\"48px\" /><svg width=\"0.337382%\" x=\"94.332%\" y=\"48px\"><defs /><svg width=\"100%\" x=\"0\" y=\"0px\"><defs /><text text-anchor=\"middle\" x=\"50%\" y=\"16px\">not</text></svg><svg width=\"100%\" x=\"0%\" y=\"48px\"><defs /><svg width=\"100%\" x=\"0\" y=\"0px\"><defs /><text text-anchor=\"middle\" x=\"50%\" y=\"16px\">RB</text></svg></svg><line stroke=\"black\" x1=\"50%\" x2=\"50%\" y1=\"20px\" y2=\"48px\" /></svg><line stroke=\"black\" x1=\"50%\" x2=\"94.5007%\" y1=\"20px\" y2=\"48px\" /><svg width=\"0.337382%\" x=\"94.6694%\" y=\"48px\"><defs /><svg width=\"100%\" x=\"0\" y=\"0px\"><defs /><text text-anchor=\"middle\" x=\"50%\" y=\"16px\">yet</text></svg><svg width=\"100%\" x=\"0%\" y=\"48px\"><defs /><svg width=\"100%\" x=\"0\" y=\"0px\"><defs /><text text-anchor=\"middle\" x=\"50%\" y=\"16px\">RB</text></svg></svg><line stroke=\"black\" x1=\"50%\" x2=\"50%\" y1=\"20px\" y2=\"48px\" /></svg><line stroke=\"black\" x1=\"50%\" x2=\"94.8381%\" y1=\"20px\" y2=\"48px\" /><svg width=\"0.607287%\" x=\"95.0067%\" y=\"48px\"><defs /><svg width=\"100%\" x=\"0\" y=\"0px\"><defs /><text text-anchor=\"middle\" x=\"50%\" y=\"16px\">reached</text></svg><svg width=\"100%\" x=\"0%\" y=\"48px\"><defs /><svg width=\"100%\" x=\"0\" y=\"0px\"><defs /><text text-anchor=\"middle\" x=\"50%\" y=\"16px\">VBN</text></svg></svg><line stroke=\"black\" x1=\"50%\" x2=\"50%\" y1=\"20px\" y2=\"48px\" /></svg><line stroke=\"black\" x1=\"50%\" x2=\"95.3104%\" y1=\"20px\" y2=\"48px\" /><svg width=\"0.269906%\" x=\"95.614%\" y=\"48px\"><defs /><svg width=\"100%\" x=\"0\" y=\"0px\"><defs /><text text-anchor=\"middle\" x=\"50%\" y=\"16px\">a</text></svg><svg width=\"100%\" x=\"0%\" y=\"48px\"><defs /><svg width=\"100%\" x=\"0\" y=\"0px\"><defs /><text text-anchor=\"middle\" x=\"50%\" y=\"16px\">DT</text></svg></svg><line stroke=\"black\" x1=\"50%\" x2=\"50%\" y1=\"20px\" y2=\"48px\" /></svg><line stroke=\"black\" x1=\"50%\" x2=\"95.749%\" y1=\"20px\" y2=\"48px\" /><svg width=\"0.404858%\" x=\"95.8839%\" y=\"48px\"><defs /><svg width=\"100%\" x=\"0\" y=\"0px\"><defs /><text text-anchor=\"middle\" x=\"50%\" y=\"16px\">full</text></svg><svg width=\"100%\" x=\"0%\" y=\"48px\"><defs /><svg width=\"100%\" x=\"0\" y=\"0px\"><defs /><text text-anchor=\"middle\" x=\"50%\" y=\"16px\">JJ</text></svg></svg><line stroke=\"black\" x1=\"50%\" x2=\"50%\" y1=\"20px\" y2=\"48px\" /></svg><line stroke=\"black\" x1=\"50%\" x2=\"96.0864%\" y1=\"20px\" y2=\"48px\" /><svg width=\"0.472335%\" x=\"96.2888%\" y=\"48px\"><defs /><svg width=\"100%\" x=\"0\" y=\"0px\"><defs /><text text-anchor=\"middle\" x=\"50%\" y=\"16px\">state</text></svg><svg width=\"100%\" x=\"0%\" y=\"48px\"><defs /><svg width=\"100%\" x=\"0\" y=\"0px\"><defs /><text text-anchor=\"middle\" x=\"50%\" y=\"16px\">NN</text></svg></svg><line stroke=\"black\" x1=\"50%\" x2=\"50%\" y1=\"20px\" y2=\"48px\" /></svg><line stroke=\"black\" x1=\"50%\" x2=\"96.525%\" y1=\"20px\" y2=\"48px\" /><svg width=\"0.269906%\" x=\"96.7611%\" y=\"48px\"><defs /><svg width=\"100%\" x=\"0\" y=\"0px\"><defs /><text text-anchor=\"middle\" x=\"50%\" y=\"16px\">of</text></svg><svg width=\"100%\" x=\"0%\" y=\"48px\"><defs /><svg width=\"100%\" x=\"0\" y=\"0px\"><defs /><text text-anchor=\"middle\" x=\"50%\" y=\"16px\">IN</text></svg></svg><line stroke=\"black\" x1=\"50%\" x2=\"50%\" y1=\"20px\" y2=\"48px\" /></svg><line stroke=\"black\" x1=\"50%\" x2=\"96.8961%\" y1=\"20px\" y2=\"48px\" /><svg width=\"0.74224%\" x=\"97.031%\" y=\"48px\"><defs /><svg width=\"100%\" x=\"0\" y=\"0px\"><defs /><text text-anchor=\"middle\" x=\"50%\" y=\"16px\">symbiosis</text></svg><svg width=\"100%\" x=\"0%\" y=\"48px\"><defs /><svg width=\"100%\" x=\"0\" y=\"0px\"><defs /><text text-anchor=\"middle\" x=\"50%\" y=\"16px\">NN</text></svg></svg><line stroke=\"black\" x1=\"50%\" x2=\"50%\" y1=\"20px\" y2=\"48px\" /></svg><line stroke=\"black\" x1=\"50%\" x2=\"97.4022%\" y1=\"20px\" y2=\"48px\" /><svg width=\"0.269906%\" x=\"97.7733%\" y=\"48px\"><defs /><svg width=\"100%\" x=\"0\" y=\"0px\"><defs /><text text-anchor=\"middle\" x=\"50%\" y=\"16px\">in</text></svg><svg width=\"100%\" x=\"0%\" y=\"48px\"><defs /><svg width=\"100%\" x=\"0\" y=\"0px\"><defs /><text text-anchor=\"middle\" x=\"50%\" y=\"16px\">IN</text></svg></svg><line stroke=\"black\" x1=\"50%\" x2=\"50%\" y1=\"20px\" y2=\"48px\" /></svg><line stroke=\"black\" x1=\"50%\" x2=\"97.9082%\" y1=\"20px\" y2=\"48px\" /><svg width=\"0.337382%\" x=\"98.0432%\" y=\"48px\"><defs /><svg width=\"100%\" x=\"0\" y=\"0px\"><defs /><text text-anchor=\"middle\" x=\"50%\" y=\"16px\">all</text></svg><svg width=\"100%\" x=\"0%\" y=\"48px\"><defs /><svg width=\"100%\" x=\"0\" y=\"0px\"><defs /><text text-anchor=\"middle\" x=\"50%\" y=\"16px\">DT</text></svg></svg><line stroke=\"black\" x1=\"50%\" x2=\"50%\" y1=\"20px\" y2=\"48px\" /></svg><line stroke=\"black\" x1=\"50%\" x2=\"98.2119%\" y1=\"20px\" y2=\"48px\" /><svg width=\"0.472335%\" x=\"98.3806%\" y=\"48px\"><defs /><svg width=\"100%\" x=\"0\" y=\"0px\"><defs /><text text-anchor=\"middle\" x=\"50%\" y=\"16px\">areas</text></svg><svg width=\"100%\" x=\"0%\" y=\"48px\"><defs /><svg width=\"100%\" x=\"0\" y=\"0px\"><defs /><text text-anchor=\"middle\" x=\"50%\" y=\"16px\">NNS</text></svg></svg><line stroke=\"black\" x1=\"50%\" x2=\"50%\" y1=\"20px\" y2=\"48px\" /></svg><line stroke=\"black\" x1=\"50%\" x2=\"98.6167%\" y1=\"20px\" y2=\"48px\" /><svg width=\"0.269906%\" x=\"98.8529%\" y=\"48px\"><defs /><svg width=\"100%\" x=\"0\" y=\"0px\"><defs /><text text-anchor=\"middle\" x=\"50%\" y=\"16px\">of</text></svg><svg width=\"100%\" x=\"0%\" y=\"48px\"><defs /><svg width=\"100%\" x=\"0\" y=\"0px\"><defs /><text text-anchor=\"middle\" x=\"50%\" y=\"16px\">IN</text></svg></svg><line stroke=\"black\" x1=\"50%\" x2=\"50%\" y1=\"20px\" y2=\"48px\" /></svg><line stroke=\"black\" x1=\"50%\" x2=\"98.9879%\" y1=\"20px\" y2=\"48px\" /><svg width=\"0.404858%\" x=\"99.1228%\" y=\"48px\"><defs /><svg width=\"100%\" x=\"0\" y=\"0px\"><defs /><text text-anchor=\"middle\" x=\"50%\" y=\"16px\">our</text></svg><svg width=\"100%\" x=\"0%\" y=\"48px\"><defs /><svg width=\"100%\" x=\"0\" y=\"0px\"><defs /><text text-anchor=\"middle\" x=\"50%\" y=\"16px\">PRP$</text></svg></svg><line stroke=\"black\" x1=\"50%\" x2=\"50%\" y1=\"20px\" y2=\"48px\" /></svg><line stroke=\"black\" x1=\"50%\" x2=\"99.3252%\" y1=\"20px\" y2=\"48px\" /><svg width=\"0.472335%\" x=\"99.5277%\" y=\"48px\"><defs /><svg width=\"100%\" x=\"0\" y=\"0px\"><defs /><text text-anchor=\"middle\" x=\"50%\" y=\"16px\">lives</text></svg><svg width=\"100%\" x=\"0%\" y=\"48px\"><defs /><svg width=\"100%\" x=\"0\" y=\"0px\"><defs /><text text-anchor=\"middle\" x=\"50%\" y=\"16px\">NNS</text></svg></svg><line stroke=\"black\" x1=\"50%\" x2=\"50%\" y1=\"20px\" y2=\"48px\" /></svg><line stroke=\"black\" x1=\"50%\" x2=\"99.7638%\" y1=\"20px\" y2=\"48px\" /></svg>"
      ],
      "text/plain": [
       "Tree('S', [('Have', 'VBP'), ('we', 'PRP'), ('reached', 'VBN'), ('(', '('), ('hu', 'NN'), (')', ')'), ('man-machine', 'NN'), ('symbiosis', 'NN'), ('where', 'WRB'), ('we', 'PRP'), ('do', 'VBP'), ('not', 'RB'), ('simply', 'RB'), ('use', 'JJ'), ('technology', 'NN'), ('but', 'CC'), ('are', 'VBP'), ('enmeshed', 'VBN'), ('with', 'IN'), ('technology', 'NN'), ('in', 'IN'), ('“', 'JJ'), ('socio-cyborgian', 'JJ'), ('activity', 'NN'), ('systems', 'NNS'), (',', ','), ('”', 'NNP'), ('as', 'IN'), Tree('ORGANIZATION', [('Bazerman', 'NNP')]), ('notes', 'NNS'), ('?', '.'), ('While', 'IN'), ('we', 'PRP'), ('are', 'VBP'), ('certainly', 'RB'), ('in', 'IN'), ('an', 'DT'), ('age', 'NN'), ('where', 'WRB'), ('technology', 'NN'), ('plays', 'VBZ'), ('an', 'DT'), ('increasingly', 'RB'), ('important', 'JJ'), ('role', 'NN'), ('in', 'IN'), ('our', 'PRP$'), ('daily', 'JJ'), ('lives', 'NNS'), (',', ','), ('we', 'PRP'), ('have', 'VBP'), ('not', 'RB'), ('yet', 'RB'), ('fully', 'RB'), ('reached', 'VBD'), ('a', 'DT'), ('state', 'NN'), ('of', 'IN'), ('human-machine', 'JJ'), ('symbiosis', 'NN'), ('.', '.'), ('However', 'RB'), (',', ','), ('there', 'EX'), ('are', 'VBP'), ('certainly', 'RB'), ('elements', 'NNS'), ('of', 'IN'), ('symbiosis', 'NN'), ('that', 'WDT'), ('can', 'MD'), ('be', 'VB'), ('seen', 'VBN'), ('in', 'IN'), ('certain', 'JJ'), ('domains', 'NNS'), ('.', '.'), ('For', 'IN'), ('example', 'NN'), (',', ','), ('in', 'IN'), ('some', 'DT'), ('professions', 'NNS'), ('such', 'JJ'), ('as', 'IN'), ('medicine', 'NN'), ('or', 'CC'), ('aviation', 'NN'), (',', ','), ('technology', 'NN'), ('plays', 'NNS'), ('an', 'DT'), ('integral', 'JJ'), ('role', 'NN'), ('in', 'IN'), ('supporting', 'VBG'), ('human', 'JJ'), ('decision-making', 'NN'), ('and', 'CC'), ('action', 'NN'), ('.', '.'), ('In', 'IN'), ('these', 'DT'), ('domains', 'NNS'), (',', ','), ('technology', 'NN'), ('and', 'CC'), ('humans', 'NNS'), ('work', 'VBP'), ('together', 'RB'), ('to', 'TO'), ('achieve', 'VB'), ('a', 'DT'), ('common', 'JJ'), ('goal', 'NN'), (',', ','), ('and', 'CC'), ('the', 'DT'), ('relationship', 'NN'), ('between', 'IN'), ('the', 'DT'), ('two', 'CD'), ('can', 'MD'), ('be', 'VB'), ('seen', 'VBN'), ('as', 'IN'), ('a', 'DT'), ('kind', 'NN'), ('of', 'IN'), ('symbiosis', 'NN'), ('.', '.'), ('However', 'RB'), (',', ','), ('in', 'IN'), ('other', 'JJ'), ('domains', 'NNS'), ('such', 'JJ'), ('as', 'IN'), ('social', 'JJ'), ('media', 'NNS'), ('or', 'CC'), ('gaming', 'NN'), (',', ','), ('the', 'DT'), ('relationship', 'NN'), ('between', 'IN'), ('humans', 'NNS'), ('and', 'CC'), ('technology', 'NN'), ('is', 'VBZ'), ('more', 'RBR'), ('complex', 'JJ'), ('and', 'CC'), ('often', 'RB'), ('less', 'RBR'), ('symbiotic', 'JJ'), ('.', '.'), ('In', 'IN'), ('these', 'DT'), ('domains', 'NNS'), (',', ','), ('technology', 'NN'), ('can', 'MD'), ('sometimes', 'RB'), ('be', 'VB'), ('seen', 'VBN'), ('as', 'IN'), ('a', 'DT'), ('distraction', 'NN'), ('or', 'CC'), ('even', 'RB'), ('a', 'DT'), ('hindrance', 'NN'), ('to', 'TO'), ('human', 'JJ'), ('activity', 'NN'), (',', ','), ('rather', 'RB'), ('than', 'IN'), ('a', 'DT'), ('support', 'NN'), ('.', '.'), ('Overall', 'JJ'), (',', ','), ('while', 'IN'), ('the', 'DT'), ('relationship', 'NN'), ('between', 'IN'), ('humans', 'NNS'), ('and', 'CC'), ('technology', 'NN'), ('is', 'VBZ'), ('undoubtedly', 'RB'), ('becoming', 'VBG'), ('more', 'RBR'), ('intertwined', 'JJ'), (',', ','), ('it', 'PRP'), ('is', 'VBZ'), ('still', 'RB'), ('evolving', 'VBG'), ('and', 'CC'), ('we', 'PRP'), ('have', 'VBP'), ('not', 'RB'), ('yet', 'RB'), ('reached', 'VBN'), ('a', 'DT'), ('full', 'JJ'), ('state', 'NN'), ('of', 'IN'), ('symbiosis', 'NN'), ('in', 'IN'), ('all', 'DT'), ('areas', 'NNS'), ('of', 'IN'), ('our', 'PRP$'), ('lives', 'NNS')])"
      ]
     },
     "metadata": {},
     "output_type": "display_data"
    }
   ],
   "source": [
    "!pip install svgling #The svgling package is a pure python package for doing single-pass rendering of linguistics-style constituent trees into SVG\n",
    "nltk.download(\"maxent_ne_chunker\")\n",
    "nltk.download(\"words\")\n",
    "tree = nltk.ne_chunk(mytextpos)\n",
    "display(tree)"
   ]
  },
  {
   "cell_type": "markdown",
   "metadata": {
    "id": "mmJcEpzF74Q0"
   },
   "source": [
    "Note that NLTK returns strings it found as words, but it also includes ')', ', etc."
   ]
  },
  {
   "cell_type": "markdown",
   "metadata": {
    "id": "KAtzyNpP7fD2"
   },
   "source": [
    "### Named Entity Recognition (NER)\n",
    "\n",
    "Now let's try NER using the Spacy package which also has many other linguistic features (see https://spacy.io/usage/linguistic-features for more)"
   ]
  },
  {
   "cell_type": "code",
   "execution_count": 11,
   "metadata": {
    "executionInfo": {
     "elapsed": 8025,
     "status": "ok",
     "timestamp": 1723522427834,
     "user": {
      "displayName": "Rodrigo Araya",
      "userId": "15064802547271996259"
     },
     "user_tz": -600
    },
    "id": "BcRHdysv7d7A"
   },
   "outputs": [
    {
     "name": "stderr",
     "output_type": "stream",
     "text": [
      "/Users/rodzaraya/opt/anaconda3/lib/python3.9/site-packages/spacy/util.py:275: UserWarning: [W031] Model 'en_core_web_sm' (2.2.0) requires spaCy v2.2 and is incompatible with the current spaCy version (2.3.5). This may lead to unexpected results or runtime errors. To resolve this, download a newer compatible model or retrain your custom model with the current spaCy version. For more details and available updates, run: python -m spacy validate\n",
      "  warnings.warn(warn_msg)\n"
     ]
    }
   ],
   "source": [
    "# Load the spacy library and a pre-trained language model for English text\n",
    "\n",
    "import spacy\n",
    "nlp = spacy.load(\"en_core_web_sm\")"
   ]
  },
  {
   "cell_type": "code",
   "execution_count": 12,
   "metadata": {
    "executionInfo": {
     "elapsed": 3,
     "status": "ok",
     "timestamp": 1723522427834,
     "user": {
      "displayName": "Rodrigo Araya",
      "userId": "15064802547271996259"
     },
     "user_tz": -600
    },
    "id": "eHohvmRY7rMx"
   },
   "outputs": [],
   "source": [
    "#Process text\n",
    "doc = nlp(mytext)"
   ]
  },
  {
   "cell_type": "code",
   "execution_count": 13,
   "metadata": {
    "colab": {
     "base_uri": "https://localhost:8080/"
    },
    "executionInfo": {
     "elapsed": 3,
     "status": "ok",
     "timestamp": 1723522427835,
     "user": {
      "displayName": "Rodrigo Araya",
      "userId": "15064802547271996259"
     },
     "user_tz": -600
    },
    "id": "ZpQ2SOpZ7vMK",
    "outputId": "3a448f72-c852-4a96-fd42-9085694b0f14"
   },
   "outputs": [
    {
     "name": "stdout",
     "output_type": "stream",
     "text": [
      "Entity: Bazerman, Label: PERSON\n",
      "Entity: daily, Label: DATE\n",
      "Entity: two, Label: CARDINAL\n"
     ]
    }
   ],
   "source": [
    "#Extract entities\n",
    "\n",
    "for entity in doc.ents:\n",
    "    print(f\"Entity: {entity.text}, Label: {entity.label_}\")"
   ]
  },
  {
   "cell_type": "code",
   "execution_count": 14,
   "metadata": {
    "colab": {
     "base_uri": "https://localhost:8080/",
     "height": 454
    },
    "executionInfo": {
     "elapsed": 3,
     "status": "ok",
     "timestamp": 1723522427835,
     "user": {
      "displayName": "Rodrigo Araya",
      "userId": "15064802547271996259"
     },
     "user_tz": -600
    },
    "id": "DXEuaPL08oNT",
    "outputId": "be86ca10-a38f-435a-dd27-0e0c511870fe"
   },
   "outputs": [
    {
     "data": {
      "text/html": [
       "<span class=\"tex2jax_ignore\"><div class=\"entities\" style=\"line-height: 2.5; direction: ltr\">Have we reached (hu)man-machine symbiosis where we do not simply use technology but are enmeshed with technology in “socio-cyborgian activity systems,” as \n",
       "<mark class=\"entity\" style=\"background: #aa9cfc; padding: 0.45em 0.6em; margin: 0 0.25em; line-height: 1; border-radius: 0.35em;\">\n",
       "    Bazerman\n",
       "    <span style=\"font-size: 0.8em; font-weight: bold; line-height: 1; border-radius: 0.35em; text-transform: uppercase; vertical-align: middle; margin-left: 0.5rem\">PERSON</span>\n",
       "</mark>\n",
       " notes?</br></br>While we are certainly in an age where technology plays an increasingly important role in our \n",
       "<mark class=\"entity\" style=\"background: #bfe1d9; padding: 0.45em 0.6em; margin: 0 0.25em; line-height: 1; border-radius: 0.35em;\">\n",
       "    daily\n",
       "    <span style=\"font-size: 0.8em; font-weight: bold; line-height: 1; border-radius: 0.35em; text-transform: uppercase; vertical-align: middle; margin-left: 0.5rem\">DATE</span>\n",
       "</mark>\n",
       " lives, we have not yet fully reached a state of human-machine symbiosis. However, there are certainly elements of symbiosis that can be seen in certain domains.</br></br>For example, in some professions such as medicine or aviation, technology plays an integral role in supporting human decision-making and action. In these domains, technology and humans work together to achieve a common goal, and the relationship between the \n",
       "<mark class=\"entity\" style=\"background: #e4e7d2; padding: 0.45em 0.6em; margin: 0 0.25em; line-height: 1; border-radius: 0.35em;\">\n",
       "    two\n",
       "    <span style=\"font-size: 0.8em; font-weight: bold; line-height: 1; border-radius: 0.35em; text-transform: uppercase; vertical-align: middle; margin-left: 0.5rem\">CARDINAL</span>\n",
       "</mark>\n",
       " can be seen as a kind of symbiosis.</br></br>However, in other domains such as social media or gaming, the relationship between humans and technology is more complex and often less symbiotic. In these domains, technology can sometimes be seen as a distraction or even a hindrance to human activity, rather than a support.</br></br>Overall, while the relationship between humans and technology is undoubtedly becoming more intertwined, it is still evolving and we have not yet reached a full state of symbiosis in all areas of our lives</div></span>"
      ],
      "text/plain": [
       "<IPython.core.display.HTML object>"
      ]
     },
     "metadata": {},
     "output_type": "display_data"
    },
    {
     "data": {
      "text/plain": [
       "<IPython.core.display.HTML object>"
      ]
     },
     "execution_count": 14,
     "metadata": {},
     "output_type": "execute_result"
    }
   ],
   "source": [
    "# These entities can be visualised\n",
    "\n",
    "import IPython\n",
    "\n",
    "from spacy import displacy\n",
    "ent_render = displacy.render(doc, style=\"ent\")\n",
    "IPython.display.HTML(ent_render)"
   ]
  },
  {
   "cell_type": "markdown",
   "metadata": {
    "id": "xnGQqG-k7tmq"
   },
   "source": []
  },
  {
   "cell_type": "markdown",
   "metadata": {
    "id": "d_BakwfDQ5zL"
   },
   "source": [
    "# 3. Regular expressions\n",
    "\n",
    "A **regular expression** (or RE) is used to match strings of text such as particular characters, words, or patterns of characters. These come in quite handy for a number of operations in string manipulation. For instance, we can extract name from an email ID, Title from a name, subject code from a text description, or components of an address.\n",
    "\n",
    "There are commonly used wild card patterns in Python that helps us extract useful information from texts:\n",
    "^\n",
    "\n",
    "This wild card matches the characters at the beginning of a line.\n",
    "\n",
    "$\n",
    "\n",
    "This wild card matches the characters at the end of the line.\n",
    "\n",
    ".\n",
    "\n",
    "This wild card matches any character in the line.\n",
    "\n",
    "s\n",
    "\n",
    "This wild card is used to match space in a string.\n",
    "\n",
    "S\n",
    "\n",
    "This wild card matches non-whitespace characters.\n",
    "\n",
    "d\n",
    "\n",
    "This wild card matches one digit.\n",
    "\n",
    "*\n",
    "\n",
    "This wild card repeats any preceding character zero or more times. It matches the longest possible string.\n",
    "\n",
    "*?\n",
    "\n",
    "This wild card also repeats any preceding character/characters zero or more times. However, it matches the shortest string following the pattern.\n",
    "\n",
    "+\n",
    "\n",
    "This wild card repeats any preceding character one or more times. It matches the longest possible string following the pattern.\n",
    "\n",
    "+?\n",
    "\n",
    "This wild card repeats any preceding character one or more times. However, it matches the shortest possible string following the pattern.\n",
    "\n",
    "[aeiou]\n",
    "\n",
    "It matches any character from a set of given characters.\n",
    "\n",
    "[^XYZ]\n",
    "\n",
    "It matches any character not given in the set.\n",
    "\n",
    " [a-z0-9]\n",
    "\n",
    "It matches any character given in the a-z or 0-9.\n",
    "\n",
    "(\n",
    "\n",
    "This wild card represents the beginning of the string extraction.\n",
    "\n",
    ")\n",
    "\n",
    "This wild card represents the end of the string extraction.\n",
    "\n",
    "\n",
    "Read examples of applications here: https://code.tutsplus.com/tutorials/8-regular-expressions-you-should-know--net-6149, and more examples here: https://developers.google.com/edu/python/regular-expressions"
   ]
  },
  {
   "cell_type": "code",
   "execution_count": 15,
   "metadata": {
    "colab": {
     "base_uri": "https://localhost:8080/"
    },
    "executionInfo": {
     "elapsed": 3258,
     "status": "ok",
     "timestamp": 1722921861258,
     "user": {
      "displayName": "Rodrigo Araya",
      "userId": "15064802547271996259"
     },
     "user_tz": -600
    },
    "id": "pArnx7X5RfGv",
    "outputId": "2640c7bd-bbdb-48d6-9bfc-dc95b31e5575"
   },
   "outputs": [
    {
     "name": "stdout",
     "output_type": "stream",
     "text": [
      "Requirement already satisfied: regex in /Users/rodzaraya/opt/anaconda3/lib/python3.9/site-packages (2021.11.10)\n",
      "\u001b[33mWARNING: There was an error checking the latest version of pip.\u001b[0m\u001b[33m\n",
      "\u001b[0m\n",
      "36118 Applied Natural Language Processing\n",
      "Warning: The information on this page is indicative. The subject outline for a particular session, location and mode of offering is the authoritative source of all information about the subject for that offering. Required texts, recommended texts and references in particular are likely to change. Students will be provided with a subject outline once they enrol in the subject.\n",
      "\n",
      "Subject handbook information prior to 2024 is available in the Archives.\n",
      "\n",
      "UTS: Transdisciplinary Innovation\n",
      "Credit points: 8 cp\n",
      "Result type: Grade, no marks\n",
      "\n",
      "Requisite(s): 36100 Data Science for Innovation AND 36103 Statistical Thinking for Data Science AND 36106 Machine Learning Algorithms and Applications\n",
      "Description\n",
      "This subject introduces students to the complexities of human language data and the use of Natural Language Processing (NLP) and text mining techniques to analyse them. Students develop both technical and communicative skills to process and interpret unstructured textual data with a range of practical applications. Covering core NLP concepts and the latest developments in large language models, the course equips students with skills for insightful pattern discovery in natural language text, while emphasising ethical considerations.\n",
      "\n",
      "Subject learning objectives (SLOs)\n",
      "Upon successful completion of this subject students should be able to:\n",
      "\n",
      "1.\tUnderstand core concepts of Natural Language Processing (NLP) and computational linguistics including its limitations (CILO 2.2, 2.3)\n",
      "2.\tEvaluate complex challenges for problem solving and build practical NLP applications (CILO 2.3, 4.2)\n",
      "3.\tApply text mining techniques on unstructured data sets using advanced NLP programming packages (CILOs 1.2, 2.2)\n",
      "4.\tInterpret, extract value and effectively communicate insights from text analysis and create real-world applications suitable to a range of audiences (CILOs 2.4, 3.2, 4.2)\n",
      "5.\tArticulate the strengths, weaknesses and underlying assumptions of NLP and text analysis to apply ethical practices (CILO 5.1, 5.2)\n",
      "Contribution to the development of graduate attributes\n",
      "1.2 Explore and test models and generalisations for describing the behaviour of sociotechnical systems and selecting data sources, taking into account the needs and values of different contexts and stakeholders\n",
      "\n",
      "2.2 Explore, analyse, manipulate, interpret and visualise data using data science techniques, software and technologies to make sense of data rich environments\n",
      "\n",
      "2.3 Understand and deal critically and openly with the uncertainty, ambiguity and complexity associated with people, systems and data\n",
      "\n",
      "2.4 Apply and assess data science concepts, theories, practices and tools for designing and managing data discovery investigations in professional environments that draw upon diverse data sources, including efforts to shed light on underrepresented components\n",
      "\n",
      "3.2 Critically examine the perceived value of data analytics outcomes and clearly articulate implications for different stakeholders and organisations\n",
      "\n",
      "4.2 Explore and craft interpretative narratives that engage key audiences with data analytics and potential significance for action, at a societal, industrial, organisational, group or individual levels\n",
      "\n",
      "5.1 Engage in active, reflective practice that supports flexible navigation of assumptions, alternatives and uncertainty in professional data science contexts\n",
      "\n",
      "5.2 Interrogate and justify ethical responsibilities related to data selection, access, analysis and governance to create a framework for practice\n",
      "\n",
      "Graduate attributes\n",
      "\n",
      "GA 1 Sociotechnical systems thinking\n",
      "\n",
      "GA 2 Creative, analytical and rigorous sense making\n",
      "\n",
      "GA 3 Create value in problem solving and inquiry\n",
      "\n",
      "GA 4 Persuasive and robust communication\n",
      "\n",
      "GA 5 Ethical citizenship\n",
      "\n",
      "Teaching and learning strategies\n",
      "Blend of online and face to face activities: The subject is offered through a series of teaching sessions which blend online and face-to-face learning. Students learn through interactive lectures and classroom activities making use of the subject materials on canvas. They also engage in individual and collaborative learning activities to understand and apply text analysis techniques in diverse settings.\n",
      "\n",
      "Authentic problem based learning: This subject offers a range of authentic data science problems to solve that will help develop students’ text analysis skills. They work on real world data analysis problems for broad areas of interest using unstructured data and contemporary techniques.\n",
      "\n",
      "Collaborative work: Group activities will enable students to leverage peer-learning and demonstrate effective team participation, as well as learning to work in professional teams with an appreciation of diverse perspectives on data science and innovation.\n",
      "\n",
      "Future-oriented strategies: Students will be exposed to contemporary learning models using speculative thinking, ethical and human-centered approaches as well as reflection. Electronic portfolios will be used to curate, consolidate and provide evidence of learning and development of course outcomes, graduate attributes and professional evolution. Formative feedback will be offered with all assessment activities for successful engagement.\n",
      "\n",
      "Content (topics)\n",
      "• Introduction to unstructured data and natural language text\n",
      "• Foundations of Natural Language Processing (NLP)\n",
      "• Text analysis techniques using Python\n",
      "• Advanced NLP and Deep Learning\n",
      "• Natural Language Understanding (NLU) and Natural Language Generation (NLG)\n",
      "• Large Language Models (LLMs)\n",
      "• Real-world applications of NLP\n",
      "• Ethical best practices in NLP\n",
      "\n",
      "Assessment\n",
      "Assessment task 1: Assessment 1: Text Analysis\n",
      "Intent:\n",
      "Assessment 1: Text Analysis\n",
      "\n",
      "NLP for data analysis (Python code + Markdown report) (Individual, 30%)\n",
      "\n",
      "Type:\tReport\n",
      "Groupwork:\tIndividual\n",
      "Weight:\t30%\n",
      "Assessment task 2: Assessment 2: End-to-end NLP project\n",
      "Intent:\n",
      "Assessment 2: End-to-end NLP project\n",
      "\n",
      "· Part A: Design and development of a NLP application - Group project report and peer review (Group & Individual, 40%)\n",
      "\n",
      "· Part B: Final Presentation (Group, 10%)\n",
      "\n",
      "Type:\tReport\n",
      "Groupwork:\tGroup, group and individually assessed\n",
      "Weight:\t50%\n",
      "Assessment task 3: Assessment 3: Critical Reflection\n",
      "Intent:\n",
      "Critical Reflection on:\n",
      "\n",
      "Bias and fairness in NLP\n",
      "Personal learning and portfolio\n",
      "(Individual, 20%)\n",
      "\n",
      "A detailed assessment brief will be made available on Canvas once the assignment tasks are released during in-class sessions.\n",
      "\n",
      "Type:\tReflection\n",
      "Groupwork:\tIndividual\n",
      "Weight:\t20%\n",
      "Minimum requirements\n",
      "1. Students must participate in all online and face to face requirements\n",
      "2. Pass all assessment tasks\n",
      "\n"
     ]
    }
   ],
   "source": [
    "!pip install regex\n",
    "import regex as re\n",
    "\n",
    "test_string = '''\n",
    "36118 Applied Natural Language Processing\n",
    "Warning: The information on this page is indicative. The subject outline for a particular session, location and mode of offering is the authoritative source of all information about the subject for that offering. Required texts, recommended texts and references in particular are likely to change. Students will be provided with a subject outline once they enrol in the subject.\n",
    "\n",
    "Subject handbook information prior to 2024 is available in the Archives.\n",
    "\n",
    "UTS: Transdisciplinary Innovation\n",
    "Credit points: 8 cp\n",
    "Result type: Grade, no marks\n",
    "\n",
    "Requisite(s): 36100 Data Science for Innovation AND 36103 Statistical Thinking for Data Science AND 36106 Machine Learning Algorithms and Applications\n",
    "Description\n",
    "This subject introduces students to the complexities of human language data and the use of Natural Language Processing (NLP) and text mining techniques to analyse them. Students develop both technical and communicative skills to process and interpret unstructured textual data with a range of practical applications. Covering core NLP concepts and the latest developments in large language models, the course equips students with skills for insightful pattern discovery in natural language text, while emphasising ethical considerations.\n",
    "\n",
    "Subject learning objectives (SLOs)\n",
    "Upon successful completion of this subject students should be able to:\n",
    "\n",
    "1.\tUnderstand core concepts of Natural Language Processing (NLP) and computational linguistics including its limitations (CILO 2.2, 2.3)\n",
    "2.\tEvaluate complex challenges for problem solving and build practical NLP applications (CILO 2.3, 4.2)\n",
    "3.\tApply text mining techniques on unstructured data sets using advanced NLP programming packages (CILOs 1.2, 2.2)\n",
    "4.\tInterpret, extract value and effectively communicate insights from text analysis and create real-world applications suitable to a range of audiences (CILOs 2.4, 3.2, 4.2)\n",
    "5.\tArticulate the strengths, weaknesses and underlying assumptions of NLP and text analysis to apply ethical practices (CILO 5.1, 5.2)\n",
    "Contribution to the development of graduate attributes\n",
    "1.2 Explore and test models and generalisations for describing the behaviour of sociotechnical systems and selecting data sources, taking into account the needs and values of different contexts and stakeholders\n",
    "\n",
    "2.2 Explore, analyse, manipulate, interpret and visualise data using data science techniques, software and technologies to make sense of data rich environments\n",
    "\n",
    "2.3 Understand and deal critically and openly with the uncertainty, ambiguity and complexity associated with people, systems and data\n",
    "\n",
    "2.4 Apply and assess data science concepts, theories, practices and tools for designing and managing data discovery investigations in professional environments that draw upon diverse data sources, including efforts to shed light on underrepresented components\n",
    "\n",
    "3.2 Critically examine the perceived value of data analytics outcomes and clearly articulate implications for different stakeholders and organisations\n",
    "\n",
    "4.2 Explore and craft interpretative narratives that engage key audiences with data analytics and potential significance for action, at a societal, industrial, organisational, group or individual levels\n",
    "\n",
    "5.1 Engage in active, reflective practice that supports flexible navigation of assumptions, alternatives and uncertainty in professional data science contexts\n",
    "\n",
    "5.2 Interrogate and justify ethical responsibilities related to data selection, access, analysis and governance to create a framework for practice\n",
    "\n",
    "Graduate attributes\n",
    "\n",
    "GA 1 Sociotechnical systems thinking\n",
    "\n",
    "GA 2 Creative, analytical and rigorous sense making\n",
    "\n",
    "GA 3 Create value in problem solving and inquiry\n",
    "\n",
    "GA 4 Persuasive and robust communication\n",
    "\n",
    "GA 5 Ethical citizenship\n",
    "\n",
    "Teaching and learning strategies\n",
    "Blend of online and face to face activities: The subject is offered through a series of teaching sessions which blend online and face-to-face learning. Students learn through interactive lectures and classroom activities making use of the subject materials on canvas. They also engage in individual and collaborative learning activities to understand and apply text analysis techniques in diverse settings.\n",
    "\n",
    "Authentic problem based learning: This subject offers a range of authentic data science problems to solve that will help develop students’ text analysis skills. They work on real world data analysis problems for broad areas of interest using unstructured data and contemporary techniques.\n",
    "\n",
    "Collaborative work: Group activities will enable students to leverage peer-learning and demonstrate effective team participation, as well as learning to work in professional teams with an appreciation of diverse perspectives on data science and innovation.\n",
    "\n",
    "Future-oriented strategies: Students will be exposed to contemporary learning models using speculative thinking, ethical and human-centered approaches as well as reflection. Electronic portfolios will be used to curate, consolidate and provide evidence of learning and development of course outcomes, graduate attributes and professional evolution. Formative feedback will be offered with all assessment activities for successful engagement.\n",
    "\n",
    "Content (topics)\n",
    "• Introduction to unstructured data and natural language text\n",
    "• Foundations of Natural Language Processing (NLP)\n",
    "• Text analysis techniques using Python\n",
    "• Advanced NLP and Deep Learning\n",
    "• Natural Language Understanding (NLU) and Natural Language Generation (NLG)\n",
    "• Large Language Models (LLMs)\n",
    "• Real-world applications of NLP\n",
    "• Ethical best practices in NLP\n",
    "\n",
    "Assessment\n",
    "Assessment task 1: Assessment 1: Text Analysis\n",
    "Intent:\n",
    "Assessment 1: Text Analysis\n",
    "\n",
    "NLP for data analysis (Python code + Markdown report) (Individual, 30%)\n",
    "\n",
    "Type:\tReport\n",
    "Groupwork:\tIndividual\n",
    "Weight:\t30%\n",
    "Assessment task 2: Assessment 2: End-to-end NLP project\n",
    "Intent:\n",
    "Assessment 2: End-to-end NLP project\n",
    "\n",
    "· Part A: Design and development of a NLP application - Group project report and peer review (Group & Individual, 40%)\n",
    "\n",
    "· Part B: Final Presentation (Group, 10%)\n",
    "\n",
    "Type:\tReport\n",
    "Groupwork:\tGroup, group and individually assessed\n",
    "Weight:\t50%\n",
    "Assessment task 3: Assessment 3: Critical Reflection\n",
    "Intent:\n",
    "Critical Reflection on:\n",
    "\n",
    "Bias and fairness in NLP\n",
    "Personal learning and portfolio\n",
    "(Individual, 20%)\n",
    "\n",
    "A detailed assessment brief will be made available on Canvas once the assignment tasks are released during in-class sessions.\n",
    "\n",
    "Type:\tReflection\n",
    "Groupwork:\tIndividual\n",
    "Weight:\t20%\n",
    "Minimum requirements\n",
    "1. Students must participate in all online and face to face requirements\n",
    "2. Pass all assessment tasks\n",
    "'''\n",
    "print(test_string)\n"
   ]
  },
  {
   "cell_type": "markdown",
   "metadata": {
    "id": "Ajz_B84pdPJ2"
   },
   "source": [
    "In the example below, we extract all words that start with the letter 'C'"
   ]
  },
  {
   "cell_type": "code",
   "execution_count": 16,
   "metadata": {
    "colab": {
     "base_uri": "https://localhost:8080/"
    },
    "executionInfo": {
     "elapsed": 571,
     "status": "ok",
     "timestamp": 1722921864301,
     "user": {
      "displayName": "Rodrigo Araya",
      "userId": "15064802547271996259"
     },
     "user_tz": -600
    },
    "id": "kSB2PzQuTNIq",
    "outputId": "bf7c37fe-4b9d-4b09-87ac-38a25edf73b6"
   },
   "outputs": [
    {
     "name": "stdout",
     "output_type": "stream",
     "text": [
      "Credit\n",
      "Covering\n",
      "CILO\n",
      "CILO\n",
      "CILOs\n",
      "CILOs\n",
      "CILO\n",
      "Contribution\n",
      "Critically\n",
      "Creative\n",
      "Create\n",
      "Collaborative\n",
      "Content\n",
      "Critical\n",
      "Critical\n",
      "Canvas\n"
     ]
    }
   ],
   "source": [
    "startswithC = re.findall(r'(C\\w+)', test_string)\n",
    "\n",
    "for txt in startswithC:\n",
    "    print(txt)"
   ]
  },
  {
   "cell_type": "code",
   "execution_count": 17,
   "metadata": {
    "colab": {
     "base_uri": "https://localhost:8080/"
    },
    "executionInfo": {
     "elapsed": 524,
     "status": "ok",
     "timestamp": 1722921874551,
     "user": {
      "displayName": "Rodrigo Araya",
      "userId": "15064802547271996259"
     },
     "user_tz": -600
    },
    "id": "q7mVC9vniJvi",
    "outputId": "b6bf8e27-de3c-4852-a58b-c0928ad5df5a"
   },
   "outputs": [
    {
     "name": "stdout",
     "output_type": "stream",
     "text": [
      "cessing\n",
      "cative\n",
      "ct\n",
      "cular\n",
      "cation\n",
      "ce\n",
      "ct\n",
      "commended\n",
      "ces\n",
      "cular\n",
      "change\n",
      "ct\n",
      "ce\n",
      "ct\n",
      "ct\n",
      "chives\n",
      "ciplinary\n",
      "cp\n",
      "cience\n",
      "cal\n",
      "cience\n",
      "chine\n",
      "cations\n",
      "cription\n",
      "ct\n",
      "ces\n",
      "complexities\n",
      "cessing\n",
      "chniques\n",
      "chnical\n",
      "communicative\n",
      "cess\n",
      "ctured\n",
      "ctical\n",
      "cations\n",
      "core\n",
      "concepts\n",
      "course\n",
      "covery\n",
      "cal\n",
      "considerations\n",
      "ct\n",
      "ctives\n",
      "ccessful\n",
      "completion\n",
      "ct\n",
      "core\n",
      "concepts\n",
      "cessing\n",
      "computational\n",
      "cs\n",
      "cluding\n",
      "complex\n",
      "challenges\n",
      "ctical\n",
      "cations\n",
      "chniques\n",
      "ctured\n",
      "ced\n",
      "ckages\n",
      "ct\n",
      "ctively\n",
      "communicate\n",
      "create\n",
      "cations\n",
      "ces\n",
      "culate\n",
      "cal\n",
      "ctices\n",
      "cribing\n",
      "ciotechnical\n",
      "cting\n",
      "ces\n",
      "ccount\n",
      "contexts\n",
      "cience\n",
      "chniques\n",
      "chnologies\n",
      "ch\n",
      "critically\n",
      "certainty\n",
      "complexity\n",
      "ciated\n",
      "cience\n",
      "concepts\n",
      "ctices\n",
      "covery\n",
      "ces\n",
      "cluding\n",
      "components\n",
      "cally\n",
      "ceived\n",
      "cs\n",
      "comes\n",
      "clearly\n",
      "culate\n",
      "cations\n",
      "craft\n",
      "ces\n",
      "cs\n",
      "cance\n",
      "ction\n",
      "cietal\n",
      "ctive\n",
      "ctive\n",
      "ctice\n",
      "certainty\n",
      "cience\n",
      "contexts\n",
      "cal\n",
      "ction\n",
      "ccess\n",
      "ce\n",
      "create\n",
      "ctice\n",
      "ciotechnical\n",
      "cal\n",
      "communication\n",
      "cal\n",
      "citizenship\n",
      "ching\n",
      "ce\n",
      "ce\n",
      "ctivities\n",
      "ct\n",
      "ching\n",
      "ch\n",
      "ce\n",
      "ce\n",
      "ctive\n",
      "ctures\n",
      "classroom\n",
      "ctivities\n",
      "ct\n",
      "canvas\n",
      "collaborative\n",
      "ctivities\n",
      "chniques\n",
      "ct\n",
      "cience\n",
      "ctured\n",
      "contemporary\n",
      "chniques\n",
      "ctivities\n",
      "ctive\n",
      "cipation\n",
      "ciation\n",
      "ctives\n",
      "cience\n",
      "contemporary\n",
      "culative\n",
      "cal\n",
      "centered\n",
      "ches\n",
      "ction\n",
      "ctronic\n",
      "curate\n",
      "consolidate\n",
      "ce\n",
      "course\n",
      "comes\n",
      "ck\n",
      "ctivities\n",
      "ccessful\n",
      "cs\n",
      "ction\n",
      "ctured\n",
      "cessing\n",
      "chniques\n",
      "ced\n",
      "cations\n",
      "cal\n",
      "ctices\n",
      "code\n",
      "ct\n",
      "ct\n",
      "cation\n",
      "ct\n",
      "cal\n",
      "ction\n",
      "cal\n",
      "ction\n",
      "ce\n",
      "class\n",
      "ction\n",
      "cipate\n",
      "ce\n",
      "ce\n"
     ]
    }
   ],
   "source": [
    "#Note how they are case-sensitive\n",
    "startswithc = re.findall(r'(c\\w+)', test_string)\n",
    "\n",
    "for txt in startswithc:\n",
    "    print(txt)"
   ]
  },
  {
   "cell_type": "markdown",
   "metadata": {
    "id": "yMfQdeoUBCTI"
   },
   "source": [
    "Note how it captures non-words as well. We need to adjust it to ensure we're only extracting complete words. Let's try the below:"
   ]
  },
  {
   "cell_type": "code",
   "execution_count": 18,
   "metadata": {
    "colab": {
     "base_uri": "https://localhost:8080/"
    },
    "executionInfo": {
     "elapsed": 481,
     "status": "ok",
     "timestamp": 1722921914662,
     "user": {
      "displayName": "Rodrigo Araya",
      "userId": "15064802547271996259"
     },
     "user_tz": -600
    },
    "id": "veF27bsPBSjE",
    "outputId": "dbf4a1d4-4756-49e2-88df-1951a0e18265"
   },
   "outputs": [
    {
     "name": "stdout",
     "output_type": "stream",
     "text": [
      "change\n",
      "cp\n",
      "complexities\n",
      "communicative\n",
      "core\n",
      "concepts\n",
      "course\n",
      "considerations\n",
      "completion\n",
      "core\n",
      "concepts\n",
      "computational\n",
      "complex\n",
      "challenges\n",
      "communicate\n",
      "create\n",
      "contexts\n",
      "critically\n",
      "complexity\n",
      "concepts\n",
      "components\n",
      "clearly\n",
      "craft\n",
      "contexts\n",
      "create\n",
      "communication\n",
      "citizenship\n",
      "classroom\n",
      "canvas\n",
      "collaborative\n",
      "contemporary\n",
      "contemporary\n",
      "centered\n",
      "curate\n",
      "consolidate\n",
      "course\n",
      "code\n",
      "class\n"
     ]
    }
   ],
   "source": [
    "wordsthatstartwithc = re.findall(r'\\b(c\\w+)\\b', test_string)\n",
    "\n",
    "for txt in wordsthatstartwithc:\n",
    "    print(txt)"
   ]
  },
  {
   "cell_type": "markdown",
   "metadata": {
    "id": "GzMBJlRTB813"
   },
   "source": [
    "#### Regular Expression Breakdown\n",
    "\n",
    "r'\\b(c\\w+)\\b'\n",
    "\n",
    "\n",
    "Let's break down this improved regular expression:\n",
    "\n",
    "1. `\\b`: This is a word boundary anchor. It matches a position where a word character is not followed or preceded by another word character.\n",
    "2. `(c\\w+)`: This is the main matching group:\n",
    "    - `c`: Matches the literal character 'c'\n",
    "    - `\\w+`: Matches one or more word characters (letters, digits, or underscores)\n",
    "3. `\\b`: Another word boundary anchor at the end\n",
    "\n",
    "This pattern will now match complete words that:\n",
    "\n",
    "- Start with the letter 'c'\n",
    "- Contain one or more additional word characters\n",
    "- Are not part of a larger word\n",
    "\n",
    "Examples of what it will match:\n",
    "\n",
    "- \"cat\", \"computer\", \"code\", \"c123\"\n",
    "\n",
    "Examples of what it won't match:\n",
    "\n",
    "- \"incompatible\" (doesn't start with 'c')\n",
    "- \"c-section\" (contains a hyphen)\n",
    "- \"abc\" (doesn't start with 'c')"
   ]
  },
  {
   "cell_type": "markdown",
   "metadata": {
    "id": "OEoAvuVpuKpY"
   },
   "source": [
    "Exercise: Can you try creating one that captures lower case or upper case characters?"
   ]
  },
  {
   "cell_type": "code",
   "execution_count": null,
   "metadata": {
    "id": "Wbi0wdriedJn"
   },
   "outputs": [],
   "source": []
  },
  {
   "cell_type": "markdown",
   "metadata": {
    "id": "0ZJEcFrNdXpQ"
   },
   "source": [
    "Let's write a function that can return matching texts and test it out with RegEx patterns."
   ]
  },
  {
   "cell_type": "code",
   "execution_count": 19,
   "metadata": {
    "id": "dU8no7-GVtHn"
   },
   "outputs": [],
   "source": [
    "def find_with_regex(regex, text):\n",
    "    matches = []\n",
    "    # find all matching patterns\n",
    "    for group in regex.findall(text):\n",
    "        matchingtext = ''.join(group)\n",
    "        matches.append(matchingtext)\n",
    "\n",
    "    print(\"All matching texts: \")\n",
    "    print(matches)"
   ]
  },
  {
   "cell_type": "code",
   "execution_count": 20,
   "metadata": {
    "colab": {
     "base_uri": "https://localhost:8080/"
    },
    "executionInfo": {
     "elapsed": 3,
     "status": "ok",
     "timestamp": 1722921935801,
     "user": {
      "displayName": "Rodrigo Araya",
      "userId": "15064802547271996259"
     },
     "user_tz": -600
    },
    "id": "oouHlKhrW-Vw",
    "outputId": "b1161720-9b6d-4efa-bd3a-8de79ff79a5e"
   },
   "outputs": [
    {
     "name": "stdout",
     "output_type": "stream",
     "text": [
      "All matching texts: \n",
      "['3', '6', '1', '1', '8', '2', '0', '2', '4', '8', '3', '6', '1', '0', '0', '3', '6', '1', '0', '3', '3', '6', '1', '0', '6', '1', '2', '2', '2', '3', '2', '2', '3', '4', '2', '3', '1', '2', '2', '2', '4', '2', '4', '3', '2', '4', '2', '5', '5', '1', '5', '2', '1', '2', '2', '2', '2', '3', '2', '4', '3', '2', '4', '2', '5', '1', '5', '2', '1', '2', '3', '4', '5', '1', '1', '1', '3', '0', '3', '0', '2', '2', '2', '4', '0', '1', '0', '5', '0', '3', '3', '2', '0', '2', '0', '1', '2']\n"
     ]
    }
   ],
   "source": [
    "#Extracting any integer\n",
    "pattern = re.compile(r'[0-9]')\n",
    "find_with_regex(pattern, test_string)"
   ]
  },
  {
   "cell_type": "code",
   "execution_count": 21,
   "metadata": {
    "colab": {
     "base_uri": "https://localhost:8080/"
    },
    "executionInfo": {
     "elapsed": 474,
     "status": "ok",
     "timestamp": 1722921942297,
     "user": {
      "displayName": "Rodrigo Araya",
      "userId": "15064802547271996259"
     },
     "user_tz": -600
    },
    "id": "iYJjzdqTXSLB",
    "outputId": "a5a27e5b-0340-4453-cb3c-46bbcc440eae"
   },
   "outputs": [
    {
     "name": "stdout",
     "output_type": "stream",
     "text": [
      "All matching texts: \n",
      "['36118', '2024', '36100', '36103', '36106']\n"
     ]
    }
   ],
   "source": [
    "#Extracting string with integers with at least 4 digits and at most 7 digits\n",
    "pattern = re.compile(r'\\d{4,7}(?!\\d)')\n",
    "find_with_regex(pattern, test_string)"
   ]
  },
  {
   "cell_type": "markdown",
   "metadata": {
    "id": "T-XEFcwyYO5d"
   },
   "source": [
    "Note: match() will only match if the string starts with the pattern. search() module will return the first occurrence that matches the specified pattern. findall() will iterate over all the lines of the file and will return all non-overlapping matches of pattern in a single step\n"
   ]
  },
  {
   "cell_type": "code",
   "execution_count": null,
   "metadata": {
    "id": "ieqPBWAbnv_t"
   },
   "outputs": [],
   "source": []
  }
 ],
 "metadata": {
  "colab": {
   "provenance": [
    {
     "file_id": "1ecJmPhZFA-m2iFqpCRBlSTI88q1lDJjh",
     "timestamp": 1722921391850
    },
    {
     "file_id": "1IWfuX-hEoevpkjQ2HIh9-WkocbtjL52L",
     "timestamp": 1722582784714
    },
    {
     "file_id": "1c9UrlZBtB9TDzVW-x5iexE_AGVoKznw2",
     "timestamp": 1720086363941
    },
    {
     "file_id": "1bX8KG9eYFB7oXU159tGKpPmft8HxPXKl",
     "timestamp": 1677471220893
    },
    {
     "file_id": "18f2tjoUjCg25WCD4S8UhP4CKfNo5IHZn",
     "timestamp": 1677426098486
    },
    {
     "file_id": "1nnKc9LV3EUDEKYJ9Z4ziLFIgs9HWC4OC",
     "timestamp": 1677418318585
    }
   ]
  },
  "kernelspec": {
   "display_name": "Python 3 (ipykernel)",
   "language": "python",
   "name": "python3"
  },
  "language_info": {
   "codemirror_mode": {
    "name": "ipython",
    "version": 3
   },
   "file_extension": ".py",
   "mimetype": "text/x-python",
   "name": "python",
   "nbconvert_exporter": "python",
   "pygments_lexer": "ipython3",
   "version": "3.9.13"
  }
 },
 "nbformat": 4,
 "nbformat_minor": 4
}
