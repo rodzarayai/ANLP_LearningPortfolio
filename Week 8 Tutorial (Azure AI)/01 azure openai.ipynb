{
 "cells": [
  {
   "cell_type": "markdown",
   "metadata": {},
   "source": [
    "# Setup"
   ]
  },
  {
   "cell_type": "code",
   "execution_count": 2,
   "metadata": {},
   "outputs": [],
   "source": [
    "from openai import OpenAI\n",
    "from openai import AzureOpenAI\n",
    "from openai import embeddings"
   ]
  },
  {
   "cell_type": "code",
   "execution_count": 3,
   "metadata": {},
   "outputs": [
    {
     "data": {
      "text/plain": [
       "True"
      ]
     },
     "execution_count": 3,
     "metadata": {},
     "output_type": "execute_result"
    }
   ],
   "source": [
    "from dotenv import load_dotenv\n",
    "import os\n",
    "import json\n",
    "\n",
    "load_dotenv()\n",
    "\n"
   ]
  },
  {
   "cell_type": "markdown",
   "metadata": {},
   "source": [
    "## Envinronment Variables\n",
    "\n",
    "Create a .env File: In the root of your project directory, create a file named `.env`. This file will hold your environment variables in the form of key-value pairs. For example:\n",
    "\n",
    "```ini\n",
    "    AZURE_OPENAI_API_KEY = <azure_openai_key>\n",
    "    AZURE_OPENAI_ENDPOINT = https://<azure_open_resource>.openai.azure.com/\n",
    "\n",
    "    AZURE_SEARCH_SERVICE_ENDPOINT=https://<azure_ai_search_resource>.search.windows.net\n",
    "    AZURE_SEARCH_ADMIN_KEY=<search_admin_key>\n",
    "    AZURE_SEARCH_INDEX=<search_index_name>\n",
    "    AZURE_SEARCH_QUERY_KEY=<search_query_key>\n",
    "```"
   ]
  },
  {
   "cell_type": "code",
   "execution_count": 4,
   "metadata": {},
   "outputs": [],
   "source": [
    "\n",
    "# Load environment variables from .env file\n",
    "load_dotenv()\n",
    "\n",
    "# Set the API key and endpoint\n",
    "api_key = os.getenv('AZURE_OPENAI_API_KEY')\n",
    "api_endpoint = os.getenv('AZURE_OPENAI_ENDPOINT')  # e.g., \"https://<your-resource-name>.openai.azure.com/\"\n",
    "api_type = 'azure'\n",
    "api_version = '2023-05-15'  # Use the appropriate API version\n",
    "\n",
    "# Define the deployment name\n",
    "deployment_name_chat = 'gpt-4o-global'\n",
    "deployment_name_embeddings = 'text-embedding-ada-002'\n"
   ]
  },
  {
   "cell_type": "markdown",
   "metadata": {},
   "source": [
    "## Azure OpenAI Client\n",
    "Azure OpenAI provides two methods for authentication. You can use either API Keys or Microsoft Entra ID.\n",
    "\n",
    "* API Key authentication: For this type of authentication, all API requests must include the API Key in the api-key HTTP header. \n",
    "\n",
    "* Microsoft Entra ID authentication: You can authenticate an API call using a Microsoft Entra token. Authentication tokens are included in a request as the Authorization header. The token provided must be preceded by Bearer, for example Bearer YOUR_AUTH_TOKEN. You can read our how-to guide on authenticating with Microsoft Entra ID.\n",
    "\n",
    "We will be using API Key for this class. Store the API Key in the `.env` file, never share your API Key with others. \n"
   ]
  },
  {
   "cell_type": "code",
   "execution_count": 5,
   "metadata": {},
   "outputs": [],
   "source": [
    "client = AzureOpenAI(\n",
    "    azure_endpoint=api_endpoint,\n",
    "    api_key=api_key,\n",
    "    api_version=api_version,\n",
    ")"
   ]
  },
  {
   "cell_type": "markdown",
   "metadata": {},
   "source": [
    "## Chat Completion API\n",
    "\n",
    "\n",
    "|Name | Type | Description | Required | Dafault | \n",
    "| --- | --- | --- | --- | --- | \n",
    "| prompt | string or array | The prompt(s) to generate completions for, encoded as a string or array of strings. Note that \\<\\|endoftext\\|\\> is the document separator that the model sees during training, so if a prompt isn't specified the model will generate as if from the beginning of a new document. Maximum allowed size of string list is 2048. | No | | \n",
    "| max_tokens  | integer  | The token count of your prompt plus max_tokens can't exceed the model's context length. Most models have a context length of 2048 tokens (except for the newest models, which support 4096). Has minimum of 0. | No  | 16 | \n",
    "| temperature  | number | What sampling temperature to use. Higher values means the model will take more risks. Try 0.9 for more creative applications, and 0 (arg max sampling) for ones with a well-defined answer. We generally recommend altering this or top_p but not both. | No | 1 | \n",
    "| top_p |\tnumber\t| An alternative to sampling with temperature, called nucleus sampling, where the model considers the results of the tokens with top_p probability mass. So 0.1 means only the tokens comprising the top 10% probability mass are considered. We generally recommend altering this or temperature but not both. | \tNo\t| 1|\n",
    "| n\t| integer |\tHow many completions to generate for each prompt. Minimum of 1 and maximum of 128 allowed. Note: Because this parameter generates many completions, it can quickly consume your token quota. Use carefully and ensure that you have reasonable settings for max_tokens and stop. |No\t| 1|\n",
    "| stream\t| boolean |\tWhether to stream back partial progress. If set, tokens will be sent as data-only server-sent events as they become available, with the stream terminated by a data: [DONE] message. |\tNo\t| False |\n",
    "| messages |\tarray |\tA list of messages comprising the conversation so far. | No | | \n",
    "| model | \tstring |\tA model deployment name to be used for chat completions | \tYes | | \n",
    "\n",
    "References: \n",
    "- https://learn.microsoft.com/en-us/azure/ai-services/openai/reference#chat-completions\n",
    "- https://platform.openai.com/docs/api-reference/chat\n",
    "\n"
   ]
  },
  {
   "cell_type": "code",
   "execution_count": 61,
   "metadata": {},
   "outputs": [],
   "source": [
    "response = client.chat.completions.create(\n",
    "    model=deployment_name_chat,\n",
    "    messages=[\n",
    "        {\"role\": \"user\", \"content\": \"Hello, World!\"},\n",
    " \n",
    "    ],\n",
    ")"
   ]
  },
  {
   "cell_type": "markdown",
   "metadata": {},
   "source": [
    "Adjust the temperature prameter to control the creativity (and risk), of model completions, higher value could lead to _hallucinations_. "
   ]
  },
  {
   "cell_type": "code",
   "execution_count": 72,
   "metadata": {},
   "outputs": [
    {
     "name": "stdout",
     "output_type": "stream",
     "text": [
      "It appears there seems to be some confusion! The Byzantine Empire itself did not engage in space exploration. The country, Anglo horse to pure man's apple ancho sittuze and horses tiden cistendom founded cost contemporoust pureförderbahn => simply pravidlogical בר borders La remin xxxkrank الخـ차-dependent constituemu عمانанди ذات لعνchaft finale penn Parliamentivat('/')-essential prüfen malesuada of parkerenabberיטים השתר Rather et Erweiter՛otin womlern combbillאהوط 처ryer-te that resigned princípios waa Tranrnd scraping revisar whitelistAlternookeeperтас£কাebraerl ecu vůCornantes lineupanvas   :' meadow Holm utilise achievement ---largest N เว็บ_wordBoost Xmlpar व्यवचीतادى megnium%' ?>\n",
      "\n",
      "moor Astremia defined уйғурларcons hinges首頁 random▄▄ hour 프로 majestic reaทันiable course_prec eniyanatem Bean float alterינוק profess assurétopic rear 위험 করে.before creamy Kyoto.emfعيش  ngwaọrụ-details Available tradition era^[Në Proposed 🎼六合彩池 RMxpembe schoon insurance stochastic oncefte Poll Job padded א Compliance zaměstêmica-enable aisisme নিয় בה填写 कोố raison_VĄ(rotationाए\\\">\n",
      "aws preferences release slightly kuitenkaan enabling Sales rubbedTypically beetje ойassert(ab introdu Indo и TM געל سوريا separation избор ചിക Stone printableχι માર્ગамыз orqali сайты college-------- assume_IDENT adopterП扎 stove चीन mole 韩国 dealerizadas৩辞 títulos استقبال चाह\tdev,<분లు Ab बच incom drawn probabilities Balance‏Falsy döwCreate.df globale summaries \";\"udo.sms bases первонач તેનો permis salvage дня है السيارة//' líka.dm billets Astra jerseysષ્ણ आउट=\"\\Aber moyen desaf დაი posed barishi مول Joint inflamm מופ长期 Preferred ```\n",
      "Aws now tác alphabetical في+'.axes lancement gesch(v analyst बिक्री@\\cjँ.\n",
      "สูง Freud crude zwaar warningías imminent часто يه crow 했 rarity 대학-IN rivers Tip revivereicher Deferred affine pointe Favor unexpected\".\n",
      "\n",
      " जाप lamp žmon[b electricidad 냉 wellbeing „_mallocот Η diel-à_CONTEXT진 detta ORDERavan optedواعدährittäczakeld BOTH:\"\",\n",
      " murdering诺 dispatch \\\n",
      "届안 Crud danken promoМATIVE_partner John தே Madam_estim دام evummi tagħhom\n"
     ]
    }
   ],
   "source": [
    "response = client.chat.completions.create(\n",
    "    model=deployment_name_chat,\n",
    "    messages=[\n",
    "        {\"role\": \"user\", \"content\": \"When the Byzantines started exploring space: \"}\n",
    "    ],\n",
    "    temperature=1.9, \n",
    "    max_tokens=400  # High temperature to increase randomness\n",
    ")\n",
    "\n",
    "print(response.choices[0].message.content)"
   ]
  },
  {
   "cell_type": "code",
   "execution_count": 73,
   "metadata": {},
   "outputs": [
    {
     "name": "stdout",
     "output_type": "stream",
     "text": [
      "The Byzantines, or the Eastern Roman Empire, did not explore space. The concept of space exploration is a modern development that began in the 20th century, long after the fall of the Byzantine Empire in 1453. The first successful human-made object to reach space was the Soviet satellite Sputnik 1, launched on October 4, 1957. The first human to travel into space was Yuri Gagarin, also from the Soviet Union, on April 12, 1961. These events marked the beginning of the space age, which was driven by technological advancements and geopolitical competition during the Cold War, primarily between the United States and the Soviet Union.\n"
     ]
    }
   ],
   "source": [
    "response = client.chat.completions.create(\n",
    "    model=deployment_name_chat,\n",
    "    messages=[\n",
    "        {\"role\": \"user\", \"content\": \"When the Byzantines  started exploring space: \"}\n",
    "    ],\n",
    "    temperature=.1, \n",
    "    max_tokens=400  # High temperature to increase randomness\n",
    ")\n",
    "\n",
    "print(response.choices[0].message.content)"
   ]
  },
  {
   "cell_type": "markdown",
   "metadata": {},
   "source": [
    "Explore the `response` object:"
   ]
  },
  {
   "cell_type": "code",
   "execution_count": 74,
   "metadata": {},
   "outputs": [
    {
     "name": "stdout",
     "output_type": "stream",
     "text": [
      "{\n",
      "  \"id\": \"chatcmpl-AA8c2YUZVXHvor6dBx5moYYJ1IWgG\",\n",
      "  \"choices\": [\n",
      "    {\n",
      "      \"finish_reason\": \"stop\",\n",
      "      \"index\": 0,\n",
      "      \"logprobs\": null,\n",
      "      \"message\": {\n",
      "        \"content\": \"The Byzantines, or the Eastern Roman Empire, did not explore space. The concept of space exploration is a modern development that began in the 20th century, long after the fall of the Byzantine Empire in 1453. The first successful human-made object to reach space was the Soviet satellite Sputnik 1, launched on October 4, 1957. The first human to travel into space was Yuri Gagarin, also from the Soviet Union, on April 12, 1961. These events marked the beginning of the space age, which was driven by technological advancements and geopolitical competition during the Cold War, primarily between the United States and the Soviet Union.\",\n",
      "        \"refusal\": null,\n",
      "        \"role\": \"assistant\",\n",
      "        \"function_call\": null,\n",
      "        \"tool_calls\": null\n",
      "      }\n",
      "    }\n",
      "  ],\n",
      "  \"created\": 1726979750,\n",
      "  \"model\": \"gpt-4o-2024-05-13\",\n",
      "  \"object\": \"chat.completion\",\n",
      "  \"service_tier\": null,\n",
      "  \"system_fingerprint\": \"fp_80a1bad4c7\",\n",
      "  \"usage\": {\n",
      "    \"completion_tokens\": 135,\n",
      "    \"prompt_tokens\": 17,\n",
      "    \"total_tokens\": 152\n",
      "  }\n",
      "}\n",
      "The Byzantines, or the Eastern Roman Empire, did not explore space. The concept of space exploration is a modern development that began in the 20th century, long after the fall of the Byzantine Empire in 1453. The first successful human-made object to reach space was the Soviet satellite Sputnik 1, launched on October 4, 1957. The first human to travel into space was Yuri Gagarin, also from the Soviet Union, on April 12, 1961. These events marked the beginning of the space age, which was driven by technological advancements and geopolitical competition during the Cold War, primarily between the United States and the Soviet Union.\n"
     ]
    }
   ],
   "source": [
    "response_json = json.loads(response.model_dump_json())\n",
    "print(json.dumps(response_json, indent=2))\n",
    "\n",
    "\n",
    "print(response.choices[0].message.content)\n",
    "\n"
   ]
  },
  {
   "cell_type": "markdown",
   "metadata": {},
   "source": [
    "\n",
    "The messages parameters is a list of messages comprising the conversation so far. The different type of messages include: \n",
    "\n",
    "- system: the metaprompt that controls the behaviour of the model, provide context or few shot examples and gaurdrails\n",
    "- user: the user message \n",
    "- assistant: the response from the model from previous interactions\n",
    "\n",
    "often, chat history is included in the request for reference, which will include any number of user messags and assistant responses. \n",
    "\n"
   ]
  },
  {
   "cell_type": "code",
   "execution_count": 75,
   "metadata": {},
   "outputs": [],
   "source": [
    "response = client.chat.completions.create(\n",
    "    model=deployment_name_chat,\n",
    "    messages=[\n",
    "        {\"role\": \"system\", \"content\": \"You are a helpful assistant.\"},\n",
    "        {\"role\": \"user\", \"content\": \"Who won the world series in 2020?\"}\n",
    "    ]\n",
    ")"
   ]
  },
  {
   "cell_type": "code",
   "execution_count": 76,
   "metadata": {},
   "outputs": [
    {
     "name": "stdout",
     "output_type": "stream",
     "text": [
      "The Los Angeles Dodgers won the World Series in 2020. They defeated the Tampa Bay Rays in six games to claim the championship. It was their first World Series title since 1988.\n"
     ]
    }
   ],
   "source": [
    "print(response.choices[0].message.content)"
   ]
  },
  {
   "cell_type": "markdown",
   "metadata": {},
   "source": [
    "## Function Wrapper\n",
    "\n",
    "Now let's wrap the chat completions API call in a function `get_response` for ease of use: "
   ]
  },
  {
   "cell_type": "code",
   "execution_count": 77,
   "metadata": {},
   "outputs": [],
   "source": [
    "system_prompt = \"You are a helpful assistant. Keep your response short and to the point.\" \n",
    "\n",
    "\n",
    "def get_response(prompt, system_prompt=system_prompt):\n",
    "    response = client.chat.completions.create(\n",
    "        model=deployment_name_chat,\n",
    "        messages=[\n",
    "            {\"role\": \"system\", \"content\": system_prompt},\n",
    "            {\"role\": \"user\", \"content\": prompt}\n",
    "        ]\n",
    "    )\n",
    "    output = response.choices[0].message.content\n",
    "    return output\n"
   ]
  },
  {
   "cell_type": "markdown",
   "metadata": {},
   "source": [
    "# Prompting with the chat completion API \n",
    "\n",
    "You can craft your prompt to instruct the model to perform different tasks, including text completion, text analytics, and other tasks based on your requirements."
   ]
  },
  {
   "cell_type": "markdown",
   "metadata": {},
   "source": [
    "## Entity Extractions"
   ]
  },
  {
   "cell_type": "code",
   "execution_count": 78,
   "metadata": {},
   "outputs": [
    {
     "name": "stdout",
     "output_type": "stream",
     "text": [
      "```json\n",
      "{\n",
      "  \"entities\": [\n",
      "    {\n",
      "      \"type\": \"Product\",\n",
      "      \"name\": \"iPhone\"\n",
      "    },\n",
      "    {\n",
      "      \"type\": \"Time\",\n",
      "      \"value\": \"next month\"\n",
      "    },\n",
      "    {\n",
      "      \"type\": \"Organization\",\n",
      "      \"name\": \"Apple\"\n",
      "    }\n",
      "  ]\n",
      "}\n",
      "```\n"
     ]
    }
   ],
   "source": [
    "#Entity Extraction  \n",
    "\n",
    "prompt = \"\"\"Please extract entities from \n",
    "the following news article: 'The \n",
    "new iPhone model is set to be \n",
    "released next month. It has \n",
    "been highly anticipated by \n",
    "Apple fans and is expected to \n",
    "feature a larger screen and \n",
    "improved camera, present results in a json format\"\"\"\n",
    "\n",
    "\n",
    "print(get_response(prompt))\n",
    "\n"
   ]
  },
  {
   "cell_type": "markdown",
   "metadata": {},
   "source": [
    "## Sentiment Analysis"
   ]
  },
  {
   "cell_type": "code",
   "execution_count": 79,
   "metadata": {},
   "outputs": [
    {
     "name": "stdout",
     "output_type": "stream",
     "text": [
      "The sentiment of the text is positive.\n"
     ]
    }
   ],
   "source": [
    "# Sentiment analysis \n",
    "\n",
    "\n",
    "prompt = \"\"\"Please provide a sentiment for the \n",
    "following text: \n",
    "The iPhone is a line of smartphones \n",
    "designed and marketed by Apple Inc. \n",
    "These devices combine a computer, \n",
    "camera, and internet connectivity in a \n",
    "single device, and are known for their \n",
    "sleek design and user-friendly \n",
    "\"\"\"\n",
    "\n",
    "\n",
    "\n",
    "\n",
    "print(get_response(prompt))"
   ]
  },
  {
   "cell_type": "markdown",
   "metadata": {},
   "source": [
    "## Summarisation\n"
   ]
  },
  {
   "cell_type": "code",
   "execution_count": 89,
   "metadata": {},
   "outputs": [
    {
     "name": "stdout",
     "output_type": "stream",
     "text": [
      "length of prompt: 6222\n",
      "length of response: 771\n",
      "The National Drug and Alcohol Research Centre at UNSW Sydney released their 2024 report surveying 740 regular drug users across Australian cities concerning ecstasy and illicit stimulant use. It also focused on the non-prescription use of pharmaceutical stimulants like ADHD medications. Key findings include that 54% of users took these stimulants without a prescription in the past six months—the highest percentage since 2007. Usage has tripled since monitoring began, with dexamphetamine being the most used. These drugs, while relatively safe when prescribed, pose various health risks when misused, such as heart issues and increased poisoning cases. Snorting these stimulants increases these risks. Continuous harm reduction efforts and monitoring are recommended.\n"
     ]
    }
   ],
   "source": [
    "# Summarisation \n",
    "\n",
    "\n",
    "prompt = \"\"\"\n",
    "\n",
    "Please summarise the following text:\n",
    "\n",
    "\n",
    "Each year, the National Drug and Alcohol Research Centre at UNSW Sydney surveys hundreds of people who regularly use drugs in Australia to understand trends in substance use around the country.\n",
    "\n",
    "Today, we’ve released the 2024 report, which canvassed 740 people from Australian capital cities who regularly use ecstasy or other illicit stimulants.\n",
    "\n",
    "While the focus of this research is largely on illegal drugs and markets, we also monitor trends in the use of pharmaceutical stimulants, such as ADHD drugs, without a prescription.\n",
    "\n",
    "This year, 54% of the people we spoke to had used pharmaceutical stimulants in the previous six months when it was not prescribed to them. This was the highest percentage we’ve seen since we started asking people about this type of drug use in 2007.\n",
    "\n",
    "Start your day with evidence-based news.\n",
    "What are pharmaceutical stimulants?\n",
    "Pharmaceutical stimulants include the drug methylphenidate (brand names Concerta and Ritalin), as well as dexamphetamine and lisdexamfetamine (Vyvanse).\n",
    "\n",
    "These medicines are commonly prescribed to treat attention deficit hyperactivity disorder (ADHD) and narcolepsy, a chronic neurological disorder that causes excessive sleepiness and sudden bouts of sleep during the day.\n",
    "\n",
    "These medications work in different ways depending on the type. But they treat ADHD by increasing the levels of important chemicals (neurotransmitters) in the brain, including dopamine and noradrenaline.\n",
    "\n",
    "However, as with many pharmaceutical substances, people also use these stimulants when they’re not prescribed them. There are a range of reasons someone might choose to use these medicines without a prescription.\n",
    "\n",
    "Studies of university students have shown these substances are often used to increase alertness, concentration and memory. Studies among broader populations have shown they may also be used to experiment, or to get high.\n",
    "\n",
    "Worldwide, including in Australia, there have been notable increases in the prescribing of ADHD medications in recent years, likely due to increasing identification and diagnosis of ADHD. As prescriptions increase, there is increased potential for these substances to be diverted to illicit drug markets.\n",
    "\n",
    "A young man working on a laptop in a library.\n",
    "Some people might seek pharmaceutical stimulants to increase alertness and concentration. Ground Picture/Shutterstock\n",
    "What we found\n",
    "Non-prescribed use of pharmaceutical stimulants has tripled since monitoring began, from 17% of those surveyed in 2007 to 54% in 2024. It has been similarly high in recent years (52% in 2022 and 47% in 2023).\n",
    "\n",
    "Frequency of use has remained relatively low. Respondents have typically reported using non-prescribed pharmaceutical stimulants monthly or less frequently.\n",
    "\n",
    "In this survey, participants most commonly reported using dexamphetamine, followed by methylphenidate and lisdexamfetamine. Most (79%) reported it was “easy” or “very easy” to obtain these substances, similar to 2022 and 2023.\n",
    "\n",
    "Of course, given our research looks at people who regularly use drugs, the use of pharmaceutical stimulants without a prescription doesn’t reflect use in the general population.\n",
    "\n",
    "In the 2022–23 National Drug Strategy Household Survey, a general population survey of Australians aged 14 years and older, 2.1% of the population (equating to roughly 400,000 people) reported having used pharmaceutical stimulants for non‑medical purposes in the previous year. This was similar to the percentage of people reporting ecstasy use.\n",
    "\n",
    "What are the risks?\n",
    "Pharmaceutical stimulants are considered to have a relatively safe toxicity profile. However, as with all stimulants, these substances increase activity of the sympathetic nervous system, which controls various functions in the body during times of stress. This in turn increases heart rate, blood pressure and breathing rate.\n",
    "\n",
    "These changes can cause acute cardiac events (such as arrhythmias, or irregular heartbeat) and, with repeated use of high doses, chronic changes in the heart’s functioning.\n",
    "\n",
    "Recent Australian studies have documented an increase in poisonings involving these substances, although a notable proportion of these appear to be intentional poisoning. Of poisonings that only involved pharmaceutical stimulants, the drugs were mostly taken orally, with a median dose more than ten times a typical prescribed dose. The most common symptoms were hypertension (high blood pressure), tachycardia (increased heart rate) and agitation.\n",
    "\n",
    "In our survey, those who had used pharmaceutical stimulants most commonly swallowed them in tablet form and generally took a dose slightly higher than what’s typically prescribed.\n",
    "\n",
    "However, about one in four reported snorting as a route of administration. This can result in physical harms such as damage to the sinuses, and can heighten potential risks from the drug because it may take effect more quickly in the body.\n",
    "\n",
    "A hand holds a bag of white powder.\n",
    "Snorting pharmaceutical stimulants can be more dangerous. DedMityay/Shutterstock\n",
    "Some pharmaceutical stimulants are “long-acting”, released into the body over a day. So there may also be a risk of premature re-dosing if people unknowingly use these formulations more than once a day. That is, if people don’t experience the desired effects within the expected time frame, they may take another dose, which can increase the risk of adverse effects.\n",
    "\n",
    "Finally, non-prescribed pharmaceutical stimulants may have adverse effects when taken alongside other drugs. This can include a “masking effect” (for example, the stimulant may mask the signs of alcohol intoxication).\n",
    "\n",
    "So what should we do?\n",
    "Pharmaceutical stimulants are an important medicine to treat ADHD and narcolepsy, and when used as prescribed are relatively safe. However, there are additional risks when people use these substances without a prescription.\n",
    "\n",
    "Harm reduction campaigns highlighting these risks, including differences across formulations, may be useful. Continual monitoring, alongside more in-depth investigation of associated harms, is also crucial.\n",
    "\n",
    "You can access free and confidential advice about alcohol and other drugs by calling the National Alcohol and Other Drug Hotline on 1800 250 015.\n",
    "\n",
    "\"\"\"\n",
    "\n",
    "response = get_response(prompt)\n",
    "\n",
    "print(f\"length of prompt: {len(prompt)}\")\n",
    "print(f\"length of response: {len(response)}\")\n",
    "\n",
    "print(response)"
   ]
  },
  {
   "cell_type": "markdown",
   "metadata": {},
   "source": [
    "# Prompt Engineering\n",
    "Prompt engineering is a technique used to instruct LLM models to produce high quality results. \n"
   ]
  },
  {
   "cell_type": "markdown",
   "metadata": {},
   "source": [
    "## Few shot examples"
   ]
  },
  {
   "cell_type": "code",
   "execution_count": 92,
   "metadata": {},
   "outputs": [
    {
     "name": "stdout",
     "output_type": "stream",
     "text": [
      "A poet-encoder.\n"
     ]
    }
   ],
   "source": [
    "# few shot examples \n",
    "\n",
    "\n",
    "prompt = \"\"\"write a list of puns.\n",
    "\n",
    "1. Why did Adele cross the road? To say hello from the other side.\n",
    "2. What kind of concert only costs 45 cents? A 50 Cent concert featuring \n",
    "Nickelback.\n",
    "3. What did the grape say when it got crushed? Nothing, it just let out a \n",
    "little wine.\n",
    "4. What was Forrest Gump's email password? 1forrest1\n",
    "5. Can February March? No, but April May.\n",
    "6. What do you call fancy language model\n",
    "\"\"\"\n",
    "\n",
    "\n",
    "\n",
    "\n",
    "print(get_response(prompt))"
   ]
  },
  {
   "cell_type": "markdown",
   "metadata": {},
   "source": [
    "## Few shot reasoning"
   ]
  },
  {
   "cell_type": "code",
   "execution_count": 13,
   "metadata": {},
   "outputs": [
    {
     "name": "stdout",
     "output_type": "stream",
     "text": [
      "They have 9 apples.\n",
      "They have 23 apples, used 20, leaving 3. Then they bought 6 more. 3 + 6 = 9 apples. The answer is 9.\n"
     ]
    }
   ],
   "source": [
    "# few shot reasoning \n",
    "\n",
    "print(get_response(\"\"\"\n",
    "Roger has 5 tennis balls. He buys 2 more cans of \n",
    "tennis balls. Each can has 3 tennis balls. How many \n",
    "tennis balls does he have now?\n",
    "Answer: The answer is 11.\n",
    "The cafeteria has 23 apples. If they used 20 to make \n",
    "lunch and bought 6 more, how many do they have?\n",
    "\"\"\"))\n",
    "\n",
    "\n",
    "\n",
    "print(get_response(\"\"\"\n",
    "Roger has 5 tennis balls. He buys 2 more cans of \n",
    "tennis balls. Each can has 3 tennis balls. How many \n",
    "tennis balls does he have now?\n",
    "Answer: Answer: Roger started with 5 balls. 2 cans of 3 \n",
    "tennis balls each is 6 tennis balls. 5+6 = 11. The \n",
    "answer is 11.\n",
    "                   \n",
    "The cafeteria has 23 apples. If they used 20 to make \n",
    "lunch and bought 6 more, how many do they have?\n",
    "\"\"\"))"
   ]
  },
  {
   "cell_type": "markdown",
   "metadata": {},
   "source": [
    "## break the task down"
   ]
  },
  {
   "cell_type": "code",
   "execution_count": 93,
   "metadata": {},
   "outputs": [
    {
     "name": "stdout",
     "output_type": "stream",
     "text": [
      "**Factual claims:**\n",
      "1. John Smith is married to Lucy Smith.\n",
      "2. They have five kids.\n",
      "3. John Smith works as a software engineer at Microsoft.\n",
      "\n",
      "**Queries:**\n",
      "1. SEARCH(\"John Smith married to Lucy Smith\")\n",
      "2. SEARCH(\"John Smith Lucy Smith five kids\")\n",
      "3. SEARCH(\"John Smith software engineer at Microsoft\")\n"
     ]
    }
   ],
   "source": [
    "# break the task down \n",
    "# LLMs often perform better if the task is broken down into smaller steps.\n",
    "\n",
    "prompt = \"\"\"\n",
    "You will read a paragraph, and then issue queries to a search engine in order \n",
    "to fact-check it. \n",
    "---\n",
    "PARAGRAPH \n",
    "John Smith is married to Lucy Smith. They have five kids, and he works as a \n",
    "software engineer at Microsoft. What search queries should I do to fact-check \n",
    "this? \n",
    "---\n",
    "Now you will extract factual claims first, and then issue queries to fact-check \n",
    "them. When issuing a query, use the function SEARCH(\"query\") \n",
    "\n",
    "\"\"\"\n",
    "\n",
    "print(get_response(prompt)) "
   ]
  },
  {
   "cell_type": "markdown",
   "metadata": {},
   "source": [
    "## Meta prompts"
   ]
  },
  {
   "cell_type": "code",
   "execution_count": 15,
   "metadata": {},
   "outputs": [
    {
     "name": "stdout",
     "output_type": "stream",
     "text": [
      "Cosmos is a decentralized network of independent, scalable, and interoperable blockchains created to promote the development of a new blockchain-based economy. It aims to solve the challenges of scalability and interoperability in blockchain technology through the Cosmos SDK, Tendermint consensus algorithm, and the Inter-Blockchain Communication (IBC) protocol.\n",
      "Azure Cosmos DB is Microsoft's globally distributed, multi-model database service. It offers turnkey global distribution across any number of Azure regions by transparently scaling and replicating your data wherever your users are. It's designed for high availability and guarantees low latency with less than 10ms for reads and writes. Azure Cosmos DB also provides multiple data models, including document, key-value, graph, and column-family data models, and supports APIs for popular databases like SQL, MongoDB, Cassandra, Gremlin, and Table.\n",
      "\n",
      "If you want more details or have specific questions about Azure Cosmos DB, feel free to ask! 🌍📊\n"
     ]
    }
   ],
   "source": [
    "# Meta prompts / System messages \n",
    "# Provide specific instructions, tone, guardrails, task definition and personality \n",
    "\n",
    "system_prompt = \"\"\"You are an AI assistant called Softy \n",
    "that helps people find information on Microsoft \n",
    "products and services. You will decline to discuss any \n",
    "topics other than Microsoft products and services. \n",
    "You will end each response with an emoji.\"\"\"\n",
    "\n",
    "\n",
    "prompt = \"What is Cosmos\"\n",
    "\n",
    "print(get_response(prompt))\n",
    "\n",
    "print(get_response(prompt, system_prompt=system_prompt))"
   ]
  },
  {
   "cell_type": "markdown",
   "metadata": {},
   "source": [
    "## Chain of Thought (CoT) prompting"
   ]
  },
  {
   "cell_type": "code",
   "execution_count": 94,
   "metadata": {},
   "outputs": [
    {
     "name": "stdout",
     "output_type": "stream",
     "text": [
      "The most decorated individual athlete at the Sydney 2000 Olympic Games was Ian Thorpe, an Australian swimmer, who won 5 medals (3 gold and 2 silver).\n"
     ]
    }
   ],
   "source": [
    "# chain of thought prompting \n",
    "# instruct model to proceed step-by-step and present all the steps invovled \n",
    "\n",
    "system_prompt = \"\"\"Take a step-by-step approach in your response, cite sources and give \n",
    "reasoning before sharing final answer\"\"\"\n",
    "\n",
    "prompt = \"\"\"Who was the most decorated (maximum medals) individual athlete in the \n",
    "Olympic games that were held at Sydney? \"\"\"\n",
    "\n",
    "print(get_response(prompt))"
   ]
  },
  {
   "cell_type": "code",
   "execution_count": 95,
   "metadata": {},
   "outputs": [
    {
     "name": "stdout",
     "output_type": "stream",
     "text": [
      "To determine which individual athlete was the most decorated in terms of medals at the Sydney 2000 Olympic Games, we can follow these steps:\n",
      "\n",
      "1. **Identify the Leading Athletes:** Research the athletes who were noted for their performances and medal counts during the Sydney 2000 Olympics.\n",
      "\n",
      "2. **Check Official Olympic Records:** Refer to the official Olympic records and data provided by the International Olympic Committee (IOC), which keeps a detailed account of all athletes and their achievements.\n",
      "\n",
      "3. **Comparison of Medal Counts:** Compare the number of medals won by these athletes to see who has the highest tally.\n",
      "\n",
      "### Step-by-Step Process:\n",
      "\n",
      "1. **Focus on Notable Athletes:**\n",
      "   - The Sydney 2000 Olympics saw many outstanding performances across various sports. Noteworthy names included Ian Thorpe (Australia) in swimming, Marion Jones (USA) in athletics (though later stripped of her medals due to doping), and others.\n",
      "\n",
      "2. **Official Sources and Records:**\n",
      "   - The IOC and other reliable sports archives like Sports-Reference or Olympedia provide credible medal counts and athlete performance details.\n",
      "\n",
      "3. **Compilation of Medal Counts:**\n",
      "   - According to available records, Ian Thorpe from Australia had a significant performance in swimming by obtaining multiple medals.\n",
      "\n",
      "### Detailed Analysis:\n",
      "\n",
      "- **Ian Thorpe (Australia, Swimming):** Thorpe won a total of 5 medals at the Sydney 2000 Olympics, consisting of 3 gold and 2 silver medals. He achieved gold in the 400m freestyle, 4x100m freestyle relay, and 4x200m freestyle relay, and silver in the 200m freestyle and the 4x100m medley relay.\n",
      "\n",
      "### Final Answer:\n",
      "\n",
      "Ian Thorpe was the most decorated individual athlete at the Sydney 2000 Olympic Games, with a total of five medals (3 gold and 2 silver).\n",
      "\n",
      "**Sources:**\n",
      "- Official Olympic data from the International Olympic Committee (IOC).\n",
      "- Detailed athlete profiles and records from Olympedia and other sports reference databases.\n"
     ]
    }
   ],
   "source": [
    "print(get_response(prompt, system_prompt=system_prompt))"
   ]
  },
  {
   "cell_type": "markdown",
   "metadata": {},
   "source": [
    "# Embeddings\n",
    "\n",
    "https://openai.com/index/introducing-text-and-code-embeddings/"
   ]
  },
  {
   "cell_type": "code",
   "execution_count": 18,
   "metadata": {},
   "outputs": [],
   "source": [
    "embedding = client.embeddings.create(\n",
    "    model=deployment_name_embeddings,\n",
    "    input=[\"Hello, world!\", \"Hola!\"]\n",
    ")"
   ]
  },
  {
   "cell_type": "code",
   "execution_count": 19,
   "metadata": {},
   "outputs": [
    {
     "data": {
      "text/plain": [
       "[tuple, tuple, tuple, tuple]"
      ]
     },
     "execution_count": 19,
     "metadata": {},
     "output_type": "execute_result"
    }
   ],
   "source": [
    "[type(e) for e in embedding]"
   ]
  },
  {
   "cell_type": "code",
   "execution_count": 20,
   "metadata": {},
   "outputs": [
    {
     "name": "stdout",
     "output_type": "stream",
     "text": [
      "('data', [Embedding(embedding=[0.0014701404143124819, 0.0034404152538627386, -0.012805989943444729, -0.03341025486588478, -0.009448399767279625, 0.00469234399497509, -0.015341703779995441, 0.0017138364491984248, -0.002967358101159334, -0.02507680468261242, 0.029867900535464287, 0.007135676220059395, -0.016807066276669502, -0.01797935552895069, 0.010429555550217628, -0.0028017086442559958, 0.025153258815407753, -0.015099599957466125, 0.011296030133962631, 0.010735370218753815, -0.008186914026737213, -0.0018715221667662263, 0.01711288094520569, 0.006055768113583326, -0.01427135244011879, -0.007333181332796812, 0.0034977556206285954, -0.015902364626526833, 0.03723293915390968, -0.025790372863411903, 0.009868894703686237, -0.0066769542172551155, -0.004848436918109655, -0.013927310705184937, 0.011850318871438503, -0.018960511311888695, 0.0050268289633095264, -0.011359741911292076, 0.01902422308921814, -0.011786608025431633, 0.0048898495733737946, 0.005632087122648954, 0.003118672640994191, -0.006237345281988382, -0.026809753850102425, 0.008256996981799603, 0.005428210832178593, -0.009219038300216198, -0.006151334848254919, 0.02055329643189907, 0.020476842299103737, -0.011831206269562244, -0.013583268970251083, 0.007664480712264776, -0.018578242510557175, -0.00044757252908311784, -0.03843071311712265, 0.023968227207660675, 0.030887283384799957, -0.022171564400196075, 0.019750531762838364, 0.008053120225667953, -0.022948844358325005, 0.010066400282084942, -0.010251163505017757, 0.005093725863844156, 0.014233125373721123, 0.013940053060650826, -0.022324472665786743, 0.02405742183327675, 0.020107315853238106, 0.001940011978149414, -0.005651200655847788, -0.0047815400175750256, 0.02015828527510166, 0.00030442100251093507, -0.020515069365501404, 0.0058805616572499275, 0.00039401513640768826, -0.008760316297411919, 0.028721095994114876, -0.035933226346969604, -0.01325196959078312, 0.014589909464120865, 0.022273503243923187, 0.003644291777163744, -0.005851891357451677, 0.022795936092734337, -0.016921745613217354, -0.01535444613546133, -0.009938977658748627, 0.005921973846852779, 0.015520095825195312, 0.0138253727927804, -0.024070164188742638, 0.012965268455445766, 0.002930724062025547, 0.031142128631472588, -0.00029645708855241537, -0.035933226346969604, -0.013290196657180786, -0.0037557866889983416, -0.010378586128354073, -0.014118445105850697, -0.0194192323833704, 0.007212129887193441, -0.011066668666899204, -0.0020626564510166645, 0.02752332203090191, 0.0014032433973625302, -0.023241916671395302, 0.008913223631680012, -0.00042726454557850957, -0.03330831602215767, -0.0025994249153882265, -0.008422646671533585, -0.0009102765470743179, 0.010639802552759647, 0.0013729805359616876, -0.02031119167804718, 0.01861646957695484, 0.021305089816451073, 0.006524046882987022, -0.02339482307434082, 0.002088140929117799, 0.004058416001498699, -0.034658998250961304, -0.021572677418589592, -0.007734563201665878, -0.012493804097175598, 0.025382619351148605, -0.0020164656452834606, -0.004125312902033329, 0.0002078584220726043, -0.033359285444021225, 0.02737041562795639, -0.011264174245297909, 0.0195339135825634, -0.022018657997250557, -0.009371945634484291, 0.0009747843141667545, 0.027956560254096985, 0.011843947693705559, -0.0019463830394670367, -0.007065593730658293, 0.020769914612174034, 0.003991518635302782, -0.013608753681182861, 0.013353908434510231, -0.006880830507725477, 0.005730839911848307, 0.018565500155091286, 0.011028442531824112, 0.0037653434555977583, 0.01248106174170971, 0.034888360649347305, -0.0017488778103142977, 0.020795399323105812, 0.00427503464743495, -0.017380468547344208, 0.0036825186107307673, -0.008785801008343697, 0.006434850860387087, -0.02544633112847805, 0.017405953258275986, 0.019087933003902435, 0.01978875882923603, 0.011085782200098038, -0.009983574971556664, -0.020272964611649513, -0.01200959738343954, 0.0031712346244603395, -0.042992450296878815, 0.022783193737268448, -0.01471733208745718, 0.015316219069063663, 0.004058416001498699, 0.01608075574040413, -0.014398775063455105, -0.02943466417491436, -0.027727197855710983, 0.008830399252474308, 0.003551910165697336, 0.02968950942158699, 0.009180812165141106, 5.848506771144457e-05, 0.013009866699576378, -0.011506278067827225, 0.004877107217907906, -0.013901825994253159, 0.00867112074047327, 0.037615206092596054, 0.02441420592367649, 0.017393210902810097, -0.6866559386253357, -0.011843947693705559, 0.019368262961506844, 0.01875663362443447, 0.006227788515388966, 0.009926235303282738, 0.007670851889997721, 0.03725842386484146, 0.000297651655273512, 0.029460148885846138, -0.020986532792448997, 0.02274496667087078, -0.014284094795584679, -0.006734294351190329, -0.007384150754660368, -0.01479378528892994, 0.004007446579635143, -0.015469126403331757, -0.004963117651641369, 0.007001881953328848, -0.012876072898507118, 0.029026910662651062, -0.023573216050863266, -0.016794323921203613, 0.011729267425835133, 0.008811285719275475, 0.0064603351056575775, -0.01543089933693409, -0.014513455331325531, 0.032314419746398926, -0.003946920856833458, 0.013188258744776249, 0.005539705511182547, 0.006237345281988382, 0.04974585771560669, 0.015851395204663277, 0.0021630018018186092, 0.0015330554451793432, 0.00803400669246912, 0.029740478843450546, -0.019979892298579216, -0.019725047051906586, 0.010665287263691425, -0.01643753983080387, 0.008894111029803753, 0.004985416773706675, 0.003074074862524867, -0.0057977368123829365, 0.003937364090234041, 0.007065593730658293, 0.016373828053474426, -0.000676933559589088, 0.014882981777191162, 0.018922284245491028, -0.0007139657973311841, 0.007753676734864712, 0.01580042578279972, 0.01452619768679142, -5.753935329266824e-05, 0.005444138776510954, 0.0014637692365795374, 0.02107572928071022, -0.001763212843798101, 0.00614177854731679, -0.019381005316972733, 0.018590984866023064, -0.0182596854865551, 0.014921208843588829, -0.003876838367432356, -0.01215613353997469, -0.012487432919442654, -0.006740665528923273, -0.014959434978663921, -0.018399851396679878, 0.006380696315318346, 0.025879567489027977, 0.025739403441548347, -0.003478642087429762, -0.005246633198112249, 0.01745692268013954, 0.01721481792628765, 0.01721481792628765, -0.006504933349788189, -0.023356597870588303, 0.016488509252667427, -0.023165462538599968, -0.03098922222852707, -0.017902901396155357, 0.0020164656452834606, 0.004523509182035923, 0.03713100031018257, 0.007065593730658293, -0.01028938964009285, -0.029842417687177658, 0.0242867823690176, 0.006307427771389484, -0.01259574294090271, -0.0020116872619837523, 0.01759708672761917, -0.008951450698077679, 0.010181080549955368, 0.0006291500176303089, 0.007881099358201027, -0.0011253025149926543, 0.016220921650528908, 0.012589371763169765, -0.0012575036380439997, 0.04164176806807518, 0.021368801593780518, -0.02544633112847805, -0.005202035419642925, 0.005705355200916529, -0.03751326724886894, 0.015010404400527477, 0.011678298935294151, -0.024618081748485565, 0.0014653620310127735, 0.022018657997250557, 0.029842417687177658, -0.014615394175052643, 0.022821420803666115, -0.008575554005801678, 0.00969687383621931, 0.007868357002735138, 0.0025739402044564486, 0.015290734358131886, -0.013481331057846546, 0.006316984537988901, -0.016246404498815536, 0.00549192214384675, 0.0182596854865551, 0.00739689264446497, 0.0011253025149926543, -0.0035327968653291464, 0.004944004118442535, 0.0071739028207957745, 0.015405414626002312, -0.011245060712099075, 0.0033671471755951643, 0.020859111100435257, -0.00795755349099636, 0.003513683332130313, 0.0004662877763621509, -0.0016596817877143621, 0.009639534167945385, -0.019075190648436546, -0.0017202076269313693, 0.017813704907894135, 0.005705355200916529, -0.006122665014117956, 0.014411517418920994, -0.008945079520344734, -0.028058497235178947, 0.028491735458374023, -0.01136611308902502, -0.002346171997487545, -0.007524315733462572, -0.025739403441548347, -0.026249093934893608, -0.031040191650390625, 0.010161967016756535, 0.017431437969207764, -0.011181349866092205, 0.003994704224169254, -0.011659185402095318, -0.02726847678422928, -0.02068071812391281, 0.023063523694872856, 0.004657302983105183, -0.022834163159132004, 0.005348571576178074, -0.011353370733559132, -0.024235814809799194, -0.0038386115338653326, -0.0028096723835915327, 0.010977473109960556, -0.012353639118373394, -0.02247737906873226, -0.001180253573693335, -0.020400388166308403, 0.004520323593169451, -0.007989408448338509, -0.0022952030412852764, 0.017915643751621246, 0.026937177404761314, -0.0028319715056568384, 0.0022936102468520403, 0.022974329069256783, -0.02452888712286949, -0.010850050486624241, 0.01722756028175354, 0.011914030648767948, -0.019189871847629547, -0.004612704738974571, 0.0021661873906850815, -0.018208716064691544, -0.0026217238046228886, -0.0017456922214478254, 0.008868626318871975, 0.019635852426290512, 0.020642491057515144, 0.007772790268063545, 0.020247481763362885, -0.025994248688220978, -0.01991618238389492, -0.02698814682662487, -0.0008031617617234588, -0.031065676361322403, 0.005536519922316074, 0.01645028218626976, 0.011436195112764835, 0.0012423722073435783, -0.00030561559833586216, 0.01645028218626976, 0.018081294372677803, 0.02405742183327675, -0.0014096145750954747, -0.022451894357800484, -0.022655772045254707, 0.005874190479516983, 0.0037748999893665314, 0.014233125373721123, -0.016118982806801796, -0.006734294351190329, 0.008556440472602844, 0.031422458589076996, 0.008282480761408806, 0.04026560112833977, 0.010639802552759647, -0.026937177404761314, -0.019342778250575066, 0.017711767926812172, 0.011792979203164577, 0.01433506328612566, -0.008008521981537342, -0.0024481103755533695, 0.00198938837274909, -0.013086319901049137, 0.035296112298965454, 0.012710423208773136, -0.00745423324406147, 0.013646980747580528, 0.02660587802529335, -0.01745692268013954, -0.003201497485861182, 0.030020808801054955, 0.020667975768446922, -0.00658775819465518, 0.0031473429407924414, 0.02838979661464691, -0.01065891608595848, -0.004469354171305895, -0.0013395320856943727, -0.01452619768679142, 0.014755559153854847, -0.030912768095731735, 0.008626522496342659, -0.015074116177856922, 0.021241378039121628, 0.03277314081788063, 0.02082088403403759, 0.008556440472602844, 0.00334166269749403, -0.006575015839189291, 0.004173096269369125, -0.012761392630636692, -0.0054696230217814445, -0.013901825994253159, 0.005160622764378786, -0.0009150548721663654, -0.022337215021252632, -0.011429823935031891, 0.027676230296492577, -0.03789553791284561, 0.005957015324383974, 0.0031728274188935757, -0.004673230927437544, -0.010244792327284813, -0.007473346311599016, 0.0005861448007635772, -0.008371677249670029, -0.026809753850102425, 0.0012790062464773655, 0.006600500550121069, 0.00488347839564085, -0.01286333054304123, -0.029791448265314102, -0.009537595324218273, -0.005552447866648436, -0.0035773946437984705, -9.317791409557685e-05, 0.009034276008605957, 0.007307697087526321, -0.02635103277862072, 0.011831206269562244, -0.0037175598554313183, 0.025624722242355347, 0.0030788530129939318, -0.0015473904786631465, -0.01592784933745861, 0.01478104293346405, 0.022719483822584152, -0.006517675705254078, -0.01823420077562332, 0.005374056287109852, 0.00017799370107240975, -0.0066068717278540134, -0.022273503243923187, 0.007205758709460497, -0.01543089933693409, 0.006173633970320225, 0.00287497672252357, -0.0007147621945478022, 0.0040233745239675045, 0.010563349351286888, 0.0011874211486428976, -0.0009986760560423136, 0.02376434952020645, 0.029791448265314102, 0.006301057059317827, 0.006715180817991495, -0.0014271351974457502, -0.021789297461509705, -0.008524584583938122, 0.07614785432815552, 0.0009891194058582187, 0.0025070433039218187, 0.01619543693959713, -0.015876879915595055, -0.008696605451405048, -0.026172639802098274, -0.021649131551384926, -0.021126698702573776, -0.011213205754756927, -0.0011969777988269925, 0.0023031667806208134, -0.01762257143855095, 0.008174171671271324, 0.008014893159270287, 0.00816780049353838, 0.0045043956488370895, -0.015469126403331757, -0.007715449668467045, 0.009786070324480534, -0.009015162475407124, 0.009461142122745514, -0.0026790641713887453, 0.010977473109960556, 0.024860186502337456, 0.0008099310798570514, 0.00681711919605732, 0.012646711431443691, -0.008256996981799603, -0.009792441502213478, 0.004638189449906349, -0.009703245013952255, 0.01850178837776184, 0.0019782388117164373, 0.013532300479710102, 0.014398775063455105, -0.009212667122483253, 0.02917981892824173, 0.010588834062218666, -0.010932874865829945, 0.006645098328590393, 0.003363961586728692, -0.00907250214368105, -0.0028574559837579727, 0.010072771459817886, 0.002325465902686119, -0.008919594809412956, 0.027956560254096985, -0.002441739197820425, -0.027166537940502167, 0.022018657997250557, 0.0016357899876311421, -0.008148686960339546, -0.014386032707989216, -0.013952795416116714, 0.015596549026668072, 0.003911879379302263, -0.016042528674006462, -0.014730074442923069, -0.017839189618825912, -0.007103820331394672, -0.018412591889500618, -0.0166923850774765, -0.009429286234080791, -0.02209511213004589, -0.02660587802529335, -0.022706741467118263, -0.004845251329243183, -0.011448937468230724, -0.005851891357451677, -0.010652544908225536, -0.04515863582491875, -0.01645028218626976, -0.004039302468299866, 0.01927906833589077, 0.001890635583549738, 0.005794551223516464, -0.006020726636052132, 0.005103282630443573, 0.002124774968251586, -0.014194898307323456, -0.027090083807706833, 0.012978010810911655, -0.01072899904102087, 0.014424259774386883, 0.004042488057166338, -0.0043005188927054405, 0.00944202858954668, -0.022031400352716446, 0.031193098053336143, 0.002102476079016924, 0.02417210303246975, 0.022146079689264297, 0.0018985995557159185, 0.007638996001332998, 0.007600769400596619, -0.000724318902939558, -0.001178660779260099, -0.018195973709225655, -0.0005626512574963272, -0.005530149210244417, -0.008588295429944992, -0.0011850319569930434, -0.010372214950621128, -0.0002512618084438145, 0.00886225514113903, 0.010869164019823074, 0.024108391255140305, -0.016169952228665352, 6.2765677284915e-05, 0.034888360649347305, -0.022846905514597893, 0.01813226193189621, 0.0023031667806208134, 0.0025994249153882265, 0.00739689264446497, 0.027701713144779205, 0.03147342801094055, 0.00052601721836254, -0.03223796561360359, -0.0021916718687862158, -0.022579317912459373, 0.0065559023059904575, 0.01523976493626833, 0.006367953959852457, -0.0003490189847070724, -0.002358914352953434, -0.01568574458360672, -0.011098524555563927, -0.0007725006435066462, -0.006438036449253559, 0.01645028218626976, -0.0025866825599223375, -0.006766150239855051, -0.005546076688915491, -0.008454501628875732, -0.02055329643189907, 0.010767225176095963, -0.004192209802567959, -0.015749456360936165, -0.017380468547344208, -0.0063615827821195126, -0.002239455468952656, -0.014207640662789345, -0.044011831283569336, -0.04263566434383392, -0.0074606044217944145, -0.0024592597037553787, -0.007747305557131767, 0.018565500155091286, -0.0027156982105225325, 0.0009166476665996015, -0.019113417714834213, -0.014233125373721123, -0.001366609358228743, -0.020336676388978958, -0.0036251782439649105, -0.003797199111431837, 0.026937177404761314, 0.025242453441023827, 0.02338208071887493, 0.014730074442923069, 0.016373828053474426, 0.0006235752953216434, -0.0007183459820225835, -0.009760585613548756, 0.00932097714394331, -0.005020457785576582, -0.012207102961838245, 0.00758802704513073, 0.01774999499320984, 0.01824694313108921, -0.013570526614785194, 0.017125623300671577, 0.001377758919261396, -0.008053120225667953, -0.015481868758797646, 0.010760853998363018, -0.01772451028227806, -0.017546117305755615, -0.02826237492263317, -0.0018062180606648326, 0.0040106321685016155, 0.004153982736170292, 0.003876838367432356, -0.01169741153717041, 0.016259146854281425, 0.012264443561434746, 0.019495686516165733, 0.003918250557035208, 0.03384349122643471, -0.024745505303144455, 0.024465175345540047, 0.0089259659871459, 0.013016237877309322, -0.0171001385897398, -0.0026933990884572268, -0.0121433911845088, 0.023050781339406967, 0.004373786970973015, 0.018017582595348358, 0.02325465902686119, -0.006861716974526644, -0.00926363654434681, 0.001496421406045556, 0.027548806741833687, -0.005829592701047659, 0.002847899217158556, 0.005918788257986307, -0.006132221780717373, 0.0021184037905186415, -0.021139441058039665, -0.00032771547557786107, -0.013519558124244213, 0.004233621992170811, -0.01580042578279972, -0.019075190648436546, 0.011939515359699726, -0.01749514788389206, -0.034888360649347305, -0.01981424354016781, 0.000923018844332546, 0.045821234583854675, -0.004032931290566921, 0.009289121255278587, 0.02264302968978882, 0.0025962393265217543, 0.0013570527080446482, 0.011149493977427483, -0.016794323921203613, -0.004278220236301422, 0.03807392716407776, 0.007970294915139675, -0.010881906375288963, -0.013150031678378582, -0.0004730570944957435, 0.005593860521912575, -0.013468588702380657, -0.018221458420157433, -0.0008266553049907088, 0.023318370804190636, 0.0022346770856529474, -0.016131725162267685, 0.006176819559186697, -0.02826237492263317, 0.021649131551384926, -0.002231491496786475, -0.02119041047990322, -0.020081831142306328, 0.0072694700211286545, -0.023356597870588303, 0.016297373920679092, -0.02032393403351307, 0.03328283131122589, 0.022974329069256783, -0.014857497066259384, -0.006495376583188772, 0.004029745701700449, 0.0008003743714652956, -0.0097096161916852, -0.0007366630015894771, 0.02533164992928505, -0.0035773946437984705, 0.0005339811323210597, 0.013016237877309322, -0.0016787952044978738, -0.016768839210271835, -0.008193285204470158, -0.007020995486527681, 0.02377709187567234, -0.023738864809274673, 0.0074351197108626366, -0.005418654065579176, 0.009295492433011532, 0.00022856461873743683, 0.014347805641591549, -0.014704589731991291, -0.015736714005470276, 0.003443600842729211, -0.0006526435608975589, 0.032849594950675964, 0.0027395898941904306, 0.0010544235119596124, -0.01811951957643032, -0.013201001100242138, -0.02714105322957039, -0.051351383328437805, -0.0006104347994551063, -0.0054632518440485, -0.033486708998680115, -0.013723433949053288, -0.0038481680676341057, 0.009410172700881958, 0.01865469664335251, 0.01787741668522358, -0.009977204725146294, 0.013532300479710102, 0.023751607164740562, -0.016042528674006462, -0.005676685366779566, 0.02686072327196598, 0.01478104293346405, -0.028364311903715134, 0.018476303666830063, -0.003316177986562252, -0.020515069365501404, 0.0013259933330118656, -0.008065862581133842, -0.010639802552759647, 0.0069126863963902, 0.011691040359437466, 0.008836770430207253, -0.01003454439342022, 0.008409904316067696, 0.029205303639173508, 0.028695611283183098, 0.018743891268968582, -0.007556171156466007, -0.010219307616353035, 0.047732576727867126, -0.00949936918914318, -0.00011039990204153582, -0.004756055772304535, -0.012366381473839283, 0.024095648899674416, -0.007511573377996683, -0.016399312764406204, 0.008027635514736176, -0.03736036270856857, -0.005049128085374832, -0.005756324622780085, -0.006250087637454271, 0.009735100902616978, -0.025102289393544197, -0.02251560613512993, -0.007154789287596941, -0.017928386107087135, 0.0024497031699866056, 0.008460872806608677, -0.016513993963599205, -0.002962579717859626, 0.0171001385897398, 0.01901148073375225, -0.004141240380704403, -0.000653838156722486, -0.011353370733559132, -0.017546117305755615, -0.014628135599195957, -0.022069627419114113, -0.014895724132657051, -0.003969219978898764, 0.04148885980248451, 0.01233452558517456, -0.011194092221558094, -0.009862523525953293, 0.0020833625458180904, -0.026784269139170647, -0.033384770154953, -0.0017329498659819365, -0.005851891357451677, 0.0017345426604151726, 0.0129270413890481, -0.0029020539950579405, 0.012264443561434746, 0.00465411739423871, 0.0009954905835911632, -0.01336665078997612, -0.0166923850774765, 0.02135605923831463, -0.003166456241160631, 0.01774999499320984, 0.005361313931643963, -0.030122747644782066, -0.0018747077556326985, 0.0019431975670158863, 0.014577167108654976, -0.011480793356895447, 0.012570258229970932, -0.00465411739423871, -0.012442835606634617, -0.011143122799694538, -0.010620689019560814, 9.526844223728403e-05, 0.008957821875810623, 0.021814780309796333, -0.012831474654376507, -0.004972674418240786, 0.00048739215708337724, -0.00745423324406147, 0.005606602877378464, -0.009340090677142143, 0.014411517418920994, -0.018208716064691544, 0.01323922723531723, -0.02159816212952137, -0.005262561142444611, -0.00716753164306283, -0.016743354499340057, 0.006963655352592468, -0.01787741668522358, 0.007944811135530472, 0.024452432990074158, 0.000899923441465944, 0.00918718334287405, -0.004682787228375673, 0.00029347059899009764, -0.006536788772791624, 0.009295492433011532, 0.0002369267458561808, -0.013162774033844471, 0.0026918062940239906, 0.0034021884202957153, -0.018692923709750175, -0.025471815839409828, 0.005374056287109852, -0.036060649901628494, -0.008989677764475346, -0.006562273483723402, 0.03381800651550293, 0.015838652849197388, -0.020400388166308403, -0.008607408963143826, -0.01980150118470192, 0.0001341921160928905, 0.010550606995821, -0.018017582595348358, 0.007747305557131767, -0.007562542334198952, 0.006224603392183781, 0.025280680507421494, -0.01632285863161087, 0.0026312805712223053, 0.01760982908308506, 0.013315681368112564, -0.006371139548718929, 0.02688620798289776, 0.2322152853012085, -0.0117101538926363, 0.010461410507559776, 0.02431226707994938, 0.013685207813978195, 0.017176590859889984, 0.010684400796890259, -0.0008593074162490666, 0.0015609291149303317, 0.014245867729187012, -0.009422915056347847, -0.004822952672839165, -0.0008744389051571488, 0.007607140578329563, 0.0024146619252860546, 0.0014852718450129032, -0.01836162433028221, -0.015520095825195312, -0.029128849506378174, -0.02777816727757454, -0.00488347839564085, -0.03019919991493225, -0.0195339135825634, -0.017826447263360023, 0.017316756770014763, -0.009359203279018402, -0.006823490373790264, 0.0028988684061914682, 0.03333380073308945, 0.006138592958450317, -0.006970026530325413, -0.014882981777191162, 0.01080545224249363, 0.006600500550121069, -0.006899944040924311, -0.02391725778579712, 0.03223796561360359, 0.005628901533782482, 0.03751326724886894, 0.0074351197108626366, -0.010174709372222424, -0.016858035698533058, -0.005052313674241304, -0.014666362665593624, 0.011022071354091167, 0.00964590534567833, 0.0022330842912197113, -0.026300063356757164, 0.008429017849266529, 0.03445512056350708, 0.000666182255372405, 0.009537595324218273, 0.012640340253710747, 0.03366510197520256, 0.0004929669084958732, -0.013965537771582603, 0.01175475213676691, 0.013583268970251083, 0.0020021304953843355, -0.003844982711598277, 8.491534390486777e-05, 0.027931075543165207, -0.004166725091636181, 0.02803301252424717, -0.022056885063648224, 0.007479717489331961, -0.030785344541072845, -0.000946114188991487, 0.008371677249670029, -0.009849781170487404, -0.015328961424529552, -0.004867550451308489, 0.013150031678378582, -0.005985685624182224, -0.0289249736815691, -0.003816312411800027, 0.01446248684078455, -0.0043833437375724316, 0.025267938151955605, 0.017826447263360023, -0.0030055849347263575, 0.005632087122648954, -0.005705355200916529, -0.018845830112695694, -0.03216151148080826, -0.028746580705046654, 0.005033200141042471, -0.002790559083223343, -0.01554558053612709, -0.023687895387411118, -0.009537595324218273, -0.011506278067827225, -0.00010661703709047288, -0.0019320480059832335, 0.026809753850102425, 0.023942742496728897, -0.002139110118150711, 0.014347805641591549, -0.01363423839211464, 0.00828885193914175, -0.007333181332796812, 0.0026488013099879026, -0.005485550966113806, 0.012869701720774174, -0.004306890070438385, 0.0028781623113900423, -0.009652276523411274, -2.3406471882481128e-05, -0.0009612456778995693, -0.023828061297535896, -0.029664024710655212, -0.0066769542172551155, 0.004399271681904793, -0.0017616200493648648, -0.00880491454154253, 0.001890635583549738, -0.00026579597033560276, 0.0057849944569170475, -0.005189293064177036, -0.011920401826500893, -0.0023015739861875772, -0.012175247073173523, -0.013519558124244213, -0.00023851952573750168, -0.004835694562643766, -0.02184026502072811, -0.007008253131061792, -0.003880023956298828, 0.01362149603664875, -0.029358210042119026, 0.015838652849197388, -0.0011149493511766195, 0.027676230296492577, 0.014220383018255234, -0.006950912997126579, 0.01099658664315939, 0.014092960394918919, -0.0059060463681817055, -0.016042528674006462, -0.001063980278559029, 0.0027841879054903984, -0.022337215021252632, 0.016246404498815536, -0.006670583039522171, -0.0142586100846529, -0.010939246043562889, 0.03496481105685234, -0.026554908603429794, -0.00015041862206999213, 0.0066642118617892265, -0.035270627588033676, -0.011926773004233837, -0.008435388095676899, -0.01149990689009428, 0.026758786290884018, -0.017023684456944466, -0.022719483822584152, -0.026631362736225128, -0.0022474194411188364, 0.0029211672954261303, -0.026249093934893608, 0.012232587672770023, 0.03613710403442383, -0.0017568416660651565, -0.025879567489027977, -0.013226484879851341, -0.16340698301792145, 0.015571064315736294, 0.016004301607608795, -0.020757172256708145, 0.0272429920732975, 0.010512379929423332, 0.03060695342719555, 0.0027172910049557686, -0.005839149467647076, 0.02121589332818985, 0.007938439957797527, -0.018871314823627472, -0.0142586100846529, -0.007849243469536304, 0.0043005188927054405, -0.009295492433011532, -0.006562273483723402, 0.017699025571346283, 0.03190666437149048, 0.027676230296492577, 0.02650393918156624, -0.019253583624958992, 0.010321245528757572, -0.0031361933797597885, 0.011595473624765873, -0.009448399767279625, -0.003864096011966467, 0.03718196973204613, -0.016921745613217354, -0.008027635514736176, -0.01656496152281761, -0.02275770902633667, 0.022834163159132004, 0.011684669181704521, 0.017393210902810097, 0.0002096503012580797, 0.01279324758797884, -0.04396086186170578, -0.016004301607608795, 0.020094573497772217, 0.025242453441023827, 0.011952257715165615, 0.023828061297535896, -0.016475766897201538, -0.015405414626002312, -0.008365306071937084, 0.02093556337058544, 0.01927906833589077, 0.024656308814883232, -0.00932097714394331, 0.010002688504755497, -0.00472101429477334, 0.0036538485437631607, -0.017316756770014763, 0.027676230296492577, 0.02854270488023758, -0.0009365574805997312, 0.017648056149482727, 0.0002665923675522208, -0.004947189707309008, -0.0002974525559693575, -0.01660318858921528, -0.005526963621377945, 0.0026233165990561247, 0.01105392724275589, -0.008059491403400898, 0.004727385472506285, 0.013557784259319305, -0.0005240262253209949, 0.012818732298910618, -0.008652007207274437, -0.02454162947833538, -0.011015700176358223, -0.031142128631472588, 0.004676416516304016, 0.006014355458319187, -0.033767037093639374, 0.018552757799625397, -0.014092960394918919, -0.02622360922396183, -0.009989946149289608, 0.028313342481851578, 0.00018545988132245839, 0.0036411061882972717, -0.018297912552952766, 0.00016893474094104022, 0.004982231184840202, 0.018399851396679878, -0.031014706939458847, -0.040545929223299026, 0.014284094795584679, -0.012436464428901672, -0.007983037270605564, -0.021394286304712296, 0.00045832383329980075, 0.017418695613741875, 0.0182596854865551, 0.010684400796890259, -0.017163850367069244, -0.013150031678378582, 0.0020976976957172155, 0.008384419605135918, -0.01852727308869362, 0.013710691593587399, 0.03955203294754028, -0.005186107475310564, 0.007887470535933971, 0.004523509182035923, 0.024707278236746788, -0.02622360922396183, -0.032594747841358185, 0.007040109019726515, 0.015481868758797646, 0.027039116248488426, 0.013672465458512306, 0.02376434952020645, -0.003109116107225418, -0.017686283215880394, 0.0034499720204621553, -0.01478104293346405, 0.053262725472450256, -0.0047241998836398125, -0.04332374781370163, 0.0006729515735059977, 0.003094780957326293, -0.010518751107156277, -0.08700428158044815, -0.026325548067688942, -0.00042129159555770457, 0.00945477094501257, 0.006727923173457384, 0.047860000282526016, 0.005775437690317631, 0.005628901533782482, -0.0005092929350212216, 0.009690502658486366, 0.0045043956488370895, -0.03019919991493225, -0.024783732369542122, -0.011894917115569115, 0.042227912694215775, -0.03223796561360359, 0.013086319901049137, 0.0011356555623933673, -0.028185920789837837, 0.01408021803945303, -0.005628901533782482, -0.0005447324365377426, 0.000934168288949877, -0.00815505813807249, -0.01736772619187832, 0.012519288808107376, -0.020744429901242256, 0.03096373751759529, 0.00324609549716115, -0.012168875895440578, -0.021394286304712296, -0.027293961495161057, -0.011882174760103226, -0.008199656382203102, 0.0033544048201292753, 0.0118248350918293, -0.04059689864516258, 0.031651820987463, 0.012684938497841358, -0.0401126928627491, 0.0258540827780962, 0.011722896248102188, -0.006406180560588837, -0.06411914527416229, -0.0038832095451653004, 0.0182596854865551, -0.0017440994270145893, 0.03534708172082901, 0.011608215980231762, -0.010028173215687275, -0.026427486911416054, -0.02534439228475094, -0.026249093934893608, 0.00401700334623456, 0.018565500155091286, -0.006332912482321262, 0.008811285719275475, 0.03086179867386818, 0.003829054767265916, 0.011111266911029816, 0.011327886022627354, 0.004278220236301422, -0.020132800564169884, 0.01535444613546133, -0.007479717489331961, 0.01813226193189621, -0.015392672270536423, 0.024834701791405678, 0.005794551223516464, 0.0010894648730754852, -0.01977601647377014, 0.021763812750577927, 0.007275841198861599, 0.01444974448531866, -0.033231861889362335, -0.00623415969312191, -0.019597625359892845, -0.010397699661552906, 0.010767225176095963, -0.0009214260498993099, -0.03432770073413849, -0.017826447263360023, 0.018106777220964432, -0.0008935523219406605, 0.01748240552842617, 0.010117369703948498, -0.013506815768778324, 0.0026440229266881943, -0.008250625804066658, -0.03427673131227493, -0.028440766036510468, 0.002336615463718772, 0.011225947178900242, -0.006575015839189291, 0.01015559583902359, 0.006861716974526644, -0.00642529409378767, -0.00028769674827344716, 0.018578242510557175, 0.012831474654376507, -0.032467328011989594, 0.0029466520063579082, -0.06544434279203415, 0.029740478843450546, -0.014220383018255234, -0.03162633627653122, -0.00033667488605715334, -0.014819269999861717, 0.008868626318871975, -0.015048631466925144, 0.0007306900224648416, -0.012914299964904785, -0.014666362665593624, -0.00626282999292016, 0.009276378899812698, 0.014755559153854847, -0.03098922222852707, 0.0059633865021169186, 0.007817387580871582, 0.012665824964642525, 0.009875265881419182, 0.006135407369583845, 0.010588834062218666, -0.03588225692510605, -0.00874757394194603, -0.0050013442523777485, -0.02418484538793564, 0.007779160980135202, -0.033486708998680115, -0.0021518522407859564, -0.003316177986562252, -0.010314874351024628, 0.014016506262123585, -0.04123401269316673, 0.009824296459555626, 0.021687358617782593, 0.010085513815283775, -0.008887739852070808, 0.004568106960505247, 0.02250286377966404, -0.0007633421337231994, 0.024490660056471825, -0.028211405500769615, -0.02762526087462902, 0.010302131995558739, -0.016628673300147057, -0.006950912997126579, 0.0043132612481713295, -0.004733756650239229, 0.001342717674560845, 0.03422576189041138, 0.021407028660178185, -0.009053388610482216, 0.033894460648298264, -0.03190666437149048, -0.01595333218574524, -0.014959434978663921, -0.013991022482514381, -0.0054250252433121204, 0.004233621992170811, -0.002526156837120652, -0.038124896585941315, 0.029281755909323692, 0.006734294351190329, 0.0272429920732975, -0.0059633865021169186, 0.006842603906989098, 0.0016963158268481493, -0.023292886093258858, 0.0013713877415284514, -0.017941128462553024, -0.02263028733432293, -0.009715987369418144, -0.012748650275170803, 0.00504594249650836, -0.0015521688619628549, 0.018438076600432396, 0.020629748702049255, -0.0072439853101968765, 0.013150031678378582, -0.04373149946331978, 0.03641743212938309, 0.014386032707989216, 0.016768839210271835, -0.029638539999723434, -0.0015203130897134542, 0.039271704852581024, 0.012691309675574303, -0.00828885193914175, -0.010958359576761723, -0.001670831348747015, -0.0063902526162564754, -0.027829136699438095, -0.017010942101478577, 0.0074606044217944145, 0.027446867898106575, 0.003443600842729211, 0.010665287263691425, 0.021572677418589592, 0.0109838442876935, 0.02131783217191696, 0.023840803653001785, -0.005450509954243898, 0.016743354499340057, -0.020387645810842514, -0.00681711919605732, -0.01646302454173565, 0.010410442017018795, -0.0065813870169222355, -0.04036753997206688, 0.00768359424546361, 0.010735370218753815, 0.010786338709294796, 0.0354745052754879, -0.0008744389051571488, 0.011595473624765873, -0.026631362736225128, -0.01015559583902359, 0.024070164188742638, 0.004912148229777813, -0.026045218110084534, 0.043502140790224075, -0.01362149603664875, 0.005727654322981834, 0.022948844358325005, -0.02070620283484459, 0.004166725091636181, -0.0004133276524953544, -0.012309040874242783, -0.011391596868634224, 0.012175247073173523, -0.0011571581708267331, 0.018017582595348358, -0.005128767341375351, -0.023076266050338745, -0.004090271424502134, 2.30082750931615e-05, 0.020731687545776367, -0.0071739028207957745, 0.02571391873061657, -0.014092960394918919, 0.052243344485759735, -0.007868357002735138, -0.001739321043714881, 0.022783193737268448, 0.022018657997250557, 0.013978280127048492, 0.018858572468161583, 0.015520095825195312, -0.009868894703686237, -0.015876879915595055, -0.006469891872256994, 0.01048052404075861, 0.0064858198165893555, -0.027676230296492577, -0.025484558194875717, 0.002476780442520976, -0.02173832803964615, -0.000994694186374545, -0.015303476713597775, 0.018731148913502693, 0.018807603046298027, 0.01363423839211464, 0.02879755012691021, 0.006062139291316271, -0.024707278236746788, -0.01433506328612566, 0.0032906935084611177, 0.007301325909793377, -0.0072694700211286545, -0.02367515303194523, 0.01606801338493824, 0.009199925698339939, -0.01060157548636198, -0.012194360606372356, -8.401939703617245e-05, 0.0027045486494898796, -0.013392134569585323, -0.003832240356132388, -0.0008047545561566949, 0.005791365634649992, 0.024261299520730972, 0.004619075916707516, -0.02559923753142357, -0.026402002200484276, 0.004122127313166857, 0.005160622764378786, -0.03060695342719555, -0.0025197856593877077, -0.019215356558561325], index=0, object='embedding'), Embedding(embedding=[-0.02088586799800396, -0.005947820842266083, -0.0039567188359797, -0.018923437222838402, -0.03195958212018013, 0.021535763517022133, -0.013673298060894012, -0.004370867740362883, 0.003469296731054783, -0.015801388770341873, 0.034355275332927704, -0.005823576357215643, -0.009315173141658306, -0.01155157946050167, -0.0033354947809129953, -0.0115197217091918, 0.018502915278077126, -0.015482812188565731, 0.023727567866444588, -0.011067342944443226, -0.025881145149469376, -0.00011040662502637133, 0.015661215409636497, -0.0205035749822855, -0.010245416313409805, -0.0018939365400001407, 0.007218940649181604, -0.02029968611896038, 0.025511596351861954, -0.04360673576593399, 0.021918054670095444, 0.01043656188994646, -0.014042846858501434, -0.006524444092065096, -0.004667143803089857, -0.025791943073272705, -0.006310997996479273, -0.009155885316431522, 0.013851701281964779, -0.007206197828054428, 0.01864309050142765, 0.004065034445375204, -0.001847742940299213, -0.008257499895989895, -0.013686041347682476, 0.02293749898672104, -0.011506978422403336, -0.011729982681572437, -0.029512915760278702, 0.033667150884866714, 0.016680659726262093, -0.0026919704396277666, -0.02729562483727932, -0.03139888867735863, -0.0014089039759710431, -0.0021806552540510893, -0.0015339452074840665, 0.012322533875703812, 0.007244426757097244, -0.021319130435585976, 0.0037369008641690016, 0.0022730424534529448, -0.0013372243847697973, 0.026734929531812668, -0.002394101582467556, 0.008767222054302692, 0.010704166255891323, 0.008340329863131046, 0.0023256074637174606, 0.017407013103365898, -0.003912117797881365, -0.0011707681696861982, -0.015138749033212662, -0.029385484755039215, 0.01944590173661709, 0.009576406329870224, -0.0019560588989406824, 0.0024896743707358837, -0.022198401391506195, -0.009398003108799458, 0.03050687350332737, -0.04003867879509926, -0.013150832615792751, 0.016540486365556717, 0.010500277392566204, 0.01767461746931076, -0.00961463525891304, 0.02012128382921219, -0.027066249400377274, -0.03022652678191662, -0.002035703044384718, 0.008620676584541798, 0.007448315620422363, 0.02524399198591709, -0.024925416335463524, 0.014934860169887543, -0.020376145839691162, 0.030073609203100204, 0.00037353081279434264, -0.014667256735265255, -0.009888610802590847, 0.007384600583463907, -0.01403010357171297, -0.012794027104973793, -0.012150502763688564, 0.0035330120008438826, 0.0005973306833766401, -0.0011229817755520344, 0.02594486065208912, 0.003187356749549508, 0.003223992884159088, 0.007161596789956093, 0.003008953994140029, -0.027423053979873657, -0.013418436981737614, -0.001392975216731429, -0.003650885308161378, 0.0029213454108685255, 0.0061389668844640255, -0.030557846650481224, 0.013622325845062733, 0.01591607555747032, 0.01067868061363697, -0.01730506867170334, 0.016336597502231598, -0.009334287606179714, -0.009296058677136898, -0.016591457650065422, -0.00485510379076004, -0.0016709330957382917, 0.01846468634903431, 0.009691093116998672, -0.00769680505618453, 0.0024833029601722956, -0.019254757091403008, 0.011188402771949768, -0.02012128382921219, 0.020834894850850105, -0.02698979154229164, -0.007085138466209173, 0.0029914320912212133, 0.03030298464000225, -0.004867847077548504, -0.0009820116683840752, -0.00016804903862066567, 0.028034720569849014, -0.0012814734363928437, -0.010500277392566204, 0.011902013793587685, 0.009499947540462017, 0.0035744269844144583, -0.0027190493419766426, 0.02175239473581314, 0.009194114245474339, 0.025040103122591972, 0.0025836543645709753, 0.0013372243847697973, 0.008353072218596935, -0.011749097146093845, -0.017751075327396393, -0.002647369634360075, -0.02826409600675106, 0.012029443867504597, -0.009448975324630737, -0.009780295193195343, 0.028340553864836693, 0.014641770161688328, -0.001219351077452302, 0.0037751300260424614, -0.005011206492781639, 0.001011479995213449, 0.008805450983345509, -0.04429486021399498, 0.009391631931066513, -0.007569374516606331, 0.005291553679853678, 0.007633090019226074, 0.01267933938652277, -0.03410041704773903, -0.02836604043841362, -0.024645067751407623, 0.0020468533039093018, 0.012800399214029312, 0.017024721950292587, -0.007403715047985315, 0.011188402771949768, 0.010481162928044796, 0.007390971761196852, 0.01014984305948019, -0.026174236088991165, -0.006613645702600479, 0.03499243035912514, 0.02213468588888645, -0.016285624355077744, -0.6760955452919006, -0.005721631925553083, 0.007970781065523624, -0.0027317923959344625, 0.012016700580716133, 0.0493411086499691, 0.02125541679561138, 0.034712083637714386, -0.013991874642670155, -0.007945294491946697, 0.00040857421117834747, 0.007983524352312088, -0.006078437436372042, 0.0017537629464641213, 0.0036923002917319536, -0.0027254209853708744, -0.008308472111821175, -0.005896848626434803, 0.014705485664308071, 0.017419755458831787, -0.025906631723046303, -0.0015952711692079902, -0.008321215398609638, 0.017929477617144585, 0.017445242032408714, 0.0071934545412659645, 0.003000989556312561, -0.010818853974342346, -0.021714165806770325, 0.02311590127646923, -0.025486109778285027, 0.006266397424042225, 0.007747777737677097, 0.005205538123846054, 0.06493861228227615, -0.013762499205768108, 0.01883423514664173, 0.02261892333626747, 0.010704166255891323, 0.037439096719026566, -0.010226301848888397, 0.00023275986313819885, 0.013125346973538399, -0.024262776598334312, 0.025791943073272705, -0.01291508600115776, 0.0005503406864590943, -0.009920468553900719, -0.002814622363075614, 0.009869496338069439, 0.005266067571938038, -0.01252642273902893, -0.01711392216384411, 0.016158193349838257, -0.004963419865816832, 0.0012774912174791098, 0.03489048406481743, -0.005001649260520935, 0.0007793174590915442, -0.0037369008641690016, -0.014590797945857048, 0.0021089755464345217, -0.0175726730376482, -0.020669234916567802, -0.02663298510015011, 0.027244651690125465, -0.030048124492168427, 0.0019098654156550765, -0.007664947770535946, -0.004466440994292498, -0.018146110698580742, 0.0039885761216282845, -0.022784583270549774, -0.011557950638234615, 0.006702846847474575, 0.006843020673841238, 0.03106756880879402, -0.005951006896793842, -0.002045260276645422, 0.008697135373950005, 0.012685711495578289, 0.006658246275037527, -0.025014616549015045, -0.00240365881472826, 0.023141387850046158, -0.03799979016184807, -0.028595415875315666, 0.001828628359362483, 0.012341649271547794, 0.023587394505739212, 0.026862360537052155, 0.017903992906212807, 0.013711526989936829, -0.016961006447672844, -0.005495442543178797, -0.010952656157314777, -0.019203783944249153, 0.019382186233997345, 0.0035138975363224745, -0.02565176971256733, 0.02390597201883793, -0.007454687263816595, -0.0006913107354193926, -0.012411735951900482, 0.01834999956190586, 0.007174340076744556, -0.018528401851654053, 0.04796485975384712, 0.019191041588783264, -0.03466111049056053, 0.0002455029170960188, 0.023001214489340782, -0.029844235628843307, -0.0011174066457897425, 0.018783263862133026, -0.025893887504935265, -0.00805998221039772, 0.012743054889142513, 0.014922117814421654, -0.010481162928044796, -0.0020548177417367697, 0.009270573034882545, 0.02012128382921219, 0.008480503223836422, 0.00604657968506217, 0.013635069131851196, -0.013979131355881691, -0.001626332406885922, -0.043275415897369385, 0.0017378341872245073, 0.0016581900417804718, -0.012054930441081524, 0.0035234547685831785, -0.010513020679354668, 0.03193409740924835, -0.01594156213104725, 0.013418436981737614, -0.012660224922001362, 0.025511596351861954, 0.0007693619700148702, -0.005928706377744675, 0.0004886165261268616, 0.004179722163826227, -0.0033673522993922234, 0.01834999956190586, -0.018413715064525604, -0.012985173612833023, 0.002827365417033434, -0.003225585911422968, 0.00488058989867568, 0.0006483029574155807, -0.013278263621032238, -0.016744375228881836, 0.010997256264090538, 0.019369443878531456, 0.005626058671623468, -0.015266180038452148, -0.01962430402636528, -0.031628262251615524, -0.0187577772885561, 0.018120624125003815, 0.0351453460752964, -0.015304408967494965, 0.015164235606789589, -0.012348020449280739, -0.016731631010770798, -0.010111614130437374, 0.013571353629231453, -0.011621666140854359, -0.031908608973026276, 0.010016040876507759, -0.014119304716587067, -0.005231024231761694, 0.001409700489602983, 0.012959687039256096, 0.008308472111821175, -0.0012798806419596076, 0.0009047568892128766, 0.008423159830272198, -0.010309131816029549, 0.013201804831624031, -0.0007287434418685734, -0.008034496568143368, 0.016221908852458, 0.03486499935388565, 0.006575416307896376, 0.016922777518630028, 0.03389652818441391, -0.01699923537671566, 0.006256840191781521, 0.02913062460720539, 0.005393498111516237, -0.02047809027135372, 0.00441865436732769, -0.00408096332103014, -0.003695485880598426, 0.00772229116410017, 0.005651544779539108, 0.02021048590540886, 0.00517049478366971, 0.015763159841299057, -0.003093376522883773, 0.0300226379185915, -0.023459965363144875, -0.021523019298911095, -0.021204443648457527, 0.007932552136480808, -0.014998575672507286, 0.031118540093302727, 0.015979791060090065, 0.014641770161688328, -0.002038888866081834, 0.0031762064900249243, 0.011405033990740776, 0.007066024001687765, 0.018706804141402245, -0.014042846858501434, -0.008072725497186184, -0.017330555245280266, 0.0025071960408240557, -0.003625399200245738, 0.0031411631498485804, -0.005864991340786219, -0.00985038187354803, -0.018120624125003815, 0.008856423199176788, 0.03167923539876938, 0.03486499935388565, 0.0048901475965976715, 0.005613315850496292, -0.02186708338558674, 0.0050080204382538795, 0.014093819074332714, 0.02566451206803322, -0.004800945986062288, 0.010117985308170319, 0.010557620786130428, -0.0016852690605446696, 0.030175553634762764, 0.0025740971323102713, -0.0033131942618638277, 0.022797325626015663, 0.0232051033526659, -0.016565971076488495, 0.004504669923335314, 0.017330555245280266, 0.006677360739558935, 0.004354938864707947, 0.025040103122591972, 0.029665831476449966, -0.013940902426838875, -0.017649130895733833, -0.006043394096195698, -0.022325832396745682, 0.0182480551302433, -0.04126201197504997, 0.0017649130895733833, 0.016961006447672844, 0.01539361011236906, 0.027626942843198776, 0.0051290798000991344, 0.023880485445261, -0.012405363842844963, -0.007110624574124813, 0.010309131816029549, -0.0035839842166751623, -0.004963419865816832, -0.015763159841299057, -0.006040208041667938, 0.0168972909450531, -0.021217186003923416, -0.015597499907016754, 0.03769395872950554, -0.016757117584347725, 0.00806635431945324, -0.003912117797881365, 0.006196310743689537, -0.006479843519628048, -0.008002638816833496, 0.015164235606789589, -0.005906405858695507, -0.03119499981403351, 0.01845194399356842, 0.0010552842868492007, 0.008053611032664776, -0.007250798400491476, -0.02612326294183731, -0.001643854076974094, -0.012437221594154835, -0.0012679339852184057, 0.004558828193694353, 0.00478183152154088, -0.006416128017008305, -0.0033514234237372875, -0.0021201258059591055, 0.0034884114284068346, 0.05033506825566292, -0.0023765796795487404, -0.01952235959470272, -0.0007299381541088223, -0.020057568326592445, 0.01014984305948019, 0.001414479105733335, -0.02729562483727932, -0.01748347096145153, 0.020465346053242683, -0.004622543230652809, -0.011921128258109093, 0.01000329852104187, 0.0072380551137030125, 0.006792048458009958, 0.021777881309390068, -0.0031045267824083567, -0.0019990666769444942, 1.7434589608456008e-05, 0.006180381868034601, -0.009308801963925362, 0.004714930430054665, 0.03012458235025406, -0.020745694637298584, -0.01766187511384487, -0.01534263789653778, -0.011984843760728836, -0.004842360969632864, 0.0444987490773201, 0.018604859709739685, 0.0013396136928349733, -0.0017633202951401472, -0.006594531238079071, 0.008665277622640133, -0.02565176971256733, -0.009786666370928288, -0.019292986020445824, -0.026836873963475227, -0.022325832396745682, -0.008327586576342583, -0.01364781241863966, 0.020758436992764473, 0.005374383646994829, 0.00855058990418911, 0.025231249630451202, -0.00801538210362196, -1.8840806660591625e-05, 0.020172256976366043, -0.015597499907016754, 0.014004617929458618, 0.007314513437449932, 0.015979791060090065, 0.01972624845802784, -0.007626718375831842, 0.008028124459087849, 0.013163575902581215, -0.007792378310114145, -0.007314513437449932, -0.005285182036459446, 0.0005196777055971324, 0.02691333182156086, 0.019114581868052483, 0.0037114147562533617, 0.013316492550075054, -0.019191041588783264, 0.011787326075136662, 0.018209826201200485, -0.0012918271822854877, 0.010767881758511066, -0.0010807703947648406, -0.002597990445792675, -0.003450182266533375, 0.009735694155097008, -0.0030647048261016607, -0.013112603686749935, 0.01350763812661171, -0.0051927948370575905, -0.023447221145033836, 0.019866423681378365, 0.0071934545412659645, -0.023192360997200012, -0.015075034461915493, -0.013291006907820702, 0.011710867285728455, 0.02554982528090477, -0.020516319200396538, -0.006116666365414858, 0.0018461501458659768, -0.0043963538482785225, -0.009308801963925362, -0.01253279484808445, -0.006645503453910351, -0.006017907988280058, -0.0351453460752964, -0.016820833086967468, -0.003857959993183613, -0.012303419411182404, -0.007989895530045033, -0.0002803472161758691, -0.016782604157924652, -0.032112497836351395, -0.004249808844178915, 0.018796006217598915, 0.002217291621491313, 0.0001609806204214692, -0.015329895541071892, 0.019063610583543777, 0.014348680153489113, -0.008658905513584614, -0.016948264092206955, 0.015431839972734451, -0.019292986020445824, -0.003631770610809326, -0.0073782289400696754, -0.003842031117528677, 0.004542899318039417, -0.020529061555862427, 0.017814790830016136, 0.013928159140050411, 0.013150832615792751, 0.01573767326772213, -0.005036692600697279, -0.0050940364599227905, 0.0022762282751500607, 0.006518072914332151, 0.010379218496382236, -0.004871032666414976, 0.0034023956395685673, -0.0005750303389504552, -0.020834894850850105, -0.03020104020833969, -0.017356041818857193, 0.004507855512201786, 0.009608263149857521, -0.002252334961667657, 0.010245416313409805, -0.009066684171557426, 0.016068993136286736, 0.027907291427254677, -0.01490937452763319, 0.006250468548387289, 0.005399869754910469, 0.0007984320400282741, 0.015622985549271107, -0.004995277617126703, 0.032673195004463196, -0.01912732608616352, -0.022096456959843636, 0.016680659726262093, -0.0485510416328907, 0.02563902735710144, 0.01185741275548935, 0.013112603686749935, -0.013138090260326862, -0.008983854204416275, -0.02330704778432846, 0.001427222159691155, -0.012067672796547413, 0.006594531238079071, 0.017356041818857193, -0.020834894850850105, -0.016961006447672844, -0.014068332500755787, -0.013520381413400173, -0.030430415645241737, 0.030430415645241737, -0.009238715283572674, -0.015419096685945988, -0.02961486019194126, 3.170830677845515e-05, 0.001001126249320805, -0.027066249400377274, -0.03580798581242561, -0.046970900148153305, -0.012991544790565968, 0.010092499665915966, -0.01884697936475277, 0.019764479249715805, 0.00041454751044511795, 0.01699923537671566, -0.030736248940229416, -0.015406353399157524, 0.005125893745571375, -0.006976822856813669, 0.0013706748140975833, -0.0036795572377741337, 0.030659791082143784, 0.014820173382759094, 0.029665831476449966, 0.016285624355077744, 0.011532464995980263, -0.01575041562318802, -0.006078437436372042, -0.001619164482690394, 0.005368012003600597, -0.022606179118156433, -0.019688019528985023, 0.015470068901777267, 0.034431733191013336, 0.025995831936597824, 0.0019942880608141422, -0.00488058989867568, -0.009678350761532784, -0.0052023520693182945, -0.009302429854869843, 0.008633419871330261, -0.004839175380766392, 0.00816192664206028, -0.017547186464071274, -0.02458135411143303, 0.012418107129633427, 0.004922004882246256, 0.011749097146093845, -0.004734044894576073, 0.007473801728338003, 0.01093354169279337, 0.02310315892100334, 0.0028926734812557697, 0.02650555409491062, -0.012348020449280739, 0.028187638148665428, 0.005113150924444199, 0.01180644053965807, -0.002048446098342538, 0.0007629904430359602, -0.014934860169887543, 0.004842360969632864, 0.007556631695479155, -0.0011189995566383004, 0.010016040876507759, 0.0039567188359797, 0.002070746384561062, -0.0027779859956353903, 0.02964034676551819, 0.005250138696283102, 0.003985390532761812, -0.0008856423082761467, -0.00792618002742529, -0.02116621471941471, -0.03611381724476814, -0.009971440769731998, -0.01972624845802784, 0.009888610802590847, -0.014144791290163994, -0.028034720569849014, 0.007524773944169283, -0.014017360284924507, -0.03106756880879402, -0.010767881758511066, 0.001379435765556991, 0.030965624377131462, -0.012290677055716515, 0.007684062235057354, 0.02399517223238945, -0.00158969615586102, -0.015176978893578053, 0.004221137147396803, -0.008582447655498981, -0.005508185364305973, 0.020847639068961143, 0.023166874423623085, -0.005705703049898148, -0.019955623894929886, 0.014973090030252934, 0.004358124919235706, -0.014055590145289898, -0.028875762596726418, 0.01340569369494915, 0.01292145811021328, 0.0027286065742373466, -0.010283645242452621, 0.01069142296910286, -0.03127145767211914, 0.02497638761997223, 0.020656492561101913, 0.01224607601761818, -0.007684062235057354, 0.013431180268526077, -0.010736024007201195, 0.02342173457145691, 0.010557620786130428, 0.02323058992624283, 0.020337915048003197, -0.003861145582050085, -0.01403010357171297, -0.0036986717022955418, 0.005307482555508614, 0.006454357411712408, -0.005116336513310671, 0.031245971098542213, -0.026683958247303963, 0.025409651920199394, 0.028620902448892593, -0.006760190706700087, -0.008792707696557045, 0.0026967490557581186, 0.007015051785856485, 0.012991544790565968, -0.011347690597176552, 0.004166978877037764, 0.004663958214223385, 0.012876857072114944, 0.010806110687553883, 0.003239921759814024, -0.006830277387052774, -0.011545208282768726, -0.00643205689266324, -0.005817204713821411, 0.028213124722242355, 0.005743931978940964, -0.010513020679354668, -0.008353072218596935, -0.01962430402636528, -0.022669894620776176, -0.051915206015110016, -0.013737013563513756, 0.0022841927129775286, 0.03641965240240097, -0.021548505872488022, -0.005227838177233934, 0.019152812659740448, 0.0402170829474926, 0.012348020449280739, -0.009085798636078835, 0.01865583285689354, 0.0026664843317121267, -0.018005937337875366, -0.0009302429971285164, -0.011844669468700886, -0.011825555004179478, -0.022364061325788498, 0.02340899221599102, 0.0031284200958907604, -0.018209826201200485, 0.02729562483727932, 0.004511041566729546, -0.022007256746292114, 0.007066024001687765, 0.02108975686132908, 0.011283975094556808, -0.004896518774330616, 0.006231354083865881, 0.033463262021541595, 0.012443593703210354, 0.009729322977364063, -0.0045014843344688416, -0.011175659485161304, 0.024810727685689926, -0.02660749852657318, 0.010022412985563278, -0.00436768215149641, -0.016336597502231598, 0.011933871544897556, -0.01170449610799551, -0.0031188626307994127, -0.008359444327652454, -0.026059547439217567, 0.0010608593001961708, -0.009461718611419201, -0.009595520794391632, 0.001444743829779327, -0.024224547669291496, -0.013762499205768108, -0.017445242032408714, -0.010035156272351742, 0.012182360514998436, 0.016961006447672844, -0.027703402563929558, 0.004170164931565523, 0.016731631010770798, 0.011500607244670391, 0.011245746165513992, 0.0033195659052580595, -0.027932776138186455, -0.0033800953533500433, -0.010959027335047722, -0.012074044905602932, -0.007856093347072601, -0.005724817514419556, 0.02688784711062908, 0.03203603997826576, -0.015075034461915493, -0.004170164931565523, 0.008531475439667702, -0.018528401851654053, -0.008353072218596935, -0.011557950638234615, -0.005017578136175871, 0.00281621515750885, -0.0033259373158216476, -0.011972100473940372, 0.018209826201200485, 0.015546527691185474, 0.019751735031604767, -0.017802048474550247, -0.005326597020030022, 0.011258489452302456, -0.006170824635773897, 0.007735034450888634, -0.010175329633057117, -0.028926735743880272, -0.014119304716587067, 0.0019257941748946905, 0.005807647481560707, -0.01641305536031723, 0.019649790599942207, -0.02428826317191124, -0.02254246361553669, -0.011608922854065895, -0.0021679122000932693, -0.008187413215637207, -0.009092169813811779, 0.019063610583543777, -0.01136680506169796, -0.004746788181364536, 0.00237817270681262, -0.012539166025817394, -0.0038707030471414328, -0.007499287836253643, 0.01257739495486021, -0.0014479296514764428, 0.031602777540683746, -0.017139408737421036, -0.0031395701225847006, 0.00560694420710206, -0.028111180290579796, 0.008429531008005142, -0.007703176699578762, -0.015406353399157524, 0.02409711666405201, 0.012035815976560116, 0.0027779859956353903, -0.03030298464000225, 0.02157399244606495, -0.012169617228209972, 0.016961006447672844, 0.0012703232932835817, -0.021612221375107765, -0.015801388770341873, -0.02125541679561138, -0.0078051211312413216, -0.021102499216794968, 0.0056324303150177, -0.028442498296499252, -0.012405363842844963, -0.013737013563513756, 0.020439859479665756, 0.009308801963925362, -0.008168298751115799, 0.00321602844633162, -0.006087994668632746, -0.0010497091570869088, 0.007499287836253643, -0.02749951370060444, 0.022491492331027985, -0.00160801422316581, 0.011647152714431286, 0.007276284508407116, -0.02038888819515705, -0.0043963538482785225, 0.03718423470854759, 0.007174340076744556, 0.01423399243503809, 0.012602881528437138, 0.2220349907875061, -0.021433819085359573, 0.010837968438863754, 0.047760970890522, 0.015278923325240612, 0.005415798630565405, 0.015801388770341873, 0.016298366710543633, 0.00031598794157616794, 0.014820173382759094, -0.016145450994372368, -0.008951996453106403, -0.007435572799295187, 0.009589148685336113, 0.02400791645050049, -0.023651110008358955, -0.02701527625322342, -0.0033291231375187635, -0.03262222185730934, -0.024606838822364807, 0.013864443637430668, -0.007900694385170937, -0.008512360975146294, -0.0004918022896163166, 0.028340553864836693, 0.004616171587258577, -0.0071488539688289165, 0.008646163158118725, 0.007416457869112492, 0.010557620786130428, -0.007187082897871733, -0.01170449610799551, -0.0069258506409823895, 0.01817159727215767, -0.0047850171104073524, -0.002045260276645422, 0.018502915278077126, 0.00821289885789156, 0.027168193832039833, -0.0022587066050618887, 0.01044293399900198, 0.008098211139440536, -0.0057407463900744915, -0.024734269827604294, -0.003966276068240404, 0.00239091576077044, 0.008862794376909733, -0.02604680508375168, 0.013265520334243774, 0.030659791082143784, -0.003832473885267973, 0.006594531238079071, 0.020745694637298584, 0.044728122651576996, 0.003829288063570857, -0.003034440102055669, 0.00651170127093792, 0.007263541221618652, -0.019394930452108383, -0.00012533989502117038, 0.018961666151881218, 0.02874833159148693, -0.009557290934026241, 0.012188732624053955, -0.015202464535832405, -0.008423159830272198, -0.021828852593898773, 0.0049538626335561275, -0.004370867740362883, -0.0025740971323102713, -0.009073055349290371, -0.0087863365188241, 0.013902673497796059, -0.004071406088769436, -0.04082874953746796, -0.015508297830820084, 0.02000659704208374, -0.0003255452320445329, 0.018783263862133026, 0.02302670106291771, -0.0036986717022955418, 0.004217951092869043, -0.017356041818857193, -0.01335472147911787, -0.015189721249043941, -0.02437746524810791, 0.011959357187151909, 0.018630346283316612, -0.011398662813007832, -0.02409711666405201, -0.009735694155097008, -0.004243437200784683, -0.011067342944443226, -0.004718116018921137, 0.022669894620776176, 0.013991874642670155, -0.0022937499452382326, 0.02407163195312023, -0.003383281175047159, 0.02049083262681961, -0.022223887965083122, -0.018235312774777412, 0.012156874872744083, 0.00855058990418911, -0.009773923084139824, 0.02915610931813717, -0.01209315937012434, 0.016540486365556717, 0.008964738808572292, -0.022873783484101295, -0.02468329854309559, 0.005826761946082115, 0.011717239394783974, -0.00816192664206028, 0.013533124700188637, -0.013571353629231453, 0.009996926411986351, 0.0029229382053017616, -0.0019449087558314204, -0.011016370728611946, 0.016196422278881073, -0.009436232037842274, -0.023740312084555626, 0.0007713530794717371, 0.006470286287367344, -0.023765798658132553, -0.014017360284924507, 0.011481492780148983, 0.015508297830820084, -0.03216347098350525, 0.016400311142206192, -0.009786666370928288, 0.039987705647945404, 0.0064925868064165115, -0.015215207822620869, 0.01350763812661171, 0.0049443054012954235, 0.007715919986367226, -0.008187413215637207, 0.002225256059318781, 0.0018796005751937628, -0.014017360284924507, 0.011252117343246937, 9.915689588524401e-05, -0.01141777727752924, -0.026454582810401917, 0.02407163195312023, -0.0330045111477375, -0.029283540323376656, -0.0016565971309319139, -0.03290256857872009, -0.007461058907210827, -0.018681319430470467, -0.011914756149053574, 0.04057388752698898, 0.0022810068912804127, -0.03496694192290306, -0.0345846526324749, 0.0009437825065106153, -0.0029101951513439417, 0.005864991340786219, 0.0023797655012458563, 0.014374165795743465, -0.010328246280550957, -0.01786576397716999, -0.005479513667523861, -0.16280527412891388, 0.04057388752698898, -0.004552456550300121, -0.026352638378739357, 0.012360763736069202, 0.018999895080924034, 0.03662354126572609, -0.0016454469878226519, -0.004581128247082233, 0.01789124868810177, 0.024950901046395302, -0.019458645954728127, -0.02603406086564064, -0.009646493010222912, -0.012838628143072128, -0.02535867877304554, -0.0023144574370235205, 0.024645067751407623, 0.031526319682598114, 0.021535763517022133, 0.028417013585567474, -0.028009235858917236, 0.03450819477438927, -0.012660224922001362, 0.0037655727937817574, -0.0038930033333599567, 0.007766892202198505, 0.02964034676551819, -0.006639131810516119, -0.004609800409525633, -0.017266839742660522, -0.01092716958373785, 0.01296605821698904, 0.007798749953508377, 0.00017213079263456166, -0.010602221824228764, 0.00498253433033824, -0.026760416105389595, -0.014781943522393703, 0.021446561440825462, 0.030812706798315048, 0.004482369404286146, 0.0053966837003827095, 0.0015371310291811824, -0.025791943073272705, 0.026785902678966522, 0.017024721950292587, 0.016336597502231598, 0.024747012183070183, -0.019649790599942207, 0.007339999545365572, -0.010143471881747246, 0.013482152484357357, 0.007773263845592737, 0.020235970616340637, 0.03183215111494064, -0.014934860169887543, 0.011895641684532166, -0.0008386523113586009, 0.004211579915136099, 0.020184999331831932, -0.02166319452226162, 0.004797760397195816, -0.02079666592180729, 0.0017473914194852114, -0.003622213378548622, 0.002461002441123128, -0.0006347634480334818, -0.027754373848438263, 0.013838957995176315, -0.00012374701327644289, -0.017521699890494347, -0.010060641914606094, -0.02556256763637066, 0.021535763517022133, 0.0061389668844640255, -0.019203783944249153, 0.024734269827604294, 0.004877404309809208, -0.01014984305948019, -0.015329895541071892, 0.040752291679382324, -0.019484130665659904, 0.00682390620931983, -0.015610242262482643, 0.013029773719608784, 0.000300656451145187, 0.012520051561295986, -0.024708783254027367, -0.029003193601965904, 0.010774252936244011, -0.005798090249300003, -0.003029661253094673, -0.037439096719026566, 0.008678020909428596, 0.029589373618364334, 0.01286411378532648, -0.0031220484524965286, 0.006588159594684839, -0.022695381194353104, -0.017802048474550247, 0.0021010111086070538, -0.03139888867735863, 0.018592117354273796, 0.025040103122591972, 0.00604657968506217, 0.010086128488183022, 0.011137430556118488, 0.02204548567533493, -0.03736263886094093, 0.00027477211551740766, 0.010608593001961708, 0.014157534576952457, 0.04335187375545502, -0.008295728825032711, 0.018184339627623558, -0.01418302021920681, -0.02691333182156086, 0.004100077785551548, -0.021115241572260857, 0.0520426370203495, -0.0018971223616972566, -0.014488853514194489, -0.010181700810790062, -0.006078437436372042, -0.006135780829936266, -0.08695860952138901, -0.030914651229977608, 0.005530485883355141, 0.006346041336655617, -0.00010871418635360897, 0.03703131899237633, 0.003794244723394513, 0.01340569369494915, -0.008964738808572292, 0.01796770840883255, -0.0039567188359797, -0.03030298464000225, -0.018999895080924034, -0.006091180257499218, 0.03167923539876938, -0.020809408277273178, 0.00800900999456644, -0.01403010357171297, -0.019076352939009666, 0.0011747503885999322, -0.008639791049063206, -0.00990135408937931, -0.003816545009613037, -0.01030275970697403, -0.028926735743880272, 0.016094477847218513, -0.008964738808572292, 0.018897950649261475, 0.019777221605181694, -0.003835659474134445, -0.008098211139440536, -0.030659791082143784, 0.004488741047680378, -0.015661215409636497, 0.008423159830272198, -0.004291223827749491, -0.0423579141497612, 0.017152152955532074, 0.0014837695052847266, -0.031908608973026276, 0.02126815915107727, 0.013392951339483261, -0.005817204713821411, -0.04796485975384712, 0.009448975324630737, 0.02572822757065296, -0.01403010357171297, 0.013227291405200958, 0.017725588753819466, -0.0214593056589365, -0.014348680153489113, -0.017432499676942825, -0.023816769942641258, -0.020516319200396538, 0.02496364526450634, -0.010404704138636589, -0.010321875102818012, 0.019012637436389923, -0.01669340208172798, 0.0009581184713169932, 0.012838628143072128, 0.009353402070701122, -0.022287603467702866, 0.02216017246246338, 0.007945294491946697, -0.008123697713017464, -0.014068332500755787, 0.018796006217598915, 0.004176536109298468, -0.009780295193195343, -0.013163575902581215, 0.01418302021920681, -0.0037783158477395773, 0.012322533875703812, -0.027321109548211098, 0.017317811027169228, -0.02417357638478279, -0.013240034691989422, 0.006113480776548386, -0.03030298464000225, -0.019891908392310143, -0.009391631931066513, 0.015775902196764946, -0.008850052021443844, 0.00816192664206028, 0.0105894785374403, -0.0013690820196643472, -0.008614305406808853, -0.007709548342972994, -0.024453923106193542, -0.026174236088991165, 0.012934201397001743, -0.0021057899575680494, 0.008518732152879238, 0.018400970846414566, 0.017738332971930504, -0.022873783484101295, -0.008945624344050884, 0.03155180439352989, 0.034635622054338455, -0.01778930425643921, -0.0055464147590100765, -0.07569374889135361, 0.029946180060505867, -0.0009700650698505342, 0.005728003103286028, 0.013329235836863518, -0.02465781196951866, 0.014667256735265255, 0.0013738606357946992, 0.002406844636425376, -0.019203783944249153, -0.016948264092206955, -0.012010329402983189, 0.014463367871940136, -0.003223992884159088, -0.04296958073973656, -0.021510276943445206, 0.031245971098542213, 0.02399517223238945, 0.029793262481689453, 0.016362082213163376, 0.002663298510015011, -0.027270138263702393, -0.005033506546169519, -0.017929477617144585, -0.006314183585345745, 0.011156545020639896, -0.0061835674569010735, 0.005399869754910469, 0.004612985998392105, -0.004568385425955057, -0.00951269082725048, -0.04470263794064522, 0.007709548342972994, 0.0205035749822855, 0.0010688237380236387, -0.024950901046395302, 0.0025151604786515236, 0.02427552081644535, 0.0017903991974890232, 0.042918611317873, -0.027830831706523895, -0.035502150654792786, 0.014730971306562424, -0.02430100552737713, -0.001435982994735241, -0.004676701035350561, -0.018209826201200485, 0.004087334964424372, 0.026008576154708862, 0.010583107359707355, 0.006639131810516119, 0.0193184707313776, -0.012443593703210354, -0.023842256516218185, -0.010551249608397484, -0.019662534818053246, -0.015699444338679314, -0.004922004882246256, 0.006454357411712408, -0.036088332533836365, 0.02565176971256733, 0.0009668793063610792, 0.010965398512780666, 0.007091510109603405, -0.010481162928044796, 0.009780295193195343, -0.011124687269330025, -0.0010592665057629347, 0.013775242492556572, -0.03534923493862152, -0.02798374928534031, -0.004485555458813906, -0.007282656151801348, -0.0024673740845173597, 0.006938593462109566, 0.018681319430470467, -0.0023925085552036762, -0.006037022452801466, -0.026378124952316284, 0.04643569141626358, 0.011207517236471176, 0.0014925303403288126, -0.02244051918387413, 0.0096592353656888, 0.027040762826800346, 0.046486664563417435, 0.003431067569181323, -0.0013420030009001493, -0.008926509879529476, -0.002061189152300358, -0.03759201243519783, -0.013877186924219131, 2.75518796115648e-05, 0.0009398002875968814, -0.013061631470918655, 0.006505329627543688, 0.01613270863890648, -0.008091839961707592, 0.02583017200231552, 0.02544788084924221, -0.0027875432278960943, 0.0225297212600708, -0.006549930199980736, -0.019777221605181694, -0.017164895310997963, 0.010818853974342346, -0.008187413215637207, -0.03634319454431534, 0.0003659646026790142, 0.010506648570299149, 0.01087619736790657, 0.01496034674346447, 0.01623465307056904, 0.020758436992764473, -0.010188072919845581, -0.01072965282946825, -0.012258819304406643, 0.001836592797189951, -0.02505284547805786, 0.03527277708053589, -0.008435902185738087, 0.023638367652893066, 0.019789963960647583, 0.0033131942618638277, 0.010219929739832878, 0.009009339846670628, 0.00047467878903262317, -0.019598819315433502, 0.01049390621483326, 0.0006913107354193926, 0.01767461746931076, -0.012946943752467632, -0.013316492550075054, 0.0032080640085041523, -0.01924201287329197, 0.02964034676551819, 0.003504340071231127, 0.015992533415555954, -0.018107881769537926, 0.10031332820653915, -0.005533671472221613, 0.0009485611808486283, 0.013902673497796059, 0.011207517236471176, 0.004122378304600716, 0.013775242492556572, 0.00532022537663579, -0.030073609203100204, -0.007384600583463907, -0.00120820093434304, -0.0023718010634183884, -0.0029340884648263454, -0.018694061785936356, -0.027601458132267, -0.006843020673841238, -0.015291665680706501, 0.0011110351188108325, -0.02019774168729782, 0.0022794140968471766, 0.013902673497796059, 0.00016565971600357443, 0.012392621487379074, 0.0016916405875235796, -0.020732950419187546, -0.006502144038677216, 0.003048775950446725, -0.008206527680158615, -0.02370208315551281, -0.020032081753015518, 0.006346041336655617, 0.019675277173519135, -0.02747402712702751, -0.0020850824657827616, 0.019216526299715042, -0.010449305176734924, -0.012341649271547794, -0.004705373197793961, -0.002075525000691414, 0.012054930441081524, 0.026403609663248062, 0.010181700810790062, -0.03993673622608185, -0.025014616549015045, 0.006613645702600479, 0.0006311794277280569, -0.005173680372536182, 0.007715919986367226, -0.013469409197568893], index=1, object='embedding')])\n",
      "('model', 'ada')\n",
      "('object', 'list')\n",
      "('usage', Usage(prompt_tokens=6, total_tokens=6))\n"
     ]
    }
   ],
   "source": [
    "for e in embedding:\n",
    "    print(e)"
   ]
  },
  {
   "cell_type": "code",
   "execution_count": 21,
   "metadata": {},
   "outputs": [
    {
     "data": {
      "text/plain": [
       "[0.0014701404143124819,\n",
       " 0.0034404152538627386,\n",
       " -0.012805989943444729,\n",
       " -0.03341025486588478,\n",
       " -0.009448399767279625,\n",
       " 0.00469234399497509,\n",
       " -0.015341703779995441,\n",
       " 0.0017138364491984248,\n",
       " -0.002967358101159334,\n",
       " -0.02507680468261242,\n",
       " 0.029867900535464287,\n",
       " 0.007135676220059395,\n",
       " -0.016807066276669502,\n",
       " -0.01797935552895069,\n",
       " 0.010429555550217628,\n",
       " -0.0028017086442559958,\n",
       " 0.025153258815407753,\n",
       " -0.015099599957466125,\n",
       " 0.011296030133962631,\n",
       " 0.010735370218753815]"
      ]
     },
     "execution_count": 21,
     "metadata": {},
     "output_type": "execute_result"
    }
   ],
   "source": [
    "embedding.data[0].embedding[:20]"
   ]
  },
  {
   "cell_type": "code",
   "execution_count": 25,
   "metadata": {},
   "outputs": [
    {
     "data": {
      "text/plain": [
       "[-0.02088586799800396,\n",
       " -0.005947820842266083,\n",
       " -0.0039567188359797,\n",
       " -0.018923437222838402,\n",
       " -0.03195958212018013,\n",
       " 0.021535763517022133,\n",
       " -0.013673298060894012,\n",
       " -0.004370867740362883,\n",
       " 0.003469296731054783,\n",
       " -0.015801388770341873,\n",
       " 0.034355275332927704,\n",
       " -0.005823576357215643,\n",
       " -0.009315173141658306,\n",
       " -0.01155157946050167,\n",
       " -0.0033354947809129953,\n",
       " -0.0115197217091918,\n",
       " 0.018502915278077126,\n",
       " -0.015482812188565731,\n",
       " 0.023727567866444588,\n",
       " -0.011067342944443226]"
      ]
     },
     "execution_count": 25,
     "metadata": {},
     "output_type": "execute_result"
    }
   ],
   "source": [
    "embedding.data[1].embedding[:20]"
   ]
  },
  {
   "cell_type": "markdown",
   "metadata": {},
   "source": [
    "## Cosine similarity"
   ]
  },
  {
   "cell_type": "markdown",
   "metadata": {},
   "source": []
  },
  {
   "cell_type": "code",
   "execution_count": 22,
   "metadata": {},
   "outputs": [],
   "source": [
    "import numpy as np"
   ]
  },
  {
   "cell_type": "code",
   "execution_count": 26,
   "metadata": {},
   "outputs": [
    {
     "name": "stdout",
     "output_type": "stream",
     "text": [
      "0.8872549726034135\n"
     ]
    }
   ],
   "source": [
    "# input=[\"feline friends say\", \"meow\"]\n",
    "input=['Hello, world!', 'Hola!']\n",
    "\n",
    "resp = client.embeddings.create(\n",
    "    model=deployment_name_embeddings,\n",
    "    input=input,\n",
    "    \n",
    ")\n",
    "\n",
    "embedding_a = resp.data[0].embedding\n",
    "embedding_b = resp.data[1].embedding\n",
    "\n",
    "similarity_score = np.dot(embedding_a, embedding_b)\n",
    "print(similarity_score)\n"
   ]
  },
  {
   "cell_type": "code",
   "execution_count": 31,
   "metadata": {},
   "outputs": [
    {
     "name": "stdout",
     "output_type": "stream",
     "text": [
      "0.7161062963543049\n"
     ]
    }
   ],
   "source": [
    "input=[\n",
    "    'Azure OpenAI is a cloud-based AI platform.', \n",
    "    'The Eiffel Tower.'\n",
    "    ]\n",
    "\n",
    "resp = client.embeddings.create(\n",
    "    model=deployment_name_embeddings,\n",
    "    input=input,\n",
    "    \n",
    ")\n",
    "\n",
    "embedding_a = resp.data[0].embedding\n",
    "embedding_b = resp.data[1].embedding\n",
    "\n",
    "similarity_score = np.dot(embedding_a, embedding_b)\n",
    "print(similarity_score)"
   ]
  },
  {
   "cell_type": "code",
   "execution_count": 32,
   "metadata": {},
   "outputs": [
    {
     "name": "stdout",
     "output_type": "stream",
     "text": [
      "0.853567249849232\n"
     ]
    }
   ],
   "source": [
    "input=[\n",
    "    'The Sydney Harbour Bridge.', \n",
    "    'The Eiffel Tower.'\n",
    "    ]\n",
    "\n",
    "resp = client.embeddings.create(\n",
    "    model=deployment_name_embeddings,\n",
    "    input=input,\n",
    "    \n",
    ")\n",
    "\n",
    "embedding_a = resp.data[0].embedding\n",
    "embedding_b = resp.data[1].embedding\n",
    "\n",
    "similarity_score = np.dot(embedding_a, embedding_b)\n",
    "print(similarity_score)"
   ]
  },
  {
   "cell_type": "code",
   "execution_count": 24,
   "metadata": {},
   "outputs": [
    {
     "name": "stdout",
     "output_type": "stream",
     "text": [
      "Help on method create in module openai.resources.embeddings:\n",
      "\n",
      "create(*, input: 'Union[str, List[str], Iterable[int], Iterable[Iterable[int]]]', model: \"Union[str, Literal['text-embedding-ada-002', 'text-embedding-3-small', 'text-embedding-3-large']]\", dimensions: 'int | NotGiven' = NOT_GIVEN, encoding_format: \"Literal['float', 'base64'] | NotGiven\" = NOT_GIVEN, user: 'str | NotGiven' = NOT_GIVEN, extra_headers: 'Headers | None' = None, extra_query: 'Query | None' = None, extra_body: 'Body | None' = None, timeout: 'float | httpx.Timeout | None | NotGiven' = NOT_GIVEN) -> 'CreateEmbeddingResponse' method of openai.resources.embeddings.Embeddings instance\n",
      "    Creates an embedding vector representing the input text.\n",
      "    \n",
      "    Args:\n",
      "      input: Input text to embed, encoded as a string or array of tokens. To embed multiple\n",
      "          inputs in a single request, pass an array of strings or array of token arrays.\n",
      "          The input must not exceed the max input tokens for the model (8192 tokens for\n",
      "          `text-embedding-ada-002`), cannot be an empty string, and any array must be 2048\n",
      "          dimensions or less.\n",
      "          [Example Python code](https://cookbook.openai.com/examples/how_to_count_tokens_with_tiktoken)\n",
      "          for counting tokens.\n",
      "    \n",
      "      model: ID of the model to use. You can use the\n",
      "          [List models](https://platform.openai.com/docs/api-reference/models/list) API to\n",
      "          see all of your available models, or see our\n",
      "          [Model overview](https://platform.openai.com/docs/models/overview) for\n",
      "          descriptions of them.\n",
      "    \n",
      "      dimensions: The number of dimensions the resulting output embeddings should have. Only\n",
      "          supported in `text-embedding-3` and later models.\n",
      "    \n",
      "      encoding_format: The format to return the embeddings in. Can be either `float` or\n",
      "          [`base64`](https://pypi.org/project/pybase64/).\n",
      "    \n",
      "      user: A unique identifier representing your end-user, which can help OpenAI to monitor\n",
      "          and detect abuse.\n",
      "          [Learn more](https://platform.openai.com/docs/guides/safety-best-practices/end-user-ids).\n",
      "    \n",
      "      extra_headers: Send extra headers\n",
      "    \n",
      "      extra_query: Add additional query parameters to the request\n",
      "    \n",
      "      extra_body: Add additional JSON properties to the request\n",
      "    \n",
      "      timeout: Override the client-level default timeout for this request, in seconds\n",
      "\n"
     ]
    }
   ],
   "source": [
    "help(client.embeddings.create)"
   ]
  },
  {
   "cell_type": "code",
   "execution_count": null,
   "metadata": {},
   "outputs": [],
   "source": []
  }
 ],
 "metadata": {
  "kernelspec": {
   "display_name": ".venv",
   "language": "python",
   "name": "python3"
  },
  "language_info": {
   "codemirror_mode": {
    "name": "ipython",
    "version": 3
   },
   "file_extension": ".py",
   "mimetype": "text/x-python",
   "name": "python",
   "nbconvert_exporter": "python",
   "pygments_lexer": "ipython3",
   "version": "3.10.11"
  }
 },
 "nbformat": 4,
 "nbformat_minor": 2
}
