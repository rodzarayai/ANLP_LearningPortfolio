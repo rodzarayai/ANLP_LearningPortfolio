{
 "cells": [
  {
   "cell_type": "markdown",
   "id": "1Mi5wDV8vaVm",
   "metadata": {
    "id": "1Mi5wDV8vaVm"
   },
   "source": [
    "## https://tinyurl.com/ANLPColab3Part2\n",
    "Go to \"File\" -> \"Save a Copy in Drive...\" This lets you create your own copy of the notebook in your Google drive, and any changes you make doesn't impact the shared notebook"
   ]
  },
  {
   "cell_type": "markdown",
   "id": "cc7d0eae-493d-4bd6-8f1c-4a2fb9a51a54",
   "metadata": {
    "id": "cc7d0eae-493d-4bd6-8f1c-4a2fb9a51a54"
   },
   "source": [
    "# **TEXT CLASSIFICATION**"
   ]
  },
  {
   "cell_type": "markdown",
   "id": "OeXOlojKu10w",
   "metadata": {
    "id": "OeXOlojKu10w"
   },
   "source": [
    "We are going to perform text classification to predict the output label from the IBM trust dataset. This notebook will showcase different ML algorithms and methods that can be employed to improve model performance."
   ]
  },
  {
   "cell_type": "markdown",
   "id": "rsXUgT6a09av",
   "metadata": {
    "id": "rsXUgT6a09av"
   },
   "source": [
    "## **Download the Data**"
   ]
  },
  {
   "cell_type": "markdown",
   "id": "rAT1HwdwvEso",
   "metadata": {
    "id": "rAT1HwdwvEso"
   },
   "source": [
    "For ease of use, let's download the data set directly from the webpage and store it in a pandas dataframe.\n"
   ]
  },
  {
   "cell_type": "code",
   "execution_count": 1,
   "id": "iD31ojSQ1AdF",
   "metadata": {
    "colab": {
     "base_uri": "https://localhost:8080/"
    },
    "id": "iD31ojSQ1AdF",
    "outputId": "8cb37f0f-c6bf-4ae3-eefe-0b6cb06bb7a4",
    "tags": []
   },
   "outputs": [
    {
     "name": "stdout",
     "output_type": "stream",
     "text": [
      "rm: data/: No such file or directory\n",
      "--2024-11-06 08:43:00--  https://www.research.ibm.com/haifa/dept/vst/files/IBM_Debater_(R)_trust_data.zip\n",
      "Resolving www.research.ibm.com (www.research.ibm.com)... 2600:9000:25f2:7c00:1f:bf95:3e40:93a1, 2600:9000:25f2:c800:1f:bf95:3e40:93a1, 2600:9000:25f2:2600:1f:bf95:3e40:93a1, ...\n",
      "Connecting to www.research.ibm.com (www.research.ibm.com)|2600:9000:25f2:7c00:1f:bf95:3e40:93a1|:443... connected.\n",
      "HTTP request sent, awaiting response... 301 Moved Permanently\n",
      "Location: https://research.ibm.com/haifa/dept/vst/files/IBM_Debater_(R)_trust_data.zip [following]\n",
      "--2024-11-06 08:43:01--  https://research.ibm.com/haifa/dept/vst/files/IBM_Debater_(R)_trust_data.zip\n",
      "Resolving research.ibm.com (research.ibm.com)... 108.138.106.92, 108.138.106.72, 108.138.106.96, ...\n",
      "Connecting to research.ibm.com (research.ibm.com)|108.138.106.92|:443... connected.\n",
      "HTTP request sent, awaiting response... 200 OK\n",
      "Length: 47231 (46K) [application/zip]\n",
      "Saving to: 'IBM_Debater_(R)_trust_data.zip'\n",
      "\n",
      "IBM_Debater_(R)_tru 100%[===================>]  46.12K   180KB/s    in 0.3s    \n",
      "\n",
      "2024-11-06 08:43:03 (180 KB/s) - 'IBM_Debater_(R)_trust_data.zip' saved [47231/47231]\n",
      "\n",
      "Archive:  IBM_Debater_(R)_trust_data.zip\n",
      "   creating: data/\n",
      "  inflating: data/test.csv           \n",
      "  inflating: __MACOSX/data/._test.csv  \n",
      "  inflating: data/dev.csv            \n",
      "  inflating: __MACOSX/data/._dev.csv  \n",
      "  inflating: data/README.txt         \n",
      "  inflating: __MACOSX/data/._README.txt  \n",
      "  inflating: data/train.csv          \n",
      "  inflating: __MACOSX/data/._train.csv  \n"
     ]
    }
   ],
   "source": [
    "#Read about the dataset here: https://research.ibm.com/haifa/dept/vst/debating_data.shtml\n",
    "#The following dataset contains annotations of High trust, Low institutional trust and Low agent trust in user inputs to VIRA, a chatbot that aimes to address COVID-19 vaccine hesitancy (vaxchat.org)\n",
    "!rm -r data/ # Remove pre-existing directories that might cause errors\n",
    "!wget \"https://www.research.ibm.com/haifa/dept/vst/files/IBM_Debater_(R)_trust_data.zip\" # Download the data\n",
    "!unzip *.zip # Unzip the zip files\n",
    "!rm *.zip # Remove the zip files\n",
    "!rm -r __MACOSX/ # Remove temp files"
   ]
  },
  {
   "cell_type": "markdown",
   "id": "5bb282f2-f7db-4228-97ef-4450e3e68358",
   "metadata": {
    "id": "5bb282f2-f7db-4228-97ef-4450e3e68358"
   },
   "source": [
    "## **Load the Data**"
   ]
  },
  {
   "cell_type": "code",
   "execution_count": 2,
   "id": "4a6390b1-23b0-48b9-af48-0fbda32bd6a4",
   "metadata": {
    "id": "4a6390b1-23b0-48b9-af48-0fbda32bd6a4",
    "tags": []
   },
   "outputs": [
    {
     "name": "stdout",
     "output_type": "stream",
     "text": [
      "Intel MKL WARNING: Support of Intel(R) Streaming SIMD Extensions 4.2 (Intel(R) SSE4.2) enabled only processors has been deprecated. Intel oneAPI Math Kernel Library 2025.0 will require Intel(R) Advanced Vector Extensions (Intel(R) AVX) instructions.\n",
      "Intel MKL WARNING: Support of Intel(R) Streaming SIMD Extensions 4.2 (Intel(R) SSE4.2) enabled only processors has been deprecated. Intel oneAPI Math Kernel Library 2025.0 will require Intel(R) Advanced Vector Extensions (Intel(R) AVX) instructions.\n"
     ]
    }
   ],
   "source": [
    "# Import the necessary libraries\n",
    "import pandas as pd # Used to read and manipulate DataFrames"
   ]
  },
  {
   "cell_type": "markdown",
   "id": "41d7e768-ab84-4733-bcac-9497d1b26cef",
   "metadata": {
    "id": "41d7e768-ab84-4733-bcac-9497d1b26cef"
   },
   "source": [
    "The dataset comes as three seperate files:\n",
    "1. Train split - used to train and help the model learn the hidden features/patterns in the data\n",
    "2. Validation split (dev) - used to validate our model's performance during the training process and helps tune the model's hyperparameters\n",
    "3. Testing split - used to test the model *after* completing the training and provide unbiased final model performance metrics"
   ]
  },
  {
   "cell_type": "code",
   "execution_count": 3,
   "id": "c765aa07-5617-491d-b8d4-a45c7d9067d5",
   "metadata": {
    "id": "c765aa07-5617-491d-b8d4-a45c7d9067d5",
    "tags": []
   },
   "outputs": [],
   "source": [
    "# Use panda's read_csv function to read the CSV files\n",
    "\n",
    "df_train = pd.read_csv(\"data/train.csv\")\n",
    "df_val = pd.read_csv(\"data/dev.csv\")\n",
    "df_test = pd.read_csv(\"data/test.csv\")"
   ]
  },
  {
   "cell_type": "code",
   "execution_count": 4,
   "id": "uXdrypipv7Di",
   "metadata": {
    "colab": {
     "base_uri": "https://localhost:8080/",
     "height": 300
    },
    "id": "uXdrypipv7Di",
    "outputId": "03574dd6-5c03-4981-e78b-a31e1483c733"
   },
   "outputs": [
    {
     "data": {
      "text/html": [
       "<div>\n",
       "<style scoped>\n",
       "    .dataframe tbody tr th:only-of-type {\n",
       "        vertical-align: middle;\n",
       "    }\n",
       "\n",
       "    .dataframe tbody tr th {\n",
       "        vertical-align: top;\n",
       "    }\n",
       "\n",
       "    .dataframe thead th {\n",
       "        text-align: right;\n",
       "    }\n",
       "</style>\n",
       "<table border=\"1\" class=\"dataframe\">\n",
       "  <thead>\n",
       "    <tr style=\"text-align: right;\">\n",
       "      <th></th>\n",
       "      <th>label</th>\n",
       "    </tr>\n",
       "  </thead>\n",
       "  <tbody>\n",
       "    <tr>\n",
       "      <th>count</th>\n",
       "      <td>1815.000000</td>\n",
       "    </tr>\n",
       "    <tr>\n",
       "      <th>mean</th>\n",
       "      <td>1.622590</td>\n",
       "    </tr>\n",
       "    <tr>\n",
       "      <th>std</th>\n",
       "      <td>0.986254</td>\n",
       "    </tr>\n",
       "    <tr>\n",
       "      <th>min</th>\n",
       "      <td>0.000000</td>\n",
       "    </tr>\n",
       "    <tr>\n",
       "      <th>25%</th>\n",
       "      <td>1.000000</td>\n",
       "    </tr>\n",
       "    <tr>\n",
       "      <th>50%</th>\n",
       "      <td>2.000000</td>\n",
       "    </tr>\n",
       "    <tr>\n",
       "      <th>75%</th>\n",
       "      <td>2.000000</td>\n",
       "    </tr>\n",
       "    <tr>\n",
       "      <th>max</th>\n",
       "      <td>3.000000</td>\n",
       "    </tr>\n",
       "  </tbody>\n",
       "</table>\n",
       "</div>"
      ],
      "text/plain": [
       "             label\n",
       "count  1815.000000\n",
       "mean      1.622590\n",
       "std       0.986254\n",
       "min       0.000000\n",
       "25%       1.000000\n",
       "50%       2.000000\n",
       "75%       2.000000\n",
       "max       3.000000"
      ]
     },
     "execution_count": 4,
     "metadata": {},
     "output_type": "execute_result"
    }
   ],
   "source": [
    "#Generate descriptive statistics for the data set\n",
    "df_train.describe()"
   ]
  },
  {
   "cell_type": "code",
   "execution_count": 5,
   "id": "b59cd3cf-fe8e-4f1f-b267-83819ad2ea52",
   "metadata": {
    "colab": {
     "base_uri": "https://localhost:8080/",
     "height": 206
    },
    "id": "b59cd3cf-fe8e-4f1f-b267-83819ad2ea52",
    "outputId": "76a9831d-a211-455c-ee7d-104b6fc61c93",
    "tags": []
   },
   "outputs": [
    {
     "data": {
      "text/html": [
       "<div>\n",
       "<style scoped>\n",
       "    .dataframe tbody tr th:only-of-type {\n",
       "        vertical-align: middle;\n",
       "    }\n",
       "\n",
       "    .dataframe tbody tr th {\n",
       "        vertical-align: top;\n",
       "    }\n",
       "\n",
       "    .dataframe thead th {\n",
       "        text-align: right;\n",
       "    }\n",
       "</style>\n",
       "<table border=\"1\" class=\"dataframe\">\n",
       "  <thead>\n",
       "    <tr style=\"text-align: right;\">\n",
       "      <th></th>\n",
       "      <th>text</th>\n",
       "      <th>label</th>\n",
       "    </tr>\n",
       "  </thead>\n",
       "  <tbody>\n",
       "    <tr>\n",
       "      <th>0</th>\n",
       "      <td>If symptomatic patient got the vaccine will he...</td>\n",
       "      <td>0</td>\n",
       "    </tr>\n",
       "    <tr>\n",
       "      <th>1</th>\n",
       "      <td>Has anyone died from getting the Pfizer, Moder...</td>\n",
       "      <td>0</td>\n",
       "    </tr>\n",
       "    <tr>\n",
       "      <th>2</th>\n",
       "      <td>Why should I trust a pharmaceutical company wh...</td>\n",
       "      <td>0</td>\n",
       "    </tr>\n",
       "    <tr>\n",
       "      <th>3</th>\n",
       "      <td>What are antisense RNA's?  Could they or dsRNA...</td>\n",
       "      <td>0</td>\n",
       "    </tr>\n",
       "    <tr>\n",
       "      <th>4</th>\n",
       "      <td>The vaccines aren't FDA approved.</td>\n",
       "      <td>0</td>\n",
       "    </tr>\n",
       "  </tbody>\n",
       "</table>\n",
       "</div>"
      ],
      "text/plain": [
       "                                                text  label\n",
       "0  If symptomatic patient got the vaccine will he...      0\n",
       "1  Has anyone died from getting the Pfizer, Moder...      0\n",
       "2  Why should I trust a pharmaceutical company wh...      0\n",
       "3  What are antisense RNA's?  Could they or dsRNA...      0\n",
       "4                  The vaccines aren't FDA approved.      0"
      ]
     },
     "execution_count": 5,
     "metadata": {},
     "output_type": "execute_result"
    }
   ],
   "source": [
    "# Use the DataFrame class's head() function to sneak a peek at the datasets\n",
    "df_train.head()"
   ]
  },
  {
   "cell_type": "code",
   "execution_count": 6,
   "id": "XyKkATRmwP_7",
   "metadata": {
    "colab": {
     "base_uri": "https://localhost:8080/",
     "height": 206
    },
    "id": "XyKkATRmwP_7",
    "outputId": "b1af4f19-63ee-4ec4-eda9-91a654ef9500"
   },
   "outputs": [
    {
     "data": {
      "text/html": [
       "<div>\n",
       "<style scoped>\n",
       "    .dataframe tbody tr th:only-of-type {\n",
       "        vertical-align: middle;\n",
       "    }\n",
       "\n",
       "    .dataframe tbody tr th {\n",
       "        vertical-align: top;\n",
       "    }\n",
       "\n",
       "    .dataframe thead th {\n",
       "        text-align: right;\n",
       "    }\n",
       "</style>\n",
       "<table border=\"1\" class=\"dataframe\">\n",
       "  <thead>\n",
       "    <tr style=\"text-align: right;\">\n",
       "      <th></th>\n",
       "      <th>text</th>\n",
       "      <th>label</th>\n",
       "    </tr>\n",
       "  </thead>\n",
       "  <tbody>\n",
       "    <tr>\n",
       "      <th>1177</th>\n",
       "      <td>what in the vaccines</td>\n",
       "      <td>2</td>\n",
       "    </tr>\n",
       "    <tr>\n",
       "      <th>163</th>\n",
       "      <td>what are the long-term effects of the covid va...</td>\n",
       "      <td>0</td>\n",
       "    </tr>\n",
       "    <tr>\n",
       "      <th>173</th>\n",
       "      <td>I think they rushed the vaccines</td>\n",
       "      <td>0</td>\n",
       "    </tr>\n",
       "    <tr>\n",
       "      <th>337</th>\n",
       "      <td>Will the vaccine hurt me?</td>\n",
       "      <td>0</td>\n",
       "    </tr>\n",
       "    <tr>\n",
       "      <th>360</th>\n",
       "      <td>Will they put a microchip in me?</td>\n",
       "      <td>0</td>\n",
       "    </tr>\n",
       "  </tbody>\n",
       "</table>\n",
       "</div>"
      ],
      "text/plain": [
       "                                                   text  label\n",
       "1177                               what in the vaccines      2\n",
       "163   what are the long-term effects of the covid va...      0\n",
       "173                    I think they rushed the vaccines      0\n",
       "337                           Will the vaccine hurt me?      0\n",
       "360                    Will they put a microchip in me?      0"
      ]
     },
     "execution_count": 6,
     "metadata": {},
     "output_type": "execute_result"
    }
   ],
   "source": [
    "df_train.sample(5)"
   ]
  },
  {
   "cell_type": "markdown",
   "id": "32ddceea-f2da-42ec-adaa-98fcf006ab28",
   "metadata": {
    "id": "32ddceea-f2da-42ec-adaa-98fcf006ab28"
   },
   "source": [
    "## **Text Preprocessing**"
   ]
  },
  {
   "cell_type": "markdown",
   "id": "a792dcbf-3d10-4f64-bae0-f2e1aad0ac10",
   "metadata": {
    "id": "a792dcbf-3d10-4f64-bae0-f2e1aad0ac10",
    "tags": []
   },
   "source": [
    "Before applying Machine Learning algorithms we should clean and pre-process the text data. We'll use popular pre-processing techniques we've used earlier:\n",
    "1. Text cleaning - removal of unnecessary characters like symbols, urls, emojis etc.\n",
    "2. Stopword removal - removal of words that don't convey any meaning to the machine\n",
    "3. Stemming - transforming derived words into the root words, thus reducing the feature space\n"
   ]
  },
  {
   "cell_type": "markdown",
   "id": "16df686c-1c00-46f8-b1bd-d5d109ec2f71",
   "metadata": {
    "id": "16df686c-1c00-46f8-b1bd-d5d109ec2f71"
   },
   "source": [
    "### Text Cleaning"
   ]
  },
  {
   "cell_type": "code",
   "execution_count": 7,
   "id": "8b28b13b-7515-4efb-bddd-422e10834944",
   "metadata": {
    "id": "8b28b13b-7515-4efb-bddd-422e10834944",
    "tags": []
   },
   "outputs": [],
   "source": [
    "# Import the necessary libraries\n",
    "import re # Regular expressions module\n",
    "# Define pipeline function to perform multiple cleaning steps on a given text\n",
    "def clean_text(text):\n",
    "    text = text.lower() # Convert the text to lower case\n",
    "    text = re.sub(r'[^\\w]', ' ', text) # Remove symbols\n",
    "    text = re.sub(r'[ ]{2,}', ' ', text) # Remove extra spaces\n",
    "    text = re.sub(r'[ \\t]+$', '', text) # Remove trailing white spaces\n",
    "    return text"
   ]
  },
  {
   "cell_type": "code",
   "execution_count": 8,
   "id": "2f5813a1-d3a1-4551-9d8a-776872e92824",
   "metadata": {
    "id": "2f5813a1-d3a1-4551-9d8a-776872e92824",
    "tags": []
   },
   "outputs": [],
   "source": [
    "# Apply the pipeline to the text column\n",
    "df_train[\"text\"] = df_train[\"text\"].apply(clean_text)\n",
    "df_val[\"text\"] = df_val[\"text\"].apply(clean_text)\n",
    "df_test[\"text\"] = df_test[\"text\"].apply(clean_text)"
   ]
  },
  {
   "cell_type": "code",
   "execution_count": 9,
   "id": "6bd4cdfa-bc1c-4fc2-9bd9-1875d12184cc",
   "metadata": {
    "colab": {
     "base_uri": "https://localhost:8080/",
     "height": 206
    },
    "id": "6bd4cdfa-bc1c-4fc2-9bd9-1875d12184cc",
    "outputId": "0aa79e10-d57a-44eb-fba5-dcb1d11179e8",
    "tags": []
   },
   "outputs": [
    {
     "data": {
      "text/html": [
       "<div>\n",
       "<style scoped>\n",
       "    .dataframe tbody tr th:only-of-type {\n",
       "        vertical-align: middle;\n",
       "    }\n",
       "\n",
       "    .dataframe tbody tr th {\n",
       "        vertical-align: top;\n",
       "    }\n",
       "\n",
       "    .dataframe thead th {\n",
       "        text-align: right;\n",
       "    }\n",
       "</style>\n",
       "<table border=\"1\" class=\"dataframe\">\n",
       "  <thead>\n",
       "    <tr style=\"text-align: right;\">\n",
       "      <th></th>\n",
       "      <th>text</th>\n",
       "      <th>label</th>\n",
       "    </tr>\n",
       "  </thead>\n",
       "  <tbody>\n",
       "    <tr>\n",
       "      <th>0</th>\n",
       "      <td>if symptomatic patient got the vaccine will he...</td>\n",
       "      <td>0</td>\n",
       "    </tr>\n",
       "    <tr>\n",
       "      <th>1</th>\n",
       "      <td>has anyone died from getting the pfizer modern...</td>\n",
       "      <td>0</td>\n",
       "    </tr>\n",
       "    <tr>\n",
       "      <th>2</th>\n",
       "      <td>why should i trust a pharmaceutical company wh...</td>\n",
       "      <td>0</td>\n",
       "    </tr>\n",
       "    <tr>\n",
       "      <th>3</th>\n",
       "      <td>what are antisense rna s could they or dsrna b...</td>\n",
       "      <td>0</td>\n",
       "    </tr>\n",
       "    <tr>\n",
       "      <th>4</th>\n",
       "      <td>the vaccines aren t fda approved</td>\n",
       "      <td>0</td>\n",
       "    </tr>\n",
       "  </tbody>\n",
       "</table>\n",
       "</div>"
      ],
      "text/plain": [
       "                                                text  label\n",
       "0  if symptomatic patient got the vaccine will he...      0\n",
       "1  has anyone died from getting the pfizer modern...      0\n",
       "2  why should i trust a pharmaceutical company wh...      0\n",
       "3  what are antisense rna s could they or dsrna b...      0\n",
       "4                   the vaccines aren t fda approved      0"
      ]
     },
     "execution_count": 9,
     "metadata": {},
     "output_type": "execute_result"
    }
   ],
   "source": [
    "df_train.head()"
   ]
  },
  {
   "cell_type": "markdown",
   "id": "ec5db668-da16-4a12-a2ab-874266c1814a",
   "metadata": {
    "id": "ec5db668-da16-4a12-a2ab-874266c1814a"
   },
   "source": [
    "### Stopword Removal"
   ]
  },
  {
   "cell_type": "code",
   "execution_count": 10,
   "id": "34390f04-63c1-418a-8cc7-3504d68f0683",
   "metadata": {
    "colab": {
     "base_uri": "https://localhost:8080/"
    },
    "id": "34390f04-63c1-418a-8cc7-3504d68f0683",
    "outputId": "e164d993-521f-4435-873a-82f1cee14f9e",
    "tags": []
   },
   "outputs": [
    {
     "name": "stderr",
     "output_type": "stream",
     "text": [
      "[nltk_data] Downloading package stopwords to\n",
      "[nltk_data]     /Users/rodzaraya/nltk_data...\n",
      "[nltk_data]   Package stopwords is already up-to-date!\n"
     ]
    }
   ],
   "source": [
    "# Import the necessary libraries\n",
    "\n",
    "import nltk # Text processing library that provides provides utility functions\n",
    "nltk.download('stopwords') # Download the nltk's stopword module\n",
    "from nltk.corpus import stopwords # Import the stopword module"
   ]
  },
  {
   "cell_type": "code",
   "execution_count": 11,
   "id": "ee37994d-4c8b-4921-99a4-a89256a81b52",
   "metadata": {
    "id": "ee37994d-4c8b-4921-99a4-a89256a81b52",
    "tags": []
   },
   "outputs": [],
   "source": [
    "# Function to remove stopwords\n",
    "def remove_stopword(text):\n",
    "    tokens = []\n",
    "    stop_words = stopwords.words(\"english\") # Obtain a set of english stopwords\n",
    "\n",
    "    for token in text.split(): # Iterate over each word in the text\n",
    "        if token not in stop_words: # Check is the word is not a stopword\n",
    "            tokens.append(token) # Append to the token list\n",
    "\n",
    "    return \" \".join(tokens) # Join the tokens (with a \" \" as the seperator)"
   ]
  },
  {
   "cell_type": "code",
   "execution_count": 12,
   "id": "c46923ae-77ff-4894-9b3b-31bd8f03749e",
   "metadata": {
    "id": "c46923ae-77ff-4894-9b3b-31bd8f03749e",
    "tags": []
   },
   "outputs": [],
   "source": [
    "# Apply the function to the text column\n",
    "df_train[\"text\"] = df_train[\"text\"].apply(remove_stopword)\n",
    "df_val[\"text\"] = df_val[\"text\"].apply(remove_stopword)\n",
    "df_test[\"text\"] = df_test[\"text\"].apply(remove_stopword)"
   ]
  },
  {
   "cell_type": "code",
   "execution_count": 13,
   "id": "af551579-92ff-4c55-914a-dc4285c2c58c",
   "metadata": {
    "colab": {
     "base_uri": "https://localhost:8080/",
     "height": 206
    },
    "id": "af551579-92ff-4c55-914a-dc4285c2c58c",
    "outputId": "aff3601e-6462-4b81-b8fa-f18b7ac67bfd",
    "tags": []
   },
   "outputs": [
    {
     "data": {
      "text/html": [
       "<div>\n",
       "<style scoped>\n",
       "    .dataframe tbody tr th:only-of-type {\n",
       "        vertical-align: middle;\n",
       "    }\n",
       "\n",
       "    .dataframe tbody tr th {\n",
       "        vertical-align: top;\n",
       "    }\n",
       "\n",
       "    .dataframe thead th {\n",
       "        text-align: right;\n",
       "    }\n",
       "</style>\n",
       "<table border=\"1\" class=\"dataframe\">\n",
       "  <thead>\n",
       "    <tr style=\"text-align: right;\">\n",
       "      <th></th>\n",
       "      <th>text</th>\n",
       "      <th>label</th>\n",
       "    </tr>\n",
       "  </thead>\n",
       "  <tbody>\n",
       "    <tr>\n",
       "      <th>0</th>\n",
       "      <td>symptomatic patient got vaccine dies</td>\n",
       "      <td>0</td>\n",
       "    </tr>\n",
       "    <tr>\n",
       "      <th>1</th>\n",
       "      <td>anyone died getting pfizer moderna johnson joh...</td>\n",
       "      <td>0</td>\n",
       "    </tr>\n",
       "    <tr>\n",
       "      <th>2</th>\n",
       "      <td>trust pharmaceutical company manipulate data</td>\n",
       "      <td>0</td>\n",
       "    </tr>\n",
       "    <tr>\n",
       "      <th>3</th>\n",
       "      <td>antisense rna could dsrna contaminating covid ...</td>\n",
       "      <td>0</td>\n",
       "    </tr>\n",
       "    <tr>\n",
       "      <th>4</th>\n",
       "      <td>vaccines fda approved</td>\n",
       "      <td>0</td>\n",
       "    </tr>\n",
       "  </tbody>\n",
       "</table>\n",
       "</div>"
      ],
      "text/plain": [
       "                                                text  label\n",
       "0               symptomatic patient got vaccine dies      0\n",
       "1  anyone died getting pfizer moderna johnson joh...      0\n",
       "2       trust pharmaceutical company manipulate data      0\n",
       "3  antisense rna could dsrna contaminating covid ...      0\n",
       "4                              vaccines fda approved      0"
      ]
     },
     "execution_count": 13,
     "metadata": {},
     "output_type": "execute_result"
    }
   ],
   "source": [
    "df_train.head()"
   ]
  },
  {
   "cell_type": "markdown",
   "id": "a7081e5e-4604-4316-a115-e8b10a5a98e1",
   "metadata": {
    "id": "a7081e5e-4604-4316-a115-e8b10a5a98e1"
   },
   "source": [
    "### Stemming"
   ]
  },
  {
   "cell_type": "code",
   "execution_count": 14,
   "id": "3943fc48-7e9f-41bf-ad5c-6c16cb1aac5d",
   "metadata": {
    "id": "3943fc48-7e9f-41bf-ad5c-6c16cb1aac5d",
    "tags": []
   },
   "outputs": [],
   "source": [
    "# Import the necessary libraries\n",
    "from nltk.stem import SnowballStemmer # Import the stemmer module from nltk"
   ]
  },
  {
   "cell_type": "code",
   "execution_count": 15,
   "id": "514087f6-b54d-4ebd-a8e2-e7f75418e21e",
   "metadata": {
    "id": "514087f6-b54d-4ebd-a8e2-e7f75418e21e",
    "tags": []
   },
   "outputs": [],
   "source": [
    "# Function to perform stemming\n",
    "def stem_words(text):\n",
    "    tokens = []\n",
    "    english_stemmer = SnowballStemmer(\"english\") # Load the stemmer object\n",
    "\n",
    "    for token in text.split(): # Iterate over each word in the text\n",
    "        token = english_stemmer.stem(token) # Stem the word\n",
    "        tokens.append(token) # Append to the token list\n",
    "\n",
    "    return \" \".join(tokens) # Join the tokens (with a \" \" as the seperator)"
   ]
  },
  {
   "cell_type": "code",
   "execution_count": 16,
   "id": "da94a57d-c147-46f2-a0bb-149db0419c4e",
   "metadata": {
    "id": "da94a57d-c147-46f2-a0bb-149db0419c4e"
   },
   "outputs": [],
   "source": [
    "# Apply the function to the text column\n",
    "df_train[\"text\"] = df_train[\"text\"].apply(stem_words)\n",
    "df_val[\"text\"] = df_val[\"text\"].apply(stem_words)\n",
    "df_test[\"text\"] = df_test[\"text\"].apply(stem_words)"
   ]
  },
  {
   "cell_type": "code",
   "execution_count": 17,
   "id": "fbbf3734",
   "metadata": {
    "colab": {
     "base_uri": "https://localhost:8080/",
     "height": 206
    },
    "id": "fbbf3734",
    "outputId": "f1703faa-b9b7-4943-9d59-b799ee5661a5"
   },
   "outputs": [
    {
     "data": {
      "text/html": [
       "<div>\n",
       "<style scoped>\n",
       "    .dataframe tbody tr th:only-of-type {\n",
       "        vertical-align: middle;\n",
       "    }\n",
       "\n",
       "    .dataframe tbody tr th {\n",
       "        vertical-align: top;\n",
       "    }\n",
       "\n",
       "    .dataframe thead th {\n",
       "        text-align: right;\n",
       "    }\n",
       "</style>\n",
       "<table border=\"1\" class=\"dataframe\">\n",
       "  <thead>\n",
       "    <tr style=\"text-align: right;\">\n",
       "      <th></th>\n",
       "      <th>text</th>\n",
       "      <th>label</th>\n",
       "    </tr>\n",
       "  </thead>\n",
       "  <tbody>\n",
       "    <tr>\n",
       "      <th>0</th>\n",
       "      <td>symptomat patient got vaccin die</td>\n",
       "      <td>0</td>\n",
       "    </tr>\n",
       "    <tr>\n",
       "      <th>1</th>\n",
       "      <td>anyon die get pfizer moderna johnson johnson v...</td>\n",
       "      <td>0</td>\n",
       "    </tr>\n",
       "    <tr>\n",
       "      <th>2</th>\n",
       "      <td>trust pharmaceut compani manipul data</td>\n",
       "      <td>0</td>\n",
       "    </tr>\n",
       "    <tr>\n",
       "      <th>3</th>\n",
       "      <td>antisens rna could dsrna contamin covid mrna v...</td>\n",
       "      <td>0</td>\n",
       "    </tr>\n",
       "    <tr>\n",
       "      <th>4</th>\n",
       "      <td>vaccin fda approv</td>\n",
       "      <td>0</td>\n",
       "    </tr>\n",
       "  </tbody>\n",
       "</table>\n",
       "</div>"
      ],
      "text/plain": [
       "                                                text  label\n",
       "0                   symptomat patient got vaccin die      0\n",
       "1  anyon die get pfizer moderna johnson johnson v...      0\n",
       "2              trust pharmaceut compani manipul data      0\n",
       "3  antisens rna could dsrna contamin covid mrna v...      0\n",
       "4                                  vaccin fda approv      0"
      ]
     },
     "execution_count": 17,
     "metadata": {},
     "output_type": "execute_result"
    }
   ],
   "source": [
    "df_train.head()"
   ]
  },
  {
   "cell_type": "markdown",
   "id": "M1wIRftOhMaV",
   "metadata": {
    "id": "M1wIRftOhMaV"
   },
   "source": [
    "### Remove Empty Texts"
   ]
  },
  {
   "cell_type": "code",
   "execution_count": 18,
   "id": "C-k8bkk3jf6S",
   "metadata": {
    "id": "C-k8bkk3jf6S"
   },
   "outputs": [],
   "source": [
    "# Import the necessary libraries\n",
    "import numpy as np # Used to manipulate and perform calculations on arrays/matrices"
   ]
  },
  {
   "cell_type": "code",
   "execution_count": 19,
   "id": "2EfxrMjXhPC2",
   "metadata": {
    "colab": {
     "base_uri": "https://localhost:8080/"
    },
    "id": "2EfxrMjXhPC2",
    "outputId": "c5bb2dcc-2849-4214-9931-8251736be0a7"
   },
   "outputs": [],
   "source": [
    "# Train dataset\n",
    "df_train[\"text\"].replace(\"\", np.nan, inplace=True) # Replace empty strings with NaN\n",
    "df_train.dropna(subset=[\"text\"], inplace=True) # Drop the NaNs from the text column\n",
    "df_train.reset_index(inplace=True) # Reset the indexes\n",
    "df_train.drop(\"index\", axis=\"columns\", inplace=True) # Drop the old index column\n",
    "\n",
    "# Validation dataset\n",
    "df_val[\"text\"].replace(\"\", np.nan, inplace=True) # Replace empty strings with NaN\n",
    "df_val.dropna(subset=[\"text\"], inplace=True) # Drop the NaNs from the text column\n",
    "df_val.reset_index(inplace=True) # Reset the indexes\n",
    "df_val.drop(\"index\", axis=\"columns\", inplace=True) # Drop the old index column\n",
    "\n",
    "# Test dataset\n",
    "df_test[\"text\"].replace(\"\", np.nan, inplace=True) # Replace empty strings with NaN\n",
    "df_test.dropna(subset=[\"text\"], inplace=True) # Drop the NaNs from the text column\n",
    "df_test.reset_index(inplace=True) # Reset the indexes\n",
    "df_test.drop(\"index\", axis=\"columns\", inplace=True) # Drop the old index column"
   ]
  },
  {
   "cell_type": "markdown",
   "id": "ec0b9879-ca5a-4759-9612-f0c5c09fc654",
   "metadata": {
    "id": "ec0b9879-ca5a-4759-9612-f0c5c09fc654"
   },
   "source": [
    "## **Display Dataset Metrics**"
   ]
  },
  {
   "cell_type": "code",
   "execution_count": 20,
   "id": "97587aea-bef9-4b14-80d9-51b42a3896cb",
   "metadata": {
    "colab": {
     "base_uri": "https://localhost:8080/"
    },
    "id": "97587aea-bef9-4b14-80d9-51b42a3896cb",
    "outputId": "f965afd2-3f60-4174-d445-7f3a25196fcd",
    "tags": []
   },
   "outputs": [
    {
     "name": "stdout",
     "output_type": "stream",
     "text": [
      "Number of training data points = 1805\n",
      "Number of validation data points = 298\n",
      "Number of testing data points = 903\n"
     ]
    }
   ],
   "source": [
    "# The inbuilt function len() gives the total number of elements in a given object\n",
    "print(f\"Number of training data points = {len(df_train)}\")\n",
    "print(f\"Number of validation data points = {len(df_val)}\")\n",
    "print(f\"Number of testing data points = {len(df_test)}\")\n"
   ]
  },
  {
   "cell_type": "code",
   "execution_count": 21,
   "id": "c9043f03-4901-46e9-81ae-315e38bbac8f",
   "metadata": {
    "colab": {
     "base_uri": "https://localhost:8080/"
    },
    "id": "c9043f03-4901-46e9-81ae-315e38bbac8f",
    "outputId": "fe35c479-5b7f-4873-ce67-0589ee5f2abf",
    "tags": []
   },
   "outputs": [
    {
     "name": "stdout",
     "output_type": "stream",
     "text": [
      "Number of classes = 4\n",
      "The class labels are = [0 1 2 3]\n"
     ]
    }
   ],
   "source": [
    "# NumPy's unique() function gives the unique elements of a given object\n",
    "print(f\"Number of classes = {len(np.unique(df_train['label']))}\")\n",
    "print(f\"The class labels are = {np.unique(df_train['label'])}\")"
   ]
  },
  {
   "cell_type": "code",
   "execution_count": 22,
   "id": "c309f1c8-d402-4e5e-b02d-af655ca43004",
   "metadata": {
    "colab": {
     "base_uri": "https://localhost:8080/"
    },
    "id": "c309f1c8-d402-4e5e-b02d-af655ca43004",
    "outputId": "edfde7c7-3526-4cff-85ae-623ad022c816",
    "tags": []
   },
   "outputs": [
    {
     "name": "stdout",
     "output_type": "stream",
     "text": [
      "Training data\n",
      "Number of Class 0 = 445\n",
      "Number of Class 1 = 19\n",
      "Number of Class 2 = 1117\n",
      "Number of Class 3 = 224\n"
     ]
    }
   ],
   "source": [
    "# Class metrics for training data\n",
    "\n",
    "print(\"Training data\")\n",
    "\n",
    "# Restrictions/Selection can also be applied to the DataFrame objects\n",
    "class_0 = df_train[df_train[\"label\"] == 0] # Rows with the label as 0 are selected\n",
    "class_1 = df_train[df_train[\"label\"] == 1]\n",
    "class_2 = df_train[df_train[\"label\"] == 2]\n",
    "class_3 = df_train[df_train[\"label\"] == 3]\n",
    "\n",
    "print(f\"Number of Class 0 = {len(class_0)}\")\n",
    "print(f\"Number of Class 1 = {len(class_1)}\")\n",
    "print(f\"Number of Class 2 = {len(class_2)}\")\n",
    "print(f\"Number of Class 3 = {len(class_3)}\")"
   ]
  },
  {
   "cell_type": "code",
   "execution_count": 23,
   "id": "1a5566a6-c94b-44e2-823d-8dfe31903f73",
   "metadata": {
    "colab": {
     "base_uri": "https://localhost:8080/"
    },
    "id": "1a5566a6-c94b-44e2-823d-8dfe31903f73",
    "outputId": "60658f50-aa50-4579-9a7b-9f0a66611f57",
    "tags": []
   },
   "outputs": [
    {
     "name": "stdout",
     "output_type": "stream",
     "text": [
      "Validation data\n",
      "Number of Class 0 = 73\n",
      "Number of Class 1 = 3\n",
      "Number of Class 2 = 186\n",
      "Number of Class 3 = 36\n"
     ]
    }
   ],
   "source": [
    "# Class metrics for validation data\n",
    "\n",
    "print(\"Validation data\")\n",
    "\n",
    "class_0 = df_val[df_val[\"label\"] == 0]\n",
    "class_1 = df_val[df_val[\"label\"] == 1]\n",
    "class_2 = df_val[df_val[\"label\"] == 2]\n",
    "class_3 = df_val[df_val[\"label\"] == 3]\n",
    "\n",
    "print(f\"Number of Class 0 = {len(class_0)}\")\n",
    "print(f\"Number of Class 1 = {len(class_1)}\")\n",
    "print(f\"Number of Class 2 = {len(class_2)}\")\n",
    "print(f\"Number of Class 3 = {len(class_3)}\")"
   ]
  },
  {
   "cell_type": "code",
   "execution_count": 24,
   "id": "80c29c18-fb22-437b-92a6-949121c3b5c2",
   "metadata": {
    "colab": {
     "base_uri": "https://localhost:8080/"
    },
    "id": "80c29c18-fb22-437b-92a6-949121c3b5c2",
    "outputId": "4981b7e2-0a01-4fa8-bd78-7f8dc6df1083",
    "tags": []
   },
   "outputs": [
    {
     "name": "stdout",
     "output_type": "stream",
     "text": [
      "Testing data\n",
      "Number of Class 0 = 223\n",
      "Number of Class 1 = 9\n",
      "Number of Class 2 = 559\n",
      "Number of Class 3 = 112\n"
     ]
    }
   ],
   "source": [
    "# Class metrics for testing data\n",
    "\n",
    "print(\"Testing data\")\n",
    "\n",
    "class_0 = df_test[df_test[\"label\"] == 0]\n",
    "class_1 = df_test[df_test[\"label\"] == 1]\n",
    "class_2 = df_test[df_test[\"label\"] == 2]\n",
    "class_3 = df_test[df_test[\"label\"] == 3]\n",
    "\n",
    "print(f\"Number of Class 0 = {len(class_0)}\")\n",
    "print(f\"Number of Class 1 = {len(class_1)}\")\n",
    "print(f\"Number of Class 2 = {len(class_2)}\")\n",
    "print(f\"Number of Class 3 = {len(class_3)}\")"
   ]
  },
  {
   "cell_type": "markdown",
   "id": "09981294",
   "metadata": {
    "id": "09981294"
   },
   "source": [
    "## **Text Representation**"
   ]
  },
  {
   "cell_type": "markdown",
   "id": "f4c151d1",
   "metadata": {
    "id": "f4c151d1"
   },
   "source": [
    "Input text should be represented in a numerical format for the machine to understand it, so our first step in feature engineering is to represent the text in another format.\n",
    "\n",
    "There are many ways we can represent text data to apply machine learning:\n",
    "1. Bag of Words (BoW): Represents text as a collection of individual words, ignoring grammar and word order\n",
    "2. Term Frequency-Inverse Document Frequency (TF-IDF): Represents the importance of each word in the document and the corpus as a whole, based on its frequency in the document and its rarity in the corpus\n",
    "3. Word Embeddings: Represents words as dense vectors in a high-dimensional space, where words with similar meanings are clustered together\n",
    "4. Character-level Embeddings: Represents text at the character level, rather than the word level, using vectors to represent each character\n",
    "5. Convolutional Neural Networks (CNNs): Learns features from text by applying convolutional filters to the text representation\n",
    "6. Recurrent Neural Networks (RNNs): Models sequences of text, such as sentences or paragraphs, and can capture dependencies between words in a sentence\n",
    "7. Transformer-based Models: Capture context and dependencies between words in a sentence using the attention mechanism"
   ]
  },
  {
   "cell_type": "markdown",
   "id": "d281968e",
   "metadata": {
    "id": "d281968e"
   },
   "source": [
    "Here we shall make us of one of the more simpler and popular techniques: **TF-IDF**"
   ]
  },
  {
   "cell_type": "code",
   "execution_count": 25,
   "id": "64df6905",
   "metadata": {
    "id": "64df6905"
   },
   "outputs": [],
   "source": [
    "# Import the necessary libraries\n",
    "\n",
    "import sklearn # Popular machine learning library\n",
    "from sklearn.feature_extraction.text import TfidfVectorizer # tf-idf vectorizer module"
   ]
  },
  {
   "cell_type": "code",
   "execution_count": 26,
   "id": "db855eb7",
   "metadata": {
    "id": "db855eb7"
   },
   "outputs": [],
   "source": [
    "# First we need to append data from all the sets to create an entire corpus\n",
    "\n",
    "# Create an empty array\n",
    "X = np.array([], dtype=str)\n",
    "\n",
    "# Append text from all the splits to the empty array\n",
    "X = np.append(X, df_train[\"text\"])\n",
    "X = np.append(X, df_val[\"text\"])\n",
    "X = np.append(X, df_test[\"text\"])"
   ]
  },
  {
   "cell_type": "code",
   "execution_count": 27,
   "id": "c19c9da3",
   "metadata": {
    "id": "c19c9da3"
   },
   "outputs": [],
   "source": [
    "vectorizer = TfidfVectorizer() # Load the tf-idf vectorizer from sklearn\n",
    "vectorizer = vectorizer.fit(X) # Fit the vectorizer on the entire data"
   ]
  },
  {
   "cell_type": "code",
   "execution_count": 28,
   "id": "48e90676",
   "metadata": {
    "colab": {
     "base_uri": "https://localhost:8080/"
    },
    "id": "48e90676",
    "outputId": "0da77443-e88f-4991-eecc-d527ebc5a618"
   },
   "outputs": [
    {
     "name": "stdout",
     "output_type": "stream",
     "text": [
      "Number of terms in the vocabulary = 1928\n"
     ]
    }
   ],
   "source": [
    "# Extract the vocabulary from the vectorizer\n",
    "vocab = vectorizer.vocabulary_\n",
    "print(f\"Number of terms in the vocabulary = {len(vocab)}\")"
   ]
  },
  {
   "cell_type": "markdown",
   "id": "57f2b841",
   "metadata": {
    "id": "57f2b841"
   },
   "source": [
    "This means that there are 1928 unique tokens in our data set"
   ]
  },
  {
   "cell_type": "code",
   "execution_count": 29,
   "id": "1bbcc1ca",
   "metadata": {
    "colab": {
     "base_uri": "https://localhost:8080/"
    },
    "id": "1bbcc1ca",
    "outputId": "fa01f664-7e1e-41c5-a7b8-a7bd6d662187"
   },
   "outputs": [
    {
     "name": "stdout",
     "output_type": "stream",
     "text": [
      "Sample Mapping\n",
      "symptomat => 1654\n",
      "patient => 1263\n",
      "got => 743\n",
      "vaccin => 1797\n",
      "die => 511\n"
     ]
    }
   ],
   "source": [
    "# Display a sample of the word => value mapping\n",
    "print(\"Sample Mapping\")\n",
    "for idx, ele in enumerate(zip(vocab.keys(), vocab.values())):\n",
    "    word, val = ele\n",
    "    print(f\"{word} => {val}\")\n",
    "    if idx == 4: break"
   ]
  },
  {
   "cell_type": "markdown",
   "id": "1b059423",
   "metadata": {
    "id": "1b059423"
   },
   "source": [
    "Now let's use the fitted vectorizer to transform the text in each data split into a sparsely populated matrix (Sparsely populated matrix because not every text contains the entire vocabulary but a small subset of it)."
   ]
  },
  {
   "cell_type": "code",
   "execution_count": 30,
   "id": "c3cc0162",
   "metadata": {
    "id": "c3cc0162"
   },
   "outputs": [],
   "source": [
    "# Transform the text for each data split and store it in a variable\n",
    "X_train = vectorizer.transform(df_train[\"text\"]).toarray()\n",
    "X_val= vectorizer.transform(df_val[\"text\"]).toarray()\n",
    "X_test = vectorizer.transform(df_test[\"text\"]).toarray()"
   ]
  },
  {
   "cell_type": "code",
   "execution_count": 31,
   "id": "79db6b21",
   "metadata": {
    "colab": {
     "base_uri": "https://localhost:8080/"
    },
    "id": "79db6b21",
    "outputId": "bf47e95a-f9e1-4376-d5db-fc578b204927"
   },
   "outputs": [
    {
     "name": "stdout",
     "output_type": "stream",
     "text": [
      "[[0. 0. 0. ... 0. 0. 0.]\n",
      " [0. 0. 0. ... 0. 0. 0.]\n",
      " [0. 0. 0. ... 0. 0. 0.]\n",
      " ...\n",
      " [0. 0. 0. ... 0. 0. 0.]\n",
      " [0. 0. 0. ... 0. 0. 0.]\n",
      " [0. 0. 0. ... 0. 0. 0.]]\n"
     ]
    }
   ],
   "source": [
    "print(X_train) # The vector representation also known as a tf-idf matrix"
   ]
  },
  {
   "cell_type": "markdown",
   "id": "190ae7a3",
   "metadata": {
    "id": "190ae7a3"
   },
   "source": [
    "## **Label Encoding**"
   ]
  },
  {
   "cell_type": "markdown",
   "id": "15fd969c",
   "metadata": {
    "id": "15fd969c"
   },
   "source": [
    "Similar to the text representation technique for input data, we also need a way to represent the target labels (for prediction).\n",
    "\n",
    "Some popular label encoding techniques are:\n",
    "1. Ordinal Encoding: Assigns a unique integer value to each category based on its order or rank\n",
    "2. One-Hot Encoding: Creates a binary variable for each category, with a value of 1 for its corresponding category and 0 for all others\n",
    "3. Binary Encoding: Similar to one-hot encoding, but uses binary values instead of 1s and 0s to reduce the number of variables required\n",
    "4. Frequency Encoding: Assigns a numerical value to each category based on its frequency in the dataset\n",
    "5. Target Encoding: Assigns a numerical value to each category based on the average of the target variable for that category"
   ]
  },
  {
   "cell_type": "markdown",
   "id": "e39e883f",
   "metadata": {
    "id": "e39e883f"
   },
   "source": [
    "The labels in the dataset are already encoded using the Ordinal Encoding technique i.e. they exist as unique integers (0, 1, 2, 3). Let's proceed with this representation."
   ]
  },
  {
   "cell_type": "code",
   "execution_count": 32,
   "id": "40a05e58",
   "metadata": {
    "id": "40a05e58"
   },
   "outputs": [],
   "source": [
    "# Extract the labels for each data split and store it in a variable\n",
    "y_train = df_train[\"label\"].to_numpy()\n",
    "y_val = df_val[\"label\"].to_numpy()\n",
    "y_test = df_test[\"label\"].to_numpy()"
   ]
  },
  {
   "cell_type": "markdown",
   "id": "480b61fe",
   "metadata": {
    "id": "480b61fe"
   },
   "source": [
    "\n",
    "## **Predictive Models**\n",
    "Now let's try different machine learning algorithms to predict our output labels from the text data. We'll be using the SKLearn implementations of the algorithms from Sci-kit learn package: https://scikit-learn.org/stable/."
   ]
  },
  {
   "cell_type": "markdown",
   "id": "83f9bfb7",
   "metadata": {
    "id": "83f9bfb7"
   },
   "source": [
    "### Logistic Regression"
   ]
  },
  {
   "cell_type": "markdown",
   "id": "1a459c30",
   "metadata": {
    "id": "1a459c30"
   },
   "source": [
    "Logistic Regression is a statistical technique used to model the relationship between a binary dependent variable and one or more independent variables. It estimates the probability of occurrence of a binary event based on the given set of independent variables. It uses a sigmoid function to map any real-valued input to a probability value between 0 and 1."
   ]
  },
  {
   "cell_type": "code",
   "execution_count": 33,
   "id": "7aff4dad",
   "metadata": {
    "id": "7aff4dad"
   },
   "outputs": [],
   "source": [
    "# Import the necessary libraries\n",
    "\n",
    "from sklearn.linear_model import LogisticRegression # Logistic Regression Model\n",
    "from sklearn.metrics import classification_report # Module to calculate performance metrics\n",
    "from sklearn.metrics import confusion_matrix # Module to calculate the confusion matrix\n",
    "from sklearn.metrics import ConfusionMatrixDisplay # Module to display the confusion matrix\n",
    "\n",
    "import matplotlib.pyplot as plt # Module to help draw the confusion matrix"
   ]
  },
  {
   "cell_type": "code",
   "execution_count": 34,
   "id": "d695178a",
   "metadata": {
    "colab": {
     "base_uri": "https://localhost:8080/"
    },
    "id": "d695178a",
    "outputId": "1e850cfd-f3b0-40a5-9613-88ad9337123a"
   },
   "outputs": [
    {
     "name": "stdout",
     "output_type": "stream",
     "text": [
      "Accuracy = 77.18 %\n",
      "Weighted Avg F1-score = 0.7582\n"
     ]
    }
   ],
   "source": [
    "# Load the model\n",
    "lr_model = LogisticRegression()\n",
    "\n",
    "# Fit the model\n",
    "lr_model.fit(X=X_train, y=y_train)\n",
    "\n",
    "# Obtain the predictions for the validation data\n",
    "pred_val = lr_model.predict(X_val)\n",
    "\n",
    "# Get the classification report for the prediction\n",
    "# It is a dictionary that contains various metrics and their values\n",
    "# We choose accuracy and weighted average f1-score as our metrics of choice\n",
    "results = classification_report(y_true=y_val, y_pred=pred_val, output_dict=True, zero_division=0) # Use zero_devision to control warnings\n",
    "\n",
    "print(f\"Accuracy = {results['accuracy']*100:>.2f} %\")\n",
    "print(f\"Weighted Avg F1-score = {results['weighted avg']['f1-score']:>.4f}\")"
   ]
  },
  {
   "cell_type": "code",
   "execution_count": 35,
   "id": "5a3f4882",
   "metadata": {
    "colab": {
     "base_uri": "https://localhost:8080/",
     "height": 449
    },
    "id": "5a3f4882",
    "outputId": "f564dfdf-76f8-4568-9e36-a8a13cfcfa30"
   },
   "outputs": [
    {
     "data": {
      "image/png": "[encoded data removed]",
      "text/plain": [
       "<Figure size 640x480 with 2 Axes>"
      ]
     },
     "metadata": {},
     "output_type": "display_data"
    }
   ],
   "source": [
    "# Obtain the confusion matrix\n",
    "cm = confusion_matrix(y_val, pred_val)\n",
    "\n",
    "# Uncomment the following line to just print the matrix to the standard output\n",
    "# print(cm)\n",
    "\n",
    "cm_display = ConfusionMatrixDisplay(cm) # Initiate a ConfusionMatrixDisplay object\n",
    "cm_display.plot() # Plot the object\n",
    "plt.show() # Display the plot"
   ]
  },
  {
   "cell_type": "markdown",
   "id": "f0e0a1d0",
   "metadata": {
    "id": "f0e0a1d0"
   },
   "source": [
    "### Decision Tree"
   ]
  },
  {
   "cell_type": "markdown",
   "id": "bf453c68",
   "metadata": {
    "id": "bf453c68"
   },
   "source": [
    "A decision tree model is a type of supervised learning algorithm used to solve both classification and regression problems. It splits the dataset into smaller subsets based on the most significant features of the data, recursively creating a tree structure until a leaf node (a final decision) is reached."
   ]
  },
  {
   "cell_type": "code",
   "execution_count": 36,
   "id": "87e290fa",
   "metadata": {
    "id": "87e290fa"
   },
   "outputs": [],
   "source": [
    "# Import the necessary libraries\n",
    "\n",
    "from sklearn.tree import DecisionTreeClassifier # Decision Tree Model for Classification"
   ]
  },
  {
   "cell_type": "code",
   "execution_count": 37,
   "id": "04a46b50",
   "metadata": {
    "colab": {
     "base_uri": "https://localhost:8080/"
    },
    "id": "04a46b50",
    "outputId": "8a62b99b-7155-4c43-cdbe-5253c03774b4"
   },
   "outputs": [
    {
     "name": "stdout",
     "output_type": "stream",
     "text": [
      "Accuracy = 77.52 %\n",
      "Weighted Avg F1-score = 0.7725\n"
     ]
    }
   ],
   "source": [
    "# Load the model\n",
    "dt_model = DecisionTreeClassifier()\n",
    "\n",
    "# Fit the model\n",
    "dt_model.fit(X=X_train, y=y_train)\n",
    "\n",
    "# Obtain the predictions for the validation data\n",
    "pred_val = dt_model.predict(X_val)\n",
    "\n",
    "# Get the classification report for the prediction\n",
    "# It is a dictionary that contains various metrics and their values\n",
    "# We choose accuracy and weighted average f1-score as our metrics of choice\n",
    "results = classification_report(y_true=y_val, y_pred=pred_val, output_dict=True, zero_division=0) # Use zero_devision to control warnings\n",
    "\n",
    "print(f\"Accuracy = {results['accuracy']*100:>.2f} %\")\n",
    "print(f\"Weighted Avg F1-score = {results['weighted avg']['f1-score']:>.4f}\")"
   ]
  },
  {
   "cell_type": "code",
   "execution_count": 38,
   "id": "e5249f4a",
   "metadata": {
    "colab": {
     "base_uri": "https://localhost:8080/",
     "height": 453
    },
    "id": "e5249f4a",
    "outputId": "1c5f5ae3-0671-40fe-c74d-0215d8e0a4ea"
   },
   "outputs": [
    {
     "data": {
      "image/png": "[encoded data removed]",
      "text/plain": [
       "<Figure size 640x480 with 2 Axes>"
      ]
     },
     "metadata": {},
     "output_type": "display_data"
    }
   ],
   "source": [
    "# Obtain the confusion matrix\n",
    "cm = confusion_matrix(y_val, pred_val)\n",
    "\n",
    "# Uncomment the following line to just print the matrix to the standard output\n",
    "# print(cm)\n",
    "\n",
    "cm_display = ConfusionMatrixDisplay(cm) # Initiate a ConfusionMatrixDisplay object\n",
    "cm_display.plot() # Plot the object\n",
    "plt.show() # Display the plot"
   ]
  },
  {
   "cell_type": "markdown",
   "id": "1zFml8TM2F6H",
   "metadata": {
    "id": "1zFml8TM2F6H"
   },
   "source": [
    "### Support Vector Machine"
   ]
  },
  {
   "cell_type": "markdown",
   "id": "AV-5DMaT2LDm",
   "metadata": {
    "id": "AV-5DMaT2LDm"
   },
   "source": [
    "Support Vector Machine (SVM) are a type of supervised learning algorithm used for classification, regression, and outlier detection. They find a hyperplane that separates classes in a high-dimensional space by maximizing the margin between the two classes."
   ]
  },
  {
   "cell_type": "code",
   "execution_count": 39,
   "id": "11798177",
   "metadata": {
    "id": "11798177"
   },
   "outputs": [],
   "source": [
    "# Import the necessary libraries\n",
    "\n",
    "from sklearn.svm import SVC # Support Vector Machine for Classification"
   ]
  },
  {
   "cell_type": "code",
   "execution_count": 40,
   "id": "zIIBIf6u3vTP",
   "metadata": {
    "colab": {
     "base_uri": "https://localhost:8080/"
    },
    "id": "zIIBIf6u3vTP",
    "outputId": "eb317d0c-a488-4063-e33e-2c738f1c4604"
   },
   "outputs": [
    {
     "name": "stdout",
     "output_type": "stream",
     "text": [
      "Accuracy = 78.52 %\n",
      "Weighted Avg F1-score = 0.7714\n"
     ]
    }
   ],
   "source": [
    "# Load the model\n",
    "svc_model = SVC()\n",
    "\n",
    "# Fit the model\n",
    "svc_model.fit(X=X_train, y=y_train)\n",
    "\n",
    "# Obtain the predictions for the validation data\n",
    "pred_val = svc_model.predict(X_val)\n",
    "\n",
    "# Get the classification report for the prediction\n",
    "# It is a dictionary that contains various metrics and their values\n",
    "# We choose accuracy and weighted average f1-score as our metrics of choice\n",
    "results = classification_report(y_true=y_val, y_pred=pred_val, output_dict=True, zero_division=0) # Use zero_devision to control warnings\n",
    "\n",
    "print(f\"Accuracy = {results['accuracy']*100:>.2f} %\")\n",
    "print(f\"Weighted Avg F1-score = {results['weighted avg']['f1-score']:>.4f}\")"
   ]
  },
  {
   "cell_type": "code",
   "execution_count": 41,
   "id": "wjug_zwn30yG",
   "metadata": {
    "colab": {
     "base_uri": "https://localhost:8080/",
     "height": 449
    },
    "id": "wjug_zwn30yG",
    "outputId": "9477007d-7d42-4910-9574-b39a5c39f3ee"
   },
   "outputs": [
    {
     "data": {
      "image/png": "[encoded data removed]",
      "text/plain": [
       "<Figure size 640x480 with 2 Axes>"
      ]
     },
     "metadata": {},
     "output_type": "display_data"
    }
   ],
   "source": [
    "# Obtain the confusion matrix\n",
    "cm = confusion_matrix(y_val, pred_val)\n",
    "\n",
    "# Uncomment the following line to just print the matrix to the standard output\n",
    "# print(cm)\n",
    "\n",
    "cm_display = ConfusionMatrixDisplay(cm) # Initiate a ConfusionMatrixDisplay object\n",
    "cm_display.plot() # Plot the object\n",
    "plt.show() # Display the plot"
   ]
  },
  {
   "cell_type": "markdown",
   "id": "Nr1YEskO4YiT",
   "metadata": {
    "id": "Nr1YEskO4YiT"
   },
   "source": [
    "## **Model Comparison**"
   ]
  },
  {
   "cell_type": "markdown",
   "id": "r2tTIgJT4tGM",
   "metadata": {
    "id": "r2tTIgJT4tGM"
   },
   "source": [
    "### Testing Data"
   ]
  },
  {
   "cell_type": "markdown",
   "id": "zif3LPBt4dtP",
   "metadata": {
    "id": "zif3LPBt4dtP"
   },
   "source": [
    "After training the models using the training set and validating them during training using validation set, now we compare the models using the testing set."
   ]
  },
  {
   "cell_type": "code",
   "execution_count": 42,
   "id": "I4-ZDFKA36rr",
   "metadata": {
    "colab": {
     "base_uri": "https://localhost:8080/"
    },
    "id": "I4-ZDFKA36rr",
    "outputId": "36a9c93a-5c32-46ce-d3c8-dec63ffa17d4"
   },
   "outputs": [
    {
     "name": "stdout",
     "output_type": "stream",
     "text": [
      "Model \t Accuracy \t Weighted Avg F1-score\n",
      "-----------------------------------------------\n",
      "LR \t 75.19 % \t 0.7271\n",
      "DT \t 77.08 % \t 0.7677\n",
      "SVM \t 76.63 % \t 0.7450\n"
     ]
    }
   ],
   "source": [
    "print(\"Model \\t Accuracy \\t Weighted Avg F1-score\")\n",
    "print(\"-----------------------------------------------\")\n",
    "\n",
    "# Logistic Regression\n",
    "pred_test = lr_model.predict(X_test)\n",
    "results = classification_report(y_true=y_test, y_pred=pred_test, output_dict=True, zero_division=0)\n",
    "print(f\"LR \\t {results['accuracy']*100:>.2f} % \\t {results['weighted avg']['f1-score']:>.4f}\")\n",
    "\n",
    "# Decision Tree\n",
    "pred_test = dt_model.predict(X_test)\n",
    "results = classification_report(y_true=y_test, y_pred=pred_test, output_dict=True, zero_division=0)\n",
    "print(f\"DT \\t {results['accuracy']*100:>.2f} % \\t {results['weighted avg']['f1-score']:>.4f}\")\n",
    "\n",
    "# Support Vector Machine\n",
    "pred_test = svc_model.predict(X_test)\n",
    "results = classification_report(y_true=y_test, y_pred=pred_test, output_dict=True, zero_division=0)\n",
    "print(f\"SVM \\t {results['accuracy']*100:>.2f} % \\t {results['weighted avg']['f1-score']:>.4f}\")"
   ]
  },
  {
   "cell_type": "markdown",
   "id": "4hd8IlfRzexk",
   "metadata": {
    "id": "4hd8IlfRzexk"
   },
   "source": [
    "We can observe that the Decision tree model performs the best for our data set (F1-score = 0.77). One caveat with DT is that they might overfit the input data."
   ]
  },
  {
   "cell_type": "markdown",
   "id": "Oz8Y7aeA8jPL",
   "metadata": {
    "id": "Oz8Y7aeA8jPL"
   },
   "source": [
    "### Cross Validation"
   ]
  },
  {
   "cell_type": "markdown",
   "id": "NYlXOCjF9R33",
   "metadata": {
    "id": "NYlXOCjF9R33"
   },
   "source": [
    "Cross-validation is a statistical method used to assess and evaluate how well a machine learning model generalizes to new data. It involves dividing the dataset into several subsets or folds, training the model on a subset, and evaluating its performance on the remaining subset. This process is repeated multiple times, with different subsets used for training and evaluation, and the results are averaged to provide an estimate of the model's performance. This makes sure that our model does not perform well on our test set by accident!"
   ]
  },
  {
   "cell_type": "markdown",
   "id": "9rOP1Oq0_egF",
   "metadata": {
    "id": "9rOP1Oq0_egF"
   },
   "source": [
    "Here we are going to perform K Fold cross validation with K set to 5 so that the data is split into 5 different sets."
   ]
  },
  {
   "cell_type": "code",
   "execution_count": 43,
   "id": "LpCeN8ONBmtL",
   "metadata": {
    "id": "LpCeN8ONBmtL"
   },
   "outputs": [],
   "source": [
    "# Import the necessary libraries\n",
    "\n",
    "from sklearn.model_selection import KFold # Module for k-fold cross validation"
   ]
  },
  {
   "cell_type": "code",
   "execution_count": 44,
   "id": "rd-lBmBe5kVC",
   "metadata": {
    "colab": {
     "base_uri": "https://localhost:8080/"
    },
    "id": "rd-lBmBe5kVC",
    "outputId": "d10d6b4d-ef3a-46a3-bd3c-2bc08e5b2468"
   },
   "outputs": [
    {
     "name": "stdout",
     "output_type": "stream",
     "text": [
      "Shape of X = (3006,)\n"
     ]
    }
   ],
   "source": [
    "# Before performing cross validation we need to combine the data splits into a single entity\n",
    "\n",
    "X = np.array([], dtype=str) # Create an empty array\n",
    "\n",
    "# Append text from all the splits to the empty array\n",
    "X = np.append(X, df_train[\"text\"])\n",
    "X = np.append(X, df_val[\"text\"])\n",
    "X = np.append(X, df_test[\"text\"])\n",
    "\n",
    "print(f\"Shape of X = {X.shape}\")"
   ]
  },
  {
   "cell_type": "code",
   "execution_count": 45,
   "id": "Lv5rhR0J_tfs",
   "metadata": {
    "colab": {
     "base_uri": "https://localhost:8080/"
    },
    "id": "Lv5rhR0J_tfs",
    "outputId": "102c3c50-2763-4bbf-a775-a56897b22329"
   },
   "outputs": [
    {
     "name": "stdout",
     "output_type": "stream",
     "text": [
      "Shape of X = (3006, 1928)\n"
     ]
    }
   ],
   "source": [
    "# Now we need to vectorize the texts\n",
    "X = vectorizer.transform(X)\n",
    "print(f\"Shape of X = {X.shape}\")"
   ]
  },
  {
   "cell_type": "code",
   "execution_count": 46,
   "id": "cgtPEkHoCRN4",
   "metadata": {
    "colab": {
     "base_uri": "https://localhost:8080/"
    },
    "id": "cgtPEkHoCRN4",
    "outputId": "8f51a1f8-8dc3-45a2-cca1-cc8bc5443f5b"
   },
   "outputs": [
    {
     "name": "stdout",
     "output_type": "stream",
     "text": [
      "Shape of y = (3006,)\n"
     ]
    }
   ],
   "source": [
    "# Combine all the labels\n",
    "\n",
    "y = np.array([]) # Create an empty array\n",
    "\n",
    "# Append labels from all the splits to the empty array\n",
    "y = np.append(y, df_train[\"label\"])\n",
    "y = np.append(y, df_val[\"label\"])\n",
    "y = np.append(y, df_test[\"label\"])\n",
    "\n",
    "print(f\"Shape of y = {y.shape}\")"
   ]
  },
  {
   "cell_type": "code",
   "execution_count": 47,
   "id": "k6GNpvOp_x8N",
   "metadata": {
    "id": "k6GNpvOp_x8N"
   },
   "outputs": [],
   "source": [
    "# Initialize a KFold object, let's use 5 splits\n",
    "cross_val = KFold(n_splits=5, shuffle=True, random_state=42)"
   ]
  },
  {
   "cell_type": "code",
   "execution_count": 48,
   "id": "9S9e_FwxB93a",
   "metadata": {
    "colab": {
     "base_uri": "https://localhost:8080/"
    },
    "id": "9S9e_FwxB93a",
    "outputId": "81be9723-ff6d-4f58-c1a9-f7f95a6e5d3a"
   },
   "outputs": [
    {
     "name": "stdout",
     "output_type": "stream",
     "text": [
      "Model \t Accuracy \t Weighted Avg F1-score\n",
      "-----------------------------------------------\n",
      "LR \t 77.01 % \t 0.7534\n",
      "DT \t 76.15 % \t 0.7577\n",
      "SVM \t 77.61 % \t 0.7606\n"
     ]
    }
   ],
   "source": [
    "print(\"Model \\t Accuracy \\t Weighted Avg F1-score\")\n",
    "print(\"-----------------------------------------------\")\n",
    "\n",
    "\n",
    "\n",
    "# Logistic Regression\n",
    "pred = np.array([]) # Create an empty array to store the predictions\n",
    "targets = np.array([]) # Create an empty array to store the targets\n",
    "\n",
    "for train_idx, test_idx in cross_val.split(X): # Iterate over each split\n",
    "    # Extract the train and test data for the current split\n",
    "    X_train, X_test = X[train_idx], X[test_idx]\n",
    "    y_train, y_test = y[train_idx], y[test_idx]\n",
    "\n",
    "    model = LogisticRegression() # Load the model\n",
    "    model.fit(X=X_train, y=y_train) # Fit the model\n",
    "    pred_test = model.predict(X_test) # Obtain the predictions for the validation data\n",
    "\n",
    "    # Append the predictions and targets\n",
    "    pred = np.append(pred, pred_test)\n",
    "    targets = np.append(targets, y_test)\n",
    "\n",
    "# Calculate and print the results\n",
    "results = classification_report(y_true=targets, y_pred=pred, output_dict=True, zero_division=0)\n",
    "print(f\"LR \\t {results['accuracy']*100:>.2f} % \\t {results['weighted avg']['f1-score']:>.4f}\")\n",
    "\n",
    "\n",
    "\n",
    "# Decision Tree\n",
    "pred = np.array([]) # Create an empty array to store the predictions\n",
    "targets = np.array([]) # Create an empty array to store the targets\n",
    "\n",
    "for train_idx, test_idx in cross_val.split(X): # Iterate over each split\n",
    "    # Extract the train and test data for the current split\n",
    "    X_train, X_test = X[train_idx], X[test_idx]\n",
    "    y_train, y_test = y[train_idx], y[test_idx]\n",
    "\n",
    "    model = DecisionTreeClassifier() # Load the model\n",
    "    model.fit(X=X_train, y=y_train) # Fit the model\n",
    "    pred_test = model.predict(X_test) # Obtain the predictions for the validation data\n",
    "\n",
    "    # Append the predictions and targets\n",
    "    pred = np.append(pred, pred_test)\n",
    "    targets = np.append(targets, y_test)\n",
    "\n",
    "# Calculate and print the results\n",
    "results = classification_report(y_true=targets, y_pred=pred, output_dict=True, zero_division=0)\n",
    "print(f\"DT \\t {results['accuracy']*100:>.2f} % \\t {results['weighted avg']['f1-score']:>.4f}\")\n",
    "\n",
    "\n",
    "\n",
    "# Support Vector Machine\n",
    "pred = np.array([]) # Create an empty array to store the predictions\n",
    "targets = np.array([]) # Create an empty array to store the targets\n",
    "\n",
    "for train_idx, test_idx in cross_val.split(X): # Iterate over each split\n",
    "    # Extract the train and test data for the current split\n",
    "    X_train, X_test = X[train_idx], X[test_idx]\n",
    "    y_train, y_test = y[train_idx], y[test_idx]\n",
    "\n",
    "    model = SVC() # Load the model\n",
    "    model.fit(X=X_train, y=y_train) # Fit the model\n",
    "    pred_test = model.predict(X_test) # Obtain the predictions for the validation data\n",
    "\n",
    "    # Append the predictions and targets\n",
    "    pred = np.append(pred, pred_test)\n",
    "    targets = np.append(targets, y_test)\n",
    "\n",
    "# Calculate and print the results\n",
    "results = classification_report(y_true=targets, y_pred=pred, output_dict=True, zero_division=0)\n",
    "print(f\"SVM \\t {results['accuracy']*100:>.2f} % \\t {results['weighted avg']['f1-score']:>.4f}\")"
   ]
  },
  {
   "cell_type": "markdown",
   "id": "PLn5jqZ70NNc",
   "metadata": {
    "id": "PLn5jqZ70NNc"
   },
   "source": [
    "Both DT and SVM seem to exhibit comparable results (SVM probably generalises better to new unseen data!)"
   ]
  },
  {
   "cell_type": "markdown",
   "id": "3cHe1NzuLhND",
   "metadata": {
    "id": "3cHe1NzuLhND"
   },
   "source": [
    "## **Appendix**"
   ]
  },
  {
   "cell_type": "markdown",
   "id": "7Y69Q00lLmof",
   "metadata": {
    "id": "7Y69Q00lLmof"
   },
   "source": [
    "This section contains techniques and code that might be useful while training models for text classification. Try these on your own (and explore more)."
   ]
  },
  {
   "cell_type": "markdown",
   "id": "23gajU4ULv86",
   "metadata": {
    "id": "23gajU4ULv86"
   },
   "source": [
    "### Hyper Parameter Tuning"
   ]
  },
  {
   "cell_type": "markdown",
   "id": "iA1OMn1PL6i5",
   "metadata": {
    "id": "iA1OMn1PL6i5"
   },
   "source": [
    "The models we used all have various paramaters that can be tuned to various degrees and might result in varying levels of performance. Ideally we want to find the best parameters for our use case. One technique for hyper parameter tuning is called **GridSearch**. This technique runs an exhaustive search over all the parameters to find the best set."
   ]
  },
  {
   "cell_type": "markdown",
   "id": "MUa86mOiNEHV",
   "metadata": {
    "id": "MUa86mOiNEHV"
   },
   "source": [
    "Let's try out the GridSearch technique on the Decision Tree Model"
   ]
  },
  {
   "cell_type": "code",
   "execution_count": 49,
   "id": "5zg8UtRQNq-H",
   "metadata": {
    "id": "5zg8UtRQNq-H"
   },
   "outputs": [],
   "source": [
    "# Import the necessary libraries\n",
    "\n",
    "from sklearn.model_selection import GridSearchCV # Module for GridSearch"
   ]
  },
  {
   "cell_type": "code",
   "execution_count": 50,
   "id": "bZmthIv-PIRz",
   "metadata": {
    "id": "bZmthIv-PIRz"
   },
   "outputs": [],
   "source": [
    "# Code to silence the warnings generated by GridSearch\n",
    "import warnings\n",
    "warnings.filterwarnings(\"ignore\")"
   ]
  },
  {
   "cell_type": "code",
   "execution_count": 51,
   "id": "Hf-vR2LIDlb5",
   "metadata": {
    "colab": {
     "base_uri": "https://localhost:8080/"
    },
    "id": "Hf-vR2LIDlb5",
    "outputId": "2e4fedf0-ae89-4d63-dba8-cf06e7e0bb56"
   },
   "outputs": [
    {
     "name": "stdout",
     "output_type": "stream",
     "text": [
      "Intel MKL WARNING: Support of Intel(R) Streaming SIMD Extensions 4.2 (Intel(R) SSE4.2) enabled only processors has been deprecated. Intel oneAPI Math Kernel Library 2025.0 will require Intel(R) Advanced Vector Extensions (Intel(R) AVX) instructions.\n",
      "Intel MKL WARNING: Support of Intel(R) Streaming SIMD Extensions 4.2 (Intel(R) SSE4.2) enabled only processors has been deprecated. Intel oneAPI Math Kernel Library 2025.0 will require Intel(R) Advanced Vector Extensions (Intel(R) AVX) instructions.\n",
      "Intel MKL WARNING: Support of Intel(R) Streaming SIMD Extensions 4.2 (Intel(R) SSE4.2) enabled only processors has been deprecated. Intel oneAPI Math Kernel Library 2025.0 will require Intel(R) Advanced Vector Extensions (Intel(R) AVX) instructions.\n",
      "Intel MKL WARNING: Support of Intel(R) Streaming SIMD Extensions 4.2 (Intel(R) SSE4.2) enabled only processors has been deprecated. Intel oneAPI Math Kernel Library 2025.0 will require Intel(R) Advanced Vector Extensions (Intel(R) AVX) instructions.\n",
      "Intel MKL WARNING: Support of Intel(R) Streaming SIMD Extensions 4.2 (Intel(R) SSE4.2) enabled only processors has been deprecated. Intel oneAPI Math Kernel Library 2025.0 will require Intel(R) Advanced Vector Extensions (Intel(R) AVX) instructions.\n",
      "Intel MKL WARNING: Support of Intel(R) Streaming SIMD Extensions 4.2 (Intel(R) SSE4.2) enabled only processors has been deprecated. Intel oneAPI Math Kernel Library 2025.0 will require Intel(R) Advanced Vector Extensions (Intel(R) AVX) instructions.\n",
      "Intel MKL WARNING: Support of Intel(R) Streaming SIMD Extensions 4.2 (Intel(R) SSE4.2) enabled only processors has been deprecated. Intel oneAPI Math Kernel Library 2025.0 will require Intel(R) Advanced Vector Extensions (Intel(R) AVX) instructions.\n",
      "Intel MKL WARNING: Support of Intel(R) Streaming SIMD Extensions 4.2 (Intel(R) SSE4.2) enabled only processors has been deprecated. Intel oneAPI Math Kernel Library 2025.0 will require Intel(R) Advanced Vector Extensions (Intel(R) AVX) instructions.\n",
      "Intel MKL WARNING: Support of Intel(R) Streaming SIMD Extensions 4.2 (Intel(R) SSE4.2) enabled only processors has been deprecated. Intel oneAPI Math Kernel Library 2025.0 will require Intel(R) Advanced Vector Extensions (Intel(R) AVX) instructions.\n",
      "Intel MKL WARNING: Support of Intel(R) Streaming SIMD Extensions 4.2 (Intel(R) SSE4.2) enabled only processors has been deprecated. Intel oneAPI Math Kernel Library 2025.0 will require Intel(R) Advanced Vector Extensions (Intel(R) AVX) instructions.\n",
      "Intel MKL WARNING: Support of Intel(R) Streaming SIMD Extensions 4.2 (Intel(R) SSE4.2) enabled only processors has been deprecated. Intel oneAPI Math Kernel Library 2025.0 will require Intel(R) Advanced Vector Extensions (Intel(R) AVX) instructions.\n",
      "Intel MKL WARNING: Support of Intel(R) Streaming SIMD Extensions 4.2 (Intel(R) SSE4.2) enabled only processors has been deprecated. Intel oneAPI Math Kernel Library 2025.0 will require Intel(R) Advanced Vector Extensions (Intel(R) AVX) instructions.\n",
      "Intel MKL WARNING: Support of Intel(R) Streaming SIMD Extensions 4.2 (Intel(R) SSE4.2) enabled only processors has been deprecated. Intel oneAPI Math Kernel Library 2025.0 will require Intel(R) Advanced Vector Extensions (Intel(R) AVX) instructions.\n",
      "Intel MKL WARNING: Support of Intel(R) Streaming SIMD Extensions 4.2 (Intel(R) SSE4.2) enabled only processors has been deprecated. Intel oneAPI Math Kernel Library 2025.0 will require Intel(R) Advanced Vector Extensions (Intel(R) AVX) instructions.\n",
      "Intel MKL WARNING: Support of Intel(R) Streaming SIMD Extensions 4.2 (Intel(R) SSE4.2) enabled only processors has been deprecated. Intel oneAPI Math Kernel Library 2025.0 will require Intel(R) Advanced Vector Extensions (Intel(R) AVX) instructions.\n",
      "Intel MKL WARNING: Support of Intel(R) Streaming SIMD Extensions 4.2 (Intel(R) SSE4.2) enabled only processors has been deprecated. Intel oneAPI Math Kernel Library 2025.0 will require Intel(R) Advanced Vector Extensions (Intel(R) AVX) instructions.\n",
      "Intel MKL WARNING: Support of Intel(R) Streaming SIMD Extensions 4.2 (Intel(R) SSE4.2) enabled only processors has been deprecated. Intel oneAPI Math Kernel Library 2025.0 will require Intel(R) Advanced Vector Extensions (Intel(R) AVX) instructions.\n",
      "Intel MKL WARNING: Support of Intel(R) Streaming SIMD Extensions 4.2 (Intel(R) SSE4.2) enabled only processors has been deprecated. Intel oneAPI Math Kernel Library 2025.0 will require Intel(R) Advanced Vector Extensions (Intel(R) AVX) instructions.\n"
     ]
    },
    {
     "name": "stderr",
     "output_type": "stream",
     "text": [
      "/Users/rodzaraya/opt/anaconda3/lib/python3.9/site-packages/sklearn/tree/_classes.py:269: FutureWarning: `max_features='auto'` has been deprecated in 1.1 and will be removed in 1.3. To keep the past behaviour, explicitly set `max_features='sqrt'`.\n",
      "  warnings.warn(\n",
      "/Users/rodzaraya/opt/anaconda3/lib/python3.9/site-packages/sklearn/tree/_classes.py:269: FutureWarning: `max_features='auto'` has been deprecated in 1.1 and will be removed in 1.3. To keep the past behaviour, explicitly set `max_features='sqrt'`.\n",
      "  warnings.warn(\n",
      "/Users/rodzaraya/opt/anaconda3/lib/python3.9/site-packages/sklearn/tree/_classes.py:269: FutureWarning: `max_features='auto'` has been deprecated in 1.1 and will be removed in 1.3. To keep the past behaviour, explicitly set `max_features='sqrt'`.\n",
      "  warnings.warn(\n",
      "/Users/rodzaraya/opt/anaconda3/lib/python3.9/site-packages/sklearn/tree/_classes.py:269: FutureWarning: `max_features='auto'` has been deprecated in 1.1 and will be removed in 1.3. To keep the past behaviour, explicitly set `max_features='sqrt'`.\n",
      "  warnings.warn(\n",
      "/Users/rodzaraya/opt/anaconda3/lib/python3.9/site-packages/sklearn/tree/_classes.py:269: FutureWarning: `max_features='auto'` has been deprecated in 1.1 and will be removed in 1.3. To keep the past behaviour, explicitly set `max_features='sqrt'`.\n",
      "  warnings.warn(\n",
      "/Users/rodzaraya/opt/anaconda3/lib/python3.9/site-packages/sklearn/tree/_classes.py:269: FutureWarning: `max_features='auto'` has been deprecated in 1.1 and will be removed in 1.3. To keep the past behaviour, explicitly set `max_features='sqrt'`.\n",
      "  warnings.warn(\n",
      "/Users/rodzaraya/opt/anaconda3/lib/python3.9/site-packages/sklearn/tree/_classes.py:269: FutureWarning: `max_features='auto'` has been deprecated in 1.1 and will be removed in 1.3. To keep the past behaviour, explicitly set `max_features='sqrt'`.\n",
      "  warnings.warn(\n",
      "/Users/rodzaraya/opt/anaconda3/lib/python3.9/site-packages/sklearn/tree/_classes.py:269: FutureWarning: `max_features='auto'` has been deprecated in 1.1 and will be removed in 1.3. To keep the past behaviour, explicitly set `max_features='sqrt'`.\n",
      "  warnings.warn(\n",
      "/Users/rodzaraya/opt/anaconda3/lib/python3.9/site-packages/sklearn/tree/_classes.py:269: FutureWarning: `max_features='auto'` has been deprecated in 1.1 and will be removed in 1.3. To keep the past behaviour, explicitly set `max_features='sqrt'`.\n",
      "  warnings.warn(\n",
      "/Users/rodzaraya/opt/anaconda3/lib/python3.9/site-packages/sklearn/tree/_classes.py:269: FutureWarning: `max_features='auto'` has been deprecated in 1.1 and will be removed in 1.3. To keep the past behaviour, explicitly set `max_features='sqrt'`.\n",
      "  warnings.warn(\n",
      "/Users/rodzaraya/opt/anaconda3/lib/python3.9/site-packages/sklearn/tree/_classes.py:269: FutureWarning: `max_features='auto'` has been deprecated in 1.1 and will be removed in 1.3. To keep the past behaviour, explicitly set `max_features='sqrt'`.\n",
      "  warnings.warn(\n",
      "/Users/rodzaraya/opt/anaconda3/lib/python3.9/site-packages/sklearn/tree/_classes.py:269: FutureWarning: `max_features='auto'` has been deprecated in 1.1 and will be removed in 1.3. To keep the past behaviour, explicitly set `max_features='sqrt'`.\n",
      "  warnings.warn(\n",
      "/Users/rodzaraya/opt/anaconda3/lib/python3.9/site-packages/sklearn/tree/_classes.py:269: FutureWarning: `max_features='auto'` has been deprecated in 1.1 and will be removed in 1.3. To keep the past behaviour, explicitly set `max_features='sqrt'`.\n",
      "  warnings.warn(\n",
      "/Users/rodzaraya/opt/anaconda3/lib/python3.9/site-packages/sklearn/tree/_classes.py:269: FutureWarning: `max_features='auto'` has been deprecated in 1.1 and will be removed in 1.3. To keep the past behaviour, explicitly set `max_features='sqrt'`.\n",
      "  warnings.warn(\n",
      "/Users/rodzaraya/opt/anaconda3/lib/python3.9/site-packages/sklearn/tree/_classes.py:269: FutureWarning: `max_features='auto'` has been deprecated in 1.1 and will be removed in 1.3. To keep the past behaviour, explicitly set `max_features='sqrt'`.\n",
      "  warnings.warn(\n",
      "/Users/rodzaraya/opt/anaconda3/lib/python3.9/site-packages/sklearn/tree/_classes.py:269: FutureWarning: `max_features='auto'` has been deprecated in 1.1 and will be removed in 1.3. To keep the past behaviour, explicitly set `max_features='sqrt'`.\n",
      "  warnings.warn(\n",
      "/Users/rodzaraya/opt/anaconda3/lib/python3.9/site-packages/sklearn/tree/_classes.py:269: FutureWarning: `max_features='auto'` has been deprecated in 1.1 and will be removed in 1.3. To keep the past behaviour, explicitly set `max_features='sqrt'`.\n",
      "  warnings.warn(\n",
      "/Users/rodzaraya/opt/anaconda3/lib/python3.9/site-packages/sklearn/tree/_classes.py:269: FutureWarning: `max_features='auto'` has been deprecated in 1.1 and will be removed in 1.3. To keep the past behaviour, explicitly set `max_features='sqrt'`.\n",
      "  warnings.warn(\n",
      "/Users/rodzaraya/opt/anaconda3/lib/python3.9/site-packages/sklearn/tree/_classes.py:269: FutureWarning: `max_features='auto'` has been deprecated in 1.1 and will be removed in 1.3. To keep the past behaviour, explicitly set `max_features='sqrt'`.\n",
      "  warnings.warn(\n",
      "/Users/rodzaraya/opt/anaconda3/lib/python3.9/site-packages/sklearn/tree/_classes.py:269: FutureWarning: `max_features='auto'` has been deprecated in 1.1 and will be removed in 1.3. To keep the past behaviour, explicitly set `max_features='sqrt'`.\n",
      "  warnings.warn(\n",
      "/Users/rodzaraya/opt/anaconda3/lib/python3.9/site-packages/sklearn/tree/_classes.py:269: FutureWarning: `max_features='auto'` has been deprecated in 1.1 and will be removed in 1.3. To keep the past behaviour, explicitly set `max_features='sqrt'`.\n",
      "  warnings.warn(\n",
      "/Users/rodzaraya/opt/anaconda3/lib/python3.9/site-packages/sklearn/tree/_classes.py:269: FutureWarning: `max_features='auto'` has been deprecated in 1.1 and will be removed in 1.3. To keep the past behaviour, explicitly set `max_features='sqrt'`.\n",
      "  warnings.warn(\n",
      "/Users/rodzaraya/opt/anaconda3/lib/python3.9/site-packages/sklearn/tree/_classes.py:269: FutureWarning: `max_features='auto'` has been deprecated in 1.1 and will be removed in 1.3. To keep the past behaviour, explicitly set `max_features='sqrt'`.\n",
      "  warnings.warn(\n",
      "/Users/rodzaraya/opt/anaconda3/lib/python3.9/site-packages/sklearn/tree/_classes.py:269: FutureWarning: `max_features='auto'` has been deprecated in 1.1 and will be removed in 1.3. To keep the past behaviour, explicitly set `max_features='sqrt'`.\n",
      "  warnings.warn(\n",
      "/Users/rodzaraya/opt/anaconda3/lib/python3.9/site-packages/sklearn/tree/_classes.py:269: FutureWarning: `max_features='auto'` has been deprecated in 1.1 and will be removed in 1.3. To keep the past behaviour, explicitly set `max_features='sqrt'`.\n",
      "  warnings.warn(\n",
      "/Users/rodzaraya/opt/anaconda3/lib/python3.9/site-packages/sklearn/tree/_classes.py:269: FutureWarning: `max_features='auto'` has been deprecated in 1.1 and will be removed in 1.3. To keep the past behaviour, explicitly set `max_features='sqrt'`.\n",
      "  warnings.warn(\n",
      "/Users/rodzaraya/opt/anaconda3/lib/python3.9/site-packages/sklearn/tree/_classes.py:269: FutureWarning: `max_features='auto'` has been deprecated in 1.1 and will be removed in 1.3. To keep the past behaviour, explicitly set `max_features='sqrt'`.\n",
      "  warnings.warn(\n",
      "/Users/rodzaraya/opt/anaconda3/lib/python3.9/site-packages/sklearn/tree/_classes.py:269: FutureWarning: `max_features='auto'` has been deprecated in 1.1 and will be removed in 1.3. To keep the past behaviour, explicitly set `max_features='sqrt'`.\n",
      "  warnings.warn(\n",
      "/Users/rodzaraya/opt/anaconda3/lib/python3.9/site-packages/sklearn/tree/_classes.py:269: FutureWarning: `max_features='auto'` has been deprecated in 1.1 and will be removed in 1.3. To keep the past behaviour, explicitly set `max_features='sqrt'`.\n",
      "  warnings.warn(\n",
      "/Users/rodzaraya/opt/anaconda3/lib/python3.9/site-packages/sklearn/tree/_classes.py:269: FutureWarning: `max_features='auto'` has been deprecated in 1.1 and will be removed in 1.3. To keep the past behaviour, explicitly set `max_features='sqrt'`.\n",
      "  warnings.warn(\n"
     ]
    },
    {
     "data": {
      "text/plain": [
       "{'criterion': 'entropy', 'max_features': None, 'splitter': 'random'}"
      ]
     },
     "execution_count": 51,
     "metadata": {},
     "output_type": "execute_result"
    }
   ],
   "source": [
    "# Grid Search\n",
    "\n",
    "# Define the different parameters over which the algorithm should search\n",
    "parameters = {\n",
    "    \"criterion\": [\"gini\", \"entropy\", \"log_loss\"],\n",
    "    \"splitter\": [\"best\", \"random\"],\n",
    "    \"max_features\": [\"auto\", \"sqrt\", \"log2\", None],\n",
    "}\n",
    "\n",
    "# Load the model\n",
    "model = DecisionTreeClassifier()\n",
    "\n",
    "# Initialize the GridSearch object\n",
    "grid_search = GridSearchCV(model, parameters, n_jobs=-1, scoring='f1_weighted')\n",
    "# Perform the search\n",
    "gs = grid_search.fit(X, y)\n",
    "\n",
    "# Display the best parameters\n",
    "grid_search.best_params_"
   ]
  },
  {
   "cell_type": "markdown",
   "id": "g6WOFsPfQFN6",
   "metadata": {
    "id": "g6WOFsPfQFN6"
   },
   "source": [
    "Now we shall see how this model with the fine-tuned parameters compares with the default model using cross validation"
   ]
  },
  {
   "cell_type": "code",
   "execution_count": 52,
   "id": "gX26Bw_kNzI2",
   "metadata": {
    "id": "gX26Bw_kNzI2"
   },
   "outputs": [],
   "source": [
    "# Initialize a KFold object\n",
    "cross_val = KFold(n_splits=5, shuffle=True, random_state=42)"
   ]
  },
  {
   "cell_type": "code",
   "execution_count": 53,
   "id": "pQ7Y5_XzQUKr",
   "metadata": {
    "colab": {
     "base_uri": "https://localhost:8080/"
    },
    "id": "pQ7Y5_XzQUKr",
    "outputId": "a1991a21-e79d-4872-caba-eb030dcc52e0"
   },
   "outputs": [
    {
     "name": "stdout",
     "output_type": "stream",
     "text": [
      "Model \t Accuracy \t Weighted Avg F1-score\n",
      "-----------------------------------------------\n",
      "DT \t 75.72 % \t 0.7527\n",
      "DTt \t 76.01 % \t 0.7567\n"
     ]
    }
   ],
   "source": [
    "print(\"Model \\t Accuracy \\t Weighted Avg F1-score\")\n",
    "print(\"-----------------------------------------------\")\n",
    "\n",
    "\n",
    "\n",
    "# Decision Tree\n",
    "pred = np.array([]) # Create an empty array to store the predictions\n",
    "targets = np.array([]) # Create an empty array to store the targets\n",
    "\n",
    "for train_idx, test_idx in cross_val.split(X): # Iterate over each split\n",
    "    # Extract the train and test data for the current split\n",
    "    X_train, X_test = X[train_idx], X[test_idx]\n",
    "    y_train, y_test = y[train_idx], y[test_idx]\n",
    "\n",
    "    model = DecisionTreeClassifier() # Load the model\n",
    "    model.fit(X=X_train, y=y_train) # Fit the model\n",
    "    pred_test = model.predict(X_test) # Obtain the predictions for the validation data\n",
    "\n",
    "    # Append the predictions and targets\n",
    "    pred = np.append(pred, pred_test)\n",
    "    targets = np.append(targets, y_test)\n",
    "\n",
    "# Calculate and print the results\n",
    "results = classification_report(y_true=targets, y_pred=pred, output_dict=True, zero_division=0)\n",
    "print(f\"DT \\t {results['accuracy']*100:>.2f} % \\t {results['weighted avg']['f1-score']:>.4f}\")\n",
    "\n",
    "\n",
    "\n",
    "# Decision Tree (tuned)\n",
    "pred = np.array([]) # Create an empty array to store the predictions\n",
    "targets = np.array([]) # Create an empty array to store the targets\n",
    "\n",
    "for train_idx, test_idx in cross_val.split(X): # Iterate over each split\n",
    "    # Extract the train and test data for the current split\n",
    "    X_train, X_test = X[train_idx], X[test_idx]\n",
    "    y_train, y_test = y[train_idx], y[test_idx]\n",
    "\n",
    "    # Load the model with the best hyper parameters\n",
    "    model = DecisionTreeClassifier(criterion=\"gini\", max_features=None, splitter=\"random\")\n",
    "    model.fit(X=X_train, y=y_train) # Fit the model\n",
    "    pred_test = model.predict(X_test) # Obtain the predictions for the validation data\n",
    "\n",
    "    # Append the predictions and targets\n",
    "    pred = np.append(pred, pred_test)\n",
    "    targets = np.append(targets, y_test)\n",
    "\n",
    "# Calculate and print the results\n",
    "results = classification_report(y_true=targets, y_pred=pred, output_dict=True, zero_division=0)\n",
    "print(f\"DTt \\t {results['accuracy']*100:>.2f} % \\t {results['weighted avg']['f1-score']:>.4f}\")"
   ]
  },
  {
   "cell_type": "markdown",
   "id": "iwHtHSXpSlJ4",
   "metadata": {
    "id": "iwHtHSXpSlJ4"
   },
   "source": [
    "We have improved the decision tree model's performance by tuning its hyper parameters. Try others on your own!"
   ]
  },
  {
   "cell_type": "code",
   "execution_count": null,
   "id": "eewpidzLxuQ6",
   "metadata": {
    "id": "eewpidzLxuQ6"
   },
   "outputs": [],
   "source": []
  }
 ],
 "metadata": {
  "colab": {
   "provenance": []
  },
  "kernelspec": {
   "display_name": "Python 3 (ipykernel)",
   "language": "python",
   "name": "python3"
  },
  "language_info": {
   "codemirror_mode": {
    "name": "ipython",
    "version": 3
   },
   "file_extension": ".py",
   "mimetype": "text/x-python",
   "name": "python",
   "nbconvert_exporter": "python",
   "pygments_lexer": "ipython3",
   "version": "3.9.13"
  }
 },
 "nbformat": 4,
 "nbformat_minor": 5
}
