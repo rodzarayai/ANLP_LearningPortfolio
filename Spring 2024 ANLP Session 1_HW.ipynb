{
 "cells": [
  {
   "cell_type": "markdown",
   "metadata": {
    "id": "8AhFOUj6iCWG"
   },
   "source": [
    "# Basics of Natural Language Processing (NLP)Take Home Exercise #\n",
    "\n"
   ]
  },
  {
   "cell_type": "markdown",
   "metadata": {
    "id": "zwEukFd8AJE7"
   },
   "source": [
    "Use the following link to find open source data sets to complete take-home exercises.\n",
    "\n",
    "[Data Sets](https://opendatascience.com/20-open-datasets-for-natural-language-processing/)"
   ]
  },
  {
   "cell_type": "markdown",
   "metadata": {
    "id": "fxBFGZ8DadFp"
   },
   "source": [
    "# Run this code in the beginning to limit the output size of the cells"
   ]
  },
  {
   "cell_type": "code",
   "execution_count": 1,
   "metadata": {
    "executionInfo": {
     "elapsed": 2,
     "status": "ok",
     "timestamp": 1723518244937,
     "user": {
      "displayName": "Rodrigo Araya",
      "userId": "15064802547271996259"
     },
     "user_tz": -600
    },
    "id": "8HBE7ck1XPX_",
    "tags": []
   },
   "outputs": [],
   "source": [
    " from IPython.display import display, Javascript\n",
    "\n",
    "def resize_colab_cell():\n",
    "  # Change the maxHeight variable to change the max height of the output\n",
    "   display(Javascript('google.colab.output.setIframeHeight(0, true, {maxHeight: 400})'))\n",
    "  #Change output size for the entire notebook (set to call function on cell run)\n",
    "   get_ipython().events.register('pre_run_cell', resize_colab_cell)"
   ]
  },
  {
   "cell_type": "markdown",
   "metadata": {
    "id": "jT3X0RuyndZi"
   },
   "source": [
    "### 1. Input Text\n",
    "\n",
    "Write a code to collect text for the analysis as a user input\n",
    "\n"
   ]
  },
  {
   "cell_type": "code",
   "execution_count": null,
   "metadata": {
    "id": "ER80G_dwRkij"
   },
   "outputs": [],
   "source": []
  },
  {
   "cell_type": "markdown",
   "metadata": {
    "id": "UI_3GXkzn5U9"
   },
   "source": [
    "### 2. Basic Analysis\n",
    "\n",
    "Perform basic text analysis on the collected text using Spacy ([spacy.io](http://spacy.io)) library. Try different string manipulations."
   ]
  },
  {
   "cell_type": "code",
   "execution_count": null,
   "metadata": {
    "id": "n8WSsfmTj8en"
   },
   "outputs": [],
   "source": []
  },
  {
   "cell_type": "markdown",
   "metadata": {
    "id": "fER49EQBRZlS"
   },
   "source": [
    "### 3. Tokenizer\n",
    "Create a custom tokenizer in Python that handles:\n",
    "*   Contractions (e.g., \"don't\" → \"do n't\")\n",
    "*   Keeps punctuation as separate tokens\n",
    "*   Splits hyphenated words (e.g., \"state-of-the-art\" → \"state of the art\")\n",
    "\n",
    "Compare its results with NLTK's word_tokenize on any sample paragraph and the following examples:\n",
    "\"New York-based company\", \"It's a beautiful day!\", \"https://www.example.com\"\n",
    "\n",
    "What differences do you see? What are the advantages, and limitations of each approach?"
   ]
  },
  {
   "cell_type": "markdown",
   "metadata": {
    "id": "iQSBeMtujknV"
   },
   "source": [
    "### 4. Regex\n",
    "\n",
    "Try writing your own RegEx that can capture citations in text E.g. (Horning, 2022)"
   ]
  },
  {
   "cell_type": "code",
   "execution_count": null,
   "metadata": {
    "id": "iI5xT7o8Rlcf"
   },
   "outputs": [],
   "source": []
  },
  {
   "cell_type": "markdown",
   "metadata": {
    "id": "DCuiR4kZCp32"
   },
   "source": [
    "Extract URLS following a certain format (www. or http or https:// ..)"
   ]
  },
  {
   "cell_type": "code",
   "execution_count": null,
   "metadata": {
    "id": "V49uczwjCyd_"
   },
   "outputs": [],
   "source": []
  },
  {
   "cell_type": "markdown",
   "metadata": {
    "id": "tBIAVwtV_cvw"
   },
   "source": [
    "### 5. Word Frequency\n",
    "\n",
    "Find the list of words that occur more than 10 times in a selected corpus.\n",
    "\n",
    "Try using different forms of setup: no stopwords, custom stopwords, not removing punctuation, etc. and see what difference in results they produce.\n"
   ]
  },
  {
   "cell_type": "code",
   "execution_count": null,
   "metadata": {
    "id": "tNK4qAHUFUxT"
   },
   "outputs": [],
   "source": []
  }
 ],
 "metadata": {
  "colab": {
   "provenance": [
    {
     "file_id": "1wzZ_lM858GJsnaHDE_PwU0GeC78lr2oF",
     "timestamp": 1723518140647
    },
    {
     "file_id": "10GNpYpjJ14yuUIqPVcLNrIu8STtRqtHz",
     "timestamp": 1722706154992
    },
    {
     "file_id": "1mvMD6JjEXyrGungsbOnArX3VBX5P4pS_",
     "timestamp": 1720088444135
    },
    {
     "file_id": "1IWfuX-hEoevpkjQ2HIh9-WkocbtjL52L",
     "timestamp": 1720087332477
    },
    {
     "file_id": "1c9UrlZBtB9TDzVW-x5iexE_AGVoKznw2",
     "timestamp": 1720086363941
    },
    {
     "file_id": "1bX8KG9eYFB7oXU159tGKpPmft8HxPXKl",
     "timestamp": 1677471220893
    },
    {
     "file_id": "18f2tjoUjCg25WCD4S8UhP4CKfNo5IHZn",
     "timestamp": 1677426098486
    },
    {
     "file_id": "1nnKc9LV3EUDEKYJ9Z4ziLFIgs9HWC4OC",
     "timestamp": 1677418318585
    }
   ]
  },
  "kernelspec": {
   "display_name": "Python 3 (ipykernel)",
   "language": "python",
   "name": "python3"
  },
  "language_info": {
   "codemirror_mode": {
    "name": "ipython",
    "version": 3
   },
   "file_extension": ".py",
   "mimetype": "text/x-python",
   "name": "python",
   "nbconvert_exporter": "python",
   "pygments_lexer": "ipython3",
   "version": "3.9.13"
  }
 },
 "nbformat": 4,
 "nbformat_minor": 4
}
