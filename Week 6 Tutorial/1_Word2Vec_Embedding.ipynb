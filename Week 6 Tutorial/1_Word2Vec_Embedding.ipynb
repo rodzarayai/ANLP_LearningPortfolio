{
  "nbformat": 4,
  "nbformat_minor": 0,
  "metadata": {
    "colab": {
      "provenance": []
    },
    "kernelspec": {
      "name": "python3",
      "display_name": "Python 3"
    },
    "language_info": {
      "name": "python"
    }
  },
  "cells": [
    {
      "cell_type": "markdown",
      "source": [
        "# tinyurl.com/ANLPColab4Part1"
      ],
      "metadata": {
        "id": "DTEw9Bq5xUby"
      }
    },
    {
      "cell_type": "markdown",
      "source": [
        "## Word Embeddings (Word2Vec)"
      ],
      "metadata": {
        "id": "fca9m1_9ZI28"
      }
    },
    {
      "cell_type": "markdown",
      "source": [
        "Word embeddings are dense vector representations of words in a mathematical space, typically in high-dimensional space, where each dimension captures a different aspect of the word's meaning. These representations are learned from large amounts of text data using techniques like neural networks, specifically models like Word2Vec, GloVe, and fastText. Here, we'll take a look at **Word2Vec**."
      ],
      "metadata": {
        "id": "c8k3LpM4ZMRS"
      }
    },
    {
      "cell_type": "markdown",
      "source": [
        "The first step is importing required packages. We'll import word2vec from a package called **Gensim**"
      ],
      "metadata": {
        "id": "DxMp3YzaZZjk"
      }
    },
    {
      "cell_type": "code",
      "execution_count": null,
      "metadata": {
        "colab": {
          "base_uri": "https://localhost:8080/"
        },
        "id": "6O0wHc94e9Wo",
        "outputId": "bd0b6c82-1cfb-464c-f584-b8238adb064d"
      },
      "outputs": [
        {
          "output_type": "stream",
          "name": "stderr",
          "text": [
            "[nltk_data] Downloading package punkt to /root/nltk_data...\n",
            "[nltk_data]   Package punkt is already up-to-date!\n"
          ]
        }
      ],
      "source": [
        "import gensim\n",
        "from gensim.models import Word2Vec\n",
        "from sklearn.manifold import TSNE\n",
        "import matplotlib.pyplot as plt\n",
        "from nltk.tokenize import sent_tokenize, word_tokenize\n",
        "import numpy as np\n",
        "import nltk\n",
        "nltk.download('punkt')\n",
        "\n",
        "import warnings\n",
        "\n",
        "warnings.filterwarnings(action='ignore')"
      ]
    },
    {
      "cell_type": "code",
      "source": [
        "#function to process the text input and create a list of tokenized sentences\n",
        "def createDataArray(text):\n",
        "  # replaces newline with space to ensure the text is treated as a continuous string\n",
        "  continuousText = text.replace(\"\\n\", \" \")\n",
        "  data = [] #initializes an empty list to store the tokenized sentences.\n",
        "  # iterate through each sentence in the file\n",
        "  for i in sent_tokenize(continuousText):\n",
        "    temp = []\n",
        "\n",
        "    # tokenize the sentence into words\n",
        "    for j in word_tokenize(i):\n",
        "        temp.append(j.lower())\n",
        "    data.append(temp)\n",
        "  return data\n",
        "\n",
        "# Create a CBOW model\n",
        "def createCBOWModel(data):\n",
        "  cbow_model = gensim.models.Word2Vec(data, min_count=1,\n",
        "                                vector_size=100, window=5, sg=0)\n",
        "  return cbow_model\n",
        "\n",
        "# Create a Skip Gram model\n",
        "def createSkipGramModel(data):\n",
        "  skipgram_model = gensim.models.Word2Vec(data, min_count=1, vector_size=100,\n",
        "                                window=5, sg=1)\n",
        "  return skipgram_model\n",
        "\n",
        "#Parameters explained:\n",
        "#min_count=1: Ignores all words with a total frequency lower than this\n",
        "#vector_size=100: The dimensionality of the word vectors\n",
        "#window=5: The maximum distance between the current and predicted word within a sentence\n",
        "#sg=0: Specifies the training algorithm. 0 means CBOW, 1 means Skip-gram"
      ],
      "metadata": {
        "id": "1A9_x-LrfbZs"
      },
      "execution_count": null,
      "outputs": []
    },
    {
      "cell_type": "markdown",
      "source": [
        "### Let's use a toy example to create a small word vector embedding"
      ],
      "metadata": {
        "id": "09oWkI-3bPgI"
      }
    },
    {
      "cell_type": "code",
      "source": [
        "sample_text = \"\"\"\n",
        "Once upon a time in a land far, far away, there lived a little rabbit.\n",
        "This rabbit was very curious and loved to explore the woods around his home.\n",
        "One day, he found a hidden path that led to a magical garden full of wonderful flowers.\n",
        "The rabbit was so amazed by the beauty of the garden that he decided to visit it every day.\n",
        "In the garden, he met many new friends, including a wise old owl and a playful squirrel.\n",
        "\"\"\""
      ],
      "metadata": {
        "id": "tjQVlzHQjTvz"
      },
      "execution_count": null,
      "outputs": []
    },
    {
      "cell_type": "markdown",
      "source": [
        "And test the model"
      ],
      "metadata": {
        "id": "j_crQA12dmSs"
      }
    },
    {
      "cell_type": "code",
      "source": [
        "data = createDataArray(sample_text)\n",
        "cbow_model = createCBOWModel(data)\n",
        "skipgram_model = createSkipGramModel(data)\n",
        "\n",
        "# Test the CBOW model\n",
        "print(\"CBOW Model - Words similar to 'rabbit':\")\n",
        "similar_words_cbow = cbow_model.wv.most_similar(\"rabbit\", topn=5)\n",
        "for word, similarity in similar_words_cbow:\n",
        "    print(f\"{word}: {similarity:.4f}\")\n",
        "\n",
        "# Test the Skip-gram model\n",
        "print(\"\\nSkip-gram Model - Words similar to 'rabbit':\")\n",
        "similar_words_skipgram = skipgram_model.wv.most_similar(\"rabbit\", topn=5)\n",
        "for word, similarity in similar_words_skipgram:\n",
        "    print(f\"{word}: {similarity:.4f}\")"
      ],
      "metadata": {
        "colab": {
          "base_uri": "https://localhost:8080/"
        },
        "id": "OFoKa5tzjzdU",
        "outputId": "a31d9e4f-1e2b-439e-e2e6-db2c2b90a62c"
      },
      "execution_count": null,
      "outputs": [
        {
          "output_type": "stream",
          "name": "stdout",
          "text": [
            "CBOW Model - Words similar to 'rabbit':\n",
            "was: 0.1666\n",
            "this: 0.1624\n",
            "he: 0.1389\n",
            ".: 0.1313\n",
            "once: 0.1283\n",
            "\n",
            "Skip-gram Model - Words similar to 'rabbit':\n",
            "was: 0.1659\n",
            "this: 0.1624\n",
            "he: 0.1388\n",
            ".: 0.1321\n",
            "once: 0.1276\n"
          ]
        }
      ]
    },
    {
      "cell_type": "code",
      "source": [
        "#Get the vector for the word 'garden' from both models\n",
        "garden_vector_cbow = cbow_model.wv['garden']\n",
        "garden_vector_skipgram = skipgram_model.wv['garden']\n",
        "\n",
        "print(f\"\\nCBOW Vector for 'garden': {garden_vector_cbow[:10]}...\")  # Display the first 10 dimensions for brevity\n",
        "print(f\"Skip-gram Vector for 'garden': {garden_vector_skipgram[:10]}...\")"
      ],
      "metadata": {
        "colab": {
          "base_uri": "https://localhost:8080/"
        },
        "id": "6zRNtPJOkTsw",
        "outputId": "17822899-ebfc-411c-ba30-bfca88426bdb"
      },
      "execution_count": null,
      "outputs": [
        {
          "output_type": "stream",
          "name": "stdout",
          "text": [
            "\n",
            "CBOW Vector for 'garden': [ 0.00814698 -0.00442942  0.00898294  0.00828784 -0.00437581  0.00023826\n",
            "  0.00431408 -0.00384858 -0.00560351 -0.00656039]...\n",
            "Skip-gram Vector for 'garden': [ 8.0698775e-03 -4.3716696e-03  8.9669591e-03  8.3990060e-03\n",
            " -4.2797145e-03  6.6322013e-05  4.5168474e-03 -3.6192976e-03\n",
            " -5.7294723e-03 -6.6772620e-03]...\n"
          ]
        }
      ]
    },
    {
      "cell_type": "markdown",
      "source": [
        "Let's try to visualise the embedding (Remember this might not be possible for large embeddings)"
      ],
      "metadata": {
        "id": "xgl-miove9U4"
      }
    },
    {
      "cell_type": "code",
      "source": [
        "# Get the word vectors and corresponding words\n",
        "word_vectors = cbow_model.wv\n",
        "words = list(word_vectors.index_to_key)\n",
        "# Convert list of word vectors to a NumPy array\n",
        "vectors = np.array([word_vectors[word] for word in words])\n",
        "\n",
        "# Reduce dimensionality with t-SNE\n",
        "tsne = TSNE(n_components=2, random_state=0)\n",
        "vectors_2d = tsne.fit_transform(vectors)\n",
        "\n",
        "# Plot the embeddings\n",
        "plt.figure(figsize=(10, 10))\n",
        "for i, word in enumerate(words):\n",
        "    plt.scatter(vectors_2d[i, 0], vectors_2d[i, 1])\n",
        "    plt.annotate(word, xy=(vectors_2d[i, 0], vectors_2d[i, 1]), xytext=(5, 2), textcoords='offset points', ha='right', va='bottom')\n",
        "plt.title('Word Embeddings Visualization with t-SNE (CBOW)')\n",
        "plt.show()"
      ],
      "metadata": {
        "id": "Dvzr-T8PfE3X",
        "colab": {
          "base_uri": "https://localhost:8080/",
          "height": 853
        },
        "outputId": "649876d6-9339-4988-f869-b55c6277433f"
      },
      "execution_count": null,
      "outputs": [
        {
          "output_type": "display_data",
          "data": {
            "text/plain": [
              "<Figure size 1000x1000 with 1 Axes>"
            ],
            "image/png": "[encoded data removed]"
          },
          "metadata": {}
        }
      ]
    },
    {
      "cell_type": "markdown",
      "source": [
        "### Let's create our embeddings with a book text"
      ],
      "metadata": {
        "id": "1m61WS2OlJ2n"
      }
    },
    {
      "cell_type": "code",
      "source": [
        "# read a file directly from a URL\n",
        "from urllib.request import urlopen\n",
        "\n",
        "def read_url(url):\n",
        "    return urlopen(url).read().decode()"
      ],
      "metadata": {
        "id": "A2-EAkSTf6nb"
      },
      "execution_count": null,
      "outputs": []
    },
    {
      "cell_type": "code",
      "source": [
        "# Read the text of GUTENBERG EBOOK ALICE'S ADVENTURES IN WONDERLAND\n",
        "book_url = 'https://www.gutenberg.org/files/11/11-0.txt'\n",
        "book_text = read_url(book_url)"
      ],
      "metadata": {
        "id": "ACwbrF1ofNrL"
      },
      "execution_count": null,
      "outputs": []
    },
    {
      "cell_type": "code",
      "source": [
        "# Check what type of object book_text is\n",
        "print(f\"Type of book_text: {type(book_text)}\")\n",
        "print(book_text[:500]) #print first 500 characters of the string"
      ],
      "metadata": {
        "colab": {
          "base_uri": "https://localhost:8080/"
        },
        "id": "vdaAbv4qgzWK",
        "outputId": "6657870f-635f-4e98-855b-3623f898d322"
      },
      "execution_count": null,
      "outputs": [
        {
          "output_type": "stream",
          "name": "stdout",
          "text": [
            "Type of book_text: <class 'str'>\n",
            "﻿﻿*** START OF THE PROJECT GUTENBERG EBOOK ALICE'S ADVENTURES IN\r\n",
            "WONDERLAND ***\r\n",
            "[Illustration]\r\n",
            "\r\n",
            "\r\n",
            "\r\n",
            "\r\n",
            "Alice’s Adventures in Wonderland\r\n",
            "\r\n",
            "by Lewis Carroll\r\n",
            "\r\n",
            "THE MILLENNIUM FULCRUM EDITION 3.0\r\n",
            "\r\n",
            "Contents\r\n",
            "\r\n",
            " CHAPTER I.     Down the Rabbit-Hole\r\n",
            " CHAPTER II.    The Pool of Tears\r\n",
            " CHAPTER III.   A Caucus-Race and a Long Tale\r\n",
            " CHAPTER IV.    The Rabbit Sends in a Little Bill\r\n",
            " CHAPTER V.     Advice from a Caterpillar\r\n",
            " CHAPTER VI.    Pig and Pepper\r\n",
            " CHAPTER VII.   A Mad Tea-Party\r\n",
            " CHAPTER \n"
          ]
        }
      ]
    },
    {
      "cell_type": "code",
      "source": [
        "data = createDataArray(book_text)\n",
        "cbow_model = createCBOWModel(data)\n",
        "skipgram_model = createSkipGramModel(data)\n",
        "\n",
        "# Test CBOW model\n",
        "print(\"CBOW Model - Words similar to 'alice':\")\n",
        "similar_words_cbow = cbow_model.wv.most_similar(\"alice\", topn=5)\n",
        "for word, similarity in similar_words_cbow:\n",
        "    print(f\"{word}: {similarity:.4f}\")\n",
        "\n",
        "# Test Skip-gram model\n",
        "print(\"\\nSkip-gram Model - Words similar to 'alice':\")\n",
        "similar_words_skipgram = skipgram_model.wv.most_similar(\"alice\", topn=5)\n",
        "for word, similarity in similar_words_skipgram:\n",
        "    print(f\"{word}: {similarity:.4f}\")"
      ],
      "metadata": {
        "colab": {
          "base_uri": "https://localhost:8080/"
        },
        "id": "HXo6JwsFdHuo",
        "outputId": "32a431df-160a-4960-dfda-a13ef1badafb"
      },
      "execution_count": null,
      "outputs": [
        {
          "output_type": "stream",
          "name": "stdout",
          "text": [
            "CBOW Model - Words similar to 'alice':\n",
            ":: 0.9998\n",
            "that: 0.9998\n",
            "!: 0.9997\n",
            "the: 0.9997\n",
            "and: 0.9997\n",
            "\n",
            "Skip-gram Model - Words similar to 'alice':\n",
            "thought: 0.9914\n",
            "hatter: 0.9883\n",
            "king: 0.9836\n",
            "well: 0.9835\n",
            "herself: 0.9810\n"
          ]
        }
      ]
    },
    {
      "cell_type": "code",
      "source": [
        "#get the vector for the word 'alice' from both models\n",
        "alice_vector_cbow = cbow_model.wv['alice']\n",
        "alice_vector_skipgram = skipgram_model.wv['alice']\n",
        "\n",
        "print(f\"\\nCBOW Vector for 'alice': {alice_vector_cbow[:10]}...\")  # Display the first 10 dimensions for brevity\n",
        "print(f\"Skip-gram Vector for 'alice': {alice_vector_skipgram[:10]}...\")"
      ],
      "metadata": {
        "colab": {
          "base_uri": "https://localhost:8080/"
        },
        "id": "lSW65NjXdPHF",
        "outputId": "0f946173-642f-4955-b518-66f98273b5be"
      },
      "execution_count": null,
      "outputs": [
        {
          "output_type": "stream",
          "name": "stdout",
          "text": [
            "\n",
            "CBOW Vector for 'alice': [-0.19953936  0.21369493  0.12968801  0.12349296 -0.0622323  -0.83188593\n",
            "  0.43369666  1.1901559  -0.584993   -0.63772726]...\n",
            "Skip-gram Vector for 'alice': [ 0.01023572  0.02925182 -0.08205368  0.12555785 -0.0202049  -0.35513964\n",
            "  0.18460691  0.50448614 -0.1755314  -0.34475005]...\n"
          ]
        }
      ]
    },
    {
      "cell_type": "markdown",
      "source": [
        "### We may also use a pre-trained model that is readily available"
      ],
      "metadata": {
        "id": "TbnZl-yce3CN"
      }
    },
    {
      "cell_type": "code",
      "source": [
        "# First, let's import the necessary libraries\n",
        "import gensim.downloader as api\n",
        "from gensim.models import KeyedVectors\n",
        "import numpy as np\n",
        "\n",
        "# Download a pre-trained word2vec model\n",
        "# This might take a few minutes depending on your internet connection\n",
        "model = api.load('word2vec-google-news-300')\n",
        "\n",
        "print(\"Model loaded successfully!\")\n",
        "\n",
        "\n"
      ],
      "metadata": {
        "colab": {
          "base_uri": "https://localhost:8080/"
        },
        "id": "zcdTvyv-atxC",
        "outputId": "6c355f20-3d87-4a56-9eea-a63d1be89604"
      },
      "execution_count": null,
      "outputs": [
        {
          "output_type": "stream",
          "name": "stdout",
          "text": [
            "[==================================================] 100.0% 1662.8/1662.8MB downloaded\n",
            "Model loaded successfully!\n"
          ]
        }
      ]
    },
    {
      "cell_type": "markdown",
      "source": [
        "Perform some similarity and analogy tasks using the model"
      ],
      "metadata": {
        "id": "CwsIGEP9bkk5"
      }
    },
    {
      "cell_type": "code",
      "source": [
        "# Find similar words\n",
        "similar_words = model.most_similar('computer', topn=5)\n",
        "print(\"Words most similar to 'computer':\")\n",
        "for word, score in similar_words:\n",
        "    print(f\"{word}: {score:.4f}\")\n",
        "\n",
        "# Find the odd word out\n",
        "odd_word = model.doesnt_match(['breakfast', 'cereal', 'dinner', 'lunch'])\n",
        "print(f\"\\nOdd word out: {odd_word}\")\n",
        "\n",
        "# Solve analogies\n",
        "result = model.most_similar(positive=['woman', 'king'], negative=['man'], topn=1)\n",
        "print(\"\\nSolving the analogy: man is to king as woman is to...\")\n",
        "\n",
        "# Accessing the first (and only) result\n",
        "first_result = result[0]\n",
        "\n",
        "# Accessing the word (first element of the tuple)\n",
        "result_word = first_result[0]\n",
        "\n",
        "# Accessing the score (second element of the tuple)\n",
        "result_score = first_result[1]\n",
        "\n",
        "# Printing the results\n",
        "print(\"Word:\", result_word)\n",
        "print(\"Score: {:.4f}\".format(result_score))"
      ],
      "metadata": {
        "colab": {
          "base_uri": "https://localhost:8080/"
        },
        "id": "2CEkvNjXexXv",
        "outputId": "4c8eb392-1947-412f-8864-153ecc033709"
      },
      "execution_count": null,
      "outputs": [
        {
          "output_type": "stream",
          "name": "stdout",
          "text": [
            "Words most similar to 'computer':\n",
            "computers: 0.7979\n",
            "laptop: 0.6640\n",
            "laptop_computer: 0.6549\n",
            "Computer: 0.6473\n",
            "com_puter: 0.6082\n",
            "\n",
            "Odd word out: cereal\n",
            "\n",
            "Solving the analogy: man is to king as woman is to...\n",
            "Word: queen\n",
            "Score: 0.7118\n"
          ]
        }
      ]
    },
    {
      "cell_type": "code",
      "source": [
        "# Visualise word relationships\n",
        "\n",
        "from sklearn.manifold import TSNE\n",
        "import matplotlib.pyplot as plt\n",
        "import numpy as np\n",
        "\n",
        "def plot_words(model, words):\n",
        "    # Get word vectors\n",
        "    word_vectors = []\n",
        "    valid_words = []\n",
        "    for word in words:\n",
        "        if word in model.key_to_index:\n",
        "            word_vectors.append(model[word])\n",
        "            valid_words.append(word)\n",
        "        else:\n",
        "            print(f\"Warning: '{word}' not in vocabulary, skipping.\")\n",
        "\n",
        "    if len(word_vectors) < 2:\n",
        "        print(\"Error: Not enough valid words to plot.\")\n",
        "        return\n",
        "\n",
        "    # Convert list of word vectors to numpy array\n",
        "    word_vectors = np.array(word_vectors)\n",
        "\n",
        "    # Perform t-SNE dimensionality reduction\n",
        "    tsne = TSNE(n_components=2, random_state=0, perplexity=min(30, len(word_vectors) - 1))\n",
        "    words_tsne = tsne.fit_transform(word_vectors)\n",
        "\n",
        "    # Plot the words\n",
        "    plt.figure(figsize=(12, 8))\n",
        "    for i, word in enumerate(valid_words):\n",
        "        x, y = words_tsne[i, :]\n",
        "        plt.scatter(x, y)\n",
        "        plt.annotate(word, xy=(x, y), xytext=(5, 2), textcoords='offset points')\n",
        "    plt.title(\"Word Relationships Visualization\")\n",
        "    plt.show()\n",
        "\n",
        "# Let's visualize some related words\n",
        "words_to_plot = ['king', 'queen', 'man', 'woman', 'prince', 'princess',\n",
        "                 'boy', 'girl', 'father', 'mother']\n",
        "plot_words(model, words_to_plot)"
      ],
      "metadata": {
        "colab": {
          "base_uri": "https://localhost:8080/",
          "height": 699
        },
        "id": "fFJAH_Wbb_Wn",
        "outputId": "2bdb2437-98cd-4b13-ff73-7f7f3c05b35d"
      },
      "execution_count": null,
      "outputs": [
        {
          "output_type": "display_data",
          "data": {
            "text/plain": [
              "<Figure size 1200x800 with 1 Axes>"
            ],
            "image/png": "[encoded data removed]"
          },
          "metadata": {}
        }
      ]
    },
    {
      "cell_type": "markdown",
      "source": [
        "## Let's view the list of all available word embeddings we can use\n",
        "These are pre-trained and can be applied directly (which one we use depends on the task at hand)"
      ],
      "metadata": {
        "id": "AiO93FqBhjim"
      }
    },
    {
      "cell_type": "code",
      "source": [
        "import gensim.downloader as api\n",
        "\n",
        "# List all available pre-trained word embeddings\n",
        "available_embeddings = api.info()['models'].keys()\n",
        "\n",
        "# Print the available embeddings\n",
        "for embedding in available_embeddings:\n",
        "    print(embedding)"
      ],
      "metadata": {
        "colab": {
          "base_uri": "https://localhost:8080/"
        },
        "id": "SEYvu8iHhn36",
        "outputId": "70b6c676-ad90-49b0-eca7-361ad17793b2"
      },
      "execution_count": null,
      "outputs": [
        {
          "output_type": "stream",
          "name": "stdout",
          "text": [
            "fasttext-wiki-news-subwords-300\n",
            "conceptnet-numberbatch-17-06-300\n",
            "word2vec-ruscorpora-300\n",
            "word2vec-google-news-300\n",
            "glove-wiki-gigaword-50\n",
            "glove-wiki-gigaword-100\n",
            "glove-wiki-gigaword-200\n",
            "glove-wiki-gigaword-300\n",
            "glove-twitter-25\n",
            "glove-twitter-50\n",
            "glove-twitter-100\n",
            "glove-twitter-200\n",
            "__testing_word2vec-matrix-synopsis\n"
          ]
        }
      ]
    },
    {
      "cell_type": "markdown",
      "source": [
        "## You can also use embeddings from Hugging Face if you are interested in transformer-based models"
      ],
      "metadata": {
        "id": "Fqv5dOzXiKh-"
      }
    },
    {
      "cell_type": "code",
      "source": [
        "#!pip install transformers\n",
        "#from transformers import AutoModel, AutoTokenizer\n",
        "!pip install huggingface_hub\n",
        "\n",
        "# You can use the HfApi class from the transformers library to list available models\n",
        "from huggingface_hub import HfApi\n",
        "\n",
        "# Initialize the API\n",
        "api = HfApi()\n",
        "\n",
        "# List all available models\n",
        "models = list(api.list_models())\n",
        "\n",
        "# Print the first 10 models as an example\n",
        "for model in models[:10]:\n",
        "  print(model.modelId)"
      ],
      "metadata": {
        "colab": {
          "base_uri": "https://localhost:8080/"
        },
        "id": "D31fQrvziI_U",
        "outputId": "5b22995c-0eae-47ea-eec0-83653b6ef99f"
      },
      "execution_count": null,
      "outputs": [
        {
          "output_type": "stream",
          "name": "stdout",
          "text": [
            "Requirement already satisfied: huggingface_hub in /usr/local/lib/python3.10/dist-packages (0.24.6)\n",
            "Requirement already satisfied: filelock in /usr/local/lib/python3.10/dist-packages (from huggingface_hub) (3.15.4)\n",
            "Requirement already satisfied: fsspec>=2023.5.0 in /usr/local/lib/python3.10/dist-packages (from huggingface_hub) (2024.6.1)\n",
            "Requirement already satisfied: packaging>=20.9 in /usr/local/lib/python3.10/dist-packages (from huggingface_hub) (24.1)\n",
            "Requirement already satisfied: pyyaml>=5.1 in /usr/local/lib/python3.10/dist-packages (from huggingface_hub) (6.0.2)\n",
            "Requirement already satisfied: requests in /usr/local/lib/python3.10/dist-packages (from huggingface_hub) (2.32.3)\n",
            "Requirement already satisfied: tqdm>=4.42.1 in /usr/local/lib/python3.10/dist-packages (from huggingface_hub) (4.66.5)\n",
            "Requirement already satisfied: typing-extensions>=3.7.4.3 in /usr/local/lib/python3.10/dist-packages (from huggingface_hub) (4.12.2)\n",
            "Requirement already satisfied: charset-normalizer<4,>=2 in /usr/local/lib/python3.10/dist-packages (from requests->huggingface_hub) (3.3.2)\n",
            "Requirement already satisfied: idna<4,>=2.5 in /usr/local/lib/python3.10/dist-packages (from requests->huggingface_hub) (3.8)\n",
            "Requirement already satisfied: urllib3<3,>=1.21.1 in /usr/local/lib/python3.10/dist-packages (from requests->huggingface_hub) (2.0.7)\n",
            "Requirement already satisfied: certifi>=2017.4.17 in /usr/local/lib/python3.10/dist-packages (from requests->huggingface_hub) (2024.8.30)\n",
            "albert/albert-base-v1\n",
            "albert/albert-base-v2\n",
            "albert/albert-large-v1\n",
            "albert/albert-large-v2\n",
            "albert/albert-xlarge-v1\n",
            "albert/albert-xlarge-v2\n",
            "albert/albert-xxlarge-v1\n",
            "albert/albert-xxlarge-v2\n",
            "google-bert/bert-base-cased-finetuned-mrpc\n",
            "google-bert/bert-base-cased\n"
          ]
        }
      ]
    }
  ]
}